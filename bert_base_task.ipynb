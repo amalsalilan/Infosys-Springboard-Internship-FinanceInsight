{
  "nbformat": 4,
  "nbformat_minor": 0,
  "metadata": {
    "colab": {
      "provenance": [],
      "gpuType": "T4"
    },
    "kernelspec": {
      "name": "python3",
      "display_name": "Python 3"
    },
    "language_info": {
      "name": "python"
    },
    "accelerator": "GPU"
  },
  "cells": [
    {
      "cell_type": "code",
      "source": [
        "!pip install transformers"
      ],
      "metadata": {
        "colab": {
          "base_uri": "https://localhost:8080/"
        },
        "id": "Fg8Er-yuxKwa",
        "outputId": "9d6c3541-f22b-4bb8-c4bb-5c057161ab6b"
      },
      "execution_count": 29,
      "outputs": [
        {
          "output_type": "stream",
          "name": "stdout",
          "text": [
            "Requirement already satisfied: transformers in /usr/local/lib/python3.12/dist-packages (4.56.1)\n",
            "Requirement already satisfied: filelock in /usr/local/lib/python3.12/dist-packages (from transformers) (3.19.1)\n",
            "Requirement already satisfied: huggingface-hub<1.0,>=0.34.0 in /usr/local/lib/python3.12/dist-packages (from transformers) (0.35.0)\n",
            "Requirement already satisfied: numpy>=1.17 in /usr/local/lib/python3.12/dist-packages (from transformers) (2.0.2)\n",
            "Requirement already satisfied: packaging>=20.0 in /usr/local/lib/python3.12/dist-packages (from transformers) (25.0)\n",
            "Requirement already satisfied: pyyaml>=5.1 in /usr/local/lib/python3.12/dist-packages (from transformers) (6.0.2)\n",
            "Requirement already satisfied: regex!=2019.12.17 in /usr/local/lib/python3.12/dist-packages (from transformers) (2024.11.6)\n",
            "Requirement already satisfied: requests in /usr/local/lib/python3.12/dist-packages (from transformers) (2.32.4)\n",
            "Requirement already satisfied: tokenizers<=0.23.0,>=0.22.0 in /usr/local/lib/python3.12/dist-packages (from transformers) (0.22.0)\n",
            "Requirement already satisfied: safetensors>=0.4.3 in /usr/local/lib/python3.12/dist-packages (from transformers) (0.6.2)\n",
            "Requirement already satisfied: tqdm>=4.27 in /usr/local/lib/python3.12/dist-packages (from transformers) (4.67.1)\n",
            "Requirement already satisfied: fsspec>=2023.5.0 in /usr/local/lib/python3.12/dist-packages (from huggingface-hub<1.0,>=0.34.0->transformers) (2025.3.0)\n",
            "Requirement already satisfied: typing-extensions>=3.7.4.3 in /usr/local/lib/python3.12/dist-packages (from huggingface-hub<1.0,>=0.34.0->transformers) (4.15.0)\n",
            "Requirement already satisfied: hf-xet<2.0.0,>=1.1.3 in /usr/local/lib/python3.12/dist-packages (from huggingface-hub<1.0,>=0.34.0->transformers) (1.1.10)\n",
            "Requirement already satisfied: charset_normalizer<4,>=2 in /usr/local/lib/python3.12/dist-packages (from requests->transformers) (3.4.3)\n",
            "Requirement already satisfied: idna<4,>=2.5 in /usr/local/lib/python3.12/dist-packages (from requests->transformers) (3.10)\n",
            "Requirement already satisfied: urllib3<3,>=1.21.1 in /usr/local/lib/python3.12/dist-packages (from requests->transformers) (2.5.0)\n",
            "Requirement already satisfied: certifi>=2017.4.17 in /usr/local/lib/python3.12/dist-packages (from requests->transformers) (2025.8.3)\n"
          ]
        }
      ]
    },
    {
      "cell_type": "code",
      "execution_count": 30,
      "metadata": {
        "colab": {
          "base_uri": "https://localhost:8080/"
        },
        "id": "-zqhzDIQzw77",
        "outputId": "fe683588-4444-47b2-a88e-2a708b3e4e76"
      },
      "outputs": [
        {
          "output_type": "stream",
          "name": "stdout",
          "text": [
            "Libraries imported\n"
          ]
        }
      ],
      "source": [
        "\n",
        "import torch\n",
        "import torch.nn as nn\n",
        "from torch.utils.data import Dataset, DataLoader\n",
        "import pandas as pd\n",
        "import numpy as np\n",
        "from sklearn.model_selection import train_test_split\n",
        "from sklearn.metrics import accuracy_score, classification_report, confusion_matrix\n",
        "import matplotlib.pyplot as plt\n",
        "import seaborn as sns\n",
        "from transformers import BertTokenizer, BertForSequenceClassification, Trainer, TrainingArguments\n",
        "import warnings\n",
        "warnings.filterwarnings('ignore')\n",
        "\n",
        "print(\"Libraries imported\")"
      ]
    },
    {
      "cell_type": "code",
      "source": [
        "model_name = 'bert-base-uncased'\n",
        "num_labels = 3\n",
        "max_length = 128\n",
        "batch_size = 16\n",
        "num_epochs = 3\n",
        "learning_rate = 2e-5\n",
        "seed = 42\n",
        "\n",
        "np.random.seed(seed)\n",
        "torch.manual_seed(seed)\n",
        "\n",
        "device = torch.device('cuda' if torch.cuda.is_available() else 'cpu')\n",
        "print(f\"Using device: {device}\")"
      ],
      "metadata": {
        "colab": {
          "base_uri": "https://localhost:8080/"
        },
        "id": "hsc__9O10XXQ",
        "outputId": "50f29173-24a0-4e9b-9c90-f974dd0ae42b"
      },
      "execution_count": 31,
      "outputs": [
        {
          "output_type": "stream",
          "name": "stdout",
          "text": [
            "Using device: cuda\n"
          ]
        }
      ]
    },
    {
      "cell_type": "code",
      "source": [
        "texts = [\n",
        "    # Positive Sentences (Label 0)\n",
        "    \"Biotech firm announces successful phase 3 drug trial, stock skyrockets.\",\n",
        "    \"Retail sales report shows unexpected surge in consumer spending.\",\n",
        "    \"Company's IPO is oversubscribed, indicating strong investor demand.\",\n",
        "    \"Manufacturing index hits a 5-year high, signaling robust industrial activity.\",\n",
        "    \"Tech giant acquires innovative startup to bolster its AI division.\",\n",
        "    \"Analyst upgrades stock to 'strong buy' following positive earnings call.\",\n",
        "    \"Corporation announces multi-billion dollar international expansion plan.\",\n",
        "    \"Inflation cools faster than expected, boosting overall market sentiment.\",\n",
        "\n",
        "    # Negative Sentences (Label 1)\n",
        "    \"Company misses quarterly revenue targets, causing its shares to tumble.\",\n",
        "    \"Regulatory agency imposes a heavy fine for compliance violations.\",\n",
        "    \"Major data breach exposes millions of sensitive customer records.\",\n",
        "    \"Credit rating agency downgrades the company's debt to junk status.\",\n",
        "    \"Persistent supply chain disruptions are halting key production lines.\",\n",
        "    \"The CEO has resigned amidst an ongoing internal investigation.\",\n",
        "    \"Housing market cools rapidly as mortgage rates continue to climb.\",\n",
        "    \"The latest inflation report comes in hotter than expected, spooking investors.\",\n",
        "\n",
        "    # Neutral Sentences (Label 2)\n",
        "    \"The company has confirmed its next earnings release date is next month.\",\n",
        "    \"The central bank will hold its next monetary policy meeting on Tuesday.\",\n",
        "    \"Trading was halted briefly for a pending news announcement from the firm.\",\n",
        "    \"The board of directors approved the minutes from the previous meeting.\",\n",
        "    \"A new Chief Financial Officer has been appointed, effective immediately.\",\n",
        "    \"The S&P 500 index closed relatively flat for the trading day.\",\n",
        "    \"The company is set to present at the annual industry conference next week.\",\n",
        "    \"A routine system maintenance update is scheduled for this weekend.\"\n",
        "]\n",
        "\n",
        "labels = [\n",
        "    0, 0, 0, 0, 0, 0, 0, 0,\n",
        "    1, 1, 1, 1, 1, 1, 1, 1,\n",
        "    2, 2, 2, 2, 2, 2, 2, 2\n",
        "]\n",
        "\n",
        "texts = texts * 20\n",
        "labels = labels * 20\n",
        "\n",
        "df = pd.DataFrame({'text': texts, 'label': labels})\n",
        "print(f\"Dataset size: {len(df)}\")"
      ],
      "metadata": {
        "colab": {
          "base_uri": "https://localhost:8080/"
        },
        "id": "ZVjcPZ-P0Xzt",
        "outputId": "ffb41eb6-574a-4725-eb47-b116f0ad2a86"
      },
      "execution_count": 32,
      "outputs": [
        {
          "output_type": "stream",
          "name": "stdout",
          "text": [
            "Dataset size: 480\n"
          ]
        }
      ]
    },
    {
      "cell_type": "code",
      "source": [
        "label_counts = df['label'].value_counts().sort_index()\n",
        "print(\"Label distribution:\")\n",
        "print(f\"Positive (0): {label_counts[0]}\")\n",
        "print(f\"Negative (1): {label_counts[1]}\")\n",
        "print(f\"Neutral (2): {label_counts[2]}\")"
      ],
      "metadata": {
        "colab": {
          "base_uri": "https://localhost:8080/"
        },
        "id": "9l-vOtT20X2H",
        "outputId": "1ce09de7-9ecc-4496-863e-78486d2fb3e9"
      },
      "execution_count": 33,
      "outputs": [
        {
          "output_type": "stream",
          "name": "stdout",
          "text": [
            "Label distribution:\n",
            "Positive (0): 160\n",
            "Negative (1): 160\n",
            "Neutral (2): 160\n"
          ]
        }
      ]
    },
    {
      "cell_type": "code",
      "source": [
        "X_train, X_val, y_train, y_val = train_test_split(\n",
        "    df['text'].values,\n",
        "    df['label'].values,\n",
        "    test_size=0.2,\n",
        "    random_state=seed,\n",
        "    stratify=df['label'].values\n",
        ")\n",
        "\n",
        "print(f\"Training samples: {len(X_train)}\")\n",
        "print(f\"Validation samples: {len(X_val)}\")\n"
      ],
      "metadata": {
        "colab": {
          "base_uri": "https://localhost:8080/"
        },
        "id": "Khw7TCb20X4u",
        "outputId": "543f6390-7af0-4711-8294-c18cba9feb7b"
      },
      "execution_count": 34,
      "outputs": [
        {
          "output_type": "stream",
          "name": "stdout",
          "text": [
            "Training samples: 384\n",
            "Validation samples: 96\n"
          ]
        }
      ]
    },
    {
      "cell_type": "code",
      "source": [
        "tokenizer = BertTokenizer.from_pretrained(model_name)\n",
        "print(f\"Tokenizer loaded\")\n",
        "print(f\"Vocabulary size: {tokenizer.vocab_size}\")\n"
      ],
      "metadata": {
        "colab": {
          "base_uri": "https://localhost:8080/"
        },
        "id": "QAm94Mry0X8H",
        "outputId": "832939ee-9583-4a4b-9b90-20463045e59c"
      },
      "execution_count": 35,
      "outputs": [
        {
          "output_type": "stream",
          "name": "stdout",
          "text": [
            "Tokenizer loaded\n",
            "Vocabulary size: 30522\n"
          ]
        }
      ]
    },
    {
      "cell_type": "code",
      "source": [
        "class FinancialDataset(Dataset):\n",
        "    def __init__(self, texts, labels, tokenizer, max_length):\n",
        "        self.texts = texts\n",
        "        self.labels = labels\n",
        "        self.tokenizer = tokenizer\n",
        "        self.max_length = max_length\n",
        "\n",
        "    def __len__(self):\n",
        "        return len(self.texts)\n",
        "\n",
        "    def __getitem__(self, idx):\n",
        "        text = str(self.texts[idx])\n",
        "        label = self.labels[idx]\n",
        "\n",
        "        encoding = self.tokenizer(\n",
        "            text,\n",
        "            truncation=True,\n",
        "            padding='max_length',\n",
        "            max_length=self.max_length,\n",
        "            return_tensors='pt'\n",
        "        )\n",
        "\n",
        "        return {\n",
        "            'input_ids': encoding['input_ids'].flatten(),\n",
        "            'attention_mask': encoding['attention_mask'].flatten(),\n",
        "            'labels': torch.tensor(label, dtype=torch.long)\n",
        "        }\n",
        "\n",
        "print(\"Dataset class defined\")\n"
      ],
      "metadata": {
        "colab": {
          "base_uri": "https://localhost:8080/"
        },
        "id": "FzMKun-1yj9H",
        "outputId": "95de4c0d-4e4e-49d7-cc55-8dd1aa569dfe"
      },
      "execution_count": 36,
      "outputs": [
        {
          "output_type": "stream",
          "name": "stdout",
          "text": [
            "Dataset class defined\n"
          ]
        }
      ]
    },
    {
      "cell_type": "code",
      "source": [
        "train_dataset = FinancialDataset(X_train, y_train, tokenizer, max_length)\n",
        "val_dataset = FinancialDataset(X_val, y_val, tokenizer, max_length)\n",
        "\n",
        "print(f\"Train dataset created: {len(train_dataset)} samples\")\n",
        "print(f\"Validation dataset created: {len(val_dataset)} samples\")"
      ],
      "metadata": {
        "colab": {
          "base_uri": "https://localhost:8080/"
        },
        "id": "fCMO7SLbykho",
        "outputId": "aa5d77c3-709e-4556-c7ff-5f80852b649c"
      },
      "execution_count": 37,
      "outputs": [
        {
          "output_type": "stream",
          "name": "stdout",
          "text": [
            "Train dataset created: 384 samples\n",
            "Validation dataset created: 96 samples\n"
          ]
        }
      ]
    },
    {
      "cell_type": "code",
      "source": [
        "model = BertForSequenceClassification.from_pretrained(\n",
        "    model_name,\n",
        "    num_labels=num_labels\n",
        ")\n",
        "\n",
        "print(\"BERT model loaded\")\n",
        "print(f\"Model type: {model_name}\")\n",
        "print(f\"Number of labels: {num_labels}\")"
      ],
      "metadata": {
        "colab": {
          "base_uri": "https://localhost:8080/"
        },
        "id": "QRuVemSvykkK",
        "outputId": "2f5ddcde-fad9-4922-9b9e-6a2fb71a3d57"
      },
      "execution_count": 38,
      "outputs": [
        {
          "output_type": "stream",
          "name": "stderr",
          "text": [
            "Some weights of BertForSequenceClassification were not initialized from the model checkpoint at bert-base-uncased and are newly initialized: ['classifier.bias', 'classifier.weight']\n",
            "You should probably TRAIN this model on a down-stream task to be able to use it for predictions and inference.\n"
          ]
        },
        {
          "output_type": "stream",
          "name": "stdout",
          "text": [
            "BERT model loaded\n",
            "Model type: bert-base-uncased\n",
            "Number of labels: 3\n"
          ]
        }
      ]
    },
    {
      "cell_type": "code",
      "source": [
        "training_args = TrainingArguments(\n",
        "    output_dir='./results',\n",
        "    num_train_epochs=num_epochs,\n",
        "    per_device_train_batch_size=batch_size,\n",
        "    per_device_eval_batch_size=batch_size,\n",
        "    warmup_steps=500,\n",
        "    weight_decay=0.01,\n",
        "    logging_dir='./logs',\n",
        "    logging_steps=10,\n",
        "    do_train=True,\n",
        "    do_eval=True,\n",
        "    eval_strategy=\"epoch\",\n",
        "    save_strategy=\"epoch\",\n",
        "    load_best_model_at_end=True,\n",
        "    metric_for_best_model=\"eval_loss\",\n",
        "    greater_is_better=False,\n",
        "    save_total_limit=2,\n",
        "    seed=seed,\n",
        "    report_to=\"none\"\n",
        ")\n",
        "\n",
        "print(\"Training arguments set\")"
      ],
      "metadata": {
        "colab": {
          "base_uri": "https://localhost:8080/"
        },
        "id": "MH-4x7V1ykns",
        "outputId": "043ed259-ad3f-41a9-e324-7c9fbe379681"
      },
      "execution_count": 39,
      "outputs": [
        {
          "output_type": "stream",
          "name": "stdout",
          "text": [
            "Training arguments set\n"
          ]
        }
      ]
    },
    {
      "cell_type": "code",
      "source": [
        "trainer = Trainer(\n",
        "    model=model,\n",
        "    args=training_args,\n",
        "    train_dataset=train_dataset,\n",
        "    eval_dataset=val_dataset,\n",
        "    tokenizer=tokenizer\n",
        ")\n",
        "\n",
        "print(\"Trainer created\")"
      ],
      "metadata": {
        "colab": {
          "base_uri": "https://localhost:8080/"
        },
        "id": "IVEHhWC6ywTj",
        "outputId": "8dc7137f-2f47-4c15-bf96-cec46be7dea7"
      },
      "execution_count": 40,
      "outputs": [
        {
          "output_type": "stream",
          "name": "stdout",
          "text": [
            "Trainer created\n"
          ]
        }
      ]
    },
    {
      "cell_type": "code",
      "source": [
        "print(\"Starting training...\")\n",
        "print(\"-\" * 50)\n",
        "\n",
        "train_result = trainer.train()\n",
        "\n",
        "print(\"Training completed!\")"
      ],
      "metadata": {
        "colab": {
          "base_uri": "https://localhost:8080/",
          "height": 221
        },
        "id": "aAFL1cVNywXG",
        "outputId": "0a57a140-d47b-456b-f37d-0446b927dac0"
      },
      "execution_count": 41,
      "outputs": [
        {
          "output_type": "stream",
          "name": "stdout",
          "text": [
            "Starting training...\n",
            "--------------------------------------------------\n"
          ]
        },
        {
          "output_type": "display_data",
          "data": {
            "text/plain": [
              "<IPython.core.display.HTML object>"
            ],
            "text/html": [
              "\n",
              "    <div>\n",
              "      \n",
              "      <progress value='72' max='72' style='width:300px; height:20px; vertical-align: middle;'></progress>\n",
              "      [72/72 02:28, Epoch 3/3]\n",
              "    </div>\n",
              "    <table border=\"1\" class=\"dataframe\">\n",
              "  <thead>\n",
              " <tr style=\"text-align: left;\">\n",
              "      <th>Epoch</th>\n",
              "      <th>Training Loss</th>\n",
              "      <th>Validation Loss</th>\n",
              "    </tr>\n",
              "  </thead>\n",
              "  <tbody>\n",
              "    <tr>\n",
              "      <td>1</td>\n",
              "      <td>1.121000</td>\n",
              "      <td>1.072459</td>\n",
              "    </tr>\n",
              "    <tr>\n",
              "      <td>2</td>\n",
              "      <td>1.020600</td>\n",
              "      <td>0.907984</td>\n",
              "    </tr>\n",
              "    <tr>\n",
              "      <td>3</td>\n",
              "      <td>0.747200</td>\n",
              "      <td>0.625144</td>\n",
              "    </tr>\n",
              "  </tbody>\n",
              "</table><p>"
            ]
          },
          "metadata": {}
        },
        {
          "output_type": "stream",
          "name": "stdout",
          "text": [
            "Training completed!\n"
          ]
        }
      ]
    },
    {
      "cell_type": "code",
      "source": [
        "train_loss = train_result.metrics['train_loss']\n",
        "print(f\"Final training loss: {train_loss:.4f}\")"
      ],
      "metadata": {
        "colab": {
          "base_uri": "https://localhost:8080/"
        },
        "id": "cbkUgX9wzZKP",
        "outputId": "a3bac576-1d67-4cbe-bd4d-5320b0cec692"
      },
      "execution_count": 42,
      "outputs": [
        {
          "output_type": "stream",
          "name": "stdout",
          "text": [
            "Final training loss: 0.9832\n"
          ]
        }
      ]
    },
    {
      "cell_type": "code",
      "source": [
        "print(\"Evaluating on validation set...\")\n",
        "\n",
        "eval_results = trainer.evaluate()\n",
        "\n",
        "print(\"Evaluation results:\")\n",
        "print(f\"Validation loss: {eval_results['eval_loss']:.4f}\")"
      ],
      "metadata": {
        "colab": {
          "base_uri": "https://localhost:8080/",
          "height": 89
        },
        "id": "IjSX1ogszZM5",
        "outputId": "7cf24470-dcda-462e-f378-2b84b6c64aa7"
      },
      "execution_count": 43,
      "outputs": [
        {
          "output_type": "stream",
          "name": "stdout",
          "text": [
            "Evaluating on validation set...\n"
          ]
        },
        {
          "output_type": "display_data",
          "data": {
            "text/plain": [
              "<IPython.core.display.HTML object>"
            ],
            "text/html": [
              "\n",
              "    <div>\n",
              "      \n",
              "      <progress value='6' max='6' style='width:300px; height:20px; vertical-align: middle;'></progress>\n",
              "      [6/6 00:00]\n",
              "    </div>\n",
              "    "
            ]
          },
          "metadata": {}
        },
        {
          "output_type": "stream",
          "name": "stdout",
          "text": [
            "Evaluation results:\n",
            "Validation loss: 0.6251\n"
          ]
        }
      ]
    },
    {
      "cell_type": "code",
      "source": [
        "print(\"Getting predictions...\")\n",
        "\n",
        "predictions = trainer.predict(val_dataset)\n",
        "\n",
        "predicted_probs = predictions.predictions\n",
        "predicted_classes = np.argmax(predicted_probs, axis=1)\n",
        "true_labels = predictions.label_ids\n",
        "\n",
        "print(f\"Predictions shape: {predicted_classes.shape}\")\n",
        "print(f\"True labels shape: {true_labels.shape}\")"
      ],
      "metadata": {
        "colab": {
          "base_uri": "https://localhost:8080/",
          "height": 69
        },
        "id": "wSDSYJIUzZQT",
        "outputId": "5c236c3d-3d5b-4fa8-e528-49c26fbc61ac"
      },
      "execution_count": 44,
      "outputs": [
        {
          "output_type": "stream",
          "name": "stdout",
          "text": [
            "Getting predictions...\n"
          ]
        },
        {
          "output_type": "display_data",
          "data": {
            "text/plain": [
              "<IPython.core.display.HTML object>"
            ],
            "text/html": []
          },
          "metadata": {}
        },
        {
          "output_type": "stream",
          "name": "stdout",
          "text": [
            "Predictions shape: (96,)\n",
            "True labels shape: (96,)\n"
          ]
        }
      ]
    },
    {
      "cell_type": "code",
      "source": [
        "correct_predictions = 0\n",
        "total_predictions = len(predicted_classes)\n",
        "\n",
        "for i in range(len(predicted_classes)):\n",
        "    if predicted_classes[i] == true_labels[i]:\n",
        "        correct_predictions += 1\n",
        "\n",
        "accuracy = correct_predictions / total_predictions\n",
        "print(f\"Validation Accuracy: {accuracy:.4f}\")"
      ],
      "metadata": {
        "colab": {
          "base_uri": "https://localhost:8080/"
        },
        "id": "lYIYPvSvztuC",
        "outputId": "081d1c1a-adc0-4bb6-e2d2-6cf05c3eafbc"
      },
      "execution_count": 45,
      "outputs": [
        {
          "output_type": "stream",
          "name": "stdout",
          "text": [
            "Validation Accuracy: 1.0000\n"
          ]
        }
      ]
    },
    {
      "cell_type": "code",
      "source": [
        "confusion_matrix_values = np.zeros((3, 3), dtype=int)\n",
        "\n",
        "for i in range(len(true_labels)):\n",
        "    true_label = true_labels[i]\n",
        "    predicted_label = predicted_classes[i]\n",
        "    confusion_matrix_values[true_label][predicted_label] += 1\n",
        "\n",
        "print(\"Confusion Matrix:\")\n",
        "print(confusion_matrix_values)"
      ],
      "metadata": {
        "colab": {
          "base_uri": "https://localhost:8080/"
        },
        "id": "hge5hMgczt6h",
        "outputId": "f054564b-7375-41ed-e480-b6db74b4c049"
      },
      "execution_count": 46,
      "outputs": [
        {
          "output_type": "stream",
          "name": "stdout",
          "text": [
            "Confusion Matrix:\n",
            "[[32  0  0]\n",
            " [ 0 32  0]\n",
            " [ 0  0 32]]\n"
          ]
        }
      ]
    },
    {
      "cell_type": "code",
      "source": [
        "label_names = ['Positive', 'Negative', 'Neutral']\n",
        "\n",
        "plt.figure(figsize=(8, 6))\n",
        "sns.heatmap(confusion_matrix_values, annot=True, fmt='d', cmap='Blues',\n",
        "            xticklabels=label_names, yticklabels=label_names)\n",
        "plt.title('Confusion Matrix')\n",
        "plt.ylabel('True Label')\n",
        "plt.xlabel('Predicted Label')\n",
        "plt.show()"
      ],
      "metadata": {
        "colab": {
          "base_uri": "https://localhost:8080/",
          "height": 564
        },
        "id": "BpulhJTyz2LZ",
        "outputId": "c04634d2-9b37-41bc-d02d-ebb05c89f32a"
      },
      "execution_count": 47,
      "outputs": [
        {
          "output_type": "display_data",
          "data": {
            "text/plain": [
              "<Figure size 800x600 with 2 Axes>"
            ],
            "image/png": "[encoded data removed]"
          },
          "metadata": {}
        }
      ]
    },
    {
      "cell_type": "code",
      "source": [
        "print(\"\\nPer-class metrics:\")\n",
        "print(\"-\" * 50)\n",
        "\n",
        "for class_idx in range(3):\n",
        "    tp = confusion_matrix_values[class_idx][class_idx]\n",
        "\n",
        "    fp = 0\n",
        "    for i in range(3):\n",
        "        if i != class_idx:\n",
        "            fp += confusion_matrix_values[i][class_idx]\n",
        "\n",
        "    fn = 0\n",
        "    for j in range(3):\n",
        "        if j != class_idx:\n",
        "            fn += confusion_matrix_values[class_idx][j]\n",
        "\n",
        "    if (tp + fp) > 0:\n",
        "        precision = tp / (tp + fp)\n",
        "    else:\n",
        "        precision = 0\n",
        "\n",
        "    if (tp + fn) > 0:\n",
        "        recall = tp / (tp + fn)\n",
        "    else:\n",
        "        recall = 0\n",
        "\n",
        "    if (precision + recall) > 0:\n",
        "        f1 = 2 * (precision * recall) / (precision + recall)\n",
        "    else:\n",
        "        f1 = 0\n",
        "\n",
        "    print(f\"\\n{label_names[class_idx]}:\")\n",
        "    print(f\"  Precision: {precision:.4f}\")\n",
        "    print(f\"  Recall: {recall:.4f}\")\n",
        "    print(f\"  F1-Score: {f1:.4f}\")"
      ],
      "metadata": {
        "colab": {
          "base_uri": "https://localhost:8080/"
        },
        "id": "Qm8zAZKxz2Ov",
        "outputId": "b178fea6-b878-4d83-e4c7-9642f07ef10b"
      },
      "execution_count": 48,
      "outputs": [
        {
          "output_type": "stream",
          "name": "stdout",
          "text": [
            "\n",
            "Per-class metrics:\n",
            "--------------------------------------------------\n",
            "\n",
            "Positive:\n",
            "  Precision: 1.0000\n",
            "  Recall: 1.0000\n",
            "  F1-Score: 1.0000\n",
            "\n",
            "Negative:\n",
            "  Precision: 1.0000\n",
            "  Recall: 1.0000\n",
            "  F1-Score: 1.0000\n",
            "\n",
            "Neutral:\n",
            "  Precision: 1.0000\n",
            "  Recall: 1.0000\n",
            "  F1-Score: 1.0000\n"
          ]
        }
      ]
    },
    {
      "cell_type": "code",
      "source": [
        "test_sentences = [\n",
        "    \"Tech company announces breakthrough, stock jumps 12%\",\n",
        "    \"Global recession fears cause market crash\",\n",
        "    \"Company maintains steady growth as expected\"\n",
        "]\n",
        "\n",
        "print(\"\\nTesting on new examples:\")\n",
        "print(\"-\" * 50)\n",
        "\n",
        "for sentence in test_sentences:\n",
        "    inputs = tokenizer(\n",
        "        sentence,\n",
        "        padding=True,\n",
        "        truncation=True,\n",
        "        max_length=max_length,\n",
        "        return_tensors='pt'\n",
        "    )\n",
        "\n",
        "    inputs = {k: v.to(model.device) for k, v in inputs.items()}\n",
        "\n",
        "    with torch.no_grad():\n",
        "        outputs = model(**inputs)\n",
        "        logits = outputs.logits\n",
        "\n",
        "        probs = torch.softmax(logits, dim=-1)\n",
        "\n",
        "        predicted_class = torch.argmax(probs, dim=-1).item()\n",
        "        confidence = torch.max(probs).item()\n",
        "\n",
        "    print(f\"\\nText: {sentence}\")\n",
        "    print(f\"Predicted class: {label_names[predicted_class]}\")\n",
        "    print(f\"Confidence: {confidence:.4f}\")\n",
        "\n",
        "    print(\"All probabilities:\")\n",
        "    print(f\"  Positive: {probs[0][0].item():.4f}\")\n",
        "    print(f\"  Negative: {probs[0][1].item():.4f}\")\n",
        "    print(f\"  Neutral: {probs[0][2].item():.4f}\")"
      ],
      "metadata": {
        "colab": {
          "base_uri": "https://localhost:8080/"
        },
        "id": "2P14pjaEz9Rk",
        "outputId": "7e38be83-6f57-4ddb-b574-51a58ffba480"
      },
      "execution_count": 49,
      "outputs": [
        {
          "output_type": "stream",
          "name": "stdout",
          "text": [
            "\n",
            "Testing on new examples:\n",
            "--------------------------------------------------\n",
            "\n",
            "Text: Tech company announces breakthrough, stock jumps 12%\n",
            "Predicted class: Positive\n",
            "Confidence: 0.6119\n",
            "All probabilities:\n",
            "  Positive: 0.6119\n",
            "  Negative: 0.2369\n",
            "  Neutral: 0.1512\n",
            "\n",
            "Text: Global recession fears cause market crash\n",
            "Predicted class: Positive\n",
            "Confidence: 0.5020\n",
            "All probabilities:\n",
            "  Positive: 0.5020\n",
            "  Negative: 0.3468\n",
            "  Neutral: 0.1512\n",
            "\n",
            "Text: Company maintains steady growth as expected\n",
            "Predicted class: Positive\n",
            "Confidence: 0.4783\n",
            "All probabilities:\n",
            "  Positive: 0.4783\n",
            "  Negative: 0.3396\n",
            "  Neutral: 0.1821\n"
          ]
        }
      ]
    },
    {
      "cell_type": "code",
      "source": [
        "training_loss_history = []\n",
        "validation_loss_history = []\n",
        "\n",
        "for log in trainer.state.log_history:\n",
        "    if 'loss' in log:\n",
        "        training_loss_history.append(log['loss'])\n",
        "    if 'eval_loss' in log:\n",
        "        validation_loss_history.append(log['eval_loss'])\n",
        "\n",
        "if len(validation_loss_history) > 0:\n",
        "    plt.figure(figsize=(10, 5))\n",
        "\n",
        "    plt.subplot(1, 2, 1)\n",
        "    epochs = range(1, len(validation_loss_history) + 1)\n",
        "    plt.plot(epochs, validation_loss_history, 'o-', label='Validation Loss')\n",
        "    plt.xlabel('Epoch')\n",
        "    plt.ylabel('Loss')\n",
        "    plt.title('Validation Loss per Epoch')\n",
        "    plt.grid(True)\n",
        "\n",
        "    if len(training_loss_history) > 0:\n",
        "        plt.subplot(1, 2, 2)\n",
        "        steps = range(1, len(training_loss_history) + 1)\n",
        "        plt.plot(steps, training_loss_history, label='Training Loss')\n",
        "        plt.xlabel('Training Steps')\n",
        "        plt.ylabel('Loss')\n",
        "        plt.title('Training Loss Progress')\n",
        "        plt.grid(True)\n",
        "\n",
        "    plt.tight_layout()\n",
        "    plt.show()\n"
      ],
      "metadata": {
        "colab": {
          "base_uri": "https://localhost:8080/",
          "height": 507
        },
        "id": "NnJ1LoHvz9cO",
        "outputId": "812e200f-dcd7-44cb-aaef-c99e1f6e978d"
      },
      "execution_count": 50,
      "outputs": [
        {
          "output_type": "display_data",
          "data": {
            "text/plain": [
              "<Figure size 1000x500 with 2 Axes>"
            ],
            "image/png": "[encoded data removed]"
          },
          "metadata": {}
        }
      ]
    },
    {
      "cell_type": "code",
      "source": [
        "model_save_path = './financial_bert_model'\n",
        "\n",
        "trainer.save_model(model_save_path)\n",
        "tokenizer.save_pretrained(model_save_path)\n",
        "\n",
        "print(f\"Model saved to: {model_save_path}\")"
      ],
      "metadata": {
        "colab": {
          "base_uri": "https://localhost:8080/"
        },
        "id": "_GU1BhDm0ISh",
        "outputId": "f6c6c1f2-cb98-46da-ff09-b58221a99a34"
      },
      "execution_count": 51,
      "outputs": [
        {
          "output_type": "stream",
          "name": "stdout",
          "text": [
            "Model saved to: ./financial_bert_model\n"
          ]
        }
      ]
    },
    {
      "cell_type": "code",
      "source": [
        "from transformers import BertForSequenceClassification, BertTokenizer\n",
        "\n",
        "loaded_model = BertForSequenceClassification.from_pretrained(model_save_path)\n",
        "loaded_tokenizer = BertTokenizer.from_pretrained(model_save_path)\n",
        "\n",
        "loaded_model = loaded_model.to(device)\n",
        "loaded_model.eval()\n",
        "\n",
        "print(\"Model loaded successfully\")\n",
        "\n",
        "test_text = \"Stock market shows positive momentum\"\n",
        "\n",
        "test_inputs = loaded_tokenizer(\n",
        "    test_text,\n",
        "    return_tensors='pt',\n",
        "    padding=True,\n",
        "    truncation=True,\n",
        "    max_length=max_length\n",
        ")\n",
        "\n",
        "test_inputs = {k: v.to(device) for k, v in test_inputs.items()}\n",
        "\n",
        "with torch.no_grad():\n",
        "    test_outputs = loaded_model(**test_inputs)\n",
        "    test_logits = test_outputs.logits\n",
        "    test_probs = torch.softmax(test_logits, dim=-1)\n",
        "    test_prediction = torch.argmax(test_probs, dim=-1).item()\n",
        "\n",
        "print(f\"\\nTest with loaded model:\")\n",
        "print(f\"Text: {test_text}\")\n",
        "print(f\"Prediction: {label_names[test_prediction]}\")\n"
      ],
      "metadata": {
        "colab": {
          "base_uri": "https://localhost:8080/"
        },
        "id": "w6UmdC6n0IdQ",
        "outputId": "8e916917-ac1c-4483-9df1-a7e1a6c75f79"
      },
      "execution_count": 52,
      "outputs": [
        {
          "output_type": "stream",
          "name": "stdout",
          "text": [
            "Model loaded successfully\n",
            "\n",
            "Test with loaded model:\n",
            "Text: Stock market shows positive momentum\n",
            "Prediction: Positive\n"
          ]
        }
      ]
    },
    {
      "cell_type": "code",
      "source": [
        "print(\"\\n\" + \"=\" * 50)\n",
        "print(\"TRAINING SUMMARY\")\n",
        "print(\"=\" * 50)\n",
        "print(f\"Model: {model_name}\")\n",
        "print(f\"Training samples: {len(train_dataset)}\")\n",
        "print(f\"Validation samples: {len(val_dataset)}\")\n",
        "print(f\"Number of epochs: {num_epochs}\")\n",
        "print(f\"Batch size: {batch_size}\")\n",
        "print(f\"Final validation accuracy: {accuracy:.2%}\")\n",
        "print(f\"Final training loss: {train_loss:.4f}\")\n",
        "print(f\"Final validation loss: {eval_results['eval_loss']:.4f}\")\n",
        "print(\"=\" * 50)"
      ],
      "metadata": {
        "colab": {
          "base_uri": "https://localhost:8080/"
        },
        "id": "tE0blaEe0l9P",
        "outputId": "2e8b51ad-890d-4bdd-b447-6dc5995852a4"
      },
      "execution_count": 53,
      "outputs": [
        {
          "output_type": "stream",
          "name": "stdout",
          "text": [
            "\n",
            "==================================================\n",
            "TRAINING SUMMARY\n",
            "==================================================\n",
            "Model: bert-base-uncased\n",
            "Training samples: 384\n",
            "Validation samples: 96\n",
            "Number of epochs: 3\n",
            "Batch size: 16\n",
            "Final validation accuracy: 100.00%\n",
            "Final training loss: 0.9832\n",
            "Final validation loss: 0.6251\n",
            "==================================================\n"
          ]
        }
      ]
    },
    {
      "cell_type": "code",
      "source": [
        "print(\"Notebook completed successfully!\")"
      ],
      "metadata": {
        "colab": {
          "base_uri": "https://localhost:8080/"
        },
        "id": "M6u2xWaZ0n3S",
        "outputId": "33ce345d-e9c6-453f-e29f-07d4ebd6dc90"
      },
      "execution_count": 54,
      "outputs": [
        {
          "output_type": "stream",
          "name": "stdout",
          "text": [
            "Notebook completed successfully!\n"
          ]
        }
      ]
    }
  ]
}