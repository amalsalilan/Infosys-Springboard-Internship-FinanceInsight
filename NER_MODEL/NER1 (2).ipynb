{
  "cells": [
    {
      "cell_type": "markdown",
      "metadata": {
        "id": "2NdRitT8329p"
      },
      "source": [
        "**Building Custom Named Entity Recognition Model Using Spacy**"
      ]
    },
    {
      "cell_type": "code",
      "execution_count": 48,
      "metadata": {
        "id": "FFOiNNeP0giN"
      },
      "outputs": [],
      "source": [
        "! pip install -U spacy -q"
      ]
    },
    {
      "cell_type": "code",
      "execution_count": 1,
      "metadata": {
        "colab": {
          "base_uri": "https://localhost:8080/"
        },
        "id": "enIOTr8y6hf9",
        "outputId": "6c0ffb90-14fc-4385-8b77-9bbdf68e8d7c"
      },
      "outputs": [
        {
          "name": "stdout",
          "output_type": "stream",
          "text": [
            "\u001b[1m\n",
            "============================== Info about spaCy ==============================\u001b[0m\n",
            "\n",
            "spaCy version    3.8.7                         \n",
            "Location         /usr/local/lib/python3.12/dist-packages/spacy\n",
            "Platform         Linux-6.1.123+-x86_64-with-glibc2.35\n",
            "Python version   3.12.11                       \n",
            "Pipelines        en_core_web_sm (3.8.0)        \n",
            "\n"
          ]
        }
      ],
      "source": [
        "!python -m spacy info"
      ]
    },
    {
      "cell_type": "code",
      "execution_count": 50,
      "metadata": {
        "id": "GGlQY8Ro2hw6"
      },
      "outputs": [],
      "source": [
        "import spacy\n",
        "from spacy.tokens import DocBin\n",
        "from tqdm import tqdm\n",
        "import json\n",
        "\n",
        "nlp = spacy.blank(\"en\")\n",
        "db = DocBin()"
      ]
    },
    {
      "cell_type": "code",
      "execution_count": 10,
      "metadata": {
        "id": "uGingzbmvgnL"
      },
      "outputs": [],
      "source": [
        "import json\n",
        "f = open('/content/annotations.json')\n",
        "TRAIN_DATA = json.load(f)"
      ]
    },
    {
      "cell_type": "code",
      "execution_count": 53,
      "metadata": {
        "colab": {
          "base_uri": "https://localhost:8080/"
        },
        "id": "OFPOI7gY-ha4",
        "outputId": "d4fc764d-984c-4f6a-b301-cf1ccf230056"
      },
      "outputs": [
        {
          "data": {
            "text/plain": [
              "{'classes': ['DATE', 'MONEY', 'PERCENT', 'NAME', 'ORG'],\n",
              " 'annotations': [['On March 15, 2023, Samantha Green, a financial analyst at Goldman Sachs, presented the company’s quarterly earnings report. The firm reported a revenue increase of 12% compared to the previous quarter, largely attributed to strong performance in its asset management division. Goldman Sachs also disclosed that it had invested $3.2 billion into sustainable energy projects, partnering with organizations like Tesla and NextEra Energy.\\r',\n",
              "   {'entities': [[3, 17, 'DATE'],\n",
              "     [19, 33, 'NAME'],\n",
              "     [58, 71, 'ORG'],\n",
              "     [164, 167, 'PERCENT'],\n",
              "     [327, 339, 'MONEY'],\n",
              "     [409, 414, 'ORG'],\n",
              "     [419, 433, 'ORG']]}],\n",
              "  ['\\r', {'entities': []}],\n",
              "  ['During the same conference, Michael Chen, CEO of BrightFuture Capital, announced a merger valued at $7.5 billion with Orion Holdings, scheduled to finalize by October 2023. Analysts believe this could boost BrightFuture Capital’s market share by as much as 18% over the next fiscal year.\\r',\n",
              "   {'entities': [[28, 40, 'NAME'],\n",
              "     [49, 69, 'ORG'],\n",
              "     [100, 112, 'MONEY'],\n",
              "     [159, 172, 'DATE'],\n",
              "     [207, 229, 'ORG'],\n",
              "     [257, 260, 'PERCENT']]}],\n",
              "  ['\\r', {'entities': []}],\n",
              "  ['Meanwhile, philanthropist Linda Rodriguez donated $1 million to the World Health Organization to support global vaccination efforts. The funds will be distributed starting December 1, 2023, focusing on underdeveloped regions in Africa and Southeast Asia.\\r',\n",
              "   {'entities': [[26, 41, 'NAME'],\n",
              "     [50, 60, 'MONEY'],\n",
              "     [68, 93, 'ORG'],\n",
              "     [172, 188, 'DATE']]}],\n",
              "  ['\\r', {'entities': []}],\n",
              "  ['In a related note, Apple Inc. reported a profit of $22 billion for the last quarter, with iPhone sales accounting for 65% of its total revenue. According to CFO David Liu, the company is also planning to increase R&D spending by 8% in the upcoming year.\\r',\n",
              "   {'entities': [[19, 29, 'ORG'],\n",
              "     [51, 62, 'MONEY'],\n",
              "     [118, 121, 'PERCENT'],\n",
              "     [161, 170, 'NAME'],\n",
              "     [229, 231, 'PERCENT']]}],\n",
              "  ['\\r', {'entities': []}],\n",
              "  ['Overall, the financial sector saw significant growth, with experts predicting that investments in green technology could rise by 25% in 2024. As markets adapt, leaders like Elena Petrova of Morgan Stanley emphasize the importance of innovation and sustainability in long-term growth strategies.',\n",
              "   {'entities': [[129, 132, 'PERCENT'],\n",
              "     [136, 141, 'DATE'],\n",
              "     [173, 186, 'NAME'],\n",
              "     [190, 204, 'ORG']]}]]}"
            ]
          },
          "execution_count": 53,
          "metadata": {},
          "output_type": "execute_result"
        }
      ],
      "source": [
        "TRAIN_DATA"
      ]
    },
    {
      "cell_type": "code",
      "execution_count": 16,
      "metadata": {
        "colab": {
          "base_uri": "https://localhost:8080/"
        },
        "id": "NWrodKDk-jwc",
        "outputId": "3329823e-44e8-4b13-e0b0-6622bfcfa118"
      },
      "outputs": [
        {
          "name": "stderr",
          "output_type": "stream",
          "text": [
            "100%|██████████| 9/9 [00:00<00:00, 979.75it/s]\n"
          ]
        }
      ],
      "source": [
        "import spacy\n",
        "from spacy.tokens import DocBin\n",
        "from tqdm import tqdm\n",
        "\n",
        "nlp = spacy.blank(\"en\")\n",
        "db = DocBin()\n",
        "\n",
        "for text, annot in tqdm(TRAIN_DATA['annotations']):\n",
        "    doc = nlp.make_doc(text)\n",
        "    ents = []\n",
        "    for start, end, label in annot[\"entities\"]:\n",
        "        span = doc.char_span(start, end, label=label, alignment_mode=\"contract\")\n",
        "        if span is None:\n",
        "            print(\"Skipping entity\")\n",
        "        else:\n",
        "            ents.append(span)\n",
        "    doc.ents = ents\n",
        "    db.add(doc)\n",
        "\n",
        "db.to_disk(\"./annotations_data.spacy\") # save the docbin object"
      ]
    },
    {
      "cell_type": "code",
      "execution_count": 17,
      "metadata": {
        "id": "y7WS3fl38D_0"
      },
      "outputs": [],
      "source": [
        "f = open('/content/validate.json')\n",
        "VALIDATE_DATA = json.load(f)"
      ]
    },
    {
      "cell_type": "code",
      "execution_count": 18,
      "metadata": {
        "colab": {
          "base_uri": "https://localhost:8080/"
        },
        "id": "AovSOSmKvlz9",
        "outputId": "ef54e24c-4539-4c07-e30a-2c2eae7180fe"
      },
      "outputs": [
        {
          "data": {
            "text/plain": [
              "{'classes': ['DATE', 'MONEY', 'PERCENT', 'NAME', 'ORG'],\n",
              " 'annotations': [['On March 15, 2023, Samantha Green, a financial analyst at Goldman Sachs, presented the company’s quarterly earnings report. The firm reported a revenue increase of 12% compared to the previous quarter, largely attributed to strong performance in its asset management division. Goldman Sachs also disclosed that it had invested $3.2 billion into sustainable energy projects, partnering with organizations like Tesla and NextEra Energy.\\r',\n",
              "   {'entities': [[3, 17, 'DATE'],\n",
              "     [19, 33, 'NAME'],\n",
              "     [58, 71, 'ORG'],\n",
              "     [164, 167, 'PERCENT'],\n",
              "     [327, 339, 'MONEY'],\n",
              "     [409, 414, 'ORG'],\n",
              "     [419, 433, 'ORG']]}]]}"
            ]
          },
          "execution_count": 18,
          "metadata": {},
          "output_type": "execute_result"
        }
      ],
      "source": [
        "VALIDATE_DATA"
      ]
    },
    {
      "cell_type": "code",
      "execution_count": 19,
      "metadata": {
        "colab": {
          "base_uri": "https://localhost:8080/"
        },
        "id": "a5EFNubljGuE",
        "outputId": "eaf11a4d-284e-4a18-95a9-43931243cf20"
      },
      "outputs": [
        {
          "name": "stderr",
          "output_type": "stream",
          "text": [
            "100%|██████████| 1/1 [00:00<00:00, 856.68it/s]\n"
          ]
        }
      ],
      "source": [
        "import spacy\n",
        "from spacy.tokens import DocBin\n",
        "from tqdm import tqdm\n",
        "\n",
        "nlp = spacy.blank(\"en\")\n",
        "db = DocBin()\n",
        "\n",
        "for text, annot in tqdm(VALIDATE_DATA['annotations']):\n",
        "    doc = nlp.make_doc(text)\n",
        "    ents = []\n",
        "    for start, end, label in annot[\"entities\"]:\n",
        "        span = doc.char_span(start, end, label=label, alignment_mode=\"contract\")\n",
        "        if span is None:\n",
        "            print(\"Skipping entity\")\n",
        "        else:\n",
        "            ents.append(span)\n",
        "    doc.ents = ents\n",
        "    db.add(doc)\n",
        "\n",
        "db.to_disk(\"./validate_data.spacy\") # save the docbin object"
      ]
    },
    {
      "cell_type": "code",
      "execution_count": 20,
      "metadata": {
        "colab": {
          "base_uri": "https://localhost:8080/"
        },
        "id": "5ou7-MtW8gXW",
        "outputId": "250f642c-38ad-4194-baf6-fe212e28631a"
      },
      "outputs": [
        {
          "name": "stdout",
          "output_type": "stream",
          "text": [
            "\u001b[38;5;3m⚠ To generate a more effective transformer-based config (GPU-only),\n",
            "install the spacy-transformers package and re-run this command. The config\n",
            "generated now does not use transformers.\u001b[0m\n",
            "\u001b[38;5;4mℹ Generated config template specific for your use case\u001b[0m\n",
            "- Language: en\n",
            "- Pipeline: ner\n",
            "- Optimize for: accuracy\n",
            "- Hardware: CPU\n",
            "- Transformer: None\n",
            "\u001b[38;5;2m✔ Auto-filled config with all values\u001b[0m\n",
            "\u001b[38;5;2m✔ Saved config\u001b[0m\n",
            "config.cfg\n",
            "You can now add your data and train your pipeline:\n",
            "python -m spacy train config.cfg --paths.train ./train.spacy --paths.dev ./dev.spacy\n"
          ]
        }
      ],
      "source": [
        "! python -m spacy init config config.cfg --lang en --pipeline ner --optimize accuracy\n"
      ]
    },
    {
      "cell_type": "code",
      "execution_count": 28,
      "metadata": {
        "colab": {
          "base_uri": "https://localhost:8080/"
        },
        "id": "_QIeRdwg21l6",
        "outputId": "6a3e400b-82d9-4f37-b648-95595b7c38c4"
      },
      "outputs": [
        {
          "name": "stdout",
          "output_type": "stream",
          "text": [
            "Collecting en-core-web-lg==3.8.0\n",
            "  Downloading https://github.com/explosion/spacy-models/releases/download/en_core_web_lg-3.8.0/en_core_web_lg-3.8.0-py3-none-any.whl (400.7 MB)\n",
            "\u001b[2K     \u001b[90m━━━━━━━━━━━━━━━━━━━━━━━━━━━━━━━━━━━━━━━\u001b[0m \u001b[32m400.7/400.7 MB\u001b[0m \u001b[31m4.6 MB/s\u001b[0m eta \u001b[36m0:00:00\u001b[0m\n",
            "\u001b[?25hInstalling collected packages: en-core-web-lg\n",
            "Successfully installed en-core-web-lg-3.8.0\n",
            "\u001b[38;5;2m✔ Download and installation successful\u001b[0m\n",
            "You can now load the package via spacy.load('en_core_web_lg')\n",
            "\u001b[38;5;3m⚠ Restart to reload dependencies\u001b[0m\n",
            "If you are in a Jupyter or Colab notebook, you may need to restart Python in\n",
            "order to load all the package's dependencies. You can do this by selecting the\n",
            "'Restart kernel' or 'Restart runtime' option.\n"
          ]
        }
      ],
      "source": [
        "!python -m spacy download en_core_web_lg"
      ]
    },
    {
      "cell_type": "code",
      "execution_count": 29,
      "metadata": {
        "colab": {
          "base_uri": "https://localhost:8080/"
        },
        "id": "GtksxtBq3y1i",
        "outputId": "1a8100e7-eae1-45ff-d29c-fce936adf964"
      },
      "outputs": [
        {
          "name": "stdout",
          "output_type": "stream",
          "text": [
            "\u001b[38;5;4mℹ Saving to output directory: .\u001b[0m\n",
            "\u001b[38;5;4mℹ Using CPU\u001b[0m\n",
            "\u001b[1m\n",
            "=========================== Initializing pipeline ===========================\u001b[0m\n",
            "\u001b[38;5;2m✔ Initialized pipeline\u001b[0m\n",
            "\u001b[1m\n",
            "============================= Training pipeline =============================\u001b[0m\n",
            "\u001b[38;5;4mℹ Pipeline: ['tok2vec', 'ner']\u001b[0m\n",
            "\u001b[38;5;4mℹ Initial learn rate: 0.001\u001b[0m\n",
            "E    #       LOSS TOK2VEC  LOSS NER  ENTS_F  ENTS_P  ENTS_R  SCORE \n",
            "---  ------  ------------  --------  ------  ------  ------  ------\n",
            "  0       0          0.00     25.91    0.00    0.00    0.00    0.00\n",
            " 59     200         61.31   1247.49  100.00  100.00  100.00    1.00\n",
            "134     400          0.00      0.00  100.00  100.00  100.00    1.00\n",
            "232     600          0.00      0.00  100.00  100.00  100.00    1.00\n",
            "332     800          0.00      0.00  100.00  100.00  100.00    1.00\n",
            "504    1000          0.00      0.00  100.00  100.00  100.00    1.00\n",
            "704    1200          0.00      0.00  100.00  100.00  100.00    1.00\n",
            "904    1400          0.00      0.00  100.00  100.00  100.00    1.00\n",
            "1104    1600          0.00      0.00  100.00  100.00  100.00    1.00\n",
            "1304    1800          0.00      0.00  100.00  100.00  100.00    1.00\n",
            "\u001b[38;5;2m✔ Saved pipeline to output directory\u001b[0m\n",
            "model-last\n"
          ]
        }
      ],
      "source": [
        "! python -m spacy train config.cfg --output ./ --paths.train \"./annotations_data.spacy\" --paths.dev \"./validate_data.spacy\"\n"
      ]
    },
    {
      "cell_type": "code",
      "execution_count": 31,
      "metadata": {
        "id": "cPWB_Mko4OiP"
      },
      "outputs": [],
      "source": [
        "nlp_ner = spacy.load(\"/content/model-best\")\n"
      ]
    },
    {
      "cell_type": "code",
      "execution_count": 34,
      "metadata": {
        "id": "v9cdB6C99Jym"
      },
      "outputs": [],
      "source": [
        "doc = nlp_ner('''On March 15, 2023, Samantha Green, a financial analyst at Goldman Sachs, presented the company’s quarterly earnings report. The firm reported a revenue increase of 12% compared to the previous quarter, largely attributed to strong performance in its asset management division. Goldman Sachs also disclosed that it had invested $3.2 billion into sustainable energy projects, partnering with organizations like Tesla and NextEra Energy.During the same conference, Michael Chen, CEO of BrightFuture Capital, announced a merger valued at $7.5 billion with Orion Holdings, scheduled to finalize by October 2023. Analysts believe this could boost BrightFuture Capital’s market share by as much as 18% over the next fiscal year.Meanwhile, philanthropist Linda Rodriguez donated $1 million to the World Health Organization to support global vaccination efforts. The funds will be distributed starting December 1, 2023, focusing on underdeveloped regions in Africa and Southeast Asia.In a related note, Apple Inc. reported a profit of $22 billion for the last quarter, with iPhone sales accounting for 65% of its total revenue. According to CFO David Liu, the company is also planning to increase R&D spending by 8% in the upcoming year.Overall, the financial sector saw significant growth, with experts predicting that investments in green technology could rise by 25% in 2024. As markets adapt, leaders like Elena Petrova of Morgan Stanley emphasize the importance of innovation and sustainability in long-term growth strategies.''')"
      ]
    },
    {
      "cell_type": "code",
      "execution_count": 35,
      "metadata": {
        "colab": {
          "base_uri": "https://localhost:8080/",
          "height": 402
        },
        "id": "wuzSFBhes7kt",
        "outputId": "d57cfb07-355b-43b0-f00a-c5a6a4986935"
      },
      "outputs": [
        {
          "data": {
            "text/html": [
              "<span class=\"tex2jax_ignore\"><div class=\"entities\" style=\"line-height: 2.5; direction: ltr\">On \n",
              "<mark class=\"entity\" style=\"background: #bfe1d9; padding: 0.45em 0.6em; margin: 0 0.25em; line-height: 1; border-radius: 0.35em;\">\n",
              "    March 15, 2023\n",
              "    <span style=\"font-size: 0.8em; font-weight: bold; line-height: 1; border-radius: 0.35em; vertical-align: middle; margin-left: 0.5rem\">DATE</span>\n",
              "</mark>\n",
              ", \n",
              "<mark class=\"entity\" style=\"background: #ddd; padding: 0.45em 0.6em; margin: 0 0.25em; line-height: 1; border-radius: 0.35em;\">\n",
              "    Samantha Green\n",
              "    <span style=\"font-size: 0.8em; font-weight: bold; line-height: 1; border-radius: 0.35em; vertical-align: middle; margin-left: 0.5rem\">NAME</span>\n",
              "</mark>\n",
              ", a financial analyst at \n",
              "<mark class=\"entity\" style=\"background: #7aecec; padding: 0.45em 0.6em; margin: 0 0.25em; line-height: 1; border-radius: 0.35em;\">\n",
              "    Goldman Sachs\n",
              "    <span style=\"font-size: 0.8em; font-weight: bold; line-height: 1; border-radius: 0.35em; vertical-align: middle; margin-left: 0.5rem\">ORG</span>\n",
              "</mark>\n",
              ", presented the company’s quarterly earnings report. The firm reported a revenue increase of \n",
              "<mark class=\"entity\" style=\"background: #e4e7d2; padding: 0.45em 0.6em; margin: 0 0.25em; line-height: 1; border-radius: 0.35em;\">\n",
              "    12%\n",
              "    <span style=\"font-size: 0.8em; font-weight: bold; line-height: 1; border-radius: 0.35em; vertical-align: middle; margin-left: 0.5rem\">PERCENT</span>\n",
              "</mark>\n",
              " compared to the previous quarter, largely attributed to strong performance in its asset management division. Goldman Sachs also disclosed that it had invested \n",
              "<mark class=\"entity\" style=\"background: #e4e7d2; padding: 0.45em 0.6em; margin: 0 0.25em; line-height: 1; border-radius: 0.35em;\">\n",
              "    $3.2 billion\n",
              "    <span style=\"font-size: 0.8em; font-weight: bold; line-height: 1; border-radius: 0.35em; vertical-align: middle; margin-left: 0.5rem\">MONEY</span>\n",
              "</mark>\n",
              " into sustainable energy projects, partnering with organizations like \n",
              "<mark class=\"entity\" style=\"background: #7aecec; padding: 0.45em 0.6em; margin: 0 0.25em; line-height: 1; border-radius: 0.35em;\">\n",
              "    Tesla\n",
              "    <span style=\"font-size: 0.8em; font-weight: bold; line-height: 1; border-radius: 0.35em; vertical-align: middle; margin-left: 0.5rem\">ORG</span>\n",
              "</mark>\n",
              " and \n",
              "<mark class=\"entity\" style=\"background: #7aecec; padding: 0.45em 0.6em; margin: 0 0.25em; line-height: 1; border-radius: 0.35em;\">\n",
              "    NextEra Energy\n",
              "    <span style=\"font-size: 0.8em; font-weight: bold; line-height: 1; border-radius: 0.35em; vertical-align: middle; margin-left: 0.5rem\">ORG</span>\n",
              "</mark>\n",
              ".During the same conference, \n",
              "<mark class=\"entity\" style=\"background: #ddd; padding: 0.45em 0.6em; margin: 0 0.25em; line-height: 1; border-radius: 0.35em;\">\n",
              "    Michael Chen\n",
              "    <span style=\"font-size: 0.8em; font-weight: bold; line-height: 1; border-radius: 0.35em; vertical-align: middle; margin-left: 0.5rem\">NAME</span>\n",
              "</mark>\n",
              ", CEO of \n",
              "<mark class=\"entity\" style=\"background: #7aecec; padding: 0.45em 0.6em; margin: 0 0.25em; line-height: 1; border-radius: 0.35em;\">\n",
              "    BrightFuture Capital\n",
              "    <span style=\"font-size: 0.8em; font-weight: bold; line-height: 1; border-radius: 0.35em; vertical-align: middle; margin-left: 0.5rem\">ORG</span>\n",
              "</mark>\n",
              ", announced a merger valued at \n",
              "<mark class=\"entity\" style=\"background: #e4e7d2; padding: 0.45em 0.6em; margin: 0 0.25em; line-height: 1; border-radius: 0.35em;\">\n",
              "    $7.5 billion\n",
              "    <span style=\"font-size: 0.8em; font-weight: bold; line-height: 1; border-radius: 0.35em; vertical-align: middle; margin-left: 0.5rem\">MONEY</span>\n",
              "</mark>\n",
              " with Orion Holdings, scheduled to finalize by \n",
              "<mark class=\"entity\" style=\"background: #bfe1d9; padding: 0.45em 0.6em; margin: 0 0.25em; line-height: 1; border-radius: 0.35em;\">\n",
              "    October 2023.\n",
              "    <span style=\"font-size: 0.8em; font-weight: bold; line-height: 1; border-radius: 0.35em; vertical-align: middle; margin-left: 0.5rem\">DATE</span>\n",
              "</mark>\n",
              " Analysts believe this could boost \n",
              "<mark class=\"entity\" style=\"background: #7aecec; padding: 0.45em 0.6em; margin: 0 0.25em; line-height: 1; border-radius: 0.35em;\">\n",
              "    BrightFuture Capital’s\n",
              "    <span style=\"font-size: 0.8em; font-weight: bold; line-height: 1; border-radius: 0.35em; vertical-align: middle; margin-left: 0.5rem\">ORG</span>\n",
              "</mark>\n",
              " market share by as much as \n",
              "<mark class=\"entity\" style=\"background: #e4e7d2; padding: 0.45em 0.6em; margin: 0 0.25em; line-height: 1; border-radius: 0.35em;\">\n",
              "    18%\n",
              "    <span style=\"font-size: 0.8em; font-weight: bold; line-height: 1; border-radius: 0.35em; vertical-align: middle; margin-left: 0.5rem\">PERCENT</span>\n",
              "</mark>\n",
              " over the next fiscal year.Meanwhile, philanthropist \n",
              "<mark class=\"entity\" style=\"background: #ddd; padding: 0.45em 0.6em; margin: 0 0.25em; line-height: 1; border-radius: 0.35em;\">\n",
              "    Linda Rodriguez\n",
              "    <span style=\"font-size: 0.8em; font-weight: bold; line-height: 1; border-radius: 0.35em; vertical-align: middle; margin-left: 0.5rem\">NAME</span>\n",
              "</mark>\n",
              " donated \n",
              "<mark class=\"entity\" style=\"background: #e4e7d2; padding: 0.45em 0.6em; margin: 0 0.25em; line-height: 1; border-radius: 0.35em;\">\n",
              "    $1 million\n",
              "    <span style=\"font-size: 0.8em; font-weight: bold; line-height: 1; border-radius: 0.35em; vertical-align: middle; margin-left: 0.5rem\">MONEY</span>\n",
              "</mark>\n",
              " to the \n",
              "<mark class=\"entity\" style=\"background: #7aecec; padding: 0.45em 0.6em; margin: 0 0.25em; line-height: 1; border-radius: 0.35em;\">\n",
              "    World Health Organization\n",
              "    <span style=\"font-size: 0.8em; font-weight: bold; line-height: 1; border-radius: 0.35em; vertical-align: middle; margin-left: 0.5rem\">ORG</span>\n",
              "</mark>\n",
              " to support global vaccination efforts. The funds will be distributed starting \n",
              "<mark class=\"entity\" style=\"background: #bfe1d9; padding: 0.45em 0.6em; margin: 0 0.25em; line-height: 1; border-radius: 0.35em;\">\n",
              "    December 1, 2023\n",
              "    <span style=\"font-size: 0.8em; font-weight: bold; line-height: 1; border-radius: 0.35em; vertical-align: middle; margin-left: 0.5rem\">DATE</span>\n",
              "</mark>\n",
              ", focusing on underdeveloped regions in Africa and Southeast Asia.In a related note, \n",
              "<mark class=\"entity\" style=\"background: #7aecec; padding: 0.45em 0.6em; margin: 0 0.25em; line-height: 1; border-radius: 0.35em;\">\n",
              "    Apple Inc.\n",
              "    <span style=\"font-size: 0.8em; font-weight: bold; line-height: 1; border-radius: 0.35em; vertical-align: middle; margin-left: 0.5rem\">ORG</span>\n",
              "</mark>\n",
              " reported a profit of \n",
              "<mark class=\"entity\" style=\"background: #e4e7d2; padding: 0.45em 0.6em; margin: 0 0.25em; line-height: 1; border-radius: 0.35em;\">\n",
              "    $22 billion\n",
              "    <span style=\"font-size: 0.8em; font-weight: bold; line-height: 1; border-radius: 0.35em; vertical-align: middle; margin-left: 0.5rem\">MONEY</span>\n",
              "</mark>\n",
              " for the last quarter, with iPhone sales accounting for \n",
              "<mark class=\"entity\" style=\"background: #e4e7d2; padding: 0.45em 0.6em; margin: 0 0.25em; line-height: 1; border-radius: 0.35em;\">\n",
              "    65%\n",
              "    <span style=\"font-size: 0.8em; font-weight: bold; line-height: 1; border-radius: 0.35em; vertical-align: middle; margin-left: 0.5rem\">PERCENT</span>\n",
              "</mark>\n",
              " of its total revenue. According to CFO \n",
              "<mark class=\"entity\" style=\"background: #ddd; padding: 0.45em 0.6em; margin: 0 0.25em; line-height: 1; border-radius: 0.35em;\">\n",
              "    David Liu\n",
              "    <span style=\"font-size: 0.8em; font-weight: bold; line-height: 1; border-radius: 0.35em; vertical-align: middle; margin-left: 0.5rem\">NAME</span>\n",
              "</mark>\n",
              ", the company is also planning to increase R&amp;D spending by \n",
              "<mark class=\"entity\" style=\"background: #e4e7d2; padding: 0.45em 0.6em; margin: 0 0.25em; line-height: 1; border-radius: 0.35em;\">\n",
              "    8%\n",
              "    <span style=\"font-size: 0.8em; font-weight: bold; line-height: 1; border-radius: 0.35em; vertical-align: middle; margin-left: 0.5rem\">PERCENT</span>\n",
              "</mark>\n",
              " in the upcoming year.Overall, the financial sector saw significant growth, with experts predicting that investments in green technology could rise by \n",
              "<mark class=\"entity\" style=\"background: #e4e7d2; padding: 0.45em 0.6em; margin: 0 0.25em; line-height: 1; border-radius: 0.35em;\">\n",
              "    25%\n",
              "    <span style=\"font-size: 0.8em; font-weight: bold; line-height: 1; border-radius: 0.35em; vertical-align: middle; margin-left: 0.5rem\">PERCENT</span>\n",
              "</mark>\n",
              " in \n",
              "<mark class=\"entity\" style=\"background: #bfe1d9; padding: 0.45em 0.6em; margin: 0 0.25em; line-height: 1; border-radius: 0.35em;\">\n",
              "    2024.\n",
              "    <span style=\"font-size: 0.8em; font-weight: bold; line-height: 1; border-radius: 0.35em; vertical-align: middle; margin-left: 0.5rem\">DATE</span>\n",
              "</mark>\n",
              " As markets adapt, leaders like \n",
              "<mark class=\"entity\" style=\"background: #ddd; padding: 0.45em 0.6em; margin: 0 0.25em; line-height: 1; border-radius: 0.35em;\">\n",
              "    Elena Petrova\n",
              "    <span style=\"font-size: 0.8em; font-weight: bold; line-height: 1; border-radius: 0.35em; vertical-align: middle; margin-left: 0.5rem\">NAME</span>\n",
              "</mark>\n",
              " of \n",
              "<mark class=\"entity\" style=\"background: #7aecec; padding: 0.45em 0.6em; margin: 0 0.25em; line-height: 1; border-radius: 0.35em;\">\n",
              "    Morgan Stanley\n",
              "    <span style=\"font-size: 0.8em; font-weight: bold; line-height: 1; border-radius: 0.35em; vertical-align: middle; margin-left: 0.5rem\">ORG</span>\n",
              "</mark>\n",
              " emphasize the importance of innovation and sustainability in long-term growth strategies.</div></span>"
            ],
            "text/plain": [
              "<IPython.core.display.HTML object>"
            ]
          },
          "metadata": {},
          "output_type": "display_data"
        }
      ],
      "source": [
        "import spacy\n",
        "spacy.displacy.render(doc, style=\"ent\", jupyter=True) # display in Jupyter"
      ]
    }
  ],
  "metadata": {
    "colab": {
      "name": "Spacy Custom NER: Youtube.ipynb",
      "provenance": []
    },
    "kernelspec": {
      "display_name": "Python 3",
      "name": "python3"
    },
    "language_info": {
      "name": "python"
    }
  },
  "nbformat": 4,
  "nbformat_minor": 0
}
