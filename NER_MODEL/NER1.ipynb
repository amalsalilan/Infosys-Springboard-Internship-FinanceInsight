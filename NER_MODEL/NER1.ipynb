{
  "nbformat": 4,
  "nbformat_minor": 0,
  "metadata": {
    "colab": {
      "provenance": [],
      "gpuType": "T4"
    },
    "kernelspec": {
      "name": "python3",
      "display_name": "Python 3"
    },
    "language_info": {
      "name": "python"
    },
    "accelerator": "GPU"
  },
  "cells": [
    {
      "cell_type": "code",
      "execution_count": 1,
      "metadata": {
        "id": "xbqXeONNUsAQ"
      },
      "outputs": [],
      "source": [
        "! pip install -U spacy -q"
      ]
    },
    {
      "cell_type": "code",
      "source": [
        "!python -m spacy info"
      ],
      "metadata": {
        "colab": {
          "base_uri": "https://localhost:8080/"
        },
        "id": "B8hvZt0qUvfA",
        "outputId": "f5a7e28e-bdd9-4643-c64b-1c1de1d993dc"
      },
      "execution_count": 2,
      "outputs": [
        {
          "output_type": "stream",
          "name": "stdout",
          "text": [
            "\u001b[1m\n",
            "============================== Info about spaCy ==============================\u001b[0m\n",
            "\n",
            "spaCy version    3.8.7                         \n",
            "Location         /usr/local/lib/python3.12/dist-packages/spacy\n",
            "Platform         Linux-6.1.123+-x86_64-with-glibc2.35\n",
            "Python version   3.12.11                       \n",
            "Pipelines        en_core_web_sm (3.8.0)        \n",
            "\n"
          ]
        }
      ]
    },
    {
      "cell_type": "code",
      "source": [
        "# FOR LOCAL MACHINE, USE A COMMAND SIMILAR TO THIS TO SPECIFY THE PATH FOR training_data.json\n",
        "# !wget https://raw.githubusercontent.com/amrrs/custom-ner-with-spacy/main/pvr_training_data.json"
      ],
      "metadata": {
        "id": "AE734g_pm7E0"
      },
      "execution_count": 3,
      "outputs": []
    },
    {
      "cell_type": "code",
      "source": [
        "import spacy\n",
        "from spacy.tokens import DocBin\n",
        "from tqdm import tqdm\n",
        "import json\n",
        "\n",
        "nlp = spacy.blank(\"en\") # load a new spacy model\n",
        "db = DocBin() # create a DocBin object"
      ],
      "metadata": {
        "id": "CYc4PoUJZgVI"
      },
      "execution_count": 4,
      "outputs": []
    },
    {
      "cell_type": "markdown",
      "source": [
        "TRAIN DATA"
      ],
      "metadata": {
        "id": "JoLdOqhu4htW"
      }
    },
    {
      "cell_type": "code",
      "source": [
        "f = open('training_data.json')\n",
        "TRAIN_DATA = json.load(f)"
      ],
      "metadata": {
        "id": "ypmHuPYBZ7C0"
      },
      "execution_count": 5,
      "outputs": []
    },
    {
      "cell_type": "code",
      "source": [
        "TRAIN_DATA"
      ],
      "metadata": {
        "colab": {
          "base_uri": "https://localhost:8080/"
        },
        "id": "_KG6yuVJi4nE",
        "outputId": "0ecba33c-3110-457f-8e52-e0c41e30b580"
      },
      "execution_count": 6,
      "outputs": [
        {
          "output_type": "execute_result",
          "data": {
            "text/plain": [
              "{'classes': ['ORG',\n",
              "  'GPE',\n",
              "  'DATE',\n",
              "  'MONEY',\n",
              "  'DURATION',\n",
              "  'NOTICE',\n",
              "  'CONTRACT_REF',\n",
              "  'ROLE',\n",
              "  'MISC'],\n",
              " 'annotations': [['This Agreement is entered into on the 12th day of June, 2024, between Beta Solutions Pvt. Ltd.,\\na company incorporated under the Companies Act, 2013 and having its registered office at\\nFlat No. 12B, MG Road, Mumbai, India,\\n(hereinafter referred to as the \"Service Provider\"), and Omega Systems LLC, located at 320\\nHoward Street, San Francisco, CA 94105,\\n(hereinafter referred to as the \"Client\"). The Agreement becomes effective on July 1, 2024.\\nThe total contract value is USD 150,000.00, inclusive of applicable taxes and fees. The contract\\nshall remain in effect for a period of 12 months unless terminated earlier in accordance with the\\nprovisions herein. The termination clause states that either party may terminate the agreement\\nwith 30 days\\' written notice under justifiable circumstances. This Agreement shall be governed by\\nand construed in accordance with the laws of the State of California, United States.\\nThe governing law clause ensures that any dispute arising out of or in connection with this\\nAgreement shall be subject to the exclusive jurisdiction of the courts located in San Francisco\\nCounty, California.\\nContract Reference No: CON-BSO-20240612\\n',\n",
              "   {'entities': [[38, 60, 'DATE'], [70, 94, 'ORG']]}],\n",
              "  ['This Agreement is entered into on the 12th day of June, 2024, between Beta Solutions Pvt. Ltd.,\\na company incorporated under the Companies Act, 2013 and having its registered office at\\nFlat No. 12B, MG Road, Mumbai, India,\\n(hereinafter referred to as the \"Service Provider\"), and Omega Systems LLC, located at 320\\nHoward Street, San Francisco, CA 94105,\\n(hereinafter referred to as the \"Client\"). The Agreement becomes effective on July 1, 2024.\\nThe total contract value is USD 150,000.00, inclusive of applicable taxes and fees. The contract\\nshall remain in effect for a period of 12 months unless terminated earlier in accordance with the\\nprovisions herein. The termination clause states that either party may terminate the agreement\\nwith 30 days\\' written notice under justifiable circumstances. This Agreement shall be governed by\\nand construed in accordance with the laws of the State of California, United States.\\nThe governing law clause ensures that any dispute arising out of or in connection with this\\nAgreement shall be subject to the exclusive jurisdiction of the courts located in San Francisco\\nCounty, California.\\nContract Reference No: CON-BSO-20240612\\n',\n",
              "   {'entities': [[38, 60, 'DATE'],\n",
              "     [70, 94, 'ORG'],\n",
              "     [129, 148, 'MISC'],\n",
              "     [185, 221, 'GPE'],\n",
              "     [256, 272, 'ROLE'],\n",
              "     [280, 297, 'ORG'],\n",
              "     [310, 352, 'GPE'],\n",
              "     [432, 445, 'DATE'],\n",
              "     [474, 488, 'MONEY'],\n",
              "     [582, 591, 'DURATION'],\n",
              "     [741, 764, 'NOTICE'],\n",
              "     [883, 918, 'GPE'],\n",
              "     [1093, 1126, 'GPE'],\n",
              "     [1150, 1166, 'CONTRACT_REF']]}],\n",
              "  ['Flat No. 12B, MG Road, Mumbai, India,', {'entities': [[0, 36, 'GPE']]}],\n",
              "  ['(hereinafter referred to as the \"Service Provider\"), and Omega Systems LLC, located at 320',\n",
              "   {'entities': [[33, 49, 'ROLE'], [57, 74, 'ORG']]}]]}"
            ]
          },
          "metadata": {},
          "execution_count": 6
        }
      ]
    },
    {
      "cell_type": "code",
      "source": [
        "for text, annot in tqdm(TRAIN_DATA['annotations']):\n",
        "    doc = nlp.make_doc(text)\n",
        "    ents = []\n",
        "    for start, end, label in annot[\"entities\"]:\n",
        "        span = doc.char_span(start, end, label=label, alignment_mode=\"contract\")\n",
        "        if span is None:\n",
        "            print(\"Skipping entity\")\n",
        "        else:\n",
        "            ents.append(span)\n",
        "    doc.ents = ents\n",
        "    db.add(doc)\n",
        "\n",
        "db.to_disk(\"./training_data.spacy\") # save the docbin object"
      ],
      "metadata": {
        "colab": {
          "base_uri": "https://localhost:8080/"
        },
        "id": "VRGQF9p2VKss",
        "outputId": "51eff175-e09e-4bf5-d706-48cf427679ff"
      },
      "execution_count": 7,
      "outputs": [
        {
          "output_type": "stream",
          "name": "stderr",
          "text": [
            "100%|██████████| 4/4 [00:00<00:00, 481.43it/s]\n"
          ]
        }
      ]
    },
    {
      "cell_type": "markdown",
      "source": [
        "VALIDATION DATA"
      ],
      "metadata": {
        "id": "QnL8rwz24mRt"
      }
    },
    {
      "cell_type": "code",
      "source": [
        "f = open('validation_data.json')\n",
        "VALIDATION_DATA = json.load(f)"
      ],
      "metadata": {
        "id": "cS81N-bi4132"
      },
      "execution_count": 8,
      "outputs": []
    },
    {
      "cell_type": "code",
      "source": [
        "VALIDATION_DATA"
      ],
      "metadata": {
        "colab": {
          "base_uri": "https://localhost:8080/"
        },
        "id": "BfLEugWl44vm",
        "outputId": "c2042150-f493-4587-e372-b3c5ffe39f1d"
      },
      "execution_count": 9,
      "outputs": [
        {
          "output_type": "execute_result",
          "data": {
            "text/plain": [
              "{'classes': ['ORG',\n",
              "  'GPE',\n",
              "  'DATE',\n",
              "  'MONEY',\n",
              "  'DURATION',\n",
              "  'NOTICE',\n",
              "  'CONTRACT_REF',\n",
              "  'ROLE',\n",
              "  'MISC'],\n",
              " 'annotations': [['This Agreement is entered into on the 20th day of August, 2024, between Gamma Tech Pvt. Ltd.,\\na company incorporated under the Companies Act, 2013 and having its registered office at\\nSuite 305, MG Road, Mumbai, India,\\n(hereinafter referred to as the \"Service Provider\"), and Nova Innovations Inc., located at 455\\nMarket Street, San Francisco, CA 94105,\\n(hereinafter referred to as the \"Client\"). The Agreement becomes effective on September 1, 2024.\\nThe total contract value is USD 125,000.00, inclusive of applicable taxes and fees. The contract\\nshall remain in effect for a period of 12 months unless terminated earlier in accordance with the\\nprovisions herein. The termination clause states that either party may terminate the agreement\\nwith 30 days\\' written notice under justifiable circumstances. This Agreement shall be governed by\\nand construed in accordance with the laws of the State of California, United States.\\nThe governing law clause ensures that any dispute arising out of or in connection with this\\nAgreement shall be subject to the exclusive jurisdiction of the courts located in San Francisco\\nCounty, California.\\nContract Reference No: CON-GTI-20240820\\n',\n",
              "   {'entities': [[38, 62, 'DATE'],\n",
              "     [72, 92, 'ORG'],\n",
              "     [183, 216, 'GPE'],\n",
              "     [251, 267, 'ROLE'],\n",
              "     [275, 296, 'ORG'],\n",
              "     [309, 351, 'GPE'],\n",
              "     [431, 449, 'DATE'],\n",
              "     [478, 492, 'MONEY'],\n",
              "     [586, 595, 'DURATION'],\n",
              "     [745, 768, 'NOTICE'],\n",
              "     [887, 922, 'GPE'],\n",
              "     [1097, 1130, 'GPE'],\n",
              "     [1154, 1170, 'CONTRACT_REF']]}]]}"
            ]
          },
          "metadata": {},
          "execution_count": 9
        }
      ]
    },
    {
      "cell_type": "code",
      "source": [
        "for text, annot in tqdm(VALIDATION_DATA['annotations']):\n",
        "    doc = nlp.make_doc(text)\n",
        "    ents = []\n",
        "    for start, end, label in annot[\"entities\"]:\n",
        "        span = doc.char_span(start, end, label=label, alignment_mode=\"contract\")\n",
        "        if span is None:\n",
        "            print(\"Skipping entity\")\n",
        "        else:\n",
        "            ents.append(span)\n",
        "    doc.ents = ents\n",
        "    db.add(doc)\n",
        "\n",
        "db.to_disk(\"./validation_data.spacy\") # save the docbin object"
      ],
      "metadata": {
        "colab": {
          "base_uri": "https://localhost:8080/"
        },
        "id": "jSV9UnH85FQt",
        "outputId": "70a7f16a-43a3-4cc6-fef9-f1479819bc19"
      },
      "execution_count": 10,
      "outputs": [
        {
          "output_type": "stream",
          "name": "stderr",
          "text": [
            "100%|██████████| 1/1 [00:00<00:00, 334.42it/s]\n"
          ]
        }
      ]
    },
    {
      "cell_type": "code",
      "source": [
        "#! python -m spacy init config config.cfg --lang en --pipeline ner --optimize accuracy -> When we use CPU, no transformer, optimizing for accuracy\n",
        "# OR\n",
        "# You can also use \"https://spacy.io/usage/training#quickstart\" site to make a base config and then fill it to make a config.cfg\n",
        "# This program uses the former method with training done with CPU, without transformer and optimizing for accuracy\n",
        "! python -m spacy init config config.cfg --lang en --pipeline ner --optimize accuracy"
      ],
      "metadata": {
        "id": "SECGYS_KVUHF",
        "colab": {
          "base_uri": "https://localhost:8080/"
        },
        "outputId": "060d0c1d-4e1a-482d-f0ac-fa7896aaf546"
      },
      "execution_count": 11,
      "outputs": [
        {
          "output_type": "stream",
          "name": "stdout",
          "text": [
            "\u001b[38;5;3m⚠ To generate a more effective transformer-based config (GPU-only),\n",
            "install the spacy-transformers package and re-run this command. The config\n",
            "generated now does not use transformers.\u001b[0m\n",
            "\u001b[38;5;4mℹ Generated config template specific for your use case\u001b[0m\n",
            "- Language: en\n",
            "- Pipeline: ner\n",
            "- Optimize for: accuracy\n",
            "- Hardware: CPU\n",
            "- Transformer: None\n",
            "\u001b[38;5;2m✔ Auto-filled config with all values\u001b[0m\n",
            "\u001b[38;5;2m✔ Saved config\u001b[0m\n",
            "config.cfg\n",
            "You can now add your data and train your pipeline:\n",
            "python -m spacy train config.cfg --paths.train ./train.spacy --paths.dev ./dev.spacy\n"
          ]
        }
      ]
    },
    {
      "cell_type": "code",
      "source": [
        "# Download the required model\n",
        "!python -m spacy download en_core_web_lg"
      ],
      "metadata": {
        "colab": {
          "base_uri": "https://localhost:8080/"
        },
        "id": "VCnnqUiOoMmE",
        "outputId": "dbbf96b3-d185-49d1-b632-2e78ee6c161b"
      },
      "execution_count": 12,
      "outputs": [
        {
          "output_type": "stream",
          "name": "stdout",
          "text": [
            "Collecting en-core-web-lg==3.8.0\n",
            "  Downloading https://github.com/explosion/spacy-models/releases/download/en_core_web_lg-3.8.0/en_core_web_lg-3.8.0-py3-none-any.whl (400.7 MB)\n",
            "\u001b[2K     \u001b[90m━━━━━━━━━━━━━━━━━━━━━━━━━━━━━━━━━━━━━━━\u001b[0m \u001b[32m400.7/400.7 MB\u001b[0m \u001b[31m3.9 MB/s\u001b[0m eta \u001b[36m0:00:00\u001b[0m\n",
            "\u001b[?25hInstalling collected packages: en-core-web-lg\n",
            "Successfully installed en-core-web-lg-3.8.0\n",
            "\u001b[38;5;2m✔ Download and installation successful\u001b[0m\n",
            "You can now load the package via spacy.load('en_core_web_lg')\n",
            "\u001b[38;5;3m⚠ Restart to reload dependencies\u001b[0m\n",
            "If you are in a Jupyter or Colab notebook, you may need to restart Python in\n",
            "order to load all the package's dependencies. You can do this by selecting the\n",
            "'Restart kernel' or 'Restart runtime' option.\n"
          ]
        }
      ]
    },
    {
      "cell_type": "code",
      "source": [
        "!python -m spacy train config.cfg --output ./ --paths.train ./training_data.spacy --paths.dev ./validation_data.spacy --gpu-id 0\n"
      ],
      "metadata": {
        "colab": {
          "base_uri": "https://localhost:8080/"
        },
        "id": "sT82H_hqWaGP",
        "outputId": "1ef98e55-fa49-433d-f6e7-c9767c5acc5c"
      },
      "execution_count": 13,
      "outputs": [
        {
          "output_type": "stream",
          "name": "stdout",
          "text": [
            "\u001b[38;5;4mℹ Saving to output directory: .\u001b[0m\n",
            "\u001b[38;5;4mℹ Using GPU: 0\u001b[0m\n",
            "\u001b[1m\n",
            "=========================== Initializing pipeline ===========================\u001b[0m\n",
            "\u001b[38;5;2m✔ Initialized pipeline\u001b[0m\n",
            "\u001b[1m\n",
            "============================= Training pipeline =============================\u001b[0m\n",
            "\u001b[38;5;4mℹ Pipeline: ['tok2vec', 'ner']\u001b[0m\n",
            "\u001b[38;5;4mℹ Initial learn rate: 0.001\u001b[0m\n",
            "E    #       LOSS TOK2VEC  LOSS NER  ENTS_F  ENTS_P  ENTS_R  SCORE \n",
            "---  ------  ------------  --------  ------  ------  ------  ------\n",
            "  0       0          0.00    115.26    0.00    0.00    0.00    0.00\n",
            " 66     200       1170.05   4364.58   71.43   65.79   78.12    0.71\n",
            "133     400        115.56   1490.22   63.33   67.86   59.38    0.63\n",
            "200     600        328.32   1762.70   58.82   78.95   46.88    0.59\n",
            "266     800        176.09   1388.08   80.52   68.89   96.88    0.81\n",
            "333    1000        436.09   1745.16   72.00   62.79   84.38    0.72\n",
            "400    1200        384.03   1438.25   76.06   69.23   84.38    0.76\n",
            "466    1400        448.30   1442.74   77.33   67.44   90.62    0.77\n",
            "533    1600        505.68   1485.04   68.85   72.41   65.62    0.69\n",
            "600    1800        550.39   1441.32   80.52   68.89   96.88    0.81\n",
            "666    2000       5065.52   1750.70   66.67   64.71   68.75    0.67\n",
            "736    2200       1435.66   1703.87   70.42   64.10   78.12    0.70\n",
            "829    2400        415.89   1782.57   68.66   65.71   71.88    0.69\n",
            "\u001b[38;5;2m✔ Saved pipeline to output directory\u001b[0m\n",
            "model-last\n"
          ]
        }
      ]
    },
    {
      "cell_type": "code",
      "source": [
        "nlp_ner = spacy.load(\"/content/model-best\")"
      ],
      "metadata": {
        "id": "8zljPkppcy_w"
      },
      "execution_count": 14,
      "outputs": []
    },
    {
      "cell_type": "code",
      "source": [
        "doc = nlp_ner('''This Agreement is entered into on the 5th day of July, 2024, between Alpha Technologies Pvt.\n",
        "Ltd.,\n",
        "a company incorporated under the Companies Act, 2013 and having its registered office at\n",
        "#210, MG Road, Mumbai, India,\n",
        "(hereinafter referred to as the \"Service Provider\"), and Delta Innovations Inc., located at 455\n",
        "Market Street, San Francisco, CA 94105,\n",
        "(hereinafter referred to as the \"Client\"). The Agreement becomes effective on August 1, 2024.\n",
        "The total contract value is USD 125,000.00, inclusive of applicable taxes and fees. The contract\n",
        "shall remain in effect for a period\n",
        "of 12 months unless terminated earlier in accordance with the provisions herein. The\n",
        "termination clause states that either party may\n",
        "terminate the agreement with 30 days’ written notice under justifiable circumstances.\n",
        "This Agreement shall be governed by and construed in accordance with the laws of the State of\n",
        "California, United States.\n",
        "The governing law clause ensures that any dispute arising out of or in connection with this\n",
        "Agreement shall be subject to the exclusive\n",
        "jurisdiction of the courts located in San Francisco County, California.\n",
        "Contract Reference No: CON-ALD-20240705 ''') # input sample text"
      ],
      "metadata": {
        "id": "GTbWEZ9Cc9b4"
      },
      "execution_count": 15,
      "outputs": []
    },
    {
      "cell_type": "code",
      "source": [
        "spacy.displacy.render(doc, style=\"ent\", jupyter=True) # display in Jupyter"
      ],
      "metadata": {
        "colab": {
          "base_uri": "https://localhost:8080/",
          "height": 577
        },
        "id": "oBNf3_JGWzB9",
        "outputId": "501fd877-5808-457e-d96b-fc913575160f"
      },
      "execution_count": 16,
      "outputs": [
        {
          "output_type": "display_data",
          "data": {
            "text/plain": [
              "<IPython.core.display.HTML object>"
            ],
            "text/html": [
              "<span class=\"tex2jax_ignore\"><div class=\"entities\" style=\"line-height: 2.5; direction: ltr\">This Agreement is entered into on the \n",
              "<mark class=\"entity\" style=\"background: #bfe1d9; padding: 0.45em 0.6em; margin: 0 0.25em; line-height: 1; border-radius: 0.35em;\">\n",
              "    5th day of July, 2024\n",
              "    <span style=\"font-size: 0.8em; font-weight: bold; line-height: 1; border-radius: 0.35em; vertical-align: middle; margin-left: 0.5rem\">DATE</span>\n",
              "</mark>\n",
              ", between \n",
              "<mark class=\"entity\" style=\"background: #7aecec; padding: 0.45em 0.6em; margin: 0 0.25em; line-height: 1; border-radius: 0.35em;\">\n",
              "    Alpha Technologies Pvt.\n",
              "    <span style=\"font-size: 0.8em; font-weight: bold; line-height: 1; border-radius: 0.35em; vertical-align: middle; margin-left: 0.5rem\">ORG</span>\n",
              "</mark>\n",
              "<br>Ltd.,<br>a company incorporated under the \n",
              "<mark class=\"entity\" style=\"background: #ddd; padding: 0.45em 0.6em; margin: 0 0.25em; line-height: 1; border-radius: 0.35em;\">\n",
              "    Companies Act, 2013\n",
              "    <span style=\"font-size: 0.8em; font-weight: bold; line-height: 1; border-radius: 0.35em; vertical-align: middle; margin-left: 0.5rem\">MISC</span>\n",
              "</mark>\n",
              " and having its registered office at<br>#\n",
              "<mark class=\"entity\" style=\"background: #feca74; padding: 0.45em 0.6em; margin: 0 0.25em; line-height: 1; border-radius: 0.35em;\">\n",
              "    210, MG Road, Mumbai, India\n",
              "    <span style=\"font-size: 0.8em; font-weight: bold; line-height: 1; border-radius: 0.35em; vertical-align: middle; margin-left: 0.5rem\">GPE</span>\n",
              "</mark>\n",
              ",<br>(hereinafter referred to as the &quot;\n",
              "<mark class=\"entity\" style=\"background: #ddd; padding: 0.45em 0.6em; margin: 0 0.25em; line-height: 1; border-radius: 0.35em;\">\n",
              "    Service Provider\n",
              "    <span style=\"font-size: 0.8em; font-weight: bold; line-height: 1; border-radius: 0.35em; vertical-align: middle; margin-left: 0.5rem\">ROLE</span>\n",
              "</mark>\n",
              "&quot;), and \n",
              "<mark class=\"entity\" style=\"background: #7aecec; padding: 0.45em 0.6em; margin: 0 0.25em; line-height: 1; border-radius: 0.35em;\">\n",
              "    Delta Innovations Inc.\n",
              "    <span style=\"font-size: 0.8em; font-weight: bold; line-height: 1; border-radius: 0.35em; vertical-align: middle; margin-left: 0.5rem\">ORG</span>\n",
              "</mark>\n",
              ", located at \n",
              "<mark class=\"entity\" style=\"background: #feca74; padding: 0.45em 0.6em; margin: 0 0.25em; line-height: 1; border-radius: 0.35em;\">\n",
              "    455\n",
              "Market Street, San Francisco, CA 94105\n",
              "    <span style=\"font-size: 0.8em; font-weight: bold; line-height: 1; border-radius: 0.35em; vertical-align: middle; margin-left: 0.5rem\">GPE</span>\n",
              "</mark>\n",
              ",<br>(hereinafter referred to as the &quot;Client&quot;). The Agreement becomes effective on \n",
              "<mark class=\"entity\" style=\"background: #bfe1d9; padding: 0.45em 0.6em; margin: 0 0.25em; line-height: 1; border-radius: 0.35em;\">\n",
              "    August 1, 2024.\n",
              "    <span style=\"font-size: 0.8em; font-weight: bold; line-height: 1; border-radius: 0.35em; vertical-align: middle; margin-left: 0.5rem\">DATE</span>\n",
              "</mark>\n",
              "<br>The total contract value is \n",
              "<mark class=\"entity\" style=\"background: #e4e7d2; padding: 0.45em 0.6em; margin: 0 0.25em; line-height: 1; border-radius: 0.35em;\">\n",
              "    USD 125,000.00\n",
              "    <span style=\"font-size: 0.8em; font-weight: bold; line-height: 1; border-radius: 0.35em; vertical-align: middle; margin-left: 0.5rem\">MONEY</span>\n",
              "</mark>\n",
              ", inclusive of applicable taxes and fees. The contract<br>shall remain in effect for a period<br>of \n",
              "<mark class=\"entity\" style=\"background: #ddd; padding: 0.45em 0.6em; margin: 0 0.25em; line-height: 1; border-radius: 0.35em;\">\n",
              "    12 months\n",
              "    <span style=\"font-size: 0.8em; font-weight: bold; line-height: 1; border-radius: 0.35em; vertical-align: middle; margin-left: 0.5rem\">DURATION</span>\n",
              "</mark>\n",
              " unless terminated earlier in accordance with the provisions herein. The<br>termination clause states that either party may<br>terminate the agreement with \n",
              "<mark class=\"entity\" style=\"background: #ddd; padding: 0.45em 0.6em; margin: 0 0.25em; line-height: 1; border-radius: 0.35em;\">\n",
              "    30 days’ written notice\n",
              "    <span style=\"font-size: 0.8em; font-weight: bold; line-height: 1; border-radius: 0.35em; vertical-align: middle; margin-left: 0.5rem\">NOTICE</span>\n",
              "</mark>\n",
              " under justifiable circumstances.<br>This Agreement shall be governed by and construed in accordance with the laws of the \n",
              "<mark class=\"entity\" style=\"background: #feca74; padding: 0.45em 0.6em; margin: 0 0.25em; line-height: 1; border-radius: 0.35em;\">\n",
              "    State of\n",
              "California, United States.\n",
              "    <span style=\"font-size: 0.8em; font-weight: bold; line-height: 1; border-radius: 0.35em; vertical-align: middle; margin-left: 0.5rem\">GPE</span>\n",
              "</mark>\n",
              "<br>The governing law clause ensures that any dispute arising out of or in connection with this<br>Agreement shall be subject to the exclusive<br>jurisdiction of the courts located in \n",
              "<mark class=\"entity\" style=\"background: #feca74; padding: 0.45em 0.6em; margin: 0 0.25em; line-height: 1; border-radius: 0.35em;\">\n",
              "    San Francisco County, California.\n",
              "    <span style=\"font-size: 0.8em; font-weight: bold; line-height: 1; border-radius: 0.35em; vertical-align: middle; margin-left: 0.5rem\">GPE</span>\n",
              "</mark>\n",
              "<br>Contract Reference No: \n",
              "<mark class=\"entity\" style=\"background: #ddd; padding: 0.45em 0.6em; margin: 0 0.25em; line-height: 1; border-radius: 0.35em;\">\n",
              "    CON-ALD-20240705\n",
              "    <span style=\"font-size: 0.8em; font-weight: bold; line-height: 1; border-radius: 0.35em; vertical-align: middle; margin-left: 0.5rem\">CONTRACT_REF</span>\n",
              "</mark>\n",
              " </div></span>"
            ]
          },
          "metadata": {}
        }
      ]
    }
  ]
}