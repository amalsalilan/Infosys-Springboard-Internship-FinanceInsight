{
  "cells": [
    {
      "cell_type": "code",
      "execution_count": 3,
      "metadata": {
        "id": "NeDGaaaUxyk2",
        "colab": {
          "base_uri": "https://localhost:8080/"
        },
        "outputId": "644f846f-ae9d-40ea-cd05-0f702175d5c3"
      },
      "outputs": [
        {
          "output_type": "stream",
          "name": "stdout",
          "text": [
            "Libraries imported\n"
          ]
        }
      ],
      "source": [
        "\n",
        "import torch\n",
        "import torch.nn as nn\n",
        "from torch.utils.data import Dataset, DataLoader\n",
        "import pandas as pd\n",
        "import numpy as np\n",
        "from sklearn.model_selection import train_test_split\n",
        "from sklearn.metrics import accuracy_score, classification_report, confusion_matrix\n",
        "import matplotlib.pyplot as plt\n",
        "import seaborn as sns\n",
        "from transformers import BertTokenizer, BertForSequenceClassification, Trainer, TrainingArguments\n",
        "import warnings\n",
        "warnings.filterwarnings('ignore')\n",
        "print(\"Libraries imported\")"
      ]
    },
    {
      "cell_type": "code",
      "execution_count": 4,
      "metadata": {
        "id": "ZdCmqqwUx1sB"
      },
      "outputs": [],
      "source": [
        "\n",
        "model_name = 'bert-base-uncased'\n",
        "num_labels = 3\n",
        "max_length = 128\n",
        "batch_size = 16\n",
        "num_epochs = 1\n",
        "learning_rate = 2e-5\n",
        "seed = 42"
      ]
    },
    {
      "cell_type": "code",
      "execution_count": 5,
      "metadata": {
        "colab": {
          "base_uri": "https://localhost:8080/"
        },
        "id": "N_V_IVTkx2C6",
        "outputId": "6548aec6-8244-4830-b959-25ebada7658a"
      },
      "outputs": [
        {
          "output_type": "execute_result",
          "data": {
            "text/plain": [
              "<torch._C.Generator at 0x78086bfb04d0>"
            ]
          },
          "metadata": {},
          "execution_count": 5
        }
      ],
      "source": [
        "np.random.seed(seed)\n",
        "torch.manual_seed(seed)"
      ]
    },
    {
      "cell_type": "code",
      "execution_count": 6,
      "metadata": {
        "colab": {
          "base_uri": "https://localhost:8080/"
        },
        "id": "RJdm63qyx2Va",
        "outputId": "f7958ce3-2bc4-4e56-9d7f-c8a45f9b234c"
      },
      "outputs": [
        {
          "output_type": "stream",
          "name": "stdout",
          "text": [
            "Using device: cpu\n"
          ]
        }
      ],
      "source": [
        "device = torch.device('cuda' if torch.cuda.is_available() else 'cpu')\n",
        "print(f\"Using device: {device}\")"
      ]
    },
    {
      "cell_type": "code",
      "execution_count": 7,
      "metadata": {
        "id": "7I5pB97Bx2p8"
      },
      "outputs": [],
      "source": [
        "texts = [\n",
        "    \"Company reports record quarterly profits exceeding expectations\",\n",
        "    \"Stock market reaches all-time high with strong gains\",\n",
        "    \"Federal Reserve announces stimulus boosting investor confidence\",\n",
        "    \"Tech company shares surge 8% after innovation announcement\",\n",
        "    \"Strong job growth indicates economic recovery\",\n",
        "    \"Merger announcement sends stocks soaring\",\n",
        "    \"Bank adoption of cryptocurrency signals mainstream acceptance\",\n",
        "    \"GDP growth exceeds forecasts showing economic expansion\",\n",
        "    \"Company files for bankruptcy amid mounting debts\",\n",
        "    \"Market crashes as recession fears grip investors\",\n",
        "    \"Unemployment rate rises sharply concerning economists\",\n",
        "    \"Major bank reports significant losses from bad loans\",\n",
        "    \"Trade war escalates causing market volatility\",\n",
        "    \"Company shares plummet 20% after product recall\",\n",
        "    \"Economic indicators point to potential recession\",\n",
        "    \"Corporate earnings disappoint leading to selloff\",\n",
        "    \"Federal Reserve maintains interest rates unchanged\",\n",
        "    \"Company releases earnings in line with expectations\",\n",
        "    \"Trading volume remains steady as investors wait\",\n",
        "    \"Board announces regular quarterly dividend\",\n",
        "    \"Market closes mixed with minor changes\",\n",
        "    \"Company announces CEO transition\",\n",
        "    \"Annual shareholder meeting scheduled\",\n",
        "    \"Regulatory filing submitted for compliance\",\n",
        "]"
      ]
    },
    {
      "cell_type": "code",
      "execution_count": 8,
      "metadata": {
        "id": "fvHtkYh8yZTq"
      },
      "outputs": [],
      "source": [
        "labels = [\n",
        "    0, 0, 0, 0, 0, 0, 0, 0,\n",
        "    1, 1, 1, 1, 1, 1, 1, 1,\n",
        "    2, 2, 2, 2, 2, 2, 2, 2\n",
        "]\n"
      ]
    },
    {
      "cell_type": "code",
      "execution_count": 9,
      "metadata": {
        "id": "F5rtWVFdybuS"
      },
      "outputs": [],
      "source": [
        "texts = texts * 20\n",
        "labels = labels * 20"
      ]
    },
    {
      "cell_type": "code",
      "source": [
        "df = pd.DataFrame({'text': texts, 'label': labels})\n",
        "print(f\"Dataset size: {len(df)}\")\n"
      ],
      "metadata": {
        "colab": {
          "base_uri": "https://localhost:8080/"
        },
        "id": "XxN-gEiE99mg",
        "outputId": "28aee951-54ad-4c60-8139-cc5ca9af5ddc"
      },
      "execution_count": 10,
      "outputs": [
        {
          "output_type": "stream",
          "name": "stdout",
          "text": [
            "Dataset size: 480\n"
          ]
        }
      ]
    },
    {
      "cell_type": "code",
      "source": [
        "label_counts = df['label'].value_counts().sort_index()\n",
        "print(\"Label distribution:\")\n",
        "print(f\"Positive (0): {label_counts[0]}\")\n",
        "print(f\"Negative (1): {label_counts[1]}\")\n",
        "print(f\"Neutral (2): {label_counts[2]}\")"
      ],
      "metadata": {
        "colab": {
          "base_uri": "https://localhost:8080/"
        },
        "id": "J0HvV8aL9mue",
        "outputId": "6cdbee02-3d7f-40c6-b035-7ecbb5705130"
      },
      "execution_count": 11,
      "outputs": [
        {
          "output_type": "stream",
          "name": "stdout",
          "text": [
            "Label distribution:\n",
            "Positive (0): 160\n",
            "Negative (1): 160\n",
            "Neutral (2): 160\n"
          ]
        }
      ]
    },
    {
      "cell_type": "code",
      "execution_count": 12,
      "metadata": {
        "id": "MNxaF7UFyk9d"
      },
      "outputs": [],
      "source": [
        "\n",
        "X_train, X_val, y_train, y_val = train_test_split(\n",
        "    df['text'].values,\n",
        "    df['label'].values,\n",
        "    test_size=0.2,\n",
        "    random_state=seed,\n",
        "    stratify=df['label'].values\n",
        ")"
      ]
    },
    {
      "cell_type": "code",
      "execution_count": 13,
      "metadata": {
        "colab": {
          "base_uri": "https://localhost:8080/"
        },
        "id": "wIpAgpXeysGP",
        "outputId": "1dfd15f9-c304-4373-ddd0-0d2253290002"
      },
      "outputs": [
        {
          "output_type": "stream",
          "name": "stdout",
          "text": [
            "Training samples: 384\n",
            "Validation samples: 96\n"
          ]
        }
      ],
      "source": [
        "print(f\"Training samples: {len(X_train)}\")\n",
        "print(f\"Validation samples: {len(X_val)}\")"
      ]
    },
    {
      "cell_type": "code",
      "execution_count": 14,
      "metadata": {
        "colab": {
          "base_uri": "https://localhost:8080/"
        },
        "id": "qi7-EnZGyvJq",
        "outputId": "353f2825-7b7b-499d-bf73-45dc10deca05"
      },
      "outputs": [
        {
          "output_type": "stream",
          "name": "stdout",
          "text": [
            "Tokenizer loaded\n",
            "Vocabulary size: 30522\n"
          ]
        }
      ],
      "source": [
        "tokenizer = BertTokenizer.from_pretrained(model_name)\n",
        "print(f\"Tokenizer loaded\")\n",
        "print(f\"Vocabulary size: {tokenizer.vocab_size}\")"
      ]
    },
    {
      "cell_type": "code",
      "execution_count": 15,
      "metadata": {
        "id": "-XuVnAAQy2Ua"
      },
      "outputs": [],
      "source": [
        "class FinancialDataset(Dataset):\n",
        "    def __init__(self, texts, labels, tokenizer, max_length):\n",
        "        self.texts = texts\n",
        "        self.labels = labels\n",
        "        self.tokenizer = tokenizer\n",
        "        self.max_length = max_length\n",
        "\n",
        "    def __len__(self):\n",
        "        return len(self.texts)\n",
        "\n",
        "    def __getitem__(self, idx):\n",
        "        text = str(self.texts[idx])\n",
        "        label = self.labels[idx]\n",
        "\n",
        "        encoding = self.tokenizer(\n",
        "            text,\n",
        "            truncation=True,\n",
        "            padding='max_length',\n",
        "            max_length=self.max_length,\n",
        "            return_tensors='pt'\n",
        "        )\n",
        "\n",
        "        return {\n",
        "            'input_ids': encoding['input_ids'].flatten(),\n",
        "            'attention_mask': encoding['attention_mask'].flatten(),\n",
        "            'labels': torch.tensor(label, dtype=torch.long)\n",
        "        }\n",
        "        print(\"Dataset class defined\")"
      ]
    },
    {
      "cell_type": "code",
      "execution_count": 16,
      "metadata": {
        "id": "w9zq1J4Iy-ic"
      },
      "outputs": [],
      "source": [
        "train_dataset = FinancialDataset(X_train, y_train, tokenizer, max_length)\n",
        "val_dataset = FinancialDataset(X_val, y_val, tokenizer, max_length)"
      ]
    },
    {
      "cell_type": "code",
      "execution_count": 17,
      "metadata": {
        "colab": {
          "base_uri": "https://localhost:8080/"
        },
        "id": "pMUA7aJPzBNF",
        "outputId": "58aecf7a-1a5b-41b1-d3b0-8c4a79d117e3"
      },
      "outputs": [
        {
          "output_type": "stream",
          "name": "stdout",
          "text": [
            "Train dataset created: 384 samples\n",
            "Validation dataset created: 96 samples\n"
          ]
        }
      ],
      "source": [
        "print(f\"Train dataset created: {len(train_dataset)} samples\")\n",
        "print(f\"Validation dataset created: {len(val_dataset)} samples\")\n"
      ]
    },
    {
      "cell_type": "code",
      "execution_count": 18,
      "metadata": {
        "colab": {
          "base_uri": "https://localhost:8080/"
        },
        "id": "lcCNlm_DzEz_",
        "outputId": "b680e714-a652-45a3-d4cc-31cf4766d0f2"
      },
      "outputs": [
        {
          "output_type": "stream",
          "name": "stderr",
          "text": [
            "Some weights of BertForSequenceClassification were not initialized from the model checkpoint at bert-base-uncased and are newly initialized: ['classifier.bias', 'classifier.weight']\n",
            "You should probably TRAIN this model on a down-stream task to be able to use it for predictions and inference.\n"
          ]
        }
      ],
      "source": [
        "model = BertForSequenceClassification.from_pretrained(\n",
        "    model_name,\n",
        "    num_labels=num_labels\n",
        ")"
      ]
    },
    {
      "cell_type": "code",
      "execution_count": 19,
      "metadata": {
        "colab": {
          "base_uri": "https://localhost:8080/"
        },
        "id": "e_lgZajqzIi3",
        "outputId": "a9333633-6733-43bd-c75e-21f9e12e7c12"
      },
      "outputs": [
        {
          "output_type": "stream",
          "name": "stdout",
          "text": [
            "BERT model loaded\n",
            "Model type: bert-base-uncased\n",
            "Number of labels: 3\n"
          ]
        }
      ],
      "source": [
        "print(\"BERT model loaded\")\n",
        "print(f\"Model type: {model_name}\")\n",
        "print(f\"Number of labels: {num_labels}\")"
      ]
    },
    {
      "cell_type": "code",
      "execution_count": 20,
      "metadata": {
        "id": "Tch9DG_gzLse",
        "colab": {
          "base_uri": "https://localhost:8080/"
        },
        "outputId": "9db0cfa2-7ae7-467b-d298-8e9120731ec1"
      },
      "outputs": [
        {
          "output_type": "stream",
          "name": "stdout",
          "text": [
            "Training arguments set\n"
          ]
        }
      ],
      "source": [
        "training_args = TrainingArguments(\n",
        "    output_dir='./results',\n",
        "    num_train_epochs=num_epochs,\n",
        "    per_device_train_batch_size=batch_size,\n",
        "    per_device_eval_batch_size=batch_size,\n",
        "    warmup_steps=500,\n",
        "    weight_decay=0.01,\n",
        "    logging_dir='./logs',\n",
        "    logging_steps=10,\n",
        "    do_train=True,\n",
        "    do_eval=True,\n",
        "    eval_strategy=\"epoch\",\n",
        "    save_strategy=\"epoch\",\n",
        "    load_best_model_at_end=True,\n",
        "    metric_for_best_model=\"eval_loss\",\n",
        "    greater_is_better=False,\n",
        "    save_total_limit=2,\n",
        "    seed=seed,\n",
        "    report_to=\"none\"\n",
        ")\n",
        "print(\"Training arguments set\")\n"
      ]
    },
    {
      "cell_type": "code",
      "execution_count": 21,
      "metadata": {
        "id": "pJp18wJTzbeH",
        "colab": {
          "base_uri": "https://localhost:8080/"
        },
        "outputId": "310df2e8-aa66-44c5-d3a2-ddd1c6cfc46b"
      },
      "outputs": [
        {
          "output_type": "stream",
          "name": "stdout",
          "text": [
            "Trainer created\n"
          ]
        }
      ],
      "source": [
        "trainer = Trainer(\n",
        "    model=model,\n",
        "    args=training_args,\n",
        "    train_dataset=train_dataset,\n",
        "    eval_dataset=val_dataset,\n",
        "    tokenizer=tokenizer\n",
        ")\n",
        "print(\"Trainer created\")\n"
      ]
    },
    {
      "cell_type": "code",
      "execution_count": 24,
      "metadata": {
        "colab": {
          "base_uri": "https://localhost:8080/"
        },
        "id": "mgRX_IzdzqAK",
        "outputId": "f0311bd6-1e29-4499-d694-d7d8bae3ecdb"
      },
      "outputs": [
        {
          "output_type": "stream",
          "name": "stdout",
          "text": [
            "Starting training...\n",
            "--------------------------------------------------\n"
          ]
        }
      ],
      "source": [
        "print(\"Starting training...\")\n",
        "print(\"-\" * 50)"
      ]
    },
    {
      "cell_type": "code",
      "execution_count": 23,
      "metadata": {
        "colab": {
          "base_uri": "https://localhost:8080/",
          "height": 1000
        },
        "id": "uCYYG4KQz1e3",
        "outputId": "cdc439be-fe78-4c57-c9bf-8f1c6c76d9ea"
      },
      "outputs": [
        {
          "output_type": "display_data",
          "data": {
            "text/plain": [
              "<IPython.core.display.HTML object>"
            ],
            "text/html": [
              "\n",
              "    <div>\n",
              "      \n",
              "      <progress value='24' max='24' style='width:300px; height:20px; vertical-align: middle;'></progress>\n",
              "      [24/24 11:38, Epoch 1/1]\n",
              "    </div>\n",
              "    <table border=\"1\" class=\"dataframe\">\n",
              "  <thead>\n",
              " <tr style=\"text-align: left;\">\n",
              "      <th>Epoch</th>\n",
              "      <th>Training Loss</th>\n",
              "      <th>Validation Loss</th>\n",
              "    </tr>\n",
              "  </thead>\n",
              "  <tbody>\n",
              "    <tr>\n",
              "      <td>1</td>\n",
              "      <td>1.102000</td>\n",
              "      <td>1.069413</td>\n",
              "    </tr>\n",
              "  </tbody>\n",
              "</table><p>"
            ]
          },
          "metadata": {}
        },
        {
          "output_type": "stream",
          "name": "stdout",
          "text": [
            "Training completed!\n",
            "Final training loss: 1.1023\n",
            "Evaluating on validation set...\n"
          ]
        },
        {
          "output_type": "display_data",
          "data": {
            "text/plain": [
              "<IPython.core.display.HTML object>"
            ],
            "text/html": []
          },
          "metadata": {}
        },
        {
          "output_type": "stream",
          "name": "stdout",
          "text": [
            "Evaluation results:\n",
            "Validation loss: 1.0694\n",
            "Getting predictions...\n",
            "Predictions shape: (96,)\n",
            "True labels shape: (96,)\n",
            "Validation Accuracy: 0.4167\n",
            "Confusion Matrix:\n",
            "[[ 8 24  0]\n",
            " [ 0 32  0]\n",
            " [10 22  0]]\n"
          ]
        },
        {
          "output_type": "display_data",
          "data": {
            "text/plain": [
              "<Figure size 800x600 with 2 Axes>"
            ],
            "image/png": "[encoded data removed]"
          },
          "metadata": {}
        },
        {
          "output_type": "stream",
          "name": "stdout",
          "text": [
            "\n",
            "Per-class metrics:\n",
            "--------------------------------------------------\n",
            "\n",
            "Positive:\n",
            "  Precision: 0.4444\n",
            "  Recall: 0.2500\n",
            "  F1-Score: 0.3200\n",
            "\n",
            "Negative:\n",
            "  Precision: 0.4103\n",
            "  Recall: 1.0000\n",
            "  F1-Score: 0.5818\n",
            "\n",
            "Neutral:\n",
            "  Precision: 0.0000\n",
            "  Recall: 0.0000\n",
            "  F1-Score: 0.0000\n",
            "\n",
            "Testing on new examples:\n",
            "--------------------------------------------------\n",
            "\n",
            "Text: Tech company announces breakthrough, stock jumps 12%\n",
            "Predicted class: Negative\n",
            "Confidence: 0.4120\n",
            "All probabilities:\n",
            "  Positive: 0.3404\n",
            "  Negative: 0.4120\n",
            "  Neutral: 0.2476\n",
            "\n",
            "Text: Global recession fears cause market crash\n",
            "Predicted class: Negative\n",
            "Confidence: 0.3505\n",
            "All probabilities:\n",
            "  Positive: 0.3473\n",
            "  Negative: 0.3505\n",
            "  Neutral: 0.3022\n",
            "\n",
            "Text: Company maintains steady growth as expected\n",
            "Predicted class: Negative\n",
            "Confidence: 0.3824\n",
            "All probabilities:\n",
            "  Positive: 0.3643\n",
            "  Negative: 0.3824\n",
            "  Neutral: 0.2533\n"
          ]
        }
      ],
      "source": [
        "train_result = trainer.train()\n",
        "\n",
        "print(\"Training completed!\")\n",
        "\n",
        "\n",
        "train_loss = train_result.metrics['train_loss']\n",
        "print(f\"Final training loss: {train_loss:.4f}\")\n",
        "\n",
        "print(\"Evaluating on validation set...\")\n",
        "\n",
        "eval_results = trainer.evaluate()\n",
        "\n",
        "print(\"Evaluation results:\")\n",
        "print(f\"Validation loss: {eval_results['eval_loss']:.4f}\")\n",
        "\n",
        "print(\"Getting predictions...\")\n",
        "\n",
        "predictions = trainer.predict(val_dataset)\n",
        "\n",
        "predicted_probs = predictions.predictions\n",
        "predicted_classes = np.argmax(predicted_probs, axis=1)\n",
        "true_labels = predictions.label_ids\n",
        "\n",
        "print(f\"Predictions shape: {predicted_classes.shape}\")\n",
        "print(f\"True labels shape: {true_labels.shape}\")\n",
        "\n",
        "# %%\n",
        "correct_predictions = 0\n",
        "total_predictions = len(predicted_classes)\n",
        "\n",
        "for i in range(len(predicted_classes)):\n",
        "    if predicted_classes[i] == true_labels[i]:\n",
        "        correct_predictions += 1\n",
        "\n",
        "accuracy = correct_predictions / total_predictions\n",
        "print(f\"Validation Accuracy: {accuracy:.4f}\")\n",
        "\n",
        "# %%\n",
        "confusion_matrix_values = np.zeros((3, 3), dtype=int)\n",
        "\n",
        "for i in range(len(true_labels)):\n",
        "    true_label = true_labels[i]\n",
        "    predicted_label = predicted_classes[i]\n",
        "    confusion_matrix_values[true_label][predicted_label] += 1\n",
        "\n",
        "print(\"Confusion Matrix:\")\n",
        "print(confusion_matrix_values)\n",
        "\n",
        "# %%\n",
        "label_names = ['Positive', 'Negative', 'Neutral']\n",
        "\n",
        "plt.figure(figsize=(8, 6))\n",
        "sns.heatmap(confusion_matrix_values, annot=True, fmt='d', cmap='Blues',\n",
        "            xticklabels=label_names, yticklabels=label_names)\n",
        "plt.title('Confusion Matrix')\n",
        "plt.ylabel('True Label')\n",
        "plt.xlabel('Predicted Label')\n",
        "plt.show()\n",
        "\n",
        "# %%\n",
        "print(\"\\nPer-class metrics:\")\n",
        "print(\"-\" * 50)\n",
        "\n",
        "for class_idx in range(3):\n",
        "    tp = confusion_matrix_values[class_idx][class_idx]\n",
        "\n",
        "    fp = 0\n",
        "    for i in range(3):\n",
        "        if i != class_idx:\n",
        "            fp += confusion_matrix_values[i][class_idx]\n",
        "\n",
        "    fn = 0\n",
        "    for j in range(3):\n",
        "        if j != class_idx:\n",
        "            fn += confusion_matrix_values[class_idx][j]\n",
        "\n",
        "    if (tp + fp) > 0:\n",
        "        precision = tp / (tp + fp)\n",
        "    else:\n",
        "        precision = 0\n",
        "\n",
        "    if (tp + fn) > 0:\n",
        "        recall = tp / (tp + fn)\n",
        "    else:\n",
        "        recall = 0\n",
        "\n",
        "    if (precision + recall) > 0:\n",
        "        f1 = 2 * (precision * recall) / (precision + recall)\n",
        "    else:\n",
        "        f1 = 0\n",
        "\n",
        "    print(f\"\\n{label_names[class_idx]}:\")\n",
        "    print(f\"  Precision: {precision:.4f}\")\n",
        "    print(f\"  Recall: {recall:.4f}\")\n",
        "    print(f\"  F1-Score: {f1:.4f}\")\n",
        "\n",
        "# %%\n",
        "test_sentences = [\n",
        "    \"Tech company announces breakthrough, stock jumps 12%\",\n",
        "    \"Global recession fears cause market crash\",\n",
        "    \"Company maintains steady growth as expected\"\n",
        "]\n",
        "\n",
        "print(\"\\nTesting on new examples:\")\n",
        "print(\"-\" * 50)\n",
        "\n",
        "for sentence in test_sentences:\n",
        "    inputs = tokenizer(\n",
        "        sentence,\n",
        "        padding=True,\n",
        "        truncation=True,\n",
        "        max_length=max_length,\n",
        "        return_tensors='pt'\n",
        "    )\n",
        "\n",
        "    inputs = {k: v.to(model.device) for k, v in inputs.items()}\n",
        "\n",
        "    with torch.no_grad():\n",
        "        outputs = model(**inputs)\n",
        "        logits = outputs.logits\n",
        "\n",
        "        probs = torch.softmax(logits, dim=-1)\n",
        "\n",
        "        predicted_class = torch.argmax(probs, dim=-1).item()\n",
        "        confidence = torch.max(probs).item()\n",
        "\n",
        "    print(f\"\\nText: {sentence}\")\n",
        "    print(f\"Predicted class: {label_names[predicted_class]}\")\n",
        "    print(f\"Confidence: {confidence:.4f}\")\n",
        "\n",
        "    print(\"All probabilities:\")\n",
        "    print(f\"  Positive: {probs[0][0].item():.4f}\")\n",
        "    print(f\"  Negative: {probs[0][1].item():.4f}\")\n",
        "    print(f\"  Neutral: {probs[0][2].item():.4f}\")\n",
        "\n"
      ]
    },
    {
      "cell_type": "code",
      "execution_count": 25,
      "metadata": {
        "id": "BoVEsPPB6bzl",
        "colab": {
          "base_uri": "https://localhost:8080/",
          "height": 507
        },
        "outputId": "6823da6c-603f-42a7-a31e-982205201c12"
      },
      "outputs": [
        {
          "output_type": "display_data",
          "data": {
            "text/plain": [
              "<Figure size 1000x500 with 2 Axes>"
            ],
            "image/png": "[encoded data removed]"
          },
          "metadata": {}
        }
      ],
      "source": [
        "# %%\n",
        "training_loss_history = []\n",
        "validation_loss_history = []\n",
        "\n",
        "for log in trainer.state.log_history:\n",
        "    if 'loss' in log:\n",
        "        training_loss_history.append(log['loss'])\n",
        "    if 'eval_loss' in log:\n",
        "        validation_loss_history.append(log['eval_loss'])\n",
        "\n",
        "if len(validation_loss_history) > 0:\n",
        "    plt.figure(figsize=(10, 5))\n",
        "\n",
        "    plt.subplot(1, 2, 1)\n",
        "    epochs = range(1, len(validation_loss_history) + 1)\n",
        "    plt.plot(epochs, validation_loss_history, 'o-', label='Validation Loss')\n",
        "    plt.xlabel('Epoch')\n",
        "    plt.ylabel('Loss')\n",
        "    plt.title('Validation Loss per Epoch')\n",
        "    plt.grid(True)\n",
        "\n",
        "    if len(training_loss_history) > 0:\n",
        "        plt.subplot(1, 2, 2)\n",
        "        steps = range(1, len(training_loss_history) + 1)\n",
        "        plt.plot(steps, training_loss_history, label='Training Loss')\n",
        "        plt.xlabel('Training Steps')\n",
        "        plt.ylabel('Loss')\n",
        "        plt.title('Training Loss Progress')\n",
        "        plt.grid(True)\n",
        "\n",
        "    plt.tight_layout()\n",
        "    plt.show()"
      ]
    },
    {
      "cell_type": "code",
      "execution_count": 30,
      "metadata": {
        "id": "TQ91UBJX57x2"
      },
      "outputs": [],
      "source": [
        "model_save_path = './financial_bert_model'"
      ]
    },
    {
      "cell_type": "code",
      "execution_count": 27,
      "metadata": {
        "id": "45lJtGfL53nh",
        "colab": {
          "base_uri": "https://localhost:8080/"
        },
        "outputId": "0050c4b9-e44c-4e5a-e7da-dca7f31e4a85"
      },
      "outputs": [
        {
          "output_type": "execute_result",
          "data": {
            "text/plain": [
              "('./financial_bert_model/tokenizer_config.json',\n",
              " './financial_bert_model/special_tokens_map.json',\n",
              " './financial_bert_model/vocab.txt',\n",
              " './financial_bert_model/added_tokens.json')"
            ]
          },
          "metadata": {},
          "execution_count": 27
        }
      ],
      "source": [
        "trainer.save_model(model_save_path)\n",
        "tokenizer.save_pretrained(model_save_path)"
      ]
    },
    {
      "cell_type": "code",
      "execution_count": 28,
      "metadata": {
        "id": "1NZ8ejLw4yQg",
        "colab": {
          "base_uri": "https://localhost:8080/"
        },
        "outputId": "94edd5f9-96a5-4ac7-f829-152a72bb59e0"
      },
      "outputs": [
        {
          "output_type": "stream",
          "name": "stdout",
          "text": [
            "Model saved to: ./financial_bert_model\n"
          ]
        }
      ],
      "source": [
        "print(f\"Model saved to: {model_save_path}\")"
      ]
    },
    {
      "cell_type": "code",
      "execution_count": 31,
      "metadata": {
        "id": "8ITUCcGY4u-E"
      },
      "outputs": [],
      "source": [
        "from transformers import BertForSequenceClassification, BertTokenizer"
      ]
    },
    {
      "cell_type": "code",
      "execution_count": 32,
      "metadata": {
        "id": "pn9AR69V4qp3"
      },
      "outputs": [],
      "source": [
        "loaded_model = BertForSequenceClassification.from_pretrained(model_save_path)\n",
        "loaded_tokenizer = BertTokenizer.from_pretrained(model_save_path)"
      ]
    },
    {
      "cell_type": "code",
      "execution_count": 34,
      "metadata": {
        "id": "Y1DJW_Al4n2-",
        "colab": {
          "base_uri": "https://localhost:8080/"
        },
        "outputId": "6ef9c861-65bc-478e-ea2c-494c0f9dcab6"
      },
      "outputs": [
        {
          "output_type": "stream",
          "name": "stdout",
          "text": [
            "Model loaded successfully\n"
          ]
        }
      ],
      "source": [
        "loaded_model = loaded_model.to(device)\n",
        "loaded_model.eval()\n",
        "print(\"Model loaded successfully\")"
      ]
    },
    {
      "cell_type": "code",
      "execution_count": 35,
      "metadata": {
        "id": "p4lQKYU14a4a"
      },
      "outputs": [],
      "source": [
        "test_text = \"Stock market shows positive momentum\""
      ]
    },
    {
      "cell_type": "code",
      "execution_count": 36,
      "metadata": {
        "id": "zBhR_tUF4YRn"
      },
      "outputs": [],
      "source": [
        "test_inputs = loaded_tokenizer(\n",
        "    test_text,\n",
        "    return_tensors='pt',\n",
        "    padding=True,\n",
        "    truncation=True,\n",
        "    max_length=max_length\n",
        ")"
      ]
    },
    {
      "cell_type": "code",
      "execution_count": 37,
      "metadata": {
        "id": "V-dD7F0l4Ukn"
      },
      "outputs": [],
      "source": [
        "test_inputs = {k: v.to(device) for k, v in test_inputs.items()}"
      ]
    },
    {
      "cell_type": "code",
      "execution_count": 38,
      "metadata": {
        "id": "MqXTCdqs4SOS"
      },
      "outputs": [],
      "source": [
        "with torch.no_grad():\n",
        "    test_outputs = loaded_model(**test_inputs)\n",
        "    test_logits = test_outputs.logits\n",
        "    test_probs = torch.softmax(test_logits, dim=-1)\n",
        "    test_prediction = torch.argmax(test_probs, dim=-1).item()"
      ]
    },
    {
      "cell_type": "code",
      "execution_count": 39,
      "metadata": {
        "id": "xYPxh09a4N6o",
        "colab": {
          "base_uri": "https://localhost:8080/"
        },
        "outputId": "c9cd0683-d1a7-4d2e-857b-bd323039bc63"
      },
      "outputs": [
        {
          "output_type": "stream",
          "name": "stdout",
          "text": [
            "\n",
            "Test with loaded model:\n",
            "Text: Stock market shows positive momentum\n",
            "Prediction: Negative\n"
          ]
        }
      ],
      "source": [
        "print(f\"\\nTest with loaded model:\")\n",
        "print(f\"Text: {test_text}\")\n",
        "print(f\"Prediction: {label_names[test_prediction]}\")\n"
      ]
    },
    {
      "cell_type": "code",
      "execution_count": 40,
      "metadata": {
        "id": "cNbUhTHb4D9o",
        "colab": {
          "base_uri": "https://localhost:8080/"
        },
        "outputId": "a987b2b0-3b7b-43d7-ec66-a65db012cc16"
      },
      "outputs": [
        {
          "output_type": "stream",
          "name": "stdout",
          "text": [
            "\n",
            "==================================================\n",
            "TRAINING SUMMARY\n",
            "==================================================\n",
            "Model: bert-base-uncased\n",
            "Training samples: 384\n",
            "Validation samples: 96\n",
            "Number of epochs: 1\n",
            "Batch size: 16\n",
            "Final validation accuracy: 41.67%\n",
            "Final training loss: 1.1023\n",
            "Final validation loss: 1.0694\n",
            "==================================================\n"
          ]
        }
      ],
      "source": [
        "print(\"\\n\" + \"=\" * 50)\n",
        "print(\"TRAINING SUMMARY\")\n",
        "print(\"=\" * 50)\n",
        "print(f\"Model: {model_name}\")\n",
        "print(f\"Training samples: {len(train_dataset)}\")\n",
        "print(f\"Validation samples: {len(val_dataset)}\")\n",
        "print(f\"Number of epochs: {num_epochs}\")\n",
        "print(f\"Batch size: {batch_size}\")\n",
        "print(f\"Final validation accuracy: {accuracy:.2%}\")\n",
        "print(f\"Final training loss: {train_loss:.4f}\")\n",
        "print(f\"Final validation loss: {eval_results['eval_loss']:.4f}\")\n",
        "print(\"=\" * 50)\n"
      ]
    },
    {
      "cell_type": "code",
      "execution_count": 41,
      "metadata": {
        "id": "B_fz4ykF3_CB",
        "colab": {
          "base_uri": "https://localhost:8080/"
        },
        "outputId": "89ead280-a4a4-4e40-cd8e-1499753592cd"
      },
      "outputs": [
        {
          "output_type": "stream",
          "name": "stdout",
          "text": [
            "Notebook completed successfully!\n"
          ]
        }
      ],
      "source": [
        "\n",
        "print(\"Notebook completed successfully!\")"
      ]
    }
  ],
  "metadata": {
    "colab": {
      "provenance": []
    },
    "kernelspec": {
      "display_name": "Python 3",
      "name": "python3"
    },
    "language_info": {
      "name": "python"
    }
  },
  "nbformat": 4,
  "nbformat_minor": 0
}