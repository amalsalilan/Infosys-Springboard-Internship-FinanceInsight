{
 "cells": [
  {
   "cell_type": "code",
   "execution_count": null,
   "id": "5df536d8",
   "metadata": {},
   "outputs": [],
   "source": [
    "# Install dependencies (only run once)\n",
    "!pip install spacy transformers prettytable\n",
    "\n",
    "# Download spaCy model (only run once)\n",
    "!python -m spacy download en_core_web_sm\n"
   ]
  },
  {
   "cell_type": "code",
   "execution_count": null,
   "id": "0d9b0de1",
   "metadata": {},
   "outputs": [],
   "source": [
    "import spacy\n",
    "from transformers import pipeline\n",
    "from prettytable import PrettyTable\n",
    "\n",
    "# Load spaCy model\n",
    "nlp_spacy = spacy.load(\"en_core_web_sm\")\n",
    "\n",
    "# Load Hugging Face BERT NER pipeline\n",
    "ner_bert = pipeline(\"ner\", grouped_entities=True)\n",
    "\n",
    "# Test sentence\n",
    "text = \"Infosys is headquartered in Bangalore, India and works with Microsoft.\"\n",
    "\n",
    "# Run spaCy\n",
    "doc = nlp_spacy(text)\n",
    "spacy_entities = [(ent.text, ent.label_) for ent in doc.ents]\n",
    "\n",
    "# Run BERT\n",
    "bert_entities = [(ent[\"word\"], ent[\"entity_group\"]) for ent in ner_bert(text)]\n",
    "\n",
    "# Create a comparison table\n",
    "table = PrettyTable()\n",
    "table.field_names = [\"Library\", \"Entity\", \"Label\"]\n",
    "\n",
    "for ent, label in spacy_entities:\n",
    "    table.add_row([\"spaCy\", ent, label])\n",
    "\n",
    "for ent, label in bert_entities:\n",
    "    table.add_row([\"BERT\", ent, label])\n",
    "\n",
    "print(table)\n"
   ]
  }
 ],
 "metadata": {},
 "nbformat": 4,
 "nbformat_minor": 5
}