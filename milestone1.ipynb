{
  "nbformat": 4,
  "nbformat_minor": 0,
  "metadata": {
    "colab": {
      "provenance": []
    },
    "kernelspec": {
      "name": "python3",
      "display_name": "Python 3"
    },
    "language_info": {
      "name": "python"
    }
  },
  "cells": [
    {
      "cell_type": "code",
      "execution_count": 2,
      "metadata": {
        "id": "Fr_DVfgkqTCt"
      },
      "outputs": [],
      "source": [
        "! pip install -U spacy -q"
      ]
    },
    {
      "cell_type": "code",
      "source": [
        "\n",
        "!python -m spacy info"
      ],
      "metadata": {
        "colab": {
          "base_uri": "https://localhost:8080/"
        },
        "id": "PY5q4vm9qe7Q",
        "outputId": "d840c786-0793-4087-bbcf-ba8592f55758"
      },
      "execution_count": 4,
      "outputs": [
        {
          "output_type": "stream",
          "name": "stdout",
          "text": [
            "\u001b[1m\n",
            "============================== Info about spaCy ==============================\u001b[0m\n",
            "\n",
            "spaCy version    3.8.7                         \n",
            "Location         /usr/local/lib/python3.12/dist-packages/spacy\n",
            "Platform         Linux-6.1.123+-x86_64-with-glibc2.35\n",
            "Python version   3.12.11                       \n",
            "Pipelines        en_core_web_sm (3.8.0)        \n",
            "\n"
          ]
        }
      ]
    },
    {
      "cell_type": "code",
      "source": [
        "\n",
        "!python -m spacy download en_core_web_lg"
      ],
      "metadata": {
        "colab": {
          "base_uri": "https://localhost:8080/"
        },
        "id": "tTvzcdpKq3sd",
        "outputId": "72697bf7-3e1e-45ea-de7f-77b1e5196899"
      },
      "execution_count": 5,
      "outputs": [
        {
          "output_type": "stream",
          "name": "stdout",
          "text": [
            "Collecting en-core-web-lg==3.8.0\n",
            "  Downloading https://github.com/explosion/spacy-models/releases/download/en_core_web_lg-3.8.0/en_core_web_lg-3.8.0-py3-none-any.whl (400.7 MB)\n",
            "\u001b[2K     \u001b[90m━━━━━━━━━━━━━━━━━━━━━━━━━━━━━━━━━━━━━━━\u001b[0m \u001b[32m400.7/400.7 MB\u001b[0m \u001b[31m1.4 MB/s\u001b[0m eta \u001b[36m0:00:00\u001b[0m\n",
            "\u001b[?25hInstalling collected packages: en-core-web-lg\n",
            "Successfully installed en-core-web-lg-3.8.0\n",
            "\u001b[38;5;2m✔ Download and installation successful\u001b[0m\n",
            "You can now load the package via spacy.load('en_core_web_lg')\n",
            "\u001b[38;5;3m⚠ Restart to reload dependencies\u001b[0m\n",
            "If you are in a Jupyter or Colab notebook, you may need to restart Python in\n",
            "order to load all the package's dependencies. You can do this by selecting the\n",
            "'Restart kernel' or 'Restart runtime' option.\n"
          ]
        }
      ]
    },
    {
      "cell_type": "code",
      "source": [
        "\n",
        "# !wget https://raw.githubusercontent.com/amrrs/custom-ner-with-spacy/main/pvr_training_data.json"
      ],
      "metadata": {
        "id": "sjEjWxubrGD_"
      },
      "execution_count": 6,
      "outputs": []
    },
    {
      "cell_type": "code",
      "source": [
        "import spacy\n",
        "from spacy.tokens import DocBin\n",
        "from tqdm import tqdm\n",
        "\n",
        "nlp = spacy.blank(\"en\")\n",
        "db = DocBin()"
      ],
      "metadata": {
        "id": "1cZ4hu7arQhh"
      },
      "execution_count": 7,
      "outputs": []
    },
    {
      "cell_type": "code",
      "source": [
        "import json\n",
        "f = open('/content/annotations.json')\n",
        "TRAIN_DATA = json.load(f)"
      ],
      "metadata": {
        "id": "Iu40ofeprVrv"
      },
      "execution_count": 9,
      "outputs": []
    },
    {
      "cell_type": "code",
      "source": [
        "TRAIN_DATA"
      ],
      "metadata": {
        "colab": {
          "base_uri": "https://localhost:8080/"
        },
        "id": "_s8Co9OFyk8M",
        "outputId": "1751fc29-5d8d-447c-a39b-ae9ffe0e7aff"
      },
      "execution_count": 14,
      "outputs": [
        {
          "output_type": "execute_result",
          "data": {
            "text/plain": [
              "{'classes': ['VALUE',\n",
              "  'ORG',\n",
              "  'DATES',\n",
              "  'QUANTITY',\n",
              "  'MONEY',\n",
              "  'ECON_TERM',\n",
              "  'PRODUCT/ASSET'],\n",
              " 'annotations': [['Shares of NMDC, India’s largest iron ore producer, are likely to be in focus on Tuesday, September 2, following the release of its August production and sales figures. Iron ore sales rose to 3.39 million tonnes (MT), compared with 3.14 MT in the same month last year.',\n",
              "   {'entities': [[10, 14, 'NMDC'],\n",
              "     [80, 87, 'TUESDAY'],\n",
              "     [99, 100, 'VALUE'],\n",
              "     [131, 137, 'AUGUST'],\n",
              "     [191, 195, 'VALUE'],\n",
              "     [231, 235, 'VALUE']]}],\n",
              "  ['', {'entities': []}],\n",
              "  ['Cumulatively, sales for April–August 2025 stood at 18.37 MT, up from 16.27 MT a year earlier. On the production side, output in August was 3.37 MT, higher than 3.07 MT in August 2024. Cumulative production for April–August 2025 reached 18.45 MT, compared with 14.43 MT in the corresponding period last year, according to the company’s regulatory filing.',\n",
              "   {'entities': [[24, 41, 'DATES'],\n",
              "     [128, 134, 'DATES'],\n",
              "     [171, 183, 'DATES'],\n",
              "     [210, 227, 'DATES'],\n",
              "     [325, 334, 'ORG']]}],\n",
              "  ['Iron ore production during the quarter stood at 12 MT (+31% YoY, -10% QoQ), while sales came in at 11.5 MT (+14% YoY, -9% QoQ). The average selling price (ASP) for the quarter rose to ₹5,851 per tonne (+9% YoY, +6% QoQ) as iron ore prices remained elevated.',\n",
              "   {'entities': [[48, 53, 'QUANTITY'],\n",
              "     [99, 103, 'QUANTITY'],\n",
              "     [128, 158, 'ECON_TERM'],\n",
              "     [184, 200, 'MONEY']]}],\n",
              "  ['', {'entities': []}],\n",
              "  ['Looking ahead, domestic brokerage Motilal Oswal expects volumes to rise steadily to 50 MT in FY26 and 55 MT in FY27, supported by an increase in EC limits. The brokerage has largely maintained its estimates for FY26–27, driven by stable realizations and healthy, volume-led operating growth.NMDC has lined up capex for evacuation and capacity-enhancement projects, aimed at improving its product mix and raising production capacity to around 100 MT by FY29–30.',\n",
              "   {'entities': [[84, 89, 'QUANTITY'],\n",
              "     [93, 97, 'DATES'],\n",
              "     [102, 107, 'QUANTITY'],\n",
              "     [111, 115, 'DATES'],\n",
              "     [211, 218, 'DATES'],\n",
              "     [442, 448, 'QUANTITY'],\n",
              "     [452, 459, 'DATES']]}],\n",
              "  ['', {'entities': []}],\n",
              "  ['The company had net cash of ₹63 billion as of FY25 and is expected to generate operating cash flow (OCF) of ₹190 billion over the next two years. According to the brokerage, this will support its capex plans without overleveraging. Motilal Oswal has a buy rating on the stock with a target price of ₹70 apiece.',\n",
              "   {'entities': [[28, 39, 'MONEY'],\n",
              "     [46, 50, 'DATES'],\n",
              "     [108, 120, 'MONEY'],\n",
              "     [299, 310, 'MONEY']]}],\n",
              "  ['Disclaimer: This story is for educational purposes only. The views and recommendations made above are those of individual analysts or broking companies, and not of Mint. We advise investors to check with certified experts before making any investment decisions.',\n",
              "   {'entities': [[164, 169, 'ORG']]}],\n",
              "  ['Bonds and debentures are fundamental components of fixed-income investments. Both present aspirational investors with unique opportunities, risks, and varying returns. That is why clearly understanding them and acknowledging their differences will help investors make sensible investment decisions according to their long-term goals, risk-taking potential, and tolerance.',\n",
              "   {'entities': [[0, 20, 'PRODUCT/ASSET'], [51, 76, 'PRODUCT/ASSET']]}],\n",
              "  ['', {'entities': []}],\n",
              "  ['What are bonds?', {'entities': [[9, 15, 'PRODUCT/ASSET']]}],\n",
              "  ['A bond is simply a fixed-income instrument in which an investor lends funds to an organisation or government. The bond issuer takes these funds with the promise of regular interest payments and repayment of the principal amount upon maturity. Bonds are generally guarded by collateral or government backing, making them safer compared to other investment asset classes.',\n",
              "   {'entities': [[0, 6, 'PRODUCT/ASSET'],\n",
              "     [19, 42, 'PRODUCT/ASSET'],\n",
              "     [114, 118, 'PRODUCT/ASSET'],\n",
              "     [355, 368, 'PRODUCT/ASSET']]}],\n",
              "  ['', {'entities': []}],\n",
              "  ['', {'entities': []}]]}"
            ]
          },
          "metadata": {},
          "execution_count": 14
        }
      ]
    },
    {
      "cell_type": "code",
      "source": [
        "for text, annot in tqdm(TRAIN_DATA['annotations']):\n",
        "    doc = nlp.make_doc(text)\n",
        "    ents = []\n",
        "    for start, end, label in annot[\"entities\"]:\n",
        "        span = doc.char_span(start, end, label=label, alignment_mode=\"contract\")\n",
        "        if span is None:\n",
        "            print(\"Skipping entity\")\n",
        "        else:\n",
        "            ents.append(span)\n",
        "    doc.ents = ents\n",
        "    db.add(doc)\n",
        "\n",
        "db.to_disk(\"./training_data.spacy\")"
      ],
      "metadata": {
        "colab": {
          "base_uri": "https://localhost:8080/"
        },
        "id": "rIyR7L97xmcX",
        "outputId": "4c7cc7a1-3cb1-4da2-f7d8-dd4fe8435654"
      },
      "execution_count": 10,
      "outputs": [
        {
          "output_type": "stream",
          "name": "stderr",
          "text": [
            "100%|██████████| 15/15 [00:00<00:00, 390.30it/s]\n"
          ]
        }
      ]
    },
    {
      "cell_type": "code",
      "source": [
        "! python -m spacy init config config.cfg --lang en --pipeline ner --optimize efficiency"
      ],
      "metadata": {
        "colab": {
          "base_uri": "https://localhost:8080/"
        },
        "id": "z3LvWFPdxrLR",
        "outputId": "e251be16-f662-4d85-f5a5-141a509d92ed"
      },
      "execution_count": 11,
      "outputs": [
        {
          "output_type": "stream",
          "name": "stdout",
          "text": [
            "\u001b[38;5;3m⚠ To generate a more effective transformer-based config (GPU-only),\n",
            "install the spacy-transformers package and re-run this command. The config\n",
            "generated now does not use transformers.\u001b[0m\n",
            "\u001b[38;5;4mℹ Generated config template specific for your use case\u001b[0m\n",
            "- Language: en\n",
            "- Pipeline: ner\n",
            "- Optimize for: efficiency\n",
            "- Hardware: CPU\n",
            "- Transformer: None\n",
            "\u001b[38;5;2m✔ Auto-filled config with all values\u001b[0m\n",
            "\u001b[38;5;2m✔ Saved config\u001b[0m\n",
            "config.cfg\n",
            "You can now add your data and train your pipeline:\n",
            "python -m spacy train config.cfg --paths.train ./train.spacy --paths.dev ./dev.spacy\n"
          ]
        }
      ]
    },
    {
      "cell_type": "code",
      "source": [
        "! python -m spacy train config.cfg --output ./ --paths.train ./training_data.spacy --paths.dev ./training_data.spacy\n",
        ""
      ],
      "metadata": {
        "colab": {
          "base_uri": "https://localhost:8080/"
        },
        "id": "YhtEvN-mxtys",
        "outputId": "0c12c546-33ae-441e-c695-9216a85c187f"
      },
      "execution_count": 12,
      "outputs": [
        {
          "output_type": "stream",
          "name": "stdout",
          "text": [
            "\u001b[38;5;4mℹ Saving to output directory: .\u001b[0m\n",
            "\u001b[38;5;4mℹ Using CPU\u001b[0m\n",
            "\u001b[1m\n",
            "=========================== Initializing pipeline ===========================\u001b[0m\n",
            "\u001b[38;5;2m✔ Initialized pipeline\u001b[0m\n",
            "\u001b[1m\n",
            "============================= Training pipeline =============================\u001b[0m\n",
            "\u001b[38;5;4mℹ Pipeline: ['tok2vec', 'ner']\u001b[0m\n",
            "\u001b[38;5;4mℹ Initial learn rate: 0.001\u001b[0m\n",
            "E    #       LOSS TOK2VEC  LOSS NER  ENTS_F  ENTS_P  ENTS_R  SCORE \n",
            "---  ------  ------------  --------  ------  ------  ------  ------\n",
            "  0       0          0.00     25.86    0.00    0.00    0.00    0.00\n",
            " 28     200        859.45   1975.24  100.00  100.00  100.00    1.00\n",
            " 70     400          2.99      4.67  100.00  100.00  100.00    1.00\n",
            "121     600          0.00      0.00  100.00  100.00  100.00    1.00\n",
            "185     800          2.32      4.56  100.00  100.00  100.00    1.00\n",
            "263    1000          0.00      0.00  100.00  100.00  100.00    1.00\n",
            "363    1200          0.00      0.00  100.00  100.00  100.00    1.00\n",
            "463    1400          0.00      0.00  100.00  100.00  100.00    1.00\n",
            "633    1600          0.00      0.00  100.00  100.00  100.00    1.00\n",
            "833    1800          0.02      0.03  100.00  100.00  100.00    1.00\n",
            "\u001b[38;5;2m✔ Saved pipeline to output directory\u001b[0m\n",
            "model-last\n"
          ]
        }
      ]
    },
    {
      "cell_type": "code",
      "source": [
        "nlp_ner = spacy.load(\"/content/model-best\")"
      ],
      "metadata": {
        "id": "Zl_-vtx_yBm8"
      },
      "execution_count": 13,
      "outputs": []
    },
    {
      "cell_type": "code",
      "source": [
        "# sample input\n",
        "doc = nlp_ner('''Shares of NMDC, India’s largest iron ore producer, are likely to be in focus on Tuesday, September 2, following the release of its August production and sales figures. Iron ore sales rose to 3.39 million tonnes (MT), compared with 3.14 MT in the same month last year.\n",
        "\n",
        "Cumulatively, sales for April–August 2025 stood at 18.37 MT, up from 16.27 MT a year earlier. On the production side, output in August was 3.37 MT, higher than 3.07 MT in August 2024. Cumulative production for April–August 2025 reached 18.45 MT, compared with 14.43 MT in the corresponding period last year, according to the company’s regulatory filing.\n",
        "Analysts expect NMDC’s production to reach 50 MT by FY26\n",
        "In 1QFY26, volume growth was sluggish due to the early onset of the monsoon. However, steady price hikes by the company helped offset the impact of weaker volumes, resulting in healthy operating profit.\n",
        "Iron ore production during the quarter stood at 12 MT (+31% YoY, -10% QoQ), while sales came in at 11.5 MT (+14% YoY, -9% QoQ). The average selling price (ASP) for the quarter rose to ₹5,851 per tonne (+9% YoY, +6% QoQ) as iron ore prices remained elevated.\n",
        "\n",
        "Looking ahead, domestic brokerage Motilal Oswal expects volumes to rise steadily to 50 MT in FY26 and 55 MT in FY27, supported by an increase in EC limits. The brokerage has largely maintained its estimates for FY26–27, driven by stable realizations and healthy, volume-led operating growth.''')"
      ],
      "metadata": {
        "id": "N6RSGXvJycJL"
      },
      "execution_count": 15,
      "outputs": []
    },
    {
      "cell_type": "code",
      "source": [
        "spacy.displacy.render(doc, style=\"ent\", jupyter=True) # display in Jupyter"
      ],
      "metadata": {
        "colab": {
          "base_uri": "https://localhost:8080/",
          "height": 577
        },
        "id": "h4s694PFzhWp",
        "outputId": "1b03e0e4-298b-47b9-979f-574c8f3b0de6"
      },
      "execution_count": 16,
      "outputs": [
        {
          "output_type": "display_data",
          "data": {
            "text/plain": [
              "<IPython.core.display.HTML object>"
            ],
            "text/html": [
              "<span class=\"tex2jax_ignore\"><div class=\"entities\" style=\"line-height: 2.5; direction: ltr\">Shares of \n",
              "<mark class=\"entity\" style=\"background: #ddd; padding: 0.45em 0.6em; margin: 0 0.25em; line-height: 1; border-radius: 0.35em;\">\n",
              "    NMDC\n",
              "    <span style=\"font-size: 0.8em; font-weight: bold; line-height: 1; border-radius: 0.35em; vertical-align: middle; margin-left: 0.5rem\">NMDC</span>\n",
              "</mark>\n",
              ", India’s largest iron ore producer, are likely to be in focus on \n",
              "<mark class=\"entity\" style=\"background: #ddd; padding: 0.45em 0.6em; margin: 0 0.25em; line-height: 1; border-radius: 0.35em;\">\n",
              "    Tuesday\n",
              "    <span style=\"font-size: 0.8em; font-weight: bold; line-height: 1; border-radius: 0.35em; vertical-align: middle; margin-left: 0.5rem\">TUESDAY</span>\n",
              "</mark>\n",
              ", September \n",
              "<mark class=\"entity\" style=\"background: #ddd; padding: 0.45em 0.6em; margin: 0 0.25em; line-height: 1; border-radius: 0.35em;\">\n",
              "    2\n",
              "    <span style=\"font-size: 0.8em; font-weight: bold; line-height: 1; border-radius: 0.35em; vertical-align: middle; margin-left: 0.5rem\">VALUE</span>\n",
              "</mark>\n",
              ", following the release of its \n",
              "<mark class=\"entity\" style=\"background: #ddd; padding: 0.45em 0.6em; margin: 0 0.25em; line-height: 1; border-radius: 0.35em;\">\n",
              "    August\n",
              "    <span style=\"font-size: 0.8em; font-weight: bold; line-height: 1; border-radius: 0.35em; vertical-align: middle; margin-left: 0.5rem\">AUGUST</span>\n",
              "</mark>\n",
              " production and sales figures. Iron ore sales rose to \n",
              "<mark class=\"entity\" style=\"background: #ddd; padding: 0.45em 0.6em; margin: 0 0.25em; line-height: 1; border-radius: 0.35em;\">\n",
              "    3.39\n",
              "    <span style=\"font-size: 0.8em; font-weight: bold; line-height: 1; border-radius: 0.35em; vertical-align: middle; margin-left: 0.5rem\">VALUE</span>\n",
              "</mark>\n",
              " million tonnes (MT), compared with \n",
              "<mark class=\"entity\" style=\"background: #ddd; padding: 0.45em 0.6em; margin: 0 0.25em; line-height: 1; border-radius: 0.35em;\">\n",
              "    3.14\n",
              "    <span style=\"font-size: 0.8em; font-weight: bold; line-height: 1; border-radius: 0.35em; vertical-align: middle; margin-left: 0.5rem\">VALUE</span>\n",
              "</mark>\n",
              " MT in the same month last year.<br><br>Cumulatively, sales for \n",
              "<mark class=\"entity\" style=\"background: #ddd; padding: 0.45em 0.6em; margin: 0 0.25em; line-height: 1; border-radius: 0.35em;\">\n",
              "    April–August 2025\n",
              "    <span style=\"font-size: 0.8em; font-weight: bold; line-height: 1; border-radius: 0.35em; vertical-align: middle; margin-left: 0.5rem\">DATES</span>\n",
              "</mark>\n",
              " stood at 18.37 MT, up from 16.27 MT a year earlier. On the production side, output in \n",
              "<mark class=\"entity\" style=\"background: #ddd; padding: 0.45em 0.6em; margin: 0 0.25em; line-height: 1; border-radius: 0.35em;\">\n",
              "    August\n",
              "    <span style=\"font-size: 0.8em; font-weight: bold; line-height: 1; border-radius: 0.35em; vertical-align: middle; margin-left: 0.5rem\">DATES</span>\n",
              "</mark>\n",
              " was 3.37 MT, higher than 3.07 MT in \n",
              "<mark class=\"entity\" style=\"background: #ddd; padding: 0.45em 0.6em; margin: 0 0.25em; line-height: 1; border-radius: 0.35em;\">\n",
              "    August 2024.\n",
              "    <span style=\"font-size: 0.8em; font-weight: bold; line-height: 1; border-radius: 0.35em; vertical-align: middle; margin-left: 0.5rem\">DATES</span>\n",
              "</mark>\n",
              " Cumulative production for \n",
              "<mark class=\"entity\" style=\"background: #ddd; padding: 0.45em 0.6em; margin: 0 0.25em; line-height: 1; border-radius: 0.35em;\">\n",
              "    April–August 2025\n",
              "    <span style=\"font-size: 0.8em; font-weight: bold; line-height: 1; border-radius: 0.35em; vertical-align: middle; margin-left: 0.5rem\">DATES</span>\n",
              "</mark>\n",
              " reached 18.45 MT, compared with 14.43 MT in the corresponding period last year, according to the \n",
              "<mark class=\"entity\" style=\"background: #7aecec; padding: 0.45em 0.6em; margin: 0 0.25em; line-height: 1; border-radius: 0.35em;\">\n",
              "    company’s\n",
              "    <span style=\"font-size: 0.8em; font-weight: bold; line-height: 1; border-radius: 0.35em; vertical-align: middle; margin-left: 0.5rem\">ORG</span>\n",
              "</mark>\n",
              " regulatory filing.<br>Analysts expect \n",
              "<mark class=\"entity\" style=\"background: #ddd; padding: 0.45em 0.6em; margin: 0 0.25em; line-height: 1; border-radius: 0.35em;\">\n",
              "    NMDC\n",
              "    <span style=\"font-size: 0.8em; font-weight: bold; line-height: 1; border-radius: 0.35em; vertical-align: middle; margin-left: 0.5rem\">NMDC</span>\n",
              "</mark>\n",
              "’s production to reach \n",
              "<mark class=\"entity\" style=\"background: #e4e7d2; padding: 0.45em 0.6em; margin: 0 0.25em; line-height: 1; border-radius: 0.35em;\">\n",
              "    50 MT\n",
              "    <span style=\"font-size: 0.8em; font-weight: bold; line-height: 1; border-radius: 0.35em; vertical-align: middle; margin-left: 0.5rem\">QUANTITY</span>\n",
              "</mark>\n",
              " by \n",
              "<mark class=\"entity\" style=\"background: #ddd; padding: 0.45em 0.6em; margin: 0 0.25em; line-height: 1; border-radius: 0.35em;\">\n",
              "    FY26\n",
              "    <span style=\"font-size: 0.8em; font-weight: bold; line-height: 1; border-radius: 0.35em; vertical-align: middle; margin-left: 0.5rem\">DATES</span>\n",
              "</mark>\n",
              "<br>In 1QFY26, volume growth was sluggish due to the early onset of the monsoon. However, steady price hikes by the \n",
              "<mark class=\"entity\" style=\"background: #7aecec; padding: 0.45em 0.6em; margin: 0 0.25em; line-height: 1; border-radius: 0.35em;\">\n",
              "    company helped\n",
              "    <span style=\"font-size: 0.8em; font-weight: bold; line-height: 1; border-radius: 0.35em; vertical-align: middle; margin-left: 0.5rem\">ORG</span>\n",
              "</mark>\n",
              " offset the impact of weaker volumes, resulting in healthy operating profit.<br>Iron ore production during the quarter stood at \n",
              "<mark class=\"entity\" style=\"background: #e4e7d2; padding: 0.45em 0.6em; margin: 0 0.25em; line-height: 1; border-radius: 0.35em;\">\n",
              "    12 MT\n",
              "    <span style=\"font-size: 0.8em; font-weight: bold; line-height: 1; border-radius: 0.35em; vertical-align: middle; margin-left: 0.5rem\">QUANTITY</span>\n",
              "</mark>\n",
              " (+31% YoY, -10% QoQ), while sales came in at \n",
              "<mark class=\"entity\" style=\"background: #e4e7d2; padding: 0.45em 0.6em; margin: 0 0.25em; line-height: 1; border-radius: 0.35em;\">\n",
              "    11.5\n",
              "    <span style=\"font-size: 0.8em; font-weight: bold; line-height: 1; border-radius: 0.35em; vertical-align: middle; margin-left: 0.5rem\">QUANTITY</span>\n",
              "</mark>\n",
              " MT (+14% YoY, -9% QoQ). \n",
              "<mark class=\"entity\" style=\"background: #ddd; padding: 0.45em 0.6em; margin: 0 0.25em; line-height: 1; border-radius: 0.35em;\">\n",
              "    The average selling price (ASP\n",
              "    <span style=\"font-size: 0.8em; font-weight: bold; line-height: 1; border-radius: 0.35em; vertical-align: middle; margin-left: 0.5rem\">ECON_TERM</span>\n",
              "</mark>\n",
              ") for the quarter rose to \n",
              "<mark class=\"entity\" style=\"background: #e4e7d2; padding: 0.45em 0.6em; margin: 0 0.25em; line-height: 1; border-radius: 0.35em;\">\n",
              "    ₹5,851 per tonne\n",
              "    <span style=\"font-size: 0.8em; font-weight: bold; line-height: 1; border-radius: 0.35em; vertical-align: middle; margin-left: 0.5rem\">MONEY</span>\n",
              "</mark>\n",
              " (+9% YoY, +6% QoQ) as iron ore prices remained elevated.<br><br>Looking ahead, domestic brokerage Motilal Oswal expects volumes to rise steadily to \n",
              "<mark class=\"entity\" style=\"background: #e4e7d2; padding: 0.45em 0.6em; margin: 0 0.25em; line-height: 1; border-radius: 0.35em;\">\n",
              "    50 MT\n",
              "    <span style=\"font-size: 0.8em; font-weight: bold; line-height: 1; border-radius: 0.35em; vertical-align: middle; margin-left: 0.5rem\">QUANTITY</span>\n",
              "</mark>\n",
              " in \n",
              "<mark class=\"entity\" style=\"background: #ddd; padding: 0.45em 0.6em; margin: 0 0.25em; line-height: 1; border-radius: 0.35em;\">\n",
              "    FY26\n",
              "    <span style=\"font-size: 0.8em; font-weight: bold; line-height: 1; border-radius: 0.35em; vertical-align: middle; margin-left: 0.5rem\">DATES</span>\n",
              "</mark>\n",
              " and \n",
              "<mark class=\"entity\" style=\"background: #e4e7d2; padding: 0.45em 0.6em; margin: 0 0.25em; line-height: 1; border-radius: 0.35em;\">\n",
              "    55 MT\n",
              "    <span style=\"font-size: 0.8em; font-weight: bold; line-height: 1; border-radius: 0.35em; vertical-align: middle; margin-left: 0.5rem\">QUANTITY</span>\n",
              "</mark>\n",
              " in \n",
              "<mark class=\"entity\" style=\"background: #ddd; padding: 0.45em 0.6em; margin: 0 0.25em; line-height: 1; border-radius: 0.35em;\">\n",
              "    FY27\n",
              "    <span style=\"font-size: 0.8em; font-weight: bold; line-height: 1; border-radius: 0.35em; vertical-align: middle; margin-left: 0.5rem\">DATES</span>\n",
              "</mark>\n",
              ", supported by an increase in EC limits. The brokerage has largely maintained its estimates for \n",
              "<mark class=\"entity\" style=\"background: #ddd; padding: 0.45em 0.6em; margin: 0 0.25em; line-height: 1; border-radius: 0.35em;\">\n",
              "    FY26–27\n",
              "    <span style=\"font-size: 0.8em; font-weight: bold; line-height: 1; border-radius: 0.35em; vertical-align: middle; margin-left: 0.5rem\">DATES</span>\n",
              "</mark>\n",
              ", driven by stable realizations and healthy, volume-led operating growth.</div></span>"
            ]
          },
          "metadata": {}
        }
      ]
    }
  ]
}