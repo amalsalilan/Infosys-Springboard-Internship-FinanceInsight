{
  "nbformat": 4,
  "nbformat_minor": 0,
  "metadata": {
    "colab": {
      "provenance": []
    },
    "kernelspec": {
      "name": "python3",
      "display_name": "Python 3"
    },
    "language_info": {
      "name": "python"
    }
  },
  "cells": [
    {
      "cell_type": "code",
      "execution_count": null,
      "metadata": {
        "colab": {
          "base_uri": "https://localhost:8080/"
        },
        "id": "zI7zkcxp8Zx4",
        "outputId": "41b333d3-8ea3-40dd-a6bc-aa6031479571"
      },
      "outputs": [
        {
          "output_type": "stream",
          "name": "stdout",
          "text": [
            "Requirement already satisfied: spacy in /usr/local/lib/python3.12/dist-packages (3.8.7)\n",
            "Requirement already satisfied: spacy-legacy<3.1.0,>=3.0.11 in /usr/local/lib/python3.12/dist-packages (from spacy) (3.0.12)\n",
            "Requirement already satisfied: spacy-loggers<2.0.0,>=1.0.0 in /usr/local/lib/python3.12/dist-packages (from spacy) (1.0.5)\n",
            "Requirement already satisfied: murmurhash<1.1.0,>=0.28.0 in /usr/local/lib/python3.12/dist-packages (from spacy) (1.0.13)\n",
            "Requirement already satisfied: cymem<2.1.0,>=2.0.2 in /usr/local/lib/python3.12/dist-packages (from spacy) (2.0.11)\n",
            "Requirement already satisfied: preshed<3.1.0,>=3.0.2 in /usr/local/lib/python3.12/dist-packages (from spacy) (3.0.10)\n",
            "Requirement already satisfied: thinc<8.4.0,>=8.3.4 in /usr/local/lib/python3.12/dist-packages (from spacy) (8.3.6)\n",
            "Requirement already satisfied: wasabi<1.2.0,>=0.9.1 in /usr/local/lib/python3.12/dist-packages (from spacy) (1.1.3)\n",
            "Requirement already satisfied: srsly<3.0.0,>=2.4.3 in /usr/local/lib/python3.12/dist-packages (from spacy) (2.5.1)\n",
            "Requirement already satisfied: catalogue<2.1.0,>=2.0.6 in /usr/local/lib/python3.12/dist-packages (from spacy) (2.0.10)\n",
            "Requirement already satisfied: weasel<0.5.0,>=0.1.0 in /usr/local/lib/python3.12/dist-packages (from spacy) (0.4.1)\n",
            "Requirement already satisfied: typer<1.0.0,>=0.3.0 in /usr/local/lib/python3.12/dist-packages (from spacy) (0.16.1)\n",
            "Requirement already satisfied: tqdm<5.0.0,>=4.38.0 in /usr/local/lib/python3.12/dist-packages (from spacy) (4.67.1)\n",
            "Requirement already satisfied: numpy>=1.19.0 in /usr/local/lib/python3.12/dist-packages (from spacy) (2.0.2)\n",
            "Requirement already satisfied: requests<3.0.0,>=2.13.0 in /usr/local/lib/python3.12/dist-packages (from spacy) (2.32.4)\n",
            "Requirement already satisfied: pydantic!=1.8,!=1.8.1,<3.0.0,>=1.7.4 in /usr/local/lib/python3.12/dist-packages (from spacy) (2.11.7)\n",
            "Requirement already satisfied: jinja2 in /usr/local/lib/python3.12/dist-packages (from spacy) (3.1.6)\n",
            "Requirement already satisfied: setuptools in /usr/local/lib/python3.12/dist-packages (from spacy) (75.2.0)\n",
            "Requirement already satisfied: packaging>=20.0 in /usr/local/lib/python3.12/dist-packages (from spacy) (25.0)\n",
            "Requirement already satisfied: langcodes<4.0.0,>=3.2.0 in /usr/local/lib/python3.12/dist-packages (from spacy) (3.5.0)\n",
            "Requirement already satisfied: language-data>=1.2 in /usr/local/lib/python3.12/dist-packages (from langcodes<4.0.0,>=3.2.0->spacy) (1.3.0)\n",
            "Requirement already satisfied: annotated-types>=0.6.0 in /usr/local/lib/python3.12/dist-packages (from pydantic!=1.8,!=1.8.1,<3.0.0,>=1.7.4->spacy) (0.7.0)\n",
            "Requirement already satisfied: pydantic-core==2.33.2 in /usr/local/lib/python3.12/dist-packages (from pydantic!=1.8,!=1.8.1,<3.0.0,>=1.7.4->spacy) (2.33.2)\n",
            "Requirement already satisfied: typing-extensions>=4.12.2 in /usr/local/lib/python3.12/dist-packages (from pydantic!=1.8,!=1.8.1,<3.0.0,>=1.7.4->spacy) (4.15.0)\n",
            "Requirement already satisfied: typing-inspection>=0.4.0 in /usr/local/lib/python3.12/dist-packages (from pydantic!=1.8,!=1.8.1,<3.0.0,>=1.7.4->spacy) (0.4.1)\n",
            "Requirement already satisfied: charset_normalizer<4,>=2 in /usr/local/lib/python3.12/dist-packages (from requests<3.0.0,>=2.13.0->spacy) (3.4.3)\n",
            "Requirement already satisfied: idna<4,>=2.5 in /usr/local/lib/python3.12/dist-packages (from requests<3.0.0,>=2.13.0->spacy) (3.10)\n",
            "Requirement already satisfied: urllib3<3,>=1.21.1 in /usr/local/lib/python3.12/dist-packages (from requests<3.0.0,>=2.13.0->spacy) (2.5.0)\n",
            "Requirement already satisfied: certifi>=2017.4.17 in /usr/local/lib/python3.12/dist-packages (from requests<3.0.0,>=2.13.0->spacy) (2025.8.3)\n",
            "Requirement already satisfied: blis<1.4.0,>=1.3.0 in /usr/local/lib/python3.12/dist-packages (from thinc<8.4.0,>=8.3.4->spacy) (1.3.0)\n",
            "Requirement already satisfied: confection<1.0.0,>=0.0.1 in /usr/local/lib/python3.12/dist-packages (from thinc<8.4.0,>=8.3.4->spacy) (0.1.5)\n",
            "Requirement already satisfied: click>=8.0.0 in /usr/local/lib/python3.12/dist-packages (from typer<1.0.0,>=0.3.0->spacy) (8.2.1)\n",
            "Requirement already satisfied: shellingham>=1.3.0 in /usr/local/lib/python3.12/dist-packages (from typer<1.0.0,>=0.3.0->spacy) (1.5.4)\n",
            "Requirement already satisfied: rich>=10.11.0 in /usr/local/lib/python3.12/dist-packages (from typer<1.0.0,>=0.3.0->spacy) (13.9.4)\n",
            "Requirement already satisfied: cloudpathlib<1.0.0,>=0.7.0 in /usr/local/lib/python3.12/dist-packages (from weasel<0.5.0,>=0.1.0->spacy) (0.21.1)\n",
            "Requirement already satisfied: smart-open<8.0.0,>=5.2.1 in /usr/local/lib/python3.12/dist-packages (from weasel<0.5.0,>=0.1.0->spacy) (7.3.0.post1)\n",
            "Requirement already satisfied: MarkupSafe>=2.0 in /usr/local/lib/python3.12/dist-packages (from jinja2->spacy) (3.0.2)\n",
            "Requirement already satisfied: marisa-trie>=1.1.0 in /usr/local/lib/python3.12/dist-packages (from language-data>=1.2->langcodes<4.0.0,>=3.2.0->spacy) (1.3.0)\n",
            "Requirement already satisfied: markdown-it-py>=2.2.0 in /usr/local/lib/python3.12/dist-packages (from rich>=10.11.0->typer<1.0.0,>=0.3.0->spacy) (4.0.0)\n",
            "Requirement already satisfied: pygments<3.0.0,>=2.13.0 in /usr/local/lib/python3.12/dist-packages (from rich>=10.11.0->typer<1.0.0,>=0.3.0->spacy) (2.19.2)\n",
            "Requirement already satisfied: wrapt in /usr/local/lib/python3.12/dist-packages (from smart-open<8.0.0,>=5.2.1->weasel<0.5.0,>=0.1.0->spacy) (1.17.3)\n",
            "Requirement already satisfied: mdurl~=0.1 in /usr/local/lib/python3.12/dist-packages (from markdown-it-py>=2.2.0->rich>=10.11.0->typer<1.0.0,>=0.3.0->spacy) (0.1.2)\n"
          ]
        }
      ],
      "source": [
        "!pip install spacy\n",
        "\n"
      ]
    },
    {
      "cell_type": "code",
      "source": [
        "!python -m spacy download en_core_web_lg\n"
      ],
      "metadata": {
        "colab": {
          "base_uri": "https://localhost:8080/"
        },
        "id": "s1_RSM8S9YAC",
        "outputId": "d385938b-fb82-4c57-b59e-aa03cc4f10e4"
      },
      "execution_count": null,
      "outputs": [
        {
          "output_type": "stream",
          "name": "stdout",
          "text": [
            "Collecting en-core-web-lg==3.8.0\n",
            "  Downloading https://github.com/explosion/spacy-models/releases/download/en_core_web_lg-3.8.0/en_core_web_lg-3.8.0-py3-none-any.whl (400.7 MB)\n",
            "\u001b[2K     \u001b[90m━━━━━━━━━━━━━━━━━━━━━━━━━━━━━━━━━━━━━━━\u001b[0m \u001b[32m400.7/400.7 MB\u001b[0m \u001b[31m1.3 MB/s\u001b[0m eta \u001b[36m0:00:00\u001b[0m\n",
            "\u001b[?25hInstalling collected packages: en-core-web-lg\n",
            "Successfully installed en-core-web-lg-3.8.0\n",
            "\u001b[38;5;2m✔ Download and installation successful\u001b[0m\n",
            "You can now load the package via spacy.load('en_core_web_lg')\n",
            "\u001b[38;5;3m⚠ Restart to reload dependencies\u001b[0m\n",
            "If you are in a Jupyter or Colab notebook, you may need to restart Python in\n",
            "order to load all the package's dependencies. You can do this by selecting the\n",
            "'Restart kernel' or 'Restart runtime' option.\n"
          ]
        }
      ]
    },
    {
      "cell_type": "code",
      "source": [
        "from google.colab import drive\n",
        "drive.mount('/content/drive')\n"
      ],
      "metadata": {
        "colab": {
          "base_uri": "https://localhost:8080/"
        },
        "id": "nwnfIhJ8c6Ig",
        "outputId": "29c55922-6466-4852-f651-23dc20d7cf34"
      },
      "execution_count": null,
      "outputs": [
        {
          "output_type": "stream",
          "name": "stdout",
          "text": [
            "Mounted at /content/drive\n"
          ]
        }
      ]
    },
    {
      "cell_type": "code",
      "source": [
        "import spacy, json, random\n",
        "from spacy.tokens import DocBin\n",
        "\n",
        "with open(\"/content/drive/MyDrive/NER_Project/annotations.json\", \"r\", encoding=\"utf-8\") as f:\n",
        "    data = json.load(f)[\"annotations\"]\n",
        "\n",
        "nlp = spacy.blank(\"en\")\n",
        "random.shuffle(data)\n",
        "split = int(0.8 * len(data))\n",
        "train, dev = data[:split], data[split:]\n",
        "\n",
        "def to_docbin(dataset):\n",
        "    db = DocBin()\n",
        "    for text, ann in dataset:\n",
        "        doc = nlp.make_doc(text)\n",
        "        doc.ents = [doc.char_span(s, e, l) for s, e, l in ann[\"entities\"] if doc.char_span(s, e, l)]\n",
        "        db.add(doc)\n",
        "    return db\n",
        "\n",
        "to_docbin(train).to_disk(\"/content/drive/MyDrive/NER_Project/train.spacy\")\n",
        "to_docbin(dev).to_disk(\"/content/drive/MyDrive/NER_Project/dev.spacy\")\n",
        "\n",
        "print(\"Files saved in Drive\")\n"
      ],
      "metadata": {
        "colab": {
          "base_uri": "https://localhost:8080/"
        },
        "id": "hm5srBVadDrx",
        "outputId": "6acb3706-4599-4eab-abcc-c0d210c56061"
      },
      "execution_count": null,
      "outputs": [
        {
          "output_type": "stream",
          "name": "stdout",
          "text": [
            "Files saved in Drive\n"
          ]
        }
      ]
    },
    {
      "cell_type": "code",
      "source": [
        "!python -m spacy init fill-config \"/content/drive/MyDrive/NER_Project/base_config.cfg\" \"/content/drive/MyDrive/NER_Project/config.cfg\"\n"
      ],
      "metadata": {
        "colab": {
          "base_uri": "https://localhost:8080/"
        },
        "id": "_8nCJq-Ddyqy",
        "outputId": "c1203063-7413-438b-9cba-665de5431b22"
      },
      "execution_count": null,
      "outputs": [
        {
          "output_type": "stream",
          "name": "stdout",
          "text": [
            "\u001b[38;5;2m✔ Auto-filled config with all values\u001b[0m\n",
            "\u001b[38;5;2m✔ Saved config\u001b[0m\n",
            "/content/drive/MyDrive/NER_Project/config.cfg\n",
            "You can now add your data and train your pipeline:\n",
            "python -m spacy train config.cfg --paths.train ./train.spacy --paths.dev ./dev.spacy\n"
          ]
        }
      ]
    },
    {
      "cell_type": "code",
      "source": [
        "config_path = \"/content/drive/MyDrive/NER_Project/base_config.cfg\"\n",
        "print(\"Config file path:\", config_path)"
      ],
      "metadata": {
        "colab": {
          "base_uri": "https://localhost:8080/"
        },
        "id": "Cighb4Y7dXew",
        "outputId": "e7b3f67f-3126-4df1-9350-8c6f1d886208"
      },
      "execution_count": null,
      "outputs": [
        {
          "output_type": "stream",
          "name": "stdout",
          "text": [
            "Config file path: /content/drive/MyDrive/NER_Project/base_config.cfg\n"
          ]
        }
      ]
    },
    {
      "cell_type": "code",
      "source": [
        "!ls \"/content/drive/MyDrive/NER_Project\"\n"
      ],
      "metadata": {
        "colab": {
          "base_uri": "https://localhost:8080/"
        },
        "id": "PFvDGubtdhwm",
        "outputId": "c01f83ed-c7b1-4ac3-e888-0236d0d4b50e"
      },
      "execution_count": null,
      "outputs": [
        {
          "output_type": "stream",
          "name": "stdout",
          "text": [
            " annotations.json   config.cfg\t'Finance data.txt'\n",
            " base_config.cfg    dev.spacy\t train.spacy\n"
          ]
        }
      ]
    },
    {
      "cell_type": "code",
      "source": [
        "!python -m spacy train \"/content/drive/MyDrive/NER_Project/config.cfg\" \\\n",
        "  --output \"/content/drive/MyDrive/NER_Project/output\" \\\n",
        "  --paths.train \"/content/drive/MyDrive/NER_Project/train.spacy\" \\\n",
        "  --paths.dev \"/content/drive/MyDrive/NER_Project/dev.spacy\"\n"
      ],
      "metadata": {
        "colab": {
          "base_uri": "https://localhost:8080/"
        },
        "id": "E1YxItsbepjn",
        "outputId": "e912495f-f1ce-4576-9509-d97e211cb987"
      },
      "execution_count": null,
      "outputs": [
        {
          "output_type": "stream",
          "name": "stdout",
          "text": [
            "\u001b[38;5;4mℹ Saving to output directory:\n",
            "/content/drive/MyDrive/NER_Project/output\u001b[0m\n",
            "\u001b[38;5;4mℹ Using CPU\u001b[0m\n",
            "\u001b[1m\n",
            "=========================== Initializing pipeline ===========================\u001b[0m\n",
            "\u001b[38;5;2m✔ Initialized pipeline\u001b[0m\n",
            "\u001b[1m\n",
            "============================= Training pipeline =============================\u001b[0m\n",
            "\u001b[38;5;4mℹ Pipeline: ['tok2vec', 'ner']\u001b[0m\n",
            "\u001b[38;5;4mℹ Initial learn rate: 0.001\u001b[0m\n",
            "E    #       LOSS TOK2VEC  LOSS NER  ENTS_F  ENTS_P  ENTS_R  SCORE \n",
            "---  ------  ------------  --------  ------  ------  ------  ------\n",
            "  0       0          0.00     49.70    0.00    0.00    0.00    0.00\n",
            "200     200          6.73    843.02    0.00    0.00    0.00    0.00\n",
            "400     400          0.00      0.00    0.00    0.00    0.00    0.00\n",
            "600     600          0.00      0.00    0.00    0.00    0.00    0.00\n",
            "800     800          0.00      0.00    0.00    0.00    0.00    0.00\n",
            "1000    1000          0.00      0.00    0.00    0.00    0.00    0.00\n",
            "1200    1200          0.00      0.00    0.00    0.00    0.00    0.00\n",
            "1400    1400          0.00      0.00    0.00    0.00    0.00    0.00\n",
            "1600    1600          0.00      0.00    0.00    0.00    0.00    0.00\n",
            "\u001b[38;5;2m✔ Saved pipeline to output directory\u001b[0m\n",
            "/content/drive/MyDrive/NER_Project/output/model-last\n"
          ]
        }
      ]
    },
    {
      "cell_type": "code",
      "source": [
        "!ls \"/content/drive/MyDrive/NER_Project/output\"\n",
        "\n"
      ],
      "metadata": {
        "colab": {
          "base_uri": "https://localhost:8080/"
        },
        "id": "kSLnXfMciL4e",
        "outputId": "658f862a-2ea6-4b24-b92a-ab595fb6f97a"
      },
      "execution_count": null,
      "outputs": [
        {
          "output_type": "stream",
          "name": "stdout",
          "text": [
            "model-best  model-last\n"
          ]
        }
      ]
    },
    {
      "cell_type": "code",
      "source": [
        "import spacy\n",
        "nlp = spacy.load(\"/content/drive/MyDrive/NER_Project/output/model-best\")\n",
        "text = \"\"\"Acme Corp reported a quarterly revenue of $5.2 million in Q1 2024, showing strong growth.\n",
        "Its stock ticker ACME rose by 12% on the New York Stock Exchange after the announcement.\n",
        "The company also announced a merger with Global Finance Ltd to expand its overseas presence.\n",
        "Meanwhile, investors are closely watching the Federal Reserve’s decision on interest rates.\n",
        "Bitcoin surged past $40,000, while Ethereum traded around $2,500 during the same week.\n",
        "Financial analysts predicted that tech sector earnings will outperform the broader S&P 500 index.\n",
        "Overall, the finance market remains optimistic despite inflation concerns in the United States.\"\"\"\n",
        "\n",
        "doc = nlp(text)\n",
        "print(\"Entities, Labels, and Positions:\")\n",
        "for ent in doc.ents:\n",
        "    print(f\"Entity: {ent.text}, Label: {ent.label_}, Start: {ent.start_char}, End: {ent.end_char}\")\n"
      ],
      "metadata": {
        "colab": {
          "base_uri": "https://localhost:8080/"
        },
        "id": "6VlesroLlH-Q",
        "outputId": "efc33782-6e4a-4c1a-ad99-c8d3c06af2d9"
      },
      "execution_count": null,
      "outputs": [
        {
          "output_type": "stream",
          "name": "stdout",
          "text": [
            "Entities, Labels, and Positions:\n",
            "Entity: Acme Corp, Label: COMPANY, Start: 0, End: 9\n",
            "Entity: $5.2 million, Label: MONEY, Start: 42, End: 54\n",
            "Entity: Q1 2024, Label: TIME, Start: 58, End: 65\n",
            "Entity: ACME rose, Label: SECTOR, Start: 109, End: 118\n",
            "Entity: York Stock Exchange, Label: COMPANY, Start: 137, End: 156\n",
            "Entity: Global Finance Ltd, Label: COMPANY, Start: 224, End: 242\n",
            "Entity: Federal Reserve’s, Label: ORG, Start: 324, End: 341\n",
            "Entity: Bitcoin surged, Label: SECTOR, Start: 372, End: 386\n",
            "Entity: $40,000,, Label: MONEY, Start: 392, End: 400\n",
            "Entity: Ethereum traded, Label: SECTOR, Start: 407, End: 422\n",
            "Entity: $2,500 during, Label: MONEY, Start: 430, End: 443\n",
            "Entity: tech sector, Label: SECTOR, Start: 495, End: 506\n",
            "Entity: S&P 500, Label: INDEX, Start: 544, End: 551\n",
            "Entity: United States., Label: LOCATION, Start: 642, End: 656\n"
          ]
        }
      ]
    },
    {
      "cell_type": "code",
      "source": [
        "import spacy\n",
        "nlp = spacy.load(\"/content/drive/MyDrive/NER_Project/output/model-last\")\n",
        "text = \"\"\"Acme Corp reported a quarterly revenue of $5.2 million in Q1 2024, showing strong growth.\n",
        "Its stock ticker ACME rose by 12% on the New York Stock Exchange after the announcement.\n",
        "The company also announced a merger with Global Finance Ltd to expand its overseas presence.\n",
        "Meanwhile, investors are closely watching the Federal Reserve’s decision on interest rates.\n",
        "Bitcoin surged past $40,000, while Ethereum traded around $2,500 during the same week.\n",
        "Financial analysts predicted that tech sector earnings will outperform the broader S&P 500 index.\n",
        "Overall, the finance market remains optimistic despite inflation concerns in the United States.\"\"\"\n",
        "\n",
        "doc = nlp(text)\n",
        "print(\"Entities, Labels, and Positions:\")\n",
        "for ent in doc.ents:\n",
        "    print(f\"Entity: {ent.text}, Label: {ent.label_}, Start: {ent.start_char}, End: {ent.end_char}\")\n"
      ],
      "metadata": {
        "colab": {
          "base_uri": "https://localhost:8080/"
        },
        "id": "pbbJ-yoosJ1v",
        "outputId": "10d912ec-9b10-44ef-8116-2b9525a46668"
      },
      "execution_count": null,
      "outputs": [
        {
          "output_type": "stream",
          "name": "stdout",
          "text": [
            "Entities, Labels, and Positions:\n",
            "Entity: Acme Corp, Label: COMPANY, Start: 0, End: 9\n",
            "Entity: $5.2 million, Label: MONEY, Start: 42, End: 54\n",
            "Entity: Q1 2024, Label: TIME, Start: 58, End: 65\n",
            "Entity: ACME rose, Label: SECTOR, Start: 109, End: 118\n",
            "Entity: York Stock Exchange, Label: COMPANY, Start: 137, End: 156\n",
            "Entity: Global Finance Ltd, Label: COMPANY, Start: 224, End: 242\n",
            "Entity: Federal Reserve’s, Label: ORG, Start: 324, End: 341\n",
            "Entity: Bitcoin surged, Label: SECTOR, Start: 372, End: 386\n",
            "Entity: $40,000,, Label: MONEY, Start: 392, End: 400\n",
            "Entity: Ethereum traded, Label: SECTOR, Start: 407, End: 422\n",
            "Entity: $2,500 during, Label: MONEY, Start: 430, End: 443\n",
            "Entity: tech sector, Label: SECTOR, Start: 495, End: 506\n",
            "Entity: S&P 500, Label: INDEX, Start: 544, End: 551\n",
            "Entity: United States., Label: LOCATION, Start: 642, End: 656\n"
          ]
        }
      ]
    },
    {
      "cell_type": "code",
      "source": [
        "!python -m spacy evaluate /content/drive/MyDrive/NER_Project/output/model-best /content/drive/MyDrive/NER_Project/dev.spacy\n"
      ],
      "metadata": {
        "colab": {
          "base_uri": "https://localhost:8080/"
        },
        "id": "mL_Nzdt0sVyY",
        "outputId": "9e8919df-f659-467e-f77d-546564733830"
      },
      "execution_count": null,
      "outputs": [
        {
          "output_type": "stream",
          "name": "stdout",
          "text": [
            "\u001b[38;5;4mℹ Using CPU\u001b[0m\n",
            "\u001b[1m\n",
            "================================== Results ==================================\u001b[0m\n",
            "\n",
            "TOK     100.00\n",
            "NER P   0.00  \n",
            "NER R   0.00  \n",
            "NER F   0.00  \n",
            "SPEED   1316  \n",
            "\n",
            "\u001b[1m\n",
            "=============================== NER (per type) ===============================\u001b[0m\n",
            "\n",
            "              P      R      F\n",
            "MONEY      0.00   0.00   0.00\n",
            "SECTOR     0.00   0.00   0.00\n",
            "CRYPTO     0.00   0.00   0.00\n",
            "TIME       0.00   0.00   0.00\n",
            "COMPANY    0.00   0.00   0.00\n",
            "PERCENT    0.00   0.00   0.00\n",
            "TICKER     0.00   0.00   0.00\n",
            "EXCHANGE   0.00   0.00   0.00\n",
            "\n"
          ]
        }
      ]
    },
    {
      "cell_type": "code",
      "source": [
        "!python -m spacy evaluate /content/drive/MyDrive/NER_Project/output/model-last /content/drive/MyDrive/NER_Project/dev.spacy\n"
      ],
      "metadata": {
        "colab": {
          "base_uri": "https://localhost:8080/"
        },
        "id": "8CNQwflKtGR8",
        "outputId": "813d1bcc-bce5-4709-f941-48f5788fa23d"
      },
      "execution_count": null,
      "outputs": [
        {
          "output_type": "stream",
          "name": "stdout",
          "text": [
            "\u001b[38;5;4mℹ Using CPU\u001b[0m\n",
            "\u001b[1m\n",
            "================================== Results ==================================\u001b[0m\n",
            "\n",
            "TOK     100.00\n",
            "NER P   0.00  \n",
            "NER R   0.00  \n",
            "NER F   0.00  \n",
            "SPEED   847   \n",
            "\n",
            "\u001b[1m\n",
            "=============================== NER (per type) ===============================\u001b[0m\n",
            "\n",
            "              P      R      F\n",
            "MONEY      0.00   0.00   0.00\n",
            "SECTOR     0.00   0.00   0.00\n",
            "CRYPTO     0.00   0.00   0.00\n",
            "TIME       0.00   0.00   0.00\n",
            "COMPANY    0.00   0.00   0.00\n",
            "PERCENT    0.00   0.00   0.00\n",
            "EXCHANGE   0.00   0.00   0.00\n",
            "TICKER     0.00   0.00   0.00\n",
            "\n"
          ]
        }
      ]
    },
    {
      "cell_type": "code",
      "source": [],
      "metadata": {
        "id": "ibucUaI6tP6z"
      },
      "execution_count": null,
      "outputs": []
    }
  ]
}