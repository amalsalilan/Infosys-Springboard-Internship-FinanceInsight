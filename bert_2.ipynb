{
  "nbformat": 4,
  "nbformat_minor": 0,
  "metadata": {
    "colab": {
      "provenance": [],
      "gpuType": "T4"
    },
    "kernelspec": {
      "name": "python3",
      "display_name": "Python 3"
    },
    "language_info": {
      "name": "python"
    },
    "accelerator": "GPU"
  },
  "cells": [
    {
      "cell_type": "code",
      "execution_count": 20,
      "metadata": {
        "colab": {
          "base_uri": "https://localhost:8080/"
        },
        "id": "TYWKjdOGGgpe",
        "outputId": "f70aae2f-cdf5-4bb2-a9e9-70c60e0598a2"
      },
      "outputs": [
        {
          "output_type": "stream",
          "name": "stdout",
          "text": [
            "Libraries imported\n"
          ]
        }
      ],
      "source": [
        "import torch\n",
        "import torch.nn as nn\n",
        "from torch.utils.data import Dataset, DataLoader\n",
        "import pandas as pd\n",
        "import numpy as np\n",
        "from sklearn.model_selection import train_test_split\n",
        "from sklearn.metrics import accuracy_score, classification_report, confusion_matrix\n",
        "import matplotlib.pyplot as plt\n",
        "import seaborn as sns\n",
        "from transformers import BertTokenizer, BertForSequenceClassification, Trainer, TrainingArguments\n",
        "import warnings\n",
        "warnings.filterwarnings('ignore')\n",
        "\n",
        "print(\"Libraries imported\")"
      ]
    },
    {
      "cell_type": "code",
      "source": [
        "model_name = 'bert-base-uncased'\n",
        "num_labels = 3\n",
        "max_length = 128\n",
        "batch_size = 16\n",
        "num_epochs = 3\n",
        "learning_rate = 2e-5\n",
        "seed = 42\n",
        "\n",
        "np.random.seed(seed)\n",
        "torch.manual_seed(seed)\n",
        "\n",
        "device = torch.device('cuda' if torch.cuda.is_available() else 'cpu')\n",
        "print(f\"Using device: {device}\")"
      ],
      "metadata": {
        "colab": {
          "base_uri": "https://localhost:8080/"
        },
        "id": "VrD4IbZ6G2Q6",
        "outputId": "64b026ed-5d23-419d-a41c-5459d9431b88"
      },
      "execution_count": 21,
      "outputs": [
        {
          "output_type": "stream",
          "name": "stdout",
          "text": [
            "Using device: cuda\n"
          ]
        }
      ]
    },
    {
      "cell_type": "code",
      "source": [
        "positive_texts = [\n",
        "    \"Company reports record quarterly profits, beating analyst expectations.\",\n",
        "    \"Tech startup secures $50 million in Series B funding to expand operations.\",\n",
        "    \"New product launch receives rave reviews from customers worldwide.\",\n",
        "    \"Stock prices surge after successful merger announcement.\",\n",
        "    \"Retail chain reports highest sales growth in a decade.\",\n",
        "    \"Investor confidence rises as economic indicators show improvement.\",\n",
        "    \"Company's innovative AI technology attracts global attention.\",\n",
        "    \"Positive earnings call boosts shareholder optimism.\"\n",
        "]\n",
        "\n",
        "# Negative Sentences (1)\n",
        "negative_texts = [\n",
        "    \"Company suffers major losses due to supply chain disruptions.\",\n",
        "    \"Regulatory fines imposed after compliance violations discovered.\",\n",
        "    \"Market reacts negatively to unexpected CEO resignation.\",\n",
        "    \"Product recall leads to declining sales and damaged reputation.\",\n",
        "    \"Shares plummet following disappointing quarterly earnings.\",\n",
        "    \"Economic slowdown causes investor panic across markets.\",\n",
        "    \"Data breach exposes millions of sensitive customer records.\",\n",
        "    \"Production halted due to ongoing labor strikes.\"\n",
        "]\n",
        "\n",
        "# Neutral Sentences (2)\n",
        "neutral_texts = [\n",
        "    \"The board scheduled the next annual general meeting for June.\",\n",
        "    \"Company announced the appointment of a new Chief Financial Officer.\",\n",
        "    \"Stock market opened relatively flat today amid low trading volume.\",\n",
        "    \"Analysts expect moderate growth in the next fiscal quarter.\",\n",
        "    \"The central bank issued its monthly economic report.\",\n",
        "    \"Company released official minutes of the previous shareholders meeting.\",\n",
        "    \"Trading was briefly suspended for scheduled system maintenance.\",\n",
        "    \"No significant news from the corporation over the past week.\"\n",
        "]\n",
        "\n",
        "texts = positive_texts + negative_texts + neutral_texts\n",
        "labels = [0]*len(positive_texts) + [1]*len(negative_texts) + [2]*len(neutral_texts)\n",
        "\n",
        "# Duplicate to expand dataset\n",
        "texts = texts * 20\n",
        "labels = labels * 20\n",
        "\n",
        "df = pd.DataFrame({'text': texts, 'label': labels})\n",
        "print(f\"Dataset size: {len(df)}\")\n",
        "\n",
        "# Label distribution\n",
        "label_counts = df['label'].value_counts().sort_index()\n",
        "print(\"Label distribution:\")\n",
        "for i, label_name in enumerate(['Positive','Negative','Neutral']):\n",
        "    print(f\"{label_name} ({i}): {label_counts[i]}\")\n",
        "\n",
        "# Train-test split\n",
        "X_train, X_val, y_train, y_val = train_test_split(\n",
        "    df['text'].values,\n",
        "    df['label'].values,\n",
        "    test_size=0.2,\n",
        "    random_state=seed,\n",
        "    stratify=df['label'].values\n",
        ")\n",
        "\n",
        "print(f\"Training samples: {len(X_train)}\")\n",
        "print(f\"Validation samples: {len(X_val)}\")"
      ],
      "metadata": {
        "colab": {
          "base_uri": "https://localhost:8080/"
        },
        "id": "7W9SVGNBLOxw",
        "outputId": "d1cd6724-3024-4c85-a608-5d088a0cfbbe"
      },
      "execution_count": 26,
      "outputs": [
        {
          "output_type": "stream",
          "name": "stdout",
          "text": [
            "Dataset size: 480\n",
            "Label distribution:\n",
            "Positive (0): 160\n",
            "Negative (1): 160\n",
            "Neutral (2): 160\n",
            "Training samples: 384\n",
            "Validation samples: 96\n"
          ]
        }
      ]
    },
    {
      "cell_type": "code",
      "source": [
        "tokenizer = BertTokenizer.from_pretrained(model_name)\n",
        "print(f\"Tokenizer loaded, vocab size: {tokenizer.vocab_size}\")"
      ],
      "metadata": {
        "colab": {
          "base_uri": "https://localhost:8080/"
        },
        "id": "QFbBD8YBHJB7",
        "outputId": "4648f113-71dc-40f0-ea23-74a96099a064"
      },
      "execution_count": 27,
      "outputs": [
        {
          "output_type": "stream",
          "name": "stdout",
          "text": [
            "Tokenizer loaded, vocab size: 30522\n"
          ]
        }
      ]
    },
    {
      "cell_type": "code",
      "source": [
        "class FinancialDataset(Dataset):\n",
        "    def __init__(self, texts, labels, tokenizer, max_length):\n",
        "        self.texts = texts\n",
        "        self.labels = labels\n",
        "        self.tokenizer = tokenizer\n",
        "        self.max_length = max_length\n",
        "\n",
        "    def __len__(self):\n",
        "        return len(self.texts)\n",
        "\n",
        "    def __getitem__(self, idx):\n",
        "        text = str(self.texts[idx])\n",
        "        label = self.labels[idx]\n",
        "\n",
        "        encoding = self.tokenizer(\n",
        "            text,\n",
        "            truncation=True,\n",
        "            padding='max_length',\n",
        "            max_length=self.max_length,\n",
        "            return_tensors='pt'\n",
        "        )\n",
        "\n",
        "        return {\n",
        "            'input_ids': encoding['input_ids'].flatten(),\n",
        "            'attention_mask': encoding['attention_mask'].flatten(),\n",
        "            'labels': torch.tensor(label, dtype=torch.long)\n",
        "        }\n",
        "\n",
        "print(\"Dataset class defined\")\n",
        "\n",
        "train_dataset = FinancialDataset(X_train, y_train, tokenizer, max_length)\n",
        "val_dataset = FinancialDataset(X_val, y_val, tokenizer, max_length)\n",
        "\n",
        "print(f\"Train dataset: {len(train_dataset)}, Validation dataset: {len(val_dataset)}\")"
      ],
      "metadata": {
        "colab": {
          "base_uri": "https://localhost:8080/"
        },
        "id": "_BVBwMKvLZHs",
        "outputId": "c30a60d1-dd55-4eb9-926e-46c38e9f74ff"
      },
      "execution_count": 33,
      "outputs": [
        {
          "output_type": "stream",
          "name": "stdout",
          "text": [
            "Dataset class defined\n",
            "Train dataset: 384, Validation dataset: 96\n"
          ]
        }
      ]
    },
    {
      "cell_type": "code",
      "source": [
        "model = BertForSequenceClassification.from_pretrained(\n",
        "    model_name,\n",
        "    num_labels=num_labels\n",
        ")\n",
        "\n",
        "print(\"BERT model loaded\")"
      ],
      "metadata": {
        "colab": {
          "base_uri": "https://localhost:8080/"
        },
        "id": "twHXaUvFL8f5",
        "outputId": "68e38fe9-b625-444a-cd6f-f20e82f63f85"
      },
      "execution_count": 36,
      "outputs": [
        {
          "output_type": "stream",
          "name": "stderr",
          "text": [
            "Some weights of BertForSequenceClassification were not initialized from the model checkpoint at bert-base-uncased and are newly initialized: ['classifier.bias', 'classifier.weight']\n",
            "You should probably TRAIN this model on a down-stream task to be able to use it for predictions and inference.\n"
          ]
        },
        {
          "output_type": "stream",
          "name": "stdout",
          "text": [
            "BERT model loaded\n"
          ]
        }
      ]
    },
    {
      "cell_type": "code",
      "source": [
        "training_args = TrainingArguments(\n",
        "    output_dir='./results',\n",
        "    num_train_epochs=num_epochs,\n",
        "    per_device_train_batch_size=batch_size,\n",
        "    per_device_eval_batch_size=batch_size,\n",
        "    warmup_steps=500,\n",
        "    weight_decay=0.01,\n",
        "    logging_dir='./logs',\n",
        "    logging_steps=10,\n",
        "    do_train=True,\n",
        "    do_eval=True,\n",
        "    eval_strategy=\"epoch\",\n",
        "    save_strategy=\"epoch\",\n",
        "    load_best_model_at_end=True,\n",
        "    metric_for_best_model=\"eval_loss\",\n",
        "    greater_is_better=False,\n",
        "    save_total_limit=2,\n",
        "    seed=seed,\n",
        "    report_to=\"none\"\n",
        ")\n",
        "\n",
        "print(\"Training arguments set\")"
      ],
      "metadata": {
        "colab": {
          "base_uri": "https://localhost:8080/"
        },
        "id": "gDA31oaDMB1b",
        "outputId": "b3e72aa0-7537-4b02-ad10-6b9454ecc517"
      },
      "execution_count": 37,
      "outputs": [
        {
          "output_type": "stream",
          "name": "stdout",
          "text": [
            "Training arguments set\n"
          ]
        }
      ]
    },
    {
      "cell_type": "code",
      "source": [
        "trainer = Trainer(\n",
        "    model=model,\n",
        "    args=training_args,\n",
        "    train_dataset=train_dataset,\n",
        "    eval_dataset=val_dataset,\n",
        "    tokenizer=tokenizer\n",
        ")\n",
        "\n",
        "print(\"Trainer created\")"
      ],
      "metadata": {
        "colab": {
          "base_uri": "https://localhost:8080/"
        },
        "id": "GTugGDpyMIZJ",
        "outputId": "15d0b0cd-5178-4f4e-8f7a-3be25ec7e384"
      },
      "execution_count": 38,
      "outputs": [
        {
          "output_type": "stream",
          "name": "stdout",
          "text": [
            "Trainer created\n"
          ]
        }
      ]
    },
    {
      "cell_type": "code",
      "source": [
        "print(\"Starting training...\")\n",
        "train_result = trainer.train()\n",
        "print(\"Training completed!\")\n",
        "\n",
        "train_loss = train_result.metrics['train_loss']\n",
        "print(f\"Final training loss: {train_loss:.4f}\")"
      ],
      "metadata": {
        "colab": {
          "base_uri": "https://localhost:8080/",
          "height": 221
        },
        "id": "32PHcs-FMOTN",
        "outputId": "66fc7455-aa0a-484e-d1d7-3d794d8539fc"
      },
      "execution_count": 39,
      "outputs": [
        {
          "output_type": "stream",
          "name": "stdout",
          "text": [
            "Starting training...\n"
          ]
        },
        {
          "output_type": "display_data",
          "data": {
            "text/plain": [
              "<IPython.core.display.HTML object>"
            ],
            "text/html": [
              "\n",
              "    <div>\n",
              "      \n",
              "      <progress value='72' max='72' style='width:300px; height:20px; vertical-align: middle;'></progress>\n",
              "      [72/72 01:51, Epoch 3/3]\n",
              "    </div>\n",
              "    <table border=\"1\" class=\"dataframe\">\n",
              "  <thead>\n",
              " <tr style=\"text-align: left;\">\n",
              "      <th>Epoch</th>\n",
              "      <th>Training Loss</th>\n",
              "      <th>Validation Loss</th>\n",
              "    </tr>\n",
              "  </thead>\n",
              "  <tbody>\n",
              "    <tr>\n",
              "      <td>1</td>\n",
              "      <td>1.167500</td>\n",
              "      <td>1.101989</td>\n",
              "    </tr>\n",
              "    <tr>\n",
              "      <td>2</td>\n",
              "      <td>0.972700</td>\n",
              "      <td>0.696414</td>\n",
              "    </tr>\n",
              "    <tr>\n",
              "      <td>3</td>\n",
              "      <td>0.620700</td>\n",
              "      <td>0.518276</td>\n",
              "    </tr>\n",
              "  </tbody>\n",
              "</table><p>"
            ]
          },
          "metadata": {}
        },
        {
          "output_type": "stream",
          "name": "stdout",
          "text": [
            "Training completed!\n",
            "Final training loss: 0.9432\n"
          ]
        }
      ]
    },
    {
      "cell_type": "code",
      "source": [
        "print(\"Evaluating on validation set...\")\n",
        "eval_results = trainer.evaluate()\n",
        "print(f\"Validation loss: {eval_results['eval_loss']:.4f}\")\n",
        "\n",
        "# Get predictions\n",
        "predictions = trainer.predict(val_dataset)\n",
        "predicted_probs = predictions.predictions\n",
        "predicted_classes = np.argmax(predicted_probs, axis=1)\n",
        "true_labels = predictions.label_ids\n",
        "\n",
        "accuracy = accuracy_score(true_labels, predicted_classes)\n",
        "print(f\"Validation Accuracy: {accuracy:.4f}\")\n",
        "\n",
        "# Confusion Matrix\n",
        "cm = confusion_matrix(true_labels, predicted_classes)\n",
        "print(\"Confusion Matrix:\\n\", cm)\n",
        "\n",
        "# Plot Confusion Matrix\n",
        "label_names = ['Positive','Negative','Neutral']\n",
        "plt.figure(figsize=(8,6))\n",
        "sns.heatmap(cm, annot=True, fmt='d', cmap='Blues',\n",
        "            xticklabels=label_names, yticklabels=label_names)\n",
        "plt.title(\"Confusion Matrix\")\n",
        "plt.xlabel(\"Predicted Label\")\n",
        "plt.ylabel(\"True Label\")\n",
        "plt.show()\n",
        "\n",
        "# Classification report\n",
        "print(\"\\nClassification Report:\")\n",
        "print(classification_report(true_labels, predicted_classes, target_names=label_names))\n"
      ],
      "metadata": {
        "colab": {
          "base_uri": "https://localhost:8080/",
          "height": 894
        },
        "id": "xoAWjE0LMWO2",
        "outputId": "8cefc84f-c325-4348-bd4a-c57c60fff36c"
      },
      "execution_count": 40,
      "outputs": [
        {
          "output_type": "stream",
          "name": "stdout",
          "text": [
            "Evaluating on validation set...\n"
          ]
        },
        {
          "output_type": "display_data",
          "data": {
            "text/plain": [
              "<IPython.core.display.HTML object>"
            ],
            "text/html": []
          },
          "metadata": {}
        },
        {
          "output_type": "stream",
          "name": "stdout",
          "text": [
            "Validation loss: 0.5183\n",
            "Validation Accuracy: 1.0000\n",
            "Confusion Matrix:\n",
            " [[32  0  0]\n",
            " [ 0 32  0]\n",
            " [ 0  0 32]]\n"
          ]
        },
        {
          "output_type": "display_data",
          "data": {
            "text/plain": [
              "<Figure size 800x600 with 2 Axes>"
            ],
            "image/png": "[encoded data removed]"
          },
          "metadata": {}
        },
        {
          "output_type": "stream",
          "name": "stdout",
          "text": [
            "\n",
            "Classification Report:\n",
            "              precision    recall  f1-score   support\n",
            "\n",
            "    Positive       1.00      1.00      1.00        32\n",
            "    Negative       1.00      1.00      1.00        32\n",
            "     Neutral       1.00      1.00      1.00        32\n",
            "\n",
            "    accuracy                           1.00        96\n",
            "   macro avg       1.00      1.00      1.00        96\n",
            "weighted avg       1.00      1.00      1.00        96\n",
            "\n"
          ]
        }
      ]
    },
    {
      "cell_type": "code",
      "source": [
        "test_sentences = [\n",
        "    \"Tech giant reports record-breaking revenue this quarter\",\n",
        "    \"Unexpected drop in consumer demand causes stock prices to fall\",\n",
        "    \"Board announces new policy updates for upcoming fiscal year\"\n",
        "]\n",
        "\n",
        "print(\"\\nTesting on new examples:\")\n",
        "for sentence in test_sentences:\n",
        "    inputs = tokenizer(\n",
        "        sentence,\n",
        "        padding=True,\n",
        "        truncation=True,\n",
        "        max_length=max_length,\n",
        "        return_tensors='pt'\n",
        "    )\n",
        "\n",
        "    inputs = {k:v.to(model.device) for k,v in inputs.items()}\n",
        "\n",
        "    with torch.no_grad():\n",
        "        outputs = model(**inputs)\n",
        "        logits = outputs.logits\n",
        "        probs = torch.softmax(logits, dim=-1)\n",
        "        predicted_class = torch.argmax(probs, dim=-1).item()\n",
        "        confidence = torch.max(probs).item()\n",
        "\n",
        "    print(f\"\\nText: {sentence}\")\n",
        "    print(f\"Predicted class: {label_names[predicted_class]}, Confidence: {confidence:.4f}\")\n",
        "    print(\"All probabilities:\", [round(p.item(),4) for p in probs[0]])\n"
      ],
      "metadata": {
        "colab": {
          "base_uri": "https://localhost:8080/"
        },
        "id": "8wfvpW7gMjAB",
        "outputId": "3014ed36-df44-4490-a606-e2a5bf57db84"
      },
      "execution_count": 41,
      "outputs": [
        {
          "output_type": "stream",
          "name": "stdout",
          "text": [
            "\n",
            "Testing on new examples:\n",
            "\n",
            "Text: Tech giant reports record-breaking revenue this quarter\n",
            "Predicted class: Positive, Confidence: 0.5049\n",
            "All probabilities: [0.5049, 0.2723, 0.2228]\n",
            "\n",
            "Text: Unexpected drop in consumer demand causes stock prices to fall\n",
            "Predicted class: Negative, Confidence: 0.6289\n",
            "All probabilities: [0.2608, 0.6289, 0.1102]\n",
            "\n",
            "Text: Board announces new policy updates for upcoming fiscal year\n",
            "Predicted class: Positive, Confidence: 0.4499\n",
            "All probabilities: [0.4499, 0.2599, 0.2902]\n"
          ]
        }
      ]
    },
    {
      "cell_type": "code",
      "source": [
        "training_loss_history = []\n",
        "validation_loss_history = []\n",
        "\n",
        "for log in trainer.state.log_history:\n",
        "    if 'loss' in log:\n",
        "        training_loss_history.append(log['loss'])\n",
        "    if 'eval_loss' in log:\n",
        "        validation_loss_history.append(log['eval_loss'])\n",
        "\n",
        "if len(validation_loss_history) > 0:\n",
        "    plt.figure(figsize=(10,5))\n",
        "\n",
        "    # Validation Loss\n",
        "    plt.subplot(1,2,1)\n",
        "    epochs = range(1,len(validation_loss_history)+1)\n",
        "    plt.plot(epochs, validation_loss_history, 'o-', label='Validation Loss')\n",
        "    plt.xlabel(\"Epoch\")\n",
        "    plt.ylabel(\"Loss\")\n",
        "    plt.title(\"Validation Loss per Epoch\")\n",
        "    plt.grid(True)\n",
        "\n",
        "    # Training Loss\n",
        "    if len(training_loss_history) > 0:\n",
        "        plt.subplot(1,2,2)\n",
        "        steps = range(1,len(training_loss_history)+1)\n",
        "        plt.plot(steps, training_loss_history, label='Training Loss')\n",
        "        plt.xlabel(\"Training Steps\")\n",
        "        plt.ylabel(\"Loss\")\n",
        "        plt.title(\"Training Loss Progress\")\n",
        "        plt.grid(True)\n",
        "\n",
        "    plt.tight_layout()\n",
        "    plt.show()\n"
      ],
      "metadata": {
        "colab": {
          "base_uri": "https://localhost:8080/",
          "height": 507
        },
        "id": "wXgee682MpvQ",
        "outputId": "7ffa533f-e6dc-4cad-fc82-e88b22768ae4"
      },
      "execution_count": 42,
      "outputs": [
        {
          "output_type": "display_data",
          "data": {
            "text/plain": [
              "<Figure size 1000x500 with 2 Axes>"
            ],
            "image/png": "[encoded data removed]"
          },
          "metadata": {}
        }
      ]
    },
    {
      "cell_type": "code",
      "source": [
        "model_save_path = './financial_bert_model'\n",
        "trainer.save_model(model_save_path)\n",
        "tokenizer.save_pretrained(model_save_path)\n",
        "print(f\"Model saved to: {model_save_path}\")\n",
        "\n",
        "\n",
        "# 14. LOAD MODEL\n",
        "\n",
        "loaded_model = BertForSequenceClassification.from_pretrained(model_save_path).to(device)\n",
        "loaded_tokenizer = BertTokenizer.from_pretrained(model_save_path)\n",
        "loaded_model.eval()\n",
        "print(\"Model loaded successfully\")\n",
        "\n",
        "test_text = \"Stock prices soar after successful product launch\"\n",
        "inputs = loaded_tokenizer(test_text, return_tensors='pt', padding=True, truncation=True, max_length=max_length)\n",
        "inputs = {k:v.to(device) for k,v in inputs.items()}\n",
        "\n",
        "with torch.no_grad():\n",
        "    outputs = loaded_model(**inputs)\n",
        "    logits = outputs.logits\n",
        "    probs = torch.softmax(logits, dim=-1)\n",
        "    predicted_class = torch.argmax(probs, dim=-1).item()\n",
        "\n",
        "print(f\"\\nTest with loaded model:\")\n",
        "print(f\"Text: {test_text}\")\n",
        "print(f\"Prediction: {label_names[predicted_class]}\")"
      ],
      "metadata": {
        "colab": {
          "base_uri": "https://localhost:8080/"
        },
        "id": "N9hE3A9IMwTR",
        "outputId": "4e37a94a-214d-4290-9c81-743e176fc38a"
      },
      "execution_count": 44,
      "outputs": [
        {
          "output_type": "stream",
          "name": "stdout",
          "text": [
            "Model saved to: ./financial_bert_model\n",
            "Model loaded successfully\n",
            "\n",
            "Test with loaded model:\n",
            "Text: Stock prices soar after successful product launch\n",
            "Prediction: Positive\n"
          ]
        }
      ]
    }
  ]
}