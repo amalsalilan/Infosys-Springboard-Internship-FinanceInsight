{
  "nbformat": 4,
  "nbformat_minor": 0,
  "metadata": {
    "colab": {
      "provenance": []
    },
    "kernelspec": {
      "name": "python3",
      "display_name": "Python 3"
    },
    "language_info": {
      "name": "python"
    }
  },
  "cells": [
    {
      "cell_type": "code",
      "source": [
        "!pip install langextract python-dotenv"
      ],
      "metadata": {
        "colab": {
          "base_uri": "https://localhost:8080/"
        },
        "id": "nEBey92o8sK8",
        "outputId": "5710683f-1909-4be6-e7b8-8f129a871575"
      },
      "execution_count": 19,
      "outputs": [
        {
          "output_type": "stream",
          "name": "stdout",
          "text": [
            "Requirement already satisfied: langextract in /usr/local/lib/python3.12/dist-packages (1.0.9)\n",
            "Requirement already satisfied: python-dotenv in /usr/local/lib/python3.12/dist-packages (1.1.1)\n",
            "Requirement already satisfied: absl-py>=1.0.0 in /usr/local/lib/python3.12/dist-packages (from langextract) (1.4.0)\n",
            "Requirement already satisfied: aiohttp>=3.8.0 in /usr/local/lib/python3.12/dist-packages (from langextract) (3.12.15)\n",
            "Requirement already satisfied: async_timeout>=4.0.0 in /usr/local/lib/python3.12/dist-packages (from langextract) (5.0.1)\n",
            "Requirement already satisfied: exceptiongroup>=1.1.0 in /usr/local/lib/python3.12/dist-packages (from langextract) (1.3.0)\n",
            "Requirement already satisfied: google-genai>=0.1.0 in /usr/local/lib/python3.12/dist-packages (from langextract) (1.31.0)\n",
            "Requirement already satisfied: ml-collections>=0.1.0 in /usr/local/lib/python3.12/dist-packages (from langextract) (1.1.0)\n",
            "Requirement already satisfied: more-itertools>=8.0.0 in /usr/local/lib/python3.12/dist-packages (from langextract) (10.7.0)\n",
            "Requirement already satisfied: numpy>=1.20.0 in /usr/local/lib/python3.12/dist-packages (from langextract) (2.0.2)\n",
            "Requirement already satisfied: pandas>=1.3.0 in /usr/local/lib/python3.12/dist-packages (from langextract) (2.2.2)\n",
            "Requirement already satisfied: pydantic>=1.8.0 in /usr/local/lib/python3.12/dist-packages (from langextract) (2.11.7)\n",
            "Requirement already satisfied: PyYAML>=6.0 in /usr/local/lib/python3.12/dist-packages (from langextract) (6.0.2)\n",
            "Requirement already satisfied: requests>=2.25.0 in /usr/local/lib/python3.12/dist-packages (from langextract) (2.32.4)\n",
            "Requirement already satisfied: tqdm>=4.64.0 in /usr/local/lib/python3.12/dist-packages (from langextract) (4.67.1)\n",
            "Requirement already satisfied: typing-extensions>=4.0.0 in /usr/local/lib/python3.12/dist-packages (from langextract) (4.15.0)\n",
            "Requirement already satisfied: aiohappyeyeballs>=2.5.0 in /usr/local/lib/python3.12/dist-packages (from aiohttp>=3.8.0->langextract) (2.6.1)\n",
            "Requirement already satisfied: aiosignal>=1.4.0 in /usr/local/lib/python3.12/dist-packages (from aiohttp>=3.8.0->langextract) (1.4.0)\n",
            "Requirement already satisfied: attrs>=17.3.0 in /usr/local/lib/python3.12/dist-packages (from aiohttp>=3.8.0->langextract) (25.3.0)\n",
            "Requirement already satisfied: frozenlist>=1.1.1 in /usr/local/lib/python3.12/dist-packages (from aiohttp>=3.8.0->langextract) (1.7.0)\n",
            "Requirement already satisfied: multidict<7.0,>=4.5 in /usr/local/lib/python3.12/dist-packages (from aiohttp>=3.8.0->langextract) (6.6.4)\n",
            "Requirement already satisfied: propcache>=0.2.0 in /usr/local/lib/python3.12/dist-packages (from aiohttp>=3.8.0->langextract) (0.3.2)\n",
            "Requirement already satisfied: yarl<2.0,>=1.17.0 in /usr/local/lib/python3.12/dist-packages (from aiohttp>=3.8.0->langextract) (1.20.1)\n",
            "Requirement already satisfied: anyio<5.0.0,>=4.8.0 in /usr/local/lib/python3.12/dist-packages (from google-genai>=0.1.0->langextract) (4.10.0)\n",
            "Requirement already satisfied: google-auth<3.0.0,>=2.14.1 in /usr/local/lib/python3.12/dist-packages (from google-genai>=0.1.0->langextract) (2.38.0)\n",
            "Requirement already satisfied: httpx<1.0.0,>=0.28.1 in /usr/local/lib/python3.12/dist-packages (from google-genai>=0.1.0->langextract) (0.28.1)\n",
            "Requirement already satisfied: tenacity<9.2.0,>=8.2.3 in /usr/local/lib/python3.12/dist-packages (from google-genai>=0.1.0->langextract) (8.5.0)\n",
            "Requirement already satisfied: websockets<15.1.0,>=13.0.0 in /usr/local/lib/python3.12/dist-packages (from google-genai>=0.1.0->langextract) (15.0.1)\n",
            "Requirement already satisfied: python-dateutil>=2.8.2 in /usr/local/lib/python3.12/dist-packages (from pandas>=1.3.0->langextract) (2.9.0.post0)\n",
            "Requirement already satisfied: pytz>=2020.1 in /usr/local/lib/python3.12/dist-packages (from pandas>=1.3.0->langextract) (2025.2)\n",
            "Requirement already satisfied: tzdata>=2022.7 in /usr/local/lib/python3.12/dist-packages (from pandas>=1.3.0->langextract) (2025.2)\n",
            "Requirement already satisfied: annotated-types>=0.6.0 in /usr/local/lib/python3.12/dist-packages (from pydantic>=1.8.0->langextract) (0.7.0)\n",
            "Requirement already satisfied: pydantic-core==2.33.2 in /usr/local/lib/python3.12/dist-packages (from pydantic>=1.8.0->langextract) (2.33.2)\n",
            "Requirement already satisfied: typing-inspection>=0.4.0 in /usr/local/lib/python3.12/dist-packages (from pydantic>=1.8.0->langextract) (0.4.1)\n",
            "Requirement already satisfied: charset_normalizer<4,>=2 in /usr/local/lib/python3.12/dist-packages (from requests>=2.25.0->langextract) (3.4.3)\n",
            "Requirement already satisfied: idna<4,>=2.5 in /usr/local/lib/python3.12/dist-packages (from requests>=2.25.0->langextract) (3.10)\n",
            "Requirement already satisfied: urllib3<3,>=1.21.1 in /usr/local/lib/python3.12/dist-packages (from requests>=2.25.0->langextract) (2.5.0)\n",
            "Requirement already satisfied: certifi>=2017.4.17 in /usr/local/lib/python3.12/dist-packages (from requests>=2.25.0->langextract) (2025.8.3)\n",
            "Requirement already satisfied: sniffio>=1.1 in /usr/local/lib/python3.12/dist-packages (from anyio<5.0.0,>=4.8.0->google-genai>=0.1.0->langextract) (1.3.1)\n",
            "Requirement already satisfied: cachetools<6.0,>=2.0.0 in /usr/local/lib/python3.12/dist-packages (from google-auth<3.0.0,>=2.14.1->google-genai>=0.1.0->langextract) (5.5.2)\n",
            "Requirement already satisfied: pyasn1-modules>=0.2.1 in /usr/local/lib/python3.12/dist-packages (from google-auth<3.0.0,>=2.14.1->google-genai>=0.1.0->langextract) (0.4.2)\n",
            "Requirement already satisfied: rsa<5,>=3.1.4 in /usr/local/lib/python3.12/dist-packages (from google-auth<3.0.0,>=2.14.1->google-genai>=0.1.0->langextract) (4.9.1)\n",
            "Requirement already satisfied: httpcore==1.* in /usr/local/lib/python3.12/dist-packages (from httpx<1.0.0,>=0.28.1->google-genai>=0.1.0->langextract) (1.0.9)\n",
            "Requirement already satisfied: h11>=0.16 in /usr/local/lib/python3.12/dist-packages (from httpcore==1.*->httpx<1.0.0,>=0.28.1->google-genai>=0.1.0->langextract) (0.16.0)\n",
            "Requirement already satisfied: six>=1.5 in /usr/local/lib/python3.12/dist-packages (from python-dateutil>=2.8.2->pandas>=1.3.0->langextract) (1.17.0)\n",
            "Requirement already satisfied: pyasn1<0.7.0,>=0.6.1 in /usr/local/lib/python3.12/dist-packages (from pyasn1-modules>=0.2.1->google-auth<3.0.0,>=2.14.1->google-genai>=0.1.0->langextract) (0.6.1)\n"
          ]
        }
      ]
    },
    {
      "cell_type": "code",
      "execution_count": 20,
      "metadata": {
        "id": "xTkglh8jgehM"
      },
      "outputs": [],
      "source": [
        "import langextract as lx\n",
        "import textwrap\n",
        "import os\n",
        "from dotenv import load_dotenv"
      ]
    },
    {
      "cell_type": "code",
      "source": [
        "# Load environment variables from .env file\n",
        "load_dotenv()\n",
        "api_key = os.getenv(\"LANGEXTRACT_API_KEY\")"
      ],
      "metadata": {
        "id": "Quezm-iu83pO"
      },
      "execution_count": 21,
      "outputs": []
    },
    {
      "cell_type": "code",
      "source": [
        "# Define the extraction task\n",
        "prompt = textwrap.dedent(\"\"\"\\\n",
        "Extract financial details in a structured way using the categories below:\n",
        "\n",
        "1. Parties & Identification\n",
        "- Capture names of companies, institutions, regulators, or counterparties.\n",
        "- Record identifiers such as CIN, PAN, GST/VAT, Tax IDs, or any registration codes.\n",
        "- Include account references like bank accounts, loan numbers, or investment account IDs.\n",
        "\n",
        "2. Monetary Information\n",
        "- Principal sums: invoice totals, loan values, transaction amounts.\n",
        "- Charges & fees: late charges, service/processing fees, management costs.\n",
        "- Interest terms: fixed/floating interest rates, APR values, or benchmark-linked references (e.g., SOFR, LIBOR).\n",
        "- Taxes: GST, VAT, withholding, or similar levies.\n",
        "- Penalties/Fines: early exit fee, defaults, or other financial penalties.\n",
        "\n",
        "3. Dates & Timeframes\n",
        "- Effective/Start dates: when agreements or transactions take effect.\n",
        "- Maturity/Closing dates: final settlement or loan closure.\n",
        "- Due dates: payment deadlines or installment schedules.\n",
        "- Duration/tenure: repayment term, lock-in period, or ramp-up.\n",
        "- Historical dates: transaction execution, invoice issue, settlement.\n",
        "\n",
        "Instructions:\n",
        "- Always extract **exact text spans** from the input (no rephrasing).\n",
        "- Each extracted item must have contextual attributes (e.g., type of ID, kind of date, nature of monetary value).\n",
        "\"\"\")\n"
      ],
      "metadata": {
        "id": "vmep5Wy09Obh"
      },
      "execution_count": 22,
      "outputs": []
    },
    {
      "cell_type": "code",
      "source": [
        "# Examples to guide extraction\n",
        "examples = [\n",
        "    lx.data.ExampleData(\n",
        "        text=\"Tata Consultancy Services Limited (CIN: L99999MH1995PLC084781, PAN: AAACM8654F, GSTIN: 29AAACT1924F1Z9) issued Invoice No. TCS/INV/2024/987 on 15/09/2024 with a payment due date of 30/09/2024. The invoice carried IGST @ 18% on professional service fees. Payments must be credited to HDFC Bank, Account Number 123456789012, IFSC Code HDFC0001234. Any overdue payment will attract an additional 10% per annum as penalty interest.\",\n",
        "        extractions=[\n",
        "            lx.data.Extraction(extraction_class=\"party\", extraction_text=\"Tata Consultancy Services Limited\", attributes={\"type\":\"company\"}),\n",
        "            lx.data.Extraction(extraction_class=\"identifier\", extraction_text=\"CIN: L99999MH1995PLC084781\", attributes={\"id_type\":\"CIN\"}),\n",
        "            lx.data.Extraction(extraction_class=\"identifier\", extraction_text=\"PAN: AAACM8654F\", attributes={\"id_type\":\"PAN\"}),\n",
        "            lx.data.Extraction(extraction_class=\"identifier\", extraction_text=\"GSTIN: 29AAACT1924F1Z9\", attributes={\"id_type\":\"GSTIN\"}),\n",
        "            lx.data.Extraction(extraction_class=\"party\", extraction_text=\"HDFC Bank\", attributes={\"type\":\"bank\"}),\n",
        "            lx.data.Extraction(extraction_class=\"monetary\", extraction_text=\"professional service fees\", attributes={\"value_type\":\"service_fee\"}),\n",
        "            lx.data.Extraction(extraction_class=\"interest_rate\", extraction_text=\"10% per annum\", attributes={\"type\":\"penalty_interest\"}),\n",
        "            lx.data.Extraction(extraction_class=\"tax\", extraction_text=\"IGST @ 18%\", attributes={\"tax_type\":\"GST\"}),\n",
        "            lx.data.Extraction(extraction_class=\"account\", extraction_text=\"123456789012\", attributes={\"account_type\":\"bank\"}),\n",
        "            lx.data.Extraction(extraction_class=\"date\", extraction_text=\"15/09/2024\", attributes={\"date_type\":\"invoice_date\"}),\n",
        "            lx.data.Extraction(extraction_class=\"date\", extraction_text=\"30/09/2024\", attributes={\"date_type\":\"due_date\"}),\n",
        "        ]\n",
        "    ),\n",
        "]\n"
      ],
      "metadata": {
        "id": "voEim1J49VrY"
      },
      "execution_count": 23,
      "outputs": []
    },
    {
      "cell_type": "code",
      "source": [
        "# Input text\n",
        "input_text = \"\"\"\n",
        "Infosys Limited (CIN: L85110KA1981PLC013115, PAN: AAACI4798L, GSTIN: 29AAACI4798L1ZU) issued Tax Invoice No. INF/INV/2025/204 on 15/02/2025 with a payment due date of 28/02/2025. The invoice included IGST @ 18% on the consulting charges. Payments are to be made to State Bank of India, Account Number 112233445566, IFSC Code SBIN0000456. If payment is delayed beyond the due date, a penalty interest of 10% per annum will apply.\n",
        "\n",
        "Kotak Mahindra Bank issued its 8.20% Fixed Rate Senior Secured Bonds (ISIN: INE237A08765) on 12 January 2023. Each bond has a face value of ₹5,00,000 and carries a fixed coupon of 8.20% per annum, payable semi-annually. The maturity date is set for 12 January 2028.\n",
        "\n",
        "On 20 March 2022, Standard Chartered India executed its first foreign trade finance deal linked to the SOFR benchmark, marking a shift from LIBOR-based transactions.\n",
        "\n",
        "Punjab National Bank, under the SARFAESI Act, issued a notice on 10-09-2023 against borrower loan accounts LAC00987651234 and LAC00987659876. The secured property was taken into possession on 05-01-2024. Auction was scheduled with earnest money deposit due by 25-03-2024, and bids opening on 26-03-2024. As per Section 194-IA of the Income Tax Act, the buyer is liable to deduct TDS.\n",
        "\n",
        "Bajaj Finance Limited launched Secured Redeemable Non-Convertible Debentures (NCDs) with a face value of ₹10,000 each. The issue had series with tenors of 24 months, 48 months, and 84 months. Coupon rates ranged between 8.50% and 9.40% per annum depending on the chosen series.\n",
        "\"\"\"\n",
        "\n"
      ],
      "metadata": {
        "id": "9deWVTYd9X6F"
      },
      "execution_count": 24,
      "outputs": []
    },
    {
      "cell_type": "code",
      "source": [
        "# Run extraction\n",
        "result = lx.extract(\n",
        "    text_or_documents=input_text,\n",
        "    prompt_description=prompt,\n",
        "    examples=examples,\n",
        "    model_id=\"gemini-2.5-flash\",\n",
        "    extraction_passes=3,\n",
        "    max_workers=20,\n",
        "    max_char_buffer=1000,\n",
        "    api_key=api_key\n",
        ")\n"
      ],
      "metadata": {
        "colab": {
          "base_uri": "https://localhost:8080/"
        },
        "id": "CIgNd3bR9akF",
        "outputId": "9e6550ca-2de4-4edb-c9db-4f898110f214"
      },
      "execution_count": 25,
      "outputs": [
        {
          "output_type": "stream",
          "name": "stderr",
          "text": [
            "WARNING:absl:Prompt alignment: non-exact match: [example#0] class='party' status=AlignmentStatus.MATCH_FUZZY text='HDFC Bank' char_span=(283, 292)\n",
            "WARNING:absl:Prompt alignment: non-exact match: [example#0] class='monetary' status=AlignmentStatus.MATCH_FUZZY text='professional service fees' char_span=(227, 252)\n",
            "WARNING:absl:Prompt alignment: non-exact match: [example#0] class='interest_rate' status=AlignmentStatus.MATCH_FUZZY text='10% per annum' char_span=(393, 406)\n",
            "WARNING:absl:Prompt alignment: non-exact match: [example#0] class='date' status=AlignmentStatus.MATCH_FUZZY text='15/09/2024' char_span=(143, 153)\n",
            "WARNING:absl:Prompt alignment: non-exact match: [example#0] class='date' status=AlignmentStatus.MATCH_FUZZY text='30/09/2024' char_span=(181, 191)\n"
          ]
        }
      ]
    },
    {
      "cell_type": "code",
      "source": [
        "# Save results to JSONL\n",
        "lx.io.save_annotated_documents([result], output_name=\"financial_data.jsonl\", output_dir=\".\")"
      ],
      "metadata": {
        "colab": {
          "base_uri": "https://localhost:8080/"
        },
        "id": "Q-Igz5Dk9cwF",
        "outputId": "212666cd-ac79-4257-9d80-d32ac975f5c1"
      },
      "execution_count": 26,
      "outputs": [
        {
          "output_type": "stream",
          "name": "stderr",
          "text": [
            "\u001b[94m\u001b[1mLangExtract\u001b[0m: Saving to \u001b[92mfinancial_data.jsonl\u001b[0m: 1 docs [00:00, 205.58 docs/s]"
          ]
        },
        {
          "output_type": "stream",
          "name": "stdout",
          "text": [
            "\u001b[92m✓\u001b[0m Saved \u001b[1m1\u001b[0m documents to \u001b[92mfinancial_data.jsonl\u001b[0m\n"
          ]
        },
        {
          "output_type": "stream",
          "name": "stderr",
          "text": [
            "\n"
          ]
        }
      ]
    },
    {
      "cell_type": "code",
      "source": [
        "# Generate interactive visualization\n",
        "html_content = lx.visualize(\"financial_data.jsonl\")"
      ],
      "metadata": {
        "colab": {
          "base_uri": "https://localhost:8080/"
        },
        "id": "Nit9rC5y9u1e",
        "outputId": "adadf4ab-5815-4139-ff83-d7c77bf4b583"
      },
      "execution_count": 27,
      "outputs": [
        {
          "output_type": "stream",
          "name": "stderr",
          "text": [
            "\u001b[94m\u001b[1mLangExtract\u001b[0m: Loading \u001b[92mfinancial_data.jsonl\u001b[0m: 100%|██████████| 12.4k/12.4k [00:00<00:00, 12.1MB/s]"
          ]
        },
        {
          "output_type": "stream",
          "name": "stdout",
          "text": [
            "\u001b[92m✓\u001b[0m Loaded \u001b[1m1\u001b[0m documents from \u001b[92mfinancial_data.jsonl\u001b[0m\n"
          ]
        },
        {
          "output_type": "stream",
          "name": "stderr",
          "text": [
            "\n"
          ]
        }
      ]
    },
    {
      "cell_type": "code",
      "source": [
        "# Save visualization to HTML file\n",
        "with open(\"financial_data_visualization.html\", \"w\") as f:\n",
        "    if hasattr(html_content, 'data'):\n",
        "        f.write(html_content.data)\n",
        "    else:\n",
        "        f.write(html_content)"
      ],
      "metadata": {
        "id": "peGOQQ9E91Fv"
      },
      "execution_count": 28,
      "outputs": []
    },
    {
      "cell_type": "code",
      "source": [],
      "metadata": {
        "id": "LBMfypf3CLPf"
      },
      "execution_count": null,
      "outputs": []
    }
  ]
}