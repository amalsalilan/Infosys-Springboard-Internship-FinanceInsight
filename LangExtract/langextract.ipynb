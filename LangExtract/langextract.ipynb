{
 "cells": [
  {
   "cell_type": "code",
   "execution_count": 39,
   "id": "d463c676",
   "metadata": {},
   "outputs": [
    {
     "name": "stdout",
     "output_type": "stream",
     "text": [
      "Requirement already satisfied: langextract in c:\\users\\mvasu\\appdata\\local\\programs\\python\\python313\\lib\\site-packages (1.0.9)\n",
      "Requirement already satisfied: absl-py>=1.0.0 in c:\\users\\mvasu\\appdata\\local\\programs\\python\\python313\\lib\\site-packages (from langextract) (2.3.1)\n",
      "Requirement already satisfied: aiohttp>=3.8.0 in c:\\users\\mvasu\\appdata\\local\\programs\\python\\python313\\lib\\site-packages (from langextract) (3.12.15)\n",
      "Requirement already satisfied: async_timeout>=4.0.0 in c:\\users\\mvasu\\appdata\\local\\programs\\python\\python313\\lib\\site-packages (from langextract) (5.0.1)\n",
      "Requirement already satisfied: exceptiongroup>=1.1.0 in c:\\users\\mvasu\\appdata\\local\\programs\\python\\python313\\lib\\site-packages (from langextract) (1.3.0)\n",
      "Requirement already satisfied: google-genai>=0.1.0 in c:\\users\\mvasu\\appdata\\local\\programs\\python\\python313\\lib\\site-packages (from langextract) (1.32.0)\n",
      "Requirement already satisfied: ml-collections>=0.1.0 in c:\\users\\mvasu\\appdata\\local\\programs\\python\\python313\\lib\\site-packages (from langextract) (1.1.0)\n",
      "Requirement already satisfied: more-itertools>=8.0.0 in c:\\users\\mvasu\\appdata\\local\\programs\\python\\python313\\lib\\site-packages (from langextract) (10.8.0)\n",
      "Requirement already satisfied: numpy>=1.20.0 in c:\\users\\mvasu\\appdata\\local\\programs\\python\\python313\\lib\\site-packages (from langextract) (2.3.1)\n",
      "Requirement already satisfied: pandas>=1.3.0 in c:\\users\\mvasu\\appdata\\local\\programs\\python\\python313\\lib\\site-packages (from langextract) (2.3.0)\n",
      "Requirement already satisfied: pydantic>=1.8.0 in c:\\users\\mvasu\\appdata\\local\\programs\\python\\python313\\lib\\site-packages (from langextract) (2.11.7)\n",
      "Requirement already satisfied: python-dotenv>=0.19.0 in c:\\users\\mvasu\\appdata\\local\\programs\\python\\python313\\lib\\site-packages (from langextract) (1.1.1)\n",
      "Requirement already satisfied: PyYAML>=6.0 in c:\\users\\mvasu\\appdata\\local\\programs\\python\\python313\\lib\\site-packages (from langextract) (6.0.2)\n",
      "Requirement already satisfied: requests>=2.25.0 in c:\\users\\mvasu\\appdata\\local\\programs\\python\\python313\\lib\\site-packages (from langextract) (2.32.5)\n",
      "Requirement already satisfied: tqdm>=4.64.0 in c:\\users\\mvasu\\appdata\\local\\programs\\python\\python313\\lib\\site-packages (from langextract) (4.67.1)\n",
      "Requirement already satisfied: typing-extensions>=4.0.0 in c:\\users\\mvasu\\appdata\\local\\programs\\python\\python313\\lib\\site-packages (from langextract) (4.15.0)\n",
      "Requirement already satisfied: aiohappyeyeballs>=2.5.0 in c:\\users\\mvasu\\appdata\\local\\programs\\python\\python313\\lib\\site-packages (from aiohttp>=3.8.0->langextract) (2.6.1)\n",
      "Requirement already satisfied: aiosignal>=1.4.0 in c:\\users\\mvasu\\appdata\\local\\programs\\python\\python313\\lib\\site-packages (from aiohttp>=3.8.0->langextract) (1.4.0)\n",
      "Requirement already satisfied: attrs>=17.3.0 in c:\\users\\mvasu\\appdata\\local\\programs\\python\\python313\\lib\\site-packages (from aiohttp>=3.8.0->langextract) (25.3.0)\n",
      "Requirement already satisfied: frozenlist>=1.1.1 in c:\\users\\mvasu\\appdata\\local\\programs\\python\\python313\\lib\\site-packages (from aiohttp>=3.8.0->langextract) (1.7.0)\n",
      "Requirement already satisfied: multidict<7.0,>=4.5 in c:\\users\\mvasu\\appdata\\local\\programs\\python\\python313\\lib\\site-packages (from aiohttp>=3.8.0->langextract) (6.6.4)\n",
      "Requirement already satisfied: propcache>=0.2.0 in c:\\users\\mvasu\\appdata\\local\\programs\\python\\python313\\lib\\site-packages (from aiohttp>=3.8.0->langextract) (0.3.2)\n",
      "Requirement already satisfied: yarl<2.0,>=1.17.0 in c:\\users\\mvasu\\appdata\\local\\programs\\python\\python313\\lib\\site-packages (from aiohttp>=3.8.0->langextract) (1.20.1)\n",
      "Requirement already satisfied: idna>=2.0 in c:\\users\\mvasu\\appdata\\local\\programs\\python\\python313\\lib\\site-packages (from yarl<2.0,>=1.17.0->aiohttp>=3.8.0->langextract) (3.10)\n",
      "Requirement already satisfied: anyio<5.0.0,>=4.8.0 in c:\\users\\mvasu\\appdata\\local\\programs\\python\\python313\\lib\\site-packages (from google-genai>=0.1.0->langextract) (4.10.0)\n",
      "Requirement already satisfied: google-auth<3.0.0,>=2.14.1 in c:\\users\\mvasu\\appdata\\local\\programs\\python\\python313\\lib\\site-packages (from google-genai>=0.1.0->langextract) (2.40.3)\n",
      "Requirement already satisfied: httpx<1.0.0,>=0.28.1 in c:\\users\\mvasu\\appdata\\local\\programs\\python\\python313\\lib\\site-packages (from google-genai>=0.1.0->langextract) (0.28.1)\n",
      "Requirement already satisfied: tenacity<9.2.0,>=8.2.3 in c:\\users\\mvasu\\appdata\\local\\programs\\python\\python313\\lib\\site-packages (from google-genai>=0.1.0->langextract) (9.1.2)\n",
      "Requirement already satisfied: websockets<15.1.0,>=13.0.0 in c:\\users\\mvasu\\appdata\\local\\programs\\python\\python313\\lib\\site-packages (from google-genai>=0.1.0->langextract) (15.0.1)\n",
      "Requirement already satisfied: sniffio>=1.1 in c:\\users\\mvasu\\appdata\\local\\programs\\python\\python313\\lib\\site-packages (from anyio<5.0.0,>=4.8.0->google-genai>=0.1.0->langextract) (1.3.1)\n",
      "Requirement already satisfied: cachetools<6.0,>=2.0.0 in c:\\users\\mvasu\\appdata\\local\\programs\\python\\python313\\lib\\site-packages (from google-auth<3.0.0,>=2.14.1->google-genai>=0.1.0->langextract) (5.5.2)\n",
      "Requirement already satisfied: pyasn1-modules>=0.2.1 in c:\\users\\mvasu\\appdata\\local\\programs\\python\\python313\\lib\\site-packages (from google-auth<3.0.0,>=2.14.1->google-genai>=0.1.0->langextract) (0.4.2)\n",
      "Requirement already satisfied: rsa<5,>=3.1.4 in c:\\users\\mvasu\\appdata\\local\\programs\\python\\python313\\lib\\site-packages (from google-auth<3.0.0,>=2.14.1->google-genai>=0.1.0->langextract) (4.9.1)\n",
      "Requirement already satisfied: certifi in c:\\users\\mvasu\\appdata\\local\\programs\\python\\python313\\lib\\site-packages (from httpx<1.0.0,>=0.28.1->google-genai>=0.1.0->langextract) (2025.8.3)\n",
      "Requirement already satisfied: httpcore==1.* in c:\\users\\mvasu\\appdata\\local\\programs\\python\\python313\\lib\\site-packages (from httpx<1.0.0,>=0.28.1->google-genai>=0.1.0->langextract) (1.0.9)\n",
      "Requirement already satisfied: h11>=0.16 in c:\\users\\mvasu\\appdata\\local\\programs\\python\\python313\\lib\\site-packages (from httpcore==1.*->httpx<1.0.0,>=0.28.1->google-genai>=0.1.0->langextract) (0.16.0)\n",
      "Requirement already satisfied: annotated-types>=0.6.0 in c:\\users\\mvasu\\appdata\\local\\programs\\python\\python313\\lib\\site-packages (from pydantic>=1.8.0->langextract) (0.7.0)\n",
      "Requirement already satisfied: pydantic-core==2.33.2 in c:\\users\\mvasu\\appdata\\local\\programs\\python\\python313\\lib\\site-packages (from pydantic>=1.8.0->langextract) (2.33.2)\n",
      "Requirement already satisfied: typing-inspection>=0.4.0 in c:\\users\\mvasu\\appdata\\local\\programs\\python\\python313\\lib\\site-packages (from pydantic>=1.8.0->langextract) (0.4.1)\n",
      "Requirement already satisfied: charset_normalizer<4,>=2 in c:\\users\\mvasu\\appdata\\local\\programs\\python\\python313\\lib\\site-packages (from requests>=2.25.0->langextract) (3.4.2)\n",
      "Requirement already satisfied: urllib3<3,>=1.21.1 in c:\\users\\mvasu\\appdata\\local\\programs\\python\\python313\\lib\\site-packages (from requests>=2.25.0->langextract) (2.5.0)\n",
      "Requirement already satisfied: pyasn1>=0.1.3 in c:\\users\\mvasu\\appdata\\local\\programs\\python\\python313\\lib\\site-packages (from rsa<5,>=3.1.4->google-auth<3.0.0,>=2.14.1->google-genai>=0.1.0->langextract) (0.6.1)\n",
      "Requirement already satisfied: python-dateutil>=2.8.2 in c:\\users\\mvasu\\appdata\\roaming\\python\\python313\\site-packages (from pandas>=1.3.0->langextract) (2.9.0.post0)\n",
      "Requirement already satisfied: pytz>=2020.1 in c:\\users\\mvasu\\appdata\\local\\programs\\python\\python313\\lib\\site-packages (from pandas>=1.3.0->langextract) (2025.2)\n",
      "Requirement already satisfied: tzdata>=2022.7 in c:\\users\\mvasu\\appdata\\local\\programs\\python\\python313\\lib\\site-packages (from pandas>=1.3.0->langextract) (2025.2)\n",
      "Requirement already satisfied: six>=1.5 in c:\\users\\mvasu\\appdata\\roaming\\python\\python313\\site-packages (from python-dateutil>=2.8.2->pandas>=1.3.0->langextract) (1.17.0)\n",
      "Requirement already satisfied: colorama in c:\\users\\mvasu\\appdata\\roaming\\python\\python313\\site-packages (from tqdm>=4.64.0->langextract) (0.4.6)\n"
     ]
    },
    {
     "name": "stderr",
     "output_type": "stream",
     "text": [
      "\n",
      "[notice] A new release of pip is available: 25.1.1 -> 25.2\n",
      "[notice] To update, run: python.exe -m pip install --upgrade pip\n"
     ]
    }
   ],
   "source": [
    "! pip install langextract\n"
   ]
  },
  {
   "cell_type": "code",
   "execution_count": 40,
   "id": "ef871baa",
   "metadata": {},
   "outputs": [],
   "source": [
    "import langextract as lx\n",
    "import textwrap"
   ]
  },
  {
   "cell_type": "code",
   "execution_count": null,
   "id": "63979f73",
   "metadata": {},
   "outputs": [],
   "source": [
    "\n",
    "import os\n",
    "os.environ[\"LANGEXTRACT_API_KEY\"] = \"your-api-key\"\n"
   ]
  },
  {
   "cell_type": "code",
   "execution_count": 42,
   "id": "ce330e18",
   "metadata": {},
   "outputs": [],
   "source": [
    "prompt = textwrap.dedent(\"\"\"\\\n",
    "Extract contract-related financial and party entities in order of appearance.\n",
    "Use exact text for extractions. Do not paraphrase or overlap entities.\n",
    "Map each extraction to the closest entity type: \n",
    "Party & Identification, Monetary Value, or Date/Time.\n",
    "Include contextual attributes such as type (e.g., PAN, VAT, bank account, penalty type, etc.) or currency.\n",
    "\"\"\")"
   ]
  },
  {
   "cell_type": "code",
   "execution_count": 43,
   "id": "b940d2de",
   "metadata": {},
   "outputs": [],
   "source": [
    "examples = [\n",
    "    lx.data.ExampleData(\n",
    "        text=\"On 12th March 2024, ABC Bank (CIN: U12345MH2020PLC111111, PAN: AAAPA1234A) granted a loan of INR 50,00,000 to XYZ Enterprises Ltd with account number 123456789. The loan carries an interest rate of 7.5% per annum, with GST of 18% applicable. The maturity date is 12th March 2029.\",\n",
    "        extractions=[\n",
    "            lx.data.Extraction(\n",
    "                extraction_class=\"company\",\n",
    "                extraction_text=\"ABC Bank\",\n",
    "                attributes={\n",
    "                    \"identifier_type\": \"CIN\",\n",
    "                    \"identifier\": \"U12345MH2020PLC111111\",\n",
    "                    \"PAN\": \"AAAPA1234A\"\n",
    "                }\n",
    "            ),\n",
    "            lx.data.Extraction(\n",
    "                extraction_class=\"company\",\n",
    "                extraction_text=\"XYZ Enterprises Ltd\"\n",
    "            ),\n",
    "            lx.data.Extraction(\n",
    "                extraction_class=\"date\",\n",
    "                extraction_text=\"12th March 2024\",\n",
    "                attributes={\"type\": \"effective_date\"}\n",
    "            ),\n",
    "            lx.data.Extraction(\n",
    "                extraction_class=\"account_number\",\n",
    "                extraction_text=\"123456789\",\n",
    "                attributes={\"account_type\": \"loan_account\"}\n",
    "            ),\n",
    "            lx.data.Extraction(\n",
    "                extraction_class=\"financial_metric\",\n",
    "                extraction_text=\"INR 50,00,000\",\n",
    "                attributes={\"metric_type\": \"principal_amount\", \"currency\": \"INR\"}\n",
    "            ),\n",
    "            lx.data.Extraction(\n",
    "                extraction_class=\"financial_metric\",\n",
    "                extraction_text=\"7.5%\",\n",
    "                attributes={\"metric_type\": \"interest_rate\", \"rate_type\": \"annual\"}\n",
    "            ),\n",
    "            lx.data.Extraction(\n",
    "                extraction_class=\"financial_metric\",\n",
    "                extraction_text=\"18%\",\n",
    "                attributes={\"metric_type\": \"tax\", \"tax_type\": \"GST\"}\n",
    "            ),\n",
    "            lx.data.Extraction(\n",
    "                extraction_class=\"date\",\n",
    "                extraction_text=\"12th March 2029\",\n",
    "                attributes={\"type\": \"maturity_date\"}\n",
    "            )\n",
    "        ]\n",
    "    )\n",
    "]\n"
   ]
  },
  {
   "cell_type": "code",
   "execution_count": 44,
   "id": "db661f13",
   "metadata": {},
   "outputs": [],
   "source": [
    "input_text = \"\"\"On September 1, 2024, HDFC Bank Ltd (HDFCBANK.NS) announced that it had disbursed loans worth ₹5,200 crore under its retail lending program. The loans carried an average interest rate of 8.5% per annum, with a tenure of 5 years. The announcement followed the Reserve Bank of India’s notification requiring banks to disclose retail lending data by the end of Q2 FY2024.\n",
    "\n",
    "Meanwhile, in global markets, the US dollar traded at 1.08 against the euro and 146.5 per Japanese yen, sparking concerns of possible intervention by the Bank of Japan. The S&P 500 index closed at 4,520 points, gaining 1.2% on optimism around tech stocks, while Infosys Ltd (INFY) shares rose 2.3% in New York trading, settling at $18.40 per share.\n",
    "\n",
    "In corporate filings, Reliance Industries Ltd (RELIANCE.NS) reported a net profit of ₹16,200 crore for the quarter ending June 30, 2024, compared to ₹14,800 crore in the same quarter last year. The company also mentioned pending GST liabilities of ₹1,200 crore and penalty provisions of ₹250 crore related to its telecom business. Its CIN number L17110MH1973PLC019786 was cited in the regulatory filing with the Ministry of Corporate Affairs.\n",
    "\"\"\"\n",
    "\n"
   ]
  },
  {
   "cell_type": "code",
   "execution_count": 45,
   "id": "8a5ff589",
   "metadata": {},
   "outputs": [
    {
     "name": "stderr",
     "output_type": "stream",
     "text": [
      "WARNING:absl:Prompt alignment: non-exact match: [example#0] class='company' status=AlignmentStatus.MATCH_FUZZY text='ABC Bank' char_span=(20, 28)\n",
      "WARNING:absl:Prompt alignment: non-exact match: [example#0] class='company' status=AlignmentStatus.MATCH_FUZZY text='XYZ Enterprises Ltd' char_span=(110, 129)\n",
      "WARNING:absl:Prompt alignment: non-exact match: [example#0] class='account_number' status=AlignmentStatus.MATCH_FUZZY text='123456789' char_span=(150, 159)\n"
     ]
    }
   ],
   "source": [
    "result = lx.extract(\n",
    "    text_or_documents=input_text,\n",
    "    prompt_description=prompt,\n",
    "    examples=examples,\n",
    "    model_id=\"gemini-2.5-flash\"\n",
    ")\n"
   ]
  },
  {
   "cell_type": "code",
   "execution_count": 46,
   "id": "dd24ad56",
   "metadata": {},
   "outputs": [
    {
     "name": "stderr",
     "output_type": "stream",
     "text": [
      "\u001b[94m\u001b[1mLangExtract\u001b[0m: Saving to \u001b[92mextraction_results.jsonl\u001b[0m: 1 docs [00:00, 330.31 docs/s]"
     ]
    },
    {
     "name": "stdout",
     "output_type": "stream",
     "text": [
      "\u001b[92m✓\u001b[0m Saved \u001b[1m1\u001b[0m documents to \u001b[92mextraction_results.jsonl\u001b[0m\n"
     ]
    },
    {
     "name": "stderr",
     "output_type": "stream",
     "text": [
      "\n"
     ]
    }
   ],
   "source": [
    "lx.io.save_annotated_documents([result], output_name=\"extraction_results.jsonl\", output_dir=\".\")\n"
   ]
  },
  {
   "cell_type": "code",
   "execution_count": 47,
   "id": "3452ad13",
   "metadata": {},
   "outputs": [
    {
     "name": "stderr",
     "output_type": "stream",
     "text": [
      "\u001b[94m\u001b[1mLangExtract\u001b[0m: Loading \u001b[92mextraction_results.jsonl\u001b[0m: 100%|█████████▉| 7.70k/7.70k [00:00<00:00, 240kB/s]"
     ]
    },
    {
     "name": "stdout",
     "output_type": "stream",
     "text": [
      "\u001b[92m✓\u001b[0m Loaded \u001b[1m1\u001b[0m documents from \u001b[92mextraction_results.jsonl\u001b[0m\n",
      "✅ Extraction complete. Results saved to 'extraction_results.jsonl' and visualization.html\n"
     ]
    },
    {
     "name": "stderr",
     "output_type": "stream",
     "text": [
      "\n"
     ]
    }
   ],
   "source": [
    "\n",
    "html_content = lx.visualize(\"extraction_results.jsonl\")\n",
    "\n",
    "with open(\"visualization.html\", \"w\", encoding=\"utf-8\") as f:\n",
    "    if hasattr(html_content, 'data'):  # For Jupyter/Colab object\n",
    "        f.write(html_content.data)\n",
    "    else:\n",
    "        f.write(html_content)\n",
    "\n",
    "print(\"✅ Extraction complete. Results saved to 'extraction_results.jsonl' and visualization.html\")\n"
   ]
  }
 ],
 "metadata": {
  "kernelspec": {
   "display_name": "Python 3",
   "language": "python",
   "name": "python3"
  },
  "language_info": {
   "codemirror_mode": {
    "name": "ipython",
    "version": 3
   },
   "file_extension": ".py",
   "mimetype": "text/x-python",
   "name": "python",
   "nbconvert_exporter": "python",
   "pygments_lexer": "ipython3",
   "version": "3.13.5"
  }
 },
 "nbformat": 4,
 "nbformat_minor": 5
}
