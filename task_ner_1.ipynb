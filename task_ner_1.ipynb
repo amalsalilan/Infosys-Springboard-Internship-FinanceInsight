{
  "nbformat": 4,
  "nbformat_minor": 0,
  "metadata": {
    "colab": {
      "provenance": [],
      "gpuType": "T4"
    },
    "kernelspec": {
      "name": "python3",
      "display_name": "Python 3"
    },
    "language_info": {
      "name": "python"
    },
    "accelerator": "GPU"
  },
  "cells": [
    {
      "cell_type": "code",
      "execution_count": 1,
      "metadata": {
        "id": "xbqXeONNUsAQ"
      },
      "outputs": [],
      "source": [
        "! pip install -U spacy -q"
      ]
    },
    {
      "cell_type": "code",
      "source": [
        "!python -m spacy info"
      ],
      "metadata": {
        "colab": {
          "base_uri": "https://localhost:8080/"
        },
        "id": "B8hvZt0qUvfA",
        "outputId": "5837e199-9e60-4fc3-9069-7e93b5c21801"
      },
      "execution_count": 2,
      "outputs": [
        {
          "output_type": "stream",
          "name": "stdout",
          "text": [
            "\u001b[1m\n",
            "============================== Info about spaCy ==============================\u001b[0m\n",
            "\n",
            "spaCy version    3.8.7                         \n",
            "Location         /usr/local/lib/python3.12/dist-packages/spacy\n",
            "Platform         Linux-6.1.123+-x86_64-with-glibc2.35\n",
            "Python version   3.12.11                       \n",
            "Pipelines        en_core_web_sm (3.8.0)        \n",
            "\n"
          ]
        }
      ]
    },
    {
      "cell_type": "code",
      "source": [
        "# FOR LOCAL MACHINE, USE A COMMAND SIMILAR TO THIS TO SPECIFY THE PATH FOR training_data.json\n",
        "# !wget https://raw.githubusercontent.com/amrrs/custom-ner-with-spacy/main/pvr_training_data.json"
      ],
      "metadata": {
        "id": "AE734g_pm7E0"
      },
      "execution_count": 3,
      "outputs": []
    },
    {
      "cell_type": "code",
      "source": [
        "import spacy\n",
        "from spacy.tokens import DocBin\n",
        "from tqdm import tqdm\n",
        "import json\n",
        "\n",
        "nlp = spacy.blank(\"en\") # load a new spacy model\n",
        "db = DocBin() # create a DocBin object"
      ],
      "metadata": {
        "id": "CYc4PoUJZgVI"
      },
      "execution_count": 4,
      "outputs": []
    },
    {
      "cell_type": "markdown",
      "source": [
        "TRAIN DATA"
      ],
      "metadata": {
        "id": "JoLdOqhu4htW"
      }
    },
    {
      "cell_type": "code",
      "source": [
        "f = open('annotations.json')\n",
        "TRAIN_DATA = json.load(f)"
      ],
      "metadata": {
        "id": "ypmHuPYBZ7C0"
      },
      "execution_count": 5,
      "outputs": []
    },
    {
      "cell_type": "code",
      "source": [
        "TRAIN_DATA"
      ],
      "metadata": {
        "colab": {
          "base_uri": "https://localhost:8080/"
        },
        "id": "_KG6yuVJi4nE",
        "outputId": "e63add37-2bce-43a6-d3cc-a09bdd38993f"
      },
      "execution_count": 6,
      "outputs": [
        {
          "output_type": "execute_result",
          "data": {
            "text/plain": [
              "{'classes': ['ORG', 'DATE', 'NAMES', 'LOC', 'OCC'],\n",
              " 'annotations': [['On September 10, 2023, Anita Sharma, a journalist with The Times of India, reported from New Delhi about a major conference organized by the United Nations Development Programme (UNDP) in partnership with Harvard University. The conference was attended by Dr. Michael Roberts, a professor of economics at London School of Economics, and Suresh Iyer, the Managing Director of Reliance Industries Limited. Earlier that week, on September 7, 2023, Prime Minister Raghav Verma of India met with CEO Emily Zhang of Tesla Inc. in Mumbai to discuss renewable energy investments. During the same month, Professor Kavita Nair from IIT Bombay presented her team’s research in San Francisco, California, at a summit hosted by the World Economic Forum, where several data scientists and policy analysts shared insights on sustainable technology.',\n",
              "   {'entities': [[59, 73, 'ORG'],\n",
              "     [141, 184, 'ORG'],\n",
              "     [205, 224, 'ORG'],\n",
              "     [305, 331, 'ORG'],\n",
              "     [375, 383, 'ORG'],\n",
              "     [510, 515, 'ORG'],\n",
              "     [622, 625, 'ORG'],\n",
              "     [719, 739, 'ORG']]}],\n",
              "  ['On September 10, 2023, Anita Sharma, a journalist with The Times of India, reported from New Delhi about a major conference organized by the United Nations Development Programme (UNDP) in partnership with Harvard University. The conference was attended by Dr. Michael Roberts, a professor of economics at London School of Economics, and Suresh Iyer, the Managing Director of Reliance Industries Limited. Earlier that week, on September 7, 2023, Prime Minister Raghav Verma of India met with CEO Emily Zhang of Tesla Inc. in Mumbai to discuss renewable energy investments. During the same month, Professor Kavita Nair from IIT Bombay presented her team’s research in San Francisco, California, at a summit hosted by the World Economic Forum, where several data scientists and policy analysts shared insights on sustainable technology.',\n",
              "   {'entities': [[3, 21, 'DATE'],\n",
              "     [23, 35, 'NAMES'],\n",
              "     [39, 49, 'OCC'],\n",
              "     [59, 73, 'ORG'],\n",
              "     [89, 98, 'LOC'],\n",
              "     [141, 184, 'ORG'],\n",
              "     [205, 224, 'ORG'],\n",
              "     [256, 275, 'NAMES'],\n",
              "     [279, 288, 'OCC'],\n",
              "     [305, 331, 'ORG'],\n",
              "     [337, 348, 'NAMES'],\n",
              "     [354, 371, 'OCC'],\n",
              "     [375, 383, 'ORG'],\n",
              "     [426, 443, 'DATE'],\n",
              "     [445, 459, 'OCC'],\n",
              "     [460, 472, 'NAMES'],\n",
              "     [491, 494, 'OCC'],\n",
              "     [495, 506, 'NAMES'],\n",
              "     [510, 515, 'ORG'],\n",
              "     [524, 530, 'LOC'],\n",
              "     [595, 604, 'OCC'],\n",
              "     [605, 616, 'NAMES'],\n",
              "     [622, 632, 'ORG'],\n",
              "     [666, 679, 'LOC'],\n",
              "     [681, 691, 'LOC'],\n",
              "     [719, 739, 'ORG'],\n",
              "     [755, 770, 'OCC'],\n",
              "     [775, 790, 'OCC']]}]]}"
            ]
          },
          "metadata": {},
          "execution_count": 6
        }
      ]
    },
    {
      "cell_type": "code",
      "source": [
        "for text, annot in tqdm(TRAIN_DATA['annotations']):\n",
        "    doc = nlp.make_doc(text)\n",
        "    ents = []\n",
        "    for start, end, label in annot[\"entities\"]:\n",
        "        span = doc.char_span(start, end, label=label, alignment_mode=\"contract\")\n",
        "        if span is None:\n",
        "            print(\"Skipping entity\")\n",
        "        else:\n",
        "            ents.append(span)\n",
        "    doc.ents = ents\n",
        "    db.add(doc)\n",
        "\n",
        "db.to_disk(\"./training_data.spacy\") # save the docbin object"
      ],
      "metadata": {
        "colab": {
          "base_uri": "https://localhost:8080/"
        },
        "id": "VRGQF9p2VKss",
        "outputId": "e2706251-ca34-4cc2-bbf0-b37ca28123da"
      },
      "execution_count": 7,
      "outputs": [
        {
          "output_type": "stream",
          "name": "stderr",
          "text": [
            "100%|██████████| 2/2 [00:00<00:00, 397.98it/s]\n"
          ]
        }
      ]
    },
    {
      "cell_type": "markdown",
      "source": [
        "VALIDATION DATA"
      ],
      "metadata": {
        "id": "QnL8rwz24mRt"
      }
    },
    {
      "cell_type": "code",
      "source": [
        "f = open('validation.json')\n",
        "VALIDATION_DATA = json.load(f)"
      ],
      "metadata": {
        "id": "cS81N-bi4132"
      },
      "execution_count": 9,
      "outputs": []
    },
    {
      "cell_type": "code",
      "source": [
        "VALIDATION_DATA"
      ],
      "metadata": {
        "colab": {
          "base_uri": "https://localhost:8080/"
        },
        "id": "BfLEugWl44vm",
        "outputId": "7d07ab34-409a-42e5-977a-8b33903154d2"
      },
      "execution_count": 10,
      "outputs": [
        {
          "output_type": "execute_result",
          "data": {
            "text/plain": [
              "{'classes': ['ORG', 'DATE', 'NAMES', 'LOC', 'OCC'],\n",
              " 'annotations': [['On September 10, 2023, Anita Sharma, a journalist with The Times of India, reported from New Delhi about a major conference organized by the United Nations Development Programme (UNDP) in partnership with Harvard University. The conference was attended by Dr. Michael Roberts, a professor of economics at London School of Economics, and Suresh Iyer, the Managing Director of Reliance Industries Limited. Earlier that week, on September 7, 2023, Prime Minister Raghav Verma of India met with CEO Emily Zhang of Tesla Inc. in Mumbai to discuss renewable energy investments. During the same month, Professor Kavita Nair from IIT Bombay presented her team’s research in San Francisco, California, at a summit hosted by the World Economic Forum, where several data scientists and policy analysts shared insights on sustainable technology.',\n",
              "   {'entities': [[3, 21, 'DATE'],\n",
              "     [23, 35, 'NAMES'],\n",
              "     [39, 49, 'OCC'],\n",
              "     [59, 73, 'ORG'],\n",
              "     [89, 98, 'LOC'],\n",
              "     [141, 184, 'ORG'],\n",
              "     [205, 224, 'ORG'],\n",
              "     [256, 275, 'NAMES'],\n",
              "     [279, 288, 'OCC'],\n",
              "     [305, 331, 'ORG'],\n",
              "     [337, 348, 'NAMES'],\n",
              "     [354, 371, 'OCC'],\n",
              "     [375, 383, 'ORG'],\n",
              "     [426, 443, 'DATE'],\n",
              "     [445, 459, 'OCC'],\n",
              "     [460, 472, 'NAMES'],\n",
              "     [491, 494, 'OCC'],\n",
              "     [495, 506, 'NAMES'],\n",
              "     [510, 515, 'ORG'],\n",
              "     [524, 530, 'LOC'],\n",
              "     [595, 604, 'OCC'],\n",
              "     [605, 616, 'NAMES'],\n",
              "     [622, 632, 'ORG'],\n",
              "     [666, 679, 'LOC'],\n",
              "     [681, 691, 'LOC'],\n",
              "     [719, 739, 'ORG'],\n",
              "     [755, 770, 'OCC'],\n",
              "     [775, 790, 'OCC']]}]]}"
            ]
          },
          "metadata": {},
          "execution_count": 10
        }
      ]
    },
    {
      "cell_type": "code",
      "source": [
        "for text, annot in tqdm(VALIDATION_DATA['annotations']):\n",
        "    doc = nlp.make_doc(text)\n",
        "    ents = []\n",
        "    for start, end, label in annot[\"entities\"]:\n",
        "        span = doc.char_span(start, end, label=label, alignment_mode=\"contract\")\n",
        "        if span is None:\n",
        "            print(\"Skipping entity\")\n",
        "        else:\n",
        "            ents.append(span)\n",
        "    doc.ents = ents\n",
        "    db.add(doc)\n",
        "\n",
        "db.to_disk(\"./validation_data.spacy\") # save the docbin object"
      ],
      "metadata": {
        "colab": {
          "base_uri": "https://localhost:8080/"
        },
        "id": "jSV9UnH85FQt",
        "outputId": "a61dba1b-79ba-4e25-d098-f3cb23b1ca81"
      },
      "execution_count": 11,
      "outputs": [
        {
          "output_type": "stream",
          "name": "stderr",
          "text": [
            "100%|██████████| 1/1 [00:00<00:00, 350.72it/s]\n"
          ]
        }
      ]
    },
    {
      "cell_type": "code",
      "source": [
        "#! python -m spacy init config config.cfg --lang en --pipeline ner --optimize accuracy -> When we use CPU, no transformer, optimizing for accuracy\n",
        "# OR\n",
        "# You can also use \"https://spacy.io/usage/training#quickstart\" site to make a base config and then fill it to make a config.cfg\n",
        "# This program uses the former method with training done with CPU, without transformer and optimizing for accuracy\n",
        "! python -m spacy init config config.cfg --lang en --pipeline ner --optimize accuracy"
      ],
      "metadata": {
        "id": "SECGYS_KVUHF",
        "colab": {
          "base_uri": "https://localhost:8080/"
        },
        "outputId": "a4562965-98e5-4984-b142-eee213598044"
      },
      "execution_count": 12,
      "outputs": [
        {
          "output_type": "stream",
          "name": "stdout",
          "text": [
            "\u001b[38;5;3m⚠ To generate a more effective transformer-based config (GPU-only),\n",
            "install the spacy-transformers package and re-run this command. The config\n",
            "generated now does not use transformers.\u001b[0m\n",
            "\u001b[38;5;4mℹ Generated config template specific for your use case\u001b[0m\n",
            "- Language: en\n",
            "- Pipeline: ner\n",
            "- Optimize for: accuracy\n",
            "- Hardware: CPU\n",
            "- Transformer: None\n",
            "\u001b[38;5;2m✔ Auto-filled config with all values\u001b[0m\n",
            "\u001b[38;5;2m✔ Saved config\u001b[0m\n",
            "config.cfg\n",
            "You can now add your data and train your pipeline:\n",
            "python -m spacy train config.cfg --paths.train ./train.spacy --paths.dev ./dev.spacy\n"
          ]
        }
      ]
    },
    {
      "cell_type": "code",
      "source": [
        "# Download the required model\n",
        "!python -m spacy download en_core_web_lg"
      ],
      "metadata": {
        "colab": {
          "base_uri": "https://localhost:8080/"
        },
        "id": "VCnnqUiOoMmE",
        "outputId": "e02628aa-ee3d-4aee-9a74-c7fd795819f7"
      },
      "execution_count": 13,
      "outputs": [
        {
          "output_type": "stream",
          "name": "stdout",
          "text": [
            "Collecting en-core-web-lg==3.8.0\n",
            "  Downloading https://github.com/explosion/spacy-models/releases/download/en_core_web_lg-3.8.0/en_core_web_lg-3.8.0-py3-none-any.whl (400.7 MB)\n",
            "\u001b[2K     \u001b[90m━━━━━━━━━━━━━━━━━━━━━━━━━━━━━━━━━━━━━━━\u001b[0m \u001b[32m400.7/400.7 MB\u001b[0m \u001b[31m3.8 MB/s\u001b[0m eta \u001b[36m0:00:00\u001b[0m\n",
            "\u001b[?25hInstalling collected packages: en-core-web-lg\n",
            "Successfully installed en-core-web-lg-3.8.0\n",
            "\u001b[38;5;2m✔ Download and installation successful\u001b[0m\n",
            "You can now load the package via spacy.load('en_core_web_lg')\n",
            "\u001b[38;5;3m⚠ Restart to reload dependencies\u001b[0m\n",
            "If you are in a Jupyter or Colab notebook, you may need to restart Python in\n",
            "order to load all the package's dependencies. You can do this by selecting the\n",
            "'Restart kernel' or 'Restart runtime' option.\n"
          ]
        }
      ]
    },
    {
      "cell_type": "code",
      "source": [
        "!python -m spacy train config.cfg --output ./ --paths.train ./training_data.spacy --paths.dev ./validation_data.spacy --gpu-id 0\n"
      ],
      "metadata": {
        "colab": {
          "base_uri": "https://localhost:8080/"
        },
        "id": "sT82H_hqWaGP",
        "outputId": "f028c49c-0873-4c0f-ed04-2f815cbc3c5c"
      },
      "execution_count": 14,
      "outputs": [
        {
          "metadata": {
            "tags": null
          },
          "name": "stdout",
          "output_type": "stream",
          "text": [
            "\u001b[38;5;4mℹ Saving to output directory: .\u001b[0m\n",
            "\u001b[38;5;4mℹ Using GPU: 0\u001b[0m\n",
            "\u001b[1m\n",
            "=========================== Initializing pipeline ===========================\u001b[0m\n",
            "\u001b[38;5;2m✔ Initialized pipeline\u001b[0m\n",
            "\u001b[1m\n",
            "============================= Training pipeline =============================\u001b[0m\n",
            "\u001b[38;5;4mℹ Pipeline: ['tok2vec', 'ner']\u001b[0m\n",
            "\u001b[38;5;4mℹ Initial learn rate: 0.001\u001b[0m\n",
            "E    #       LOSS TOK2VEC  LOSS NER  ENTS_F  ENTS_P  ENTS_R  SCORE \n",
            "---  ------  ------------  --------  ------  ------  ------  ------\n",
            "  0       0          0.00     72.73    0.00    0.00    0.00    0.00\n",
            "100     200        415.57   5323.15   50.00   91.67   34.38    0.50\n",
            "200     400         16.28   2728.75   50.00   91.67   34.38    0.50\n",
            "300     600         13.09   2578.60   71.19   77.78   65.62    0.71\n",
            "400     800         11.15   2504.58   50.00   91.67   34.38    0.50\n",
            "500    1000          9.61   2462.56   83.10   75.64   92.19    0.83\n",
            "666    1200         21.85   3809.78   71.19   77.78   65.62    0.71\n",
            "866    1400         35.57   4465.23   64.15   80.95   53.12    0.64\n",
            "1066    1600         34.65   4471.97   74.19   76.67   71.88    0.74\n",
            "1266    1800         44.35   4433.90   69.57   78.43   62.50    0.70\n",
            "1466    2000         47.31   4416.55   57.45   90.00   42.19    0.57\n",
            "1666    2200         46.88   4414.40   64.15   80.95   53.12    0.64\n",
            "1866    2400         49.02   4427.64   76.92   75.76   78.12    0.77\n",
            "2066    2600         47.29   4407.15   80.58   74.67   87.50    0.81\n",
            "\u001b[38;5;2m✔ Saved pipeline to output directory\u001b[0m\n",
            "model-last\n"
          ]
        }
      ]
    },
    {
      "cell_type": "code",
      "source": [
        "nlp_ner = spacy.load(\"/content/model-best\")"
      ],
      "metadata": {
        "id": "8zljPkppcy_w"
      },
      "execution_count": 16,
      "outputs": []
    },
    {
      "cell_type": "code",
      "source": [
        "doc = nlp_ner('''This Service Agreement is made on June 12, 2025 between Beta Solutions LLC, with its registered office at 12 Alexanderplatz, Berlin, Germany, and Gamma Health Systems, headquartered at 88 Marine Drive, Mumbai, India. Laura Bennett, Chief Executive Officer of Beta Solutions, and Dr. Arjun Rao, Chief Financial Officer of Gamma Health Systems, executed the Agreement. The Agreement becomes effective on July 1, 2025. The total contract value is EUR 250,000, inclusive of applicable taxes. The Services shall be provided for 24 months from the effective date, subject to early termination: either party may terminate with 60 days’ prior written notice. The Agreement shall be governed by the laws of Germany. Contract Reference No: CON-BSG-20250612''') # input sample text"
      ],
      "metadata": {
        "id": "GTbWEZ9Cc9b4"
      },
      "execution_count": 17,
      "outputs": []
    },
    {
      "cell_type": "code",
      "source": [
        "spacy.displacy.render(doc, style=\"ent\", jupyter=True) # display in Jupyter"
      ],
      "metadata": {
        "colab": {
          "base_uri": "https://localhost:8080/",
          "height": 262
        },
        "id": "oBNf3_JGWzB9",
        "outputId": "5e10e894-fd9f-4b37-abe2-6e37cd673649"
      },
      "execution_count": 18,
      "outputs": [
        {
          "output_type": "display_data",
          "data": {
            "text/plain": [
              "<IPython.core.display.HTML object>"
            ],
            "text/html": [
              "<span class=\"tex2jax_ignore\"><div class=\"entities\" style=\"line-height: 2.5; direction: ltr\">This Service Agreement is made on June 12, 2025 between Beta Solutions LLC, with its registered office at 12 Alexanderplatz, \n",
              "<mark class=\"entity\" style=\"background: #ff9561; padding: 0.45em 0.6em; margin: 0 0.25em; line-height: 1; border-radius: 0.35em;\">\n",
              "    Berlin\n",
              "    <span style=\"font-size: 0.8em; font-weight: bold; line-height: 1; border-radius: 0.35em; vertical-align: middle; margin-left: 0.5rem\">LOC</span>\n",
              "</mark>\n",
              ", Germany, and \n",
              "<mark class=\"entity\" style=\"background: #ddd; padding: 0.45em 0.6em; margin: 0 0.25em; line-height: 1; border-radius: 0.35em;\">\n",
              "    Gamma Health\n",
              "    <span style=\"font-size: 0.8em; font-weight: bold; line-height: 1; border-radius: 0.35em; vertical-align: middle; margin-left: 0.5rem\">OCC</span>\n",
              "</mark>\n",
              " Systems, headquartered at 88 Marine Drive, \n",
              "<mark class=\"entity\" style=\"background: #ff9561; padding: 0.45em 0.6em; margin: 0 0.25em; line-height: 1; border-radius: 0.35em;\">\n",
              "    Mumbai\n",
              "    <span style=\"font-size: 0.8em; font-weight: bold; line-height: 1; border-radius: 0.35em; vertical-align: middle; margin-left: 0.5rem\">LOC</span>\n",
              "</mark>\n",
              ", India. \n",
              "<mark class=\"entity\" style=\"background: #ddd; padding: 0.45em 0.6em; margin: 0 0.25em; line-height: 1; border-radius: 0.35em;\">\n",
              "    Laura Bennett\n",
              "    <span style=\"font-size: 0.8em; font-weight: bold; line-height: 1; border-radius: 0.35em; vertical-align: middle; margin-left: 0.5rem\">NAMES</span>\n",
              "</mark>\n",
              ", Chief Executive Officer of Beta Solutions, and \n",
              "<mark class=\"entity\" style=\"background: #ddd; padding: 0.45em 0.6em; margin: 0 0.25em; line-height: 1; border-radius: 0.35em;\">\n",
              "    Dr. Arjun Rao\n",
              "    <span style=\"font-size: 0.8em; font-weight: bold; line-height: 1; border-radius: 0.35em; vertical-align: middle; margin-left: 0.5rem\">NAMES</span>\n",
              "</mark>\n",
              ", Chief Financial Officer of \n",
              "<mark class=\"entity\" style=\"background: #7aecec; padding: 0.45em 0.6em; margin: 0 0.25em; line-height: 1; border-radius: 0.35em;\">\n",
              "    Gamma\n",
              "    <span style=\"font-size: 0.8em; font-weight: bold; line-height: 1; border-radius: 0.35em; vertical-align: middle; margin-left: 0.5rem\">ORG</span>\n",
              "</mark>\n",
              " Health Systems, executed the Agreement. The Agreement becomes effective on \n",
              "<mark class=\"entity\" style=\"background: #bfe1d9; padding: 0.45em 0.6em; margin: 0 0.25em; line-height: 1; border-radius: 0.35em;\">\n",
              "    July 1, 2025\n",
              "    <span style=\"font-size: 0.8em; font-weight: bold; line-height: 1; border-radius: 0.35em; vertical-align: middle; margin-left: 0.5rem\">DATE</span>\n",
              "</mark>\n",
              ". The total contract value is EUR 250,000, inclusive of applicable taxes. The Services shall be provided for 24 months from the effective date, subject to early termination: either party may terminate with 60 days’ prior written notice. The Agreement shall be governed by the \n",
              "<mark class=\"entity\" style=\"background: #ddd; padding: 0.45em 0.6em; margin: 0 0.25em; line-height: 1; border-radius: 0.35em;\">\n",
              "    laws of\n",
              "    <span style=\"font-size: 0.8em; font-weight: bold; line-height: 1; border-radius: 0.35em; vertical-align: middle; margin-left: 0.5rem\">OCC</span>\n",
              "</mark>\n",
              " Germany. Contract Reference No: CON-BSG-20250612</div></span>"
            ]
          },
          "metadata": {}
        }
      ]
    }
  ]
}