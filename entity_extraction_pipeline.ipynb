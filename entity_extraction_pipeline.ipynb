{
  "nbformat": 4,
  "nbformat_minor": 0,
  "metadata": {
    "colab": {
      "provenance": []
    },
    "kernelspec": {
      "name": "python3",
      "display_name": "Python 3"
    },
    "language_info": {
      "name": "python"
    }
  },
  "cells": [
    {
      "cell_type": "code",
      "source": [
        "!pip install langextract\n"
      ],
      "metadata": {
        "colab": {
          "base_uri": "https://localhost:8080/"
        },
        "id": "sMxNTJN-zjr7",
        "outputId": "93b85f29-f8e0-4aa8-acbf-800a93dc0036"
      },
      "execution_count": 8,
      "outputs": [
        {
          "output_type": "stream",
          "name": "stdout",
          "text": [
            "Requirement already satisfied: langextract in /usr/local/lib/python3.12/dist-packages (1.0.9)\n",
            "Requirement already satisfied: absl-py>=1.0.0 in /usr/local/lib/python3.12/dist-packages (from langextract) (1.4.0)\n",
            "Requirement already satisfied: aiohttp>=3.8.0 in /usr/local/lib/python3.12/dist-packages (from langextract) (3.12.15)\n",
            "Requirement already satisfied: async_timeout>=4.0.0 in /usr/local/lib/python3.12/dist-packages (from langextract) (5.0.1)\n",
            "Requirement already satisfied: exceptiongroup>=1.1.0 in /usr/local/lib/python3.12/dist-packages (from langextract) (1.3.0)\n",
            "Requirement already satisfied: google-genai>=0.1.0 in /usr/local/lib/python3.12/dist-packages (from langextract) (1.31.0)\n",
            "Requirement already satisfied: ml-collections>=0.1.0 in /usr/local/lib/python3.12/dist-packages (from langextract) (1.1.0)\n",
            "Requirement already satisfied: more-itertools>=8.0.0 in /usr/local/lib/python3.12/dist-packages (from langextract) (10.7.0)\n",
            "Requirement already satisfied: numpy>=1.20.0 in /usr/local/lib/python3.12/dist-packages (from langextract) (2.0.2)\n",
            "Requirement already satisfied: pandas>=1.3.0 in /usr/local/lib/python3.12/dist-packages (from langextract) (2.2.2)\n",
            "Requirement already satisfied: pydantic>=1.8.0 in /usr/local/lib/python3.12/dist-packages (from langextract) (2.11.7)\n",
            "Requirement already satisfied: python-dotenv>=0.19.0 in /usr/local/lib/python3.12/dist-packages (from langextract) (1.1.1)\n",
            "Requirement already satisfied: PyYAML>=6.0 in /usr/local/lib/python3.12/dist-packages (from langextract) (6.0.2)\n",
            "Requirement already satisfied: requests>=2.25.0 in /usr/local/lib/python3.12/dist-packages (from langextract) (2.32.4)\n",
            "Requirement already satisfied: tqdm>=4.64.0 in /usr/local/lib/python3.12/dist-packages (from langextract) (4.67.1)\n",
            "Requirement already satisfied: typing-extensions>=4.0.0 in /usr/local/lib/python3.12/dist-packages (from langextract) (4.15.0)\n",
            "Requirement already satisfied: aiohappyeyeballs>=2.5.0 in /usr/local/lib/python3.12/dist-packages (from aiohttp>=3.8.0->langextract) (2.6.1)\n",
            "Requirement already satisfied: aiosignal>=1.4.0 in /usr/local/lib/python3.12/dist-packages (from aiohttp>=3.8.0->langextract) (1.4.0)\n",
            "Requirement already satisfied: attrs>=17.3.0 in /usr/local/lib/python3.12/dist-packages (from aiohttp>=3.8.0->langextract) (25.3.0)\n",
            "Requirement already satisfied: frozenlist>=1.1.1 in /usr/local/lib/python3.12/dist-packages (from aiohttp>=3.8.0->langextract) (1.7.0)\n",
            "Requirement already satisfied: multidict<7.0,>=4.5 in /usr/local/lib/python3.12/dist-packages (from aiohttp>=3.8.0->langextract) (6.6.4)\n",
            "Requirement already satisfied: propcache>=0.2.0 in /usr/local/lib/python3.12/dist-packages (from aiohttp>=3.8.0->langextract) (0.3.2)\n",
            "Requirement already satisfied: yarl<2.0,>=1.17.0 in /usr/local/lib/python3.12/dist-packages (from aiohttp>=3.8.0->langextract) (1.20.1)\n",
            "Requirement already satisfied: anyio<5.0.0,>=4.8.0 in /usr/local/lib/python3.12/dist-packages (from google-genai>=0.1.0->langextract) (4.10.0)\n",
            "Requirement already satisfied: google-auth<3.0.0,>=2.14.1 in /usr/local/lib/python3.12/dist-packages (from google-genai>=0.1.0->langextract) (2.38.0)\n",
            "Requirement already satisfied: httpx<1.0.0,>=0.28.1 in /usr/local/lib/python3.12/dist-packages (from google-genai>=0.1.0->langextract) (0.28.1)\n",
            "Requirement already satisfied: tenacity<9.2.0,>=8.2.3 in /usr/local/lib/python3.12/dist-packages (from google-genai>=0.1.0->langextract) (8.5.0)\n",
            "Requirement already satisfied: websockets<15.1.0,>=13.0.0 in /usr/local/lib/python3.12/dist-packages (from google-genai>=0.1.0->langextract) (15.0.1)\n",
            "Requirement already satisfied: python-dateutil>=2.8.2 in /usr/local/lib/python3.12/dist-packages (from pandas>=1.3.0->langextract) (2.9.0.post0)\n",
            "Requirement already satisfied: pytz>=2020.1 in /usr/local/lib/python3.12/dist-packages (from pandas>=1.3.0->langextract) (2025.2)\n",
            "Requirement already satisfied: tzdata>=2022.7 in /usr/local/lib/python3.12/dist-packages (from pandas>=1.3.0->langextract) (2025.2)\n",
            "Requirement already satisfied: annotated-types>=0.6.0 in /usr/local/lib/python3.12/dist-packages (from pydantic>=1.8.0->langextract) (0.7.0)\n",
            "Requirement already satisfied: pydantic-core==2.33.2 in /usr/local/lib/python3.12/dist-packages (from pydantic>=1.8.0->langextract) (2.33.2)\n",
            "Requirement already satisfied: typing-inspection>=0.4.0 in /usr/local/lib/python3.12/dist-packages (from pydantic>=1.8.0->langextract) (0.4.1)\n",
            "Requirement already satisfied: charset_normalizer<4,>=2 in /usr/local/lib/python3.12/dist-packages (from requests>=2.25.0->langextract) (3.4.3)\n",
            "Requirement already satisfied: idna<4,>=2.5 in /usr/local/lib/python3.12/dist-packages (from requests>=2.25.0->langextract) (3.10)\n",
            "Requirement already satisfied: urllib3<3,>=1.21.1 in /usr/local/lib/python3.12/dist-packages (from requests>=2.25.0->langextract) (2.5.0)\n",
            "Requirement already satisfied: certifi>=2017.4.17 in /usr/local/lib/python3.12/dist-packages (from requests>=2.25.0->langextract) (2025.8.3)\n",
            "Requirement already satisfied: sniffio>=1.1 in /usr/local/lib/python3.12/dist-packages (from anyio<5.0.0,>=4.8.0->google-genai>=0.1.0->langextract) (1.3.1)\n",
            "Requirement already satisfied: cachetools<6.0,>=2.0.0 in /usr/local/lib/python3.12/dist-packages (from google-auth<3.0.0,>=2.14.1->google-genai>=0.1.0->langextract) (5.5.2)\n",
            "Requirement already satisfied: pyasn1-modules>=0.2.1 in /usr/local/lib/python3.12/dist-packages (from google-auth<3.0.0,>=2.14.1->google-genai>=0.1.0->langextract) (0.4.2)\n",
            "Requirement already satisfied: rsa<5,>=3.1.4 in /usr/local/lib/python3.12/dist-packages (from google-auth<3.0.0,>=2.14.1->google-genai>=0.1.0->langextract) (4.9.1)\n",
            "Requirement already satisfied: httpcore==1.* in /usr/local/lib/python3.12/dist-packages (from httpx<1.0.0,>=0.28.1->google-genai>=0.1.0->langextract) (1.0.9)\n",
            "Requirement already satisfied: h11>=0.16 in /usr/local/lib/python3.12/dist-packages (from httpcore==1.*->httpx<1.0.0,>=0.28.1->google-genai>=0.1.0->langextract) (0.16.0)\n",
            "Requirement already satisfied: six>=1.5 in /usr/local/lib/python3.12/dist-packages (from python-dateutil>=2.8.2->pandas>=1.3.0->langextract) (1.17.0)\n",
            "Requirement already satisfied: pyasn1<0.7.0,>=0.6.1 in /usr/local/lib/python3.12/dist-packages (from pyasn1-modules>=0.2.1->google-auth<3.0.0,>=2.14.1->google-genai>=0.1.0->langextract) (0.6.1)\n"
          ]
        }
      ]
    },
    {
      "cell_type": "code",
      "execution_count": 9,
      "metadata": {
        "id": "cGsW3j-4yuUA"
      },
      "outputs": [],
      "source": [
        "import langextract as lx\n",
        "import textwrap, os\n"
      ]
    },
    {
      "cell_type": "code",
      "source": [
        "# 1. Define the extraction prompt\n",
        "prompt = textwrap.dedent(\"\"\"\\\n",
        "Extract the following entities precisely from the text:\n",
        "1. Party & Identification: Company, institution, counterparty, regulator, Tax ID, GST/VAT, PAN, CIN, registration numbers, bank/loan/investment account IDs.\n",
        "2. Monetary Values: Principal amounts (loan, invoice, transaction amounts), fees/charges, interest rates (fixed/floating, annual %, APR, LIBOR/SOFR references), taxes (VAT, GST, withholding), penalties.\n",
        "3. Dates & Time Periods: Effective date, maturity date, payment due dates, tenure/duration, historical dates (transaction, invoice, settlement).\n",
        "Use exact spans from the text. Provide meaningful attributes (e.g., type: 'loan value', 'interest rate', etc.).\n",
        "\"\"\")"
      ],
      "metadata": {
        "id": "GNerCGiNyvdF"
      },
      "execution_count": 10,
      "outputs": []
    },
    {
      "cell_type": "code",
      "source": [
        "# 2. Provide a guiding example\n",
        "examples = [\n",
        "    lx.data.ExampleData(\n",
        "        text=\"ABC Ltd. with PAN AAAPL1234C took a loan of ₹50,00,000 at 12% annual interest. The effective date is 01-Apr-2023 and maturity date is 31-Mar-2028.\",\n",
        "        extractions=[\n",
        "            lx.data.Extraction(\n",
        "                extraction_class=\"Company\",\n",
        "                extraction_text=\"ABC Ltd.\",\n",
        "                attributes={\"identifier\": \"PAN AAAPL1234C\"}\n",
        "            ),\n",
        "            lx.data.Extraction(\n",
        "                extraction_class=\"Principal Amount\",\n",
        "                extraction_text=\"₹50,00,000\",\n",
        "                attributes={\"type\": \"loan value\"}\n",
        "            ),\n",
        "            lx.data.Extraction(\n",
        "                extraction_class=\"Interest Rate\",\n",
        "                extraction_text=\"12% annual interest\",\n",
        "                attributes={\"type\": \"fixed\"}\n",
        "            ),\n",
        "            lx.data.Extraction(\n",
        "                extraction_class=\"Effective Date\",\n",
        "                extraction_text=\"01-Apr-2023\"\n",
        "            ),\n",
        "            lx.data.Extraction(\n",
        "                extraction_class=\"Maturity Date\",\n",
        "                extraction_text=\"31-Mar-2028\"\n",
        "            ),\n",
        "        ]\n",
        "    )\n",
        "]"
      ],
      "metadata": {
        "id": "yJwwx-SgzxoN"
      },
      "execution_count": 11,
      "outputs": []
    },
    {
      "cell_type": "code",
      "source": [
        "import os\n",
        "\n",
        "# Fetch from Colab Secrets\n",
        "api_key = os.getenv(\"LANGEXTRACT_API_KEY\")\n",
        "\n",
        "if api_key is None:\n",
        "    raise ValueError(\"API key not found. Did you set it in Tools → Secrets with name LANGEXTRACT_API_KEY?\")\n",
        "\n",
        "# Set it for LangExtract\n",
        "os.environ[\"LANGEXTRACT_API_KEY\"] = api_key\n",
        "\n",
        "print(\"API key loaded securely ✅\")\n"
      ],
      "metadata": {
        "colab": {
          "base_uri": "https://localhost:8080/"
        },
        "id": "vfprPj2j6lp2",
        "outputId": "b0269191-f274-478f-e331-09b98eeddcdd"
      },
      "execution_count": 42,
      "outputs": [
        {
          "output_type": "stream",
          "name": "stdout",
          "text": [
            "API key loaded securely ✅\n"
          ]
        }
      ]
    },
    {
      "cell_type": "code",
      "source": [
        "result = lx.extract(\n",
        "    text_or_documents=input_text,\n",
        "    prompt_description=prompt,\n",
        "    examples=examples,\n",
        "    model_id=\"gemini-2.5-flash\",\n",
        ")\n"
      ],
      "metadata": {
        "id": "EQUv9kts2mcn"
      },
      "execution_count": 21,
      "outputs": []
    },
    {
      "cell_type": "code",
      "source": [
        "input_text = \"XYZ Bank sanctioned a loan account 123456 to DEF Pvt. Ltd. with GSTIN 29ABCDE1234F1Z5. The principal amount is ₹10,00,000 with 10.5% floating interest. Payment due date: 15-Sep-2025.\"\n",
        "\n",
        "result = lx.extract(\n",
        "    text_or_documents=input_text,\n",
        "    prompt_description=prompt,\n",
        "    examples=examples,\n",
        "    model_id=\"gemini-2.5-flash\",\n",
        ")\n"
      ],
      "metadata": {
        "id": "9oU0JJyt2sLe"
      },
      "execution_count": 23,
      "outputs": []
    },
    {
      "cell_type": "code",
      "source": [
        "lx.io.save_annotated_documents(\n",
        "    [result],\n",
        "    output_name=\"extraction_results.jsonl\",\n",
        "    output_dir=\".\"\n",
        ")\n"
      ],
      "metadata": {
        "colab": {
          "base_uri": "https://localhost:8080/"
        },
        "id": "lM9FmMHA3VLP",
        "outputId": "a6ef20eb-bd59-4b9e-f3d6-433b3e4c5ce1"
      },
      "execution_count": 44,
      "outputs": [
        {
          "output_type": "stream",
          "name": "stderr",
          "text": [
            "\u001b[94m\u001b[1mLangExtract\u001b[0m: Saving to \u001b[92mextraction_results.jsonl\u001b[0m: 1 docs [00:00, 1072.16 docs/s]"
          ]
        },
        {
          "output_type": "stream",
          "name": "stdout",
          "text": [
            "\u001b[92m✓\u001b[0m Saved \u001b[1m1\u001b[0m documents to \u001b[92mextraction_results.jsonl\u001b[0m\n"
          ]
        },
        {
          "output_type": "stream",
          "name": "stderr",
          "text": [
            "\n"
          ]
        }
      ]
    },
    {
      "cell_type": "code",
      "source": [
        "from IPython.display import display\n",
        "\n",
        "display(html_content)\n"
      ],
      "metadata": {
        "colab": {
          "base_uri": "https://localhost:8080/",
          "height": 397
        },
        "id": "hEO6VN113Det",
        "outputId": "58e93ee6-1061-4c43-ce3f-e9bad047803d"
      },
      "execution_count": 29,
      "outputs": [
        {
          "output_type": "display_data",
          "data": {
            "text/plain": [
              "<IPython.core.display.HTML object>"
            ],
            "text/html": [
              "<style>\n",
              ".lx-highlight { position: relative; border-radius:3px; padding:1px 2px;}\n",
              ".lx-highlight .lx-tooltip {\n",
              "  visibility: hidden;\n",
              "  opacity: 0;\n",
              "  transition: opacity 0.2s ease-in-out;\n",
              "  background: #333;\n",
              "  color: #fff;\n",
              "  text-align: left;\n",
              "  border-radius: 4px;\n",
              "  padding: 6px 8px;\n",
              "  position: absolute;\n",
              "  z-index: 1000;\n",
              "  bottom: 125%;\n",
              "  left: 50%;\n",
              "  transform: translateX(-50%);\n",
              "  font-size: 12px;\n",
              "  max-width: 240px;\n",
              "  white-space: normal;\n",
              "  box-shadow: 0 2px 6px rgba(0,0,0,0.3);\n",
              "}\n",
              ".lx-highlight:hover .lx-tooltip { visibility: visible; opacity:1; }\n",
              ".lx-animated-wrapper { max-width: 100%; font-family: Arial, sans-serif; }\n",
              ".lx-controls {\n",
              "  background: #fafafa; border: 1px solid #90caf9; border-radius: 8px;\n",
              "  padding: 12px; margin-bottom: 16px;\n",
              "}\n",
              ".lx-button-row {\n",
              "  display: flex; justify-content: center; gap: 8px; margin-bottom: 12px;\n",
              "}\n",
              ".lx-control-btn {\n",
              "  background: #4285f4; color: white; border: none; border-radius: 4px;\n",
              "  padding: 8px 16px; cursor: pointer; font-size: 13px; font-weight: 500;\n",
              "  transition: background-color 0.2s;\n",
              "}\n",
              ".lx-control-btn:hover { background: #3367d6; }\n",
              ".lx-progress-container {\n",
              "  margin-bottom: 8px;\n",
              "}\n",
              ".lx-progress-slider {\n",
              "  width: 100%; margin: 0; appearance: none; height: 6px;\n",
              "  background: #ddd; border-radius: 3px; outline: none;\n",
              "}\n",
              ".lx-progress-slider::-webkit-slider-thumb {\n",
              "  appearance: none; width: 18px; height: 18px; background: #4285f4;\n",
              "  border-radius: 50%; cursor: pointer;\n",
              "}\n",
              ".lx-progress-slider::-moz-range-thumb {\n",
              "  width: 18px; height: 18px; background: #4285f4; border-radius: 50%;\n",
              "  cursor: pointer; border: none;\n",
              "}\n",
              ".lx-status-text {\n",
              "  text-align: center; font-size: 12px; color: #666; margin-top: 4px;\n",
              "}\n",
              ".lx-text-window {\n",
              "  font-family: monospace; white-space: pre-wrap; border: 1px solid #90caf9;\n",
              "  padding: 12px; max-height: 260px; overflow-y: auto; margin-bottom: 12px;\n",
              "  line-height: 1.6;\n",
              "}\n",
              ".lx-attributes-panel {\n",
              "  background: #fafafa; border: 1px solid #90caf9; border-radius: 6px;\n",
              "  padding: 8px 10px; margin-top: 8px; font-size: 13px;\n",
              "}\n",
              ".lx-current-highlight {\n",
              "  border-bottom: 4px solid #ff4444;\n",
              "  font-weight: bold;\n",
              "  animation: lx-pulse 1s ease-in-out;\n",
              "}\n",
              "@keyframes lx-pulse {\n",
              "  0% { text-decoration-color: #ff4444; }\n",
              "  50% { text-decoration-color: #ff0000; }\n",
              "  100% { text-decoration-color: #ff4444; }\n",
              "}\n",
              ".lx-legend {\n",
              "  font-size: 12px; margin-bottom: 8px;\n",
              "  padding-bottom: 8px; border-bottom: 1px solid #e0e0e0;\n",
              "}\n",
              ".lx-label {\n",
              "  display: inline-block;\n",
              "  padding: 2px 4px;\n",
              "  border-radius: 3px;\n",
              "  margin-right: 4px;\n",
              "  color: #000;\n",
              "}\n",
              ".lx-attr-key {\n",
              "  font-weight: 600;\n",
              "  color: #1565c0;\n",
              "  letter-spacing: 0.3px;\n",
              "}\n",
              ".lx-attr-value {\n",
              "  font-weight: 400;\n",
              "  opacity: 0.85;\n",
              "  letter-spacing: 0.2px;\n",
              "}\n",
              "\n",
              "/* Add optimizations with larger fonts and better readability for GIFs */\n",
              ".lx-gif-optimized .lx-text-window { font-size: 16px; line-height: 1.8; }\n",
              ".lx-gif-optimized .lx-attributes-panel { font-size: 15px; }\n",
              ".lx-gif-optimized .lx-current-highlight { text-decoration-thickness: 4px; }\n",
              "</style>\n",
              "<div class=\"lx-animated-wrapper lx-gif-optimized\">\n",
              "  <div class=\"lx-attributes-panel\">\n",
              "    <div class=\"lx-legend\">Highlights Legend: <span class=\"lx-label\" style=\"background-color:#D2E3FC;\">Company</span> <span class=\"lx-label\" style=\"background-color:#C8E6C9;\">Interest Rate</span> <span class=\"lx-label\" style=\"background-color:#FEF0C3;\">Principal Amount</span></div>\n",
              "    <div id=\"attributesContainer\"></div>\n",
              "  </div>\n",
              "  <div class=\"lx-text-window\" id=\"textWindow\">\n",
              "    <span class=\"lx-highlight lx-current-highlight\" data-idx=\"0\" style=\"background-color:#D2E3FC;\">XYZ Bank</span> sanctioned a loan account 123456 to <span class=\"lx-highlight\" data-idx=\"1\" style=\"background-color:#D2E3FC;\">DEF Pvt. Ltd.</span> with GSTIN 29ABCDE1234F1Z5. The principal amount is <span class=\"lx-highlight\" data-idx=\"2\" style=\"background-color:#FEF0C3;\">₹10,00,000</span> with <span class=\"lx-highlight\" data-idx=\"3\" style=\"background-color:#C8E6C9;\">10.5% floating interest</span>. Payment due date: 15-Sep-2025.\n",
              "  </div>\n",
              "  <div class=\"lx-controls\">\n",
              "    <div class=\"lx-button-row\">\n",
              "      <button class=\"lx-control-btn\" onclick=\"playPause()\">▶️ Play</button>\n",
              "      <button class=\"lx-control-btn\" onclick=\"prevExtraction()\">⏮ Previous</button>\n",
              "      <button class=\"lx-control-btn\" onclick=\"nextExtraction()\">⏭ Next</button>\n",
              "    </div>\n",
              "    <div class=\"lx-progress-container\">\n",
              "      <input type=\"range\" id=\"progressSlider\" class=\"lx-progress-slider\"\n",
              "             min=\"0\" max=\"3\" value=\"0\"\n",
              "             onchange=\"jumpToExtraction(this.value)\">\n",
              "    </div>\n",
              "    <div class=\"lx-status-text\">\n",
              "      Entity <span id=\"entityInfo\">1/4</span> |\n",
              "      Pos <span id=\"posInfo\">[0-8]</span>\n",
              "    </div>\n",
              "  </div>\n",
              "</div>\n",
              "\n",
              "<script>\n",
              "  (function() {\n",
              "    const extractions = [{\"index\": 0, \"class\": \"Company\", \"text\": \"XYZ Bank\", \"color\": \"#D2E3FC\", \"startPos\": 0, \"endPos\": 8, \"beforeText\": \"\", \"extractionText\": \"XYZ Bank\", \"afterText\": \" sanctioned a loan account 123456 to DEF Pvt. Ltd. with GSTIN 29ABCDE1234F1Z5. The principal amount is \\u20b910,00,000 with 10.5% floating interest. Paymen\", \"attributesHtml\": \"<div><strong>class:</strong> Company</div><div><strong>attributes:</strong> {<span class=\\\"lx-attr-key\\\">identifier</span>: <span class=\\\"lx-attr-value\\\">loan account 123456</span>}</div>\"}, {\"index\": 1, \"class\": \"Company\", \"text\": \"DEF Pvt. Ltd.\", \"color\": \"#D2E3FC\", \"startPos\": 45, \"endPos\": 58, \"beforeText\": \"XYZ Bank sanctioned a loan account 123456 to \", \"extractionText\": \"DEF Pvt. Ltd.\", \"afterText\": \" with GSTIN 29ABCDE1234F1Z5. The principal amount is \\u20b910,00,000 with 10.5% floating interest. Payment due date: 15-Sep-2025.\", \"attributesHtml\": \"<div><strong>class:</strong> Company</div><div><strong>attributes:</strong> {<span class=\\\"lx-attr-key\\\">identifier</span>: <span class=\\\"lx-attr-value\\\">GSTIN 29ABCDE1234F1Z5</span>}</div>\"}, {\"index\": 2, \"class\": \"Principal Amount\", \"text\": \"\\u20b910,00,000\", \"color\": \"#FEF0C3\", \"startPos\": 111, \"endPos\": 121, \"beforeText\": \"XYZ Bank sanctioned a loan account 123456 to DEF Pvt. Ltd. with GSTIN 29ABCDE1234F1Z5. The principal amount is \", \"extractionText\": \"\\u20b910,00,000\", \"afterText\": \" with 10.5% floating interest. Payment due date: 15-Sep-2025.\", \"attributesHtml\": \"<div><strong>class:</strong> Principal Amount</div><div><strong>attributes:</strong> {<span class=\\\"lx-attr-key\\\">type</span>: <span class=\\\"lx-attr-value\\\">loan value</span>}</div>\"}, {\"index\": 3, \"class\": \"Interest Rate\", \"text\": \"10.5% floating interest\", \"color\": \"#C8E6C9\", \"startPos\": 127, \"endPos\": 150, \"beforeText\": \"XYZ Bank sanctioned a loan account 123456 to DEF Pvt. Ltd. with GSTIN 29ABCDE1234F1Z5. The principal amount is \\u20b910,00,000 with \", \"extractionText\": \"10.5% floating interest\", \"afterText\": \". Payment due date: 15-Sep-2025.\", \"attributesHtml\": \"<div><strong>class:</strong> Interest Rate</div><div><strong>attributes:</strong> {<span class=\\\"lx-attr-key\\\">type</span>: <span class=\\\"lx-attr-value\\\">floating</span>}</div>\"}];\n",
              "    let currentIndex = 0;\n",
              "    let isPlaying = false;\n",
              "    let animationInterval = null;\n",
              "    let animationSpeed = 1.0;\n",
              "\n",
              "    function updateDisplay() {\n",
              "      const extraction = extractions[currentIndex];\n",
              "      if (!extraction) return;\n",
              "\n",
              "      document.getElementById('attributesContainer').innerHTML = extraction.attributesHtml;\n",
              "      document.getElementById('entityInfo').textContent = (currentIndex + 1) + '/' + extractions.length;\n",
              "      document.getElementById('posInfo').textContent = '[' + extraction.startPos + '-' + extraction.endPos + ']';\n",
              "      document.getElementById('progressSlider').value = currentIndex;\n",
              "\n",
              "      const playBtn = document.querySelector('.lx-control-btn');\n",
              "      if (playBtn) playBtn.textContent = isPlaying ? '⏸ Pause' : '▶️ Play';\n",
              "\n",
              "      const prevHighlight = document.querySelector('.lx-text-window .lx-current-highlight');\n",
              "      if (prevHighlight) prevHighlight.classList.remove('lx-current-highlight');\n",
              "      const currentSpan = document.querySelector('.lx-text-window span[data-idx=\"' + currentIndex + '\"]');\n",
              "      if (currentSpan) {\n",
              "        currentSpan.classList.add('lx-current-highlight');\n",
              "        currentSpan.scrollIntoView({block: 'center', behavior: 'smooth'});\n",
              "      }\n",
              "    }\n",
              "\n",
              "    function nextExtraction() {\n",
              "      currentIndex = (currentIndex + 1) % extractions.length;\n",
              "      updateDisplay();\n",
              "    }\n",
              "\n",
              "    function prevExtraction() {\n",
              "      currentIndex = (currentIndex - 1 + extractions.length) % extractions.length;\n",
              "      updateDisplay();\n",
              "    }\n",
              "\n",
              "    function jumpToExtraction(index) {\n",
              "      currentIndex = parseInt(index);\n",
              "      updateDisplay();\n",
              "    }\n",
              "\n",
              "    function playPause() {\n",
              "      if (isPlaying) {\n",
              "        clearInterval(animationInterval);\n",
              "        isPlaying = false;\n",
              "      } else {\n",
              "        animationInterval = setInterval(nextExtraction, animationSpeed * 1000);\n",
              "        isPlaying = true;\n",
              "      }\n",
              "      updateDisplay();\n",
              "    }\n",
              "\n",
              "    window.playPause = playPause;\n",
              "    window.nextExtraction = nextExtraction;\n",
              "    window.prevExtraction = prevExtraction;\n",
              "    window.jumpToExtraction = jumpToExtraction;\n",
              "\n",
              "    updateDisplay();\n",
              "  })();\n",
              "</script>"
            ]
          },
          "metadata": {}
        }
      ]
    },
    {
      "cell_type": "code",
      "source": [
        "html_content = lx.visualize(\"extraction_results.jsonl\")\n",
        "\n",
        "# Convert to string safely\n",
        "html_str = str(html_content)\n",
        "\n",
        "with open(\"visualization.html\", \"w\", encoding=\"utf-8\") as f:\n",
        "    f.write(html_str)\n",
        "\n",
        "print(\"✅ visualization.html saved successfully\")\n"
      ],
      "metadata": {
        "colab": {
          "base_uri": "https://localhost:8080/"
        },
        "id": "nrEd0zDP9JN8",
        "outputId": "46d4c5e0-0ac7-4bf2-d534-4d7c80eb182d"
      },
      "execution_count": 46,
      "outputs": [
        {
          "output_type": "stream",
          "name": "stderr",
          "text": [
            "\u001b[94m\u001b[1mLangExtract\u001b[0m: Loading \u001b[92mextraction_results.jsonl\u001b[0m: 100%|██████████| 1.32k/1.32k [00:00<00:00, 2.86MB/s]"
          ]
        },
        {
          "output_type": "stream",
          "name": "stdout",
          "text": [
            "\u001b[92m✓\u001b[0m Loaded \u001b[1m1\u001b[0m documents from \u001b[92mextraction_results.jsonl\u001b[0m\n",
            "✅ visualization.html saved successfully\n"
          ]
        },
        {
          "output_type": "stream",
          "name": "stderr",
          "text": [
            "\n"
          ]
        }
      ]
    },
    {
      "cell_type": "code",
      "source": [
        "from google.colab import files\n",
        "files.download(\"visualization.html\")\n"
      ],
      "metadata": {
        "colab": {
          "base_uri": "https://localhost:8080/",
          "height": 17
        },
        "id": "55c_s8le4PfP",
        "outputId": "ca30d7aa-4adc-410e-fc4b-7eda1dd98c57"
      },
      "execution_count": 47,
      "outputs": [
        {
          "output_type": "display_data",
          "data": {
            "text/plain": [
              "<IPython.core.display.Javascript object>"
            ],
            "application/javascript": [
              "\n",
              "    async function download(id, filename, size) {\n",
              "      if (!google.colab.kernel.accessAllowed) {\n",
              "        return;\n",
              "      }\n",
              "      const div = document.createElement('div');\n",
              "      const label = document.createElement('label');\n",
              "      label.textContent = `Downloading \"${filename}\": `;\n",
              "      div.appendChild(label);\n",
              "      const progress = document.createElement('progress');\n",
              "      progress.max = size;\n",
              "      div.appendChild(progress);\n",
              "      document.body.appendChild(div);\n",
              "\n",
              "      const buffers = [];\n",
              "      let downloaded = 0;\n",
              "\n",
              "      const channel = await google.colab.kernel.comms.open(id);\n",
              "      // Send a message to notify the kernel that we're ready.\n",
              "      channel.send({})\n",
              "\n",
              "      for await (const message of channel.messages) {\n",
              "        // Send a message to notify the kernel that we're ready.\n",
              "        channel.send({})\n",
              "        if (message.buffers) {\n",
              "          for (const buffer of message.buffers) {\n",
              "            buffers.push(buffer);\n",
              "            downloaded += buffer.byteLength;\n",
              "            progress.value = downloaded;\n",
              "          }\n",
              "        }\n",
              "      }\n",
              "      const blob = new Blob(buffers, {type: 'application/binary'});\n",
              "      const a = document.createElement('a');\n",
              "      a.href = window.URL.createObjectURL(blob);\n",
              "      a.download = filename;\n",
              "      div.appendChild(a);\n",
              "      a.click();\n",
              "      div.remove();\n",
              "    }\n",
              "  "
            ]
          },
          "metadata": {}
        },
        {
          "output_type": "display_data",
          "data": {
            "text/plain": [
              "<IPython.core.display.Javascript object>"
            ],
            "application/javascript": [
              "download(\"download_7188a0d7-1c5b-4966-90fa-cc0b7308b6c2\", \"visualization.html\", 34)"
            ]
          },
          "metadata": {}
        }
      ]
    },
    {
      "cell_type": "code",
      "source": [],
      "metadata": {
        "id": "PRRABm379p9f"
      },
      "execution_count": null,
      "outputs": []
    },
    {
      "cell_type": "code",
      "source": [
        "!head extraction_results.jsonl\n"
      ],
      "metadata": {
        "colab": {
          "base_uri": "https://localhost:8080/"
        },
        "id": "fltaTPw-4p_Z",
        "outputId": "af39489c-60fc-446c-f136-c8a8cffb93c6"
      },
      "execution_count": 48,
      "outputs": [
        {
          "output_type": "stream",
          "name": "stdout",
          "text": [
            "{\"extractions\": [{\"extraction_class\": \"Company\", \"extraction_text\": \"XYZ Bank\", \"char_interval\": {\"start_pos\": 0, \"end_pos\": 8}, \"alignment_status\": \"match_exact\", \"extraction_index\": 1, \"group_index\": 0, \"description\": null, \"attributes\": {\"identifier\": \"loan account 123456\"}}, {\"extraction_class\": \"Company\", \"extraction_text\": \"DEF Pvt. Ltd.\", \"char_interval\": {\"start_pos\": 45, \"end_pos\": 58}, \"alignment_status\": \"match_exact\", \"extraction_index\": 2, \"group_index\": 1, \"description\": null, \"attributes\": {\"identifier\": \"GSTIN 29ABCDE1234F1Z5\"}}, {\"extraction_class\": \"Principal Amount\", \"extraction_text\": \"₹10,00,000\", \"char_interval\": {\"start_pos\": 111, \"end_pos\": 121}, \"alignment_status\": \"match_exact\", \"extraction_index\": 3, \"group_index\": 2, \"description\": null, \"attributes\": {\"type\": \"loan value\"}}, {\"extraction_class\": \"Interest Rate\", \"extraction_text\": \"10.5% floating interest\", \"char_interval\": {\"start_pos\": 127, \"end_pos\": 150}, \"alignment_status\": \"match_exact\", \"extraction_index\": 4, \"group_index\": 3, \"description\": null, \"attributes\": {\"type\": \"floating\"}}], \"text\": \"XYZ Bank sanctioned a loan account 123456 to DEF Pvt. Ltd. with GSTIN 29ABCDE1234F1Z5. The principal amount is ₹10,00,000 with 10.5% floating interest. Payment due date: 15-Sep-2025.\", \"document_id\": \"doc_8308176e\"}\n"
          ]
        }
      ]
    },
    {
      "cell_type": "code",
      "source": [
        "from IPython.display import HTML\n",
        "\n",
        "# Generate visualization\n",
        "html_content = lx.visualize(\"extraction_results.jsonl\")\n",
        "\n",
        "# Force convert to HTML string\n",
        "html_str = HTML(html_content.data).data\n",
        "\n",
        "# Save to file\n",
        "with open(\"visualization.html\", \"w\", encoding=\"utf-8\") as f:\n",
        "    f.write(html_str)\n",
        "\n",
        "print(\"✅ visualization.html saved successfully\")\n"
      ],
      "metadata": {
        "colab": {
          "base_uri": "https://localhost:8080/"
        },
        "id": "0l7gfebw9qfR",
        "outputId": "1368b047-642b-4c48-a1a2-ae034234d744"
      },
      "execution_count": 49,
      "outputs": [
        {
          "output_type": "stream",
          "name": "stderr",
          "text": [
            "\u001b[94m\u001b[1mLangExtract\u001b[0m: Loading \u001b[92mextraction_results.jsonl\u001b[0m: 100%|██████████| 1.32k/1.32k [00:00<00:00, 1.81MB/s]"
          ]
        },
        {
          "output_type": "stream",
          "name": "stdout",
          "text": [
            "\u001b[92m✓\u001b[0m Loaded \u001b[1m1\u001b[0m documents from \u001b[92mextraction_results.jsonl\u001b[0m\n",
            "✅ visualization.html saved successfully\n"
          ]
        },
        {
          "output_type": "stream",
          "name": "stderr",
          "text": [
            "\n"
          ]
        }
      ]
    },
    {
      "cell_type": "code",
      "source": [
        "from google.colab import files\n",
        "files.download(\"visualization.html\")\n"
      ],
      "metadata": {
        "colab": {
          "base_uri": "https://localhost:8080/",
          "height": 17
        },
        "id": "HUSKB-1e9uKT",
        "outputId": "bde3e5c4-7e4e-4476-a2c7-4b0a871f9784"
      },
      "execution_count": 50,
      "outputs": [
        {
          "output_type": "display_data",
          "data": {
            "text/plain": [
              "<IPython.core.display.Javascript object>"
            ],
            "application/javascript": [
              "\n",
              "    async function download(id, filename, size) {\n",
              "      if (!google.colab.kernel.accessAllowed) {\n",
              "        return;\n",
              "      }\n",
              "      const div = document.createElement('div');\n",
              "      const label = document.createElement('label');\n",
              "      label.textContent = `Downloading \"${filename}\": `;\n",
              "      div.appendChild(label);\n",
              "      const progress = document.createElement('progress');\n",
              "      progress.max = size;\n",
              "      div.appendChild(progress);\n",
              "      document.body.appendChild(div);\n",
              "\n",
              "      const buffers = [];\n",
              "      let downloaded = 0;\n",
              "\n",
              "      const channel = await google.colab.kernel.comms.open(id);\n",
              "      // Send a message to notify the kernel that we're ready.\n",
              "      channel.send({})\n",
              "\n",
              "      for await (const message of channel.messages) {\n",
              "        // Send a message to notify the kernel that we're ready.\n",
              "        channel.send({})\n",
              "        if (message.buffers) {\n",
              "          for (const buffer of message.buffers) {\n",
              "            buffers.push(buffer);\n",
              "            downloaded += buffer.byteLength;\n",
              "            progress.value = downloaded;\n",
              "          }\n",
              "        }\n",
              "      }\n",
              "      const blob = new Blob(buffers, {type: 'application/binary'});\n",
              "      const a = document.createElement('a');\n",
              "      a.href = window.URL.createObjectURL(blob);\n",
              "      a.download = filename;\n",
              "      div.appendChild(a);\n",
              "      a.click();\n",
              "      div.remove();\n",
              "    }\n",
              "  "
            ]
          },
          "metadata": {}
        },
        {
          "output_type": "display_data",
          "data": {
            "text/plain": [
              "<IPython.core.display.Javascript object>"
            ],
            "application/javascript": [
              "download(\"download_8f9ab164-1f35-45ea-b7b9-aa48ffa97d42\", \"visualization.html\", 9021)"
            ]
          },
          "metadata": {}
        }
      ]
    },
    {
      "cell_type": "code",
      "source": [],
      "metadata": {
        "id": "gFpSD-Oh9wIw"
      },
      "execution_count": null,
      "outputs": []
    }
  ]
}