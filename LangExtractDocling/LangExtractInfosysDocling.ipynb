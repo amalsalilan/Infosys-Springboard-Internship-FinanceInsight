{
  "nbformat": 4,
  "nbformat_minor": 0,
  "metadata": {
    "colab": {
      "provenance": [],
      "gpuType": "T4"
    },
    "kernelspec": {
      "name": "python3",
      "display_name": "Python 3"
    },
    "language_info": {
      "name": "python"
    },
    "accelerator": "GPU"
  },
  "cells": [
    {
      "cell_type": "markdown",
      "source": [
        "PROCESS TO MAKE OCR OF DOCLING RUN ON GPU -- Only use GPU when image based pdfs are there where OCR will be used. For text based PDF no OCR is used hence extraction through CPU."
      ],
      "metadata": {
        "id": "kYon_jw-2R2A"
      }
    },
    {
      "cell_type": "code",
      "source": [
        "!pip install torch torchvision torchaudio --index-url https://download.pytorch.org/whl/cu121"
      ],
      "metadata": {
        "colab": {
          "base_uri": "https://localhost:8080/"
        },
        "id": "lGSd23dX2ajv",
        "outputId": "b8e1eedd-00d0-4133-f7ab-7ea2321a035e"
      },
      "execution_count": 22,
      "outputs": [
        {
          "output_type": "stream",
          "name": "stdout",
          "text": [
            "Looking in indexes: https://download.pytorch.org/whl/cu121\n",
            "Requirement already satisfied: torch in /usr/local/lib/python3.12/dist-packages (2.8.0+cu126)\n",
            "Requirement already satisfied: torchvision in /usr/local/lib/python3.12/dist-packages (0.23.0+cu126)\n",
            "Requirement already satisfied: torchaudio in /usr/local/lib/python3.12/dist-packages (2.8.0+cu126)\n",
            "Requirement already satisfied: filelock in /usr/local/lib/python3.12/dist-packages (from torch) (3.19.1)\n",
            "Requirement already satisfied: typing-extensions>=4.10.0 in /usr/local/lib/python3.12/dist-packages (from torch) (4.15.0)\n",
            "Requirement already satisfied: setuptools in /usr/local/lib/python3.12/dist-packages (from torch) (75.2.0)\n",
            "Requirement already satisfied: sympy>=1.13.3 in /usr/local/lib/python3.12/dist-packages (from torch) (1.13.3)\n",
            "Requirement already satisfied: networkx in /usr/local/lib/python3.12/dist-packages (from torch) (3.5)\n",
            "Requirement already satisfied: jinja2 in /usr/local/lib/python3.12/dist-packages (from torch) (3.1.6)\n",
            "Requirement already satisfied: fsspec in /usr/local/lib/python3.12/dist-packages (from torch) (2025.3.0)\n",
            "Requirement already satisfied: nvidia-cuda-nvrtc-cu12==12.6.77 in /usr/local/lib/python3.12/dist-packages (from torch) (12.6.77)\n",
            "Requirement already satisfied: nvidia-cuda-runtime-cu12==12.6.77 in /usr/local/lib/python3.12/dist-packages (from torch) (12.6.77)\n",
            "Requirement already satisfied: nvidia-cuda-cupti-cu12==12.6.80 in /usr/local/lib/python3.12/dist-packages (from torch) (12.6.80)\n",
            "Requirement already satisfied: nvidia-cudnn-cu12==9.10.2.21 in /usr/local/lib/python3.12/dist-packages (from torch) (9.10.2.21)\n",
            "Requirement already satisfied: nvidia-cublas-cu12==12.6.4.1 in /usr/local/lib/python3.12/dist-packages (from torch) (12.6.4.1)\n",
            "Requirement already satisfied: nvidia-cufft-cu12==11.3.0.4 in /usr/local/lib/python3.12/dist-packages (from torch) (11.3.0.4)\n",
            "Requirement already satisfied: nvidia-curand-cu12==10.3.7.77 in /usr/local/lib/python3.12/dist-packages (from torch) (10.3.7.77)\n",
            "Requirement already satisfied: nvidia-cusolver-cu12==11.7.1.2 in /usr/local/lib/python3.12/dist-packages (from torch) (11.7.1.2)\n",
            "Requirement already satisfied: nvidia-cusparse-cu12==12.5.4.2 in /usr/local/lib/python3.12/dist-packages (from torch) (12.5.4.2)\n",
            "Requirement already satisfied: nvidia-cusparselt-cu12==0.7.1 in /usr/local/lib/python3.12/dist-packages (from torch) (0.7.1)\n",
            "Requirement already satisfied: nvidia-nccl-cu12==2.27.3 in /usr/local/lib/python3.12/dist-packages (from torch) (2.27.3)\n",
            "Requirement already satisfied: nvidia-nvtx-cu12==12.6.77 in /usr/local/lib/python3.12/dist-packages (from torch) (12.6.77)\n",
            "Requirement already satisfied: nvidia-nvjitlink-cu12==12.6.85 in /usr/local/lib/python3.12/dist-packages (from torch) (12.6.85)\n",
            "Requirement already satisfied: nvidia-cufile-cu12==1.11.1.6 in /usr/local/lib/python3.12/dist-packages (from torch) (1.11.1.6)\n",
            "Requirement already satisfied: triton==3.4.0 in /usr/local/lib/python3.12/dist-packages (from torch) (3.4.0)\n",
            "Requirement already satisfied: numpy in /usr/local/lib/python3.12/dist-packages (from torchvision) (2.0.2)\n",
            "Requirement already satisfied: pillow!=8.3.*,>=5.3.0 in /usr/local/lib/python3.12/dist-packages (from torchvision) (11.3.0)\n",
            "Requirement already satisfied: mpmath<1.4,>=1.1.0 in /usr/local/lib/python3.12/dist-packages (from sympy>=1.13.3->torch) (1.3.0)\n",
            "Requirement already satisfied: MarkupSafe>=2.0 in /usr/local/lib/python3.12/dist-packages (from jinja2->torch) (3.0.2)\n"
          ]
        }
      ]
    },
    {
      "cell_type": "code",
      "source": [
        "import torch\n",
        "\n",
        "print(\"CUDA available:\", torch.cuda.is_available())\n",
        "if torch.cuda.is_available():\n",
        "    print(\"GPU device:\", torch.cuda.get_device_name(0))"
      ],
      "metadata": {
        "colab": {
          "base_uri": "https://localhost:8080/"
        },
        "id": "OKwQ3ALC2iFv",
        "outputId": "f3c75afa-9fa0-4ae7-cb4c-c237a98d63bb"
      },
      "execution_count": 23,
      "outputs": [
        {
          "output_type": "stream",
          "name": "stdout",
          "text": [
            "CUDA available: True\n",
            "GPU device: Tesla T4\n"
          ]
        }
      ]
    },
    {
      "cell_type": "code",
      "source": [
        "!pip install docling"
      ],
      "metadata": {
        "colab": {
          "base_uri": "https://localhost:8080/"
        },
        "id": "xMztFqBD4iwv",
        "outputId": "c1691aae-de94-44c3-edde-003d0b9fa2bf"
      },
      "execution_count": 24,
      "outputs": [
        {
          "output_type": "stream",
          "name": "stdout",
          "text": [
            "Requirement already satisfied: docling in /usr/local/lib/python3.12/dist-packages (2.51.0)\n",
            "Requirement already satisfied: pydantic<3.0.0,>=2.0.0 in /usr/local/lib/python3.12/dist-packages (from docling) (2.11.7)\n",
            "Requirement already satisfied: docling-core<3.0.0,>=2.42.0 in /usr/local/lib/python3.12/dist-packages (from docling-core[chunking]<3.0.0,>=2.42.0->docling) (2.47.0)\n",
            "Requirement already satisfied: docling-parse<5.0.0,>=4.4.0 in /usr/local/lib/python3.12/dist-packages (from docling) (4.4.0)\n",
            "Requirement already satisfied: docling-ibm-models<4,>=3.9.1 in /usr/local/lib/python3.12/dist-packages (from docling) (3.9.1)\n",
            "Requirement already satisfied: filetype<2.0.0,>=1.2.0 in /usr/local/lib/python3.12/dist-packages (from docling) (1.2.0)\n",
            "Requirement already satisfied: pypdfium2!=4.30.1,<5.0.0,>=4.30.0 in /usr/local/lib/python3.12/dist-packages (from docling) (4.30.0)\n",
            "Requirement already satisfied: pydantic-settings<3.0.0,>=2.3.0 in /usr/local/lib/python3.12/dist-packages (from docling) (2.10.1)\n",
            "Requirement already satisfied: huggingface_hub<1,>=0.23 in /usr/local/lib/python3.12/dist-packages (from docling) (0.34.4)\n",
            "Requirement already satisfied: requests<3.0.0,>=2.32.2 in /usr/local/lib/python3.12/dist-packages (from docling) (2.32.4)\n",
            "Requirement already satisfied: easyocr<2.0,>=1.7 in /usr/local/lib/python3.12/dist-packages (from docling) (1.7.2)\n",
            "Requirement already satisfied: certifi>=2024.7.4 in /usr/local/lib/python3.12/dist-packages (from docling) (2025.8.3)\n",
            "Requirement already satisfied: rtree<2.0.0,>=1.3.0 in /usr/local/lib/python3.12/dist-packages (from docling) (1.4.1)\n",
            "Requirement already satisfied: typer<0.17.0,>=0.12.5 in /usr/local/lib/python3.12/dist-packages (from docling) (0.16.1)\n",
            "Requirement already satisfied: python-docx<2.0.0,>=1.1.2 in /usr/local/lib/python3.12/dist-packages (from docling) (1.2.0)\n",
            "Requirement already satisfied: python-pptx<2.0.0,>=1.0.2 in /usr/local/lib/python3.12/dist-packages (from docling) (1.0.2)\n",
            "Requirement already satisfied: beautifulsoup4<5.0.0,>=4.12.3 in /usr/local/lib/python3.12/dist-packages (from docling) (4.13.5)\n",
            "Requirement already satisfied: pandas<3.0.0,>=2.1.4 in /usr/local/lib/python3.12/dist-packages (from docling) (2.2.2)\n",
            "Requirement already satisfied: marko<3.0.0,>=2.1.2 in /usr/local/lib/python3.12/dist-packages (from docling) (2.2.0)\n",
            "Requirement already satisfied: openpyxl<4.0.0,>=3.1.5 in /usr/local/lib/python3.12/dist-packages (from docling) (3.1.5)\n",
            "Requirement already satisfied: lxml<6.0.0,>=4.0.0 in /usr/local/lib/python3.12/dist-packages (from docling) (5.4.0)\n",
            "Requirement already satisfied: pillow<12.0.0,>=10.0.0 in /usr/local/lib/python3.12/dist-packages (from docling) (11.3.0)\n",
            "Requirement already satisfied: tqdm<5.0.0,>=4.65.0 in /usr/local/lib/python3.12/dist-packages (from docling) (4.67.1)\n",
            "Requirement already satisfied: pluggy<2.0.0,>=1.0.0 in /usr/local/lib/python3.12/dist-packages (from docling) (1.6.0)\n",
            "Requirement already satisfied: pylatexenc<3.0,>=2.10 in /usr/local/lib/python3.12/dist-packages (from docling) (2.10)\n",
            "Requirement already satisfied: scipy<2.0.0,>=1.6.0 in /usr/local/lib/python3.12/dist-packages (from docling) (1.16.1)\n",
            "Requirement already satisfied: accelerate<2,>=1.0.0 in /usr/local/lib/python3.12/dist-packages (from docling) (1.10.1)\n",
            "Requirement already satisfied: polyfactory>=2.22.2 in /usr/local/lib/python3.12/dist-packages (from docling) (2.22.2)\n",
            "Requirement already satisfied: numpy<3.0.0,>=1.17 in /usr/local/lib/python3.12/dist-packages (from accelerate<2,>=1.0.0->docling) (2.0.2)\n",
            "Requirement already satisfied: packaging>=20.0 in /usr/local/lib/python3.12/dist-packages (from accelerate<2,>=1.0.0->docling) (25.0)\n",
            "Requirement already satisfied: psutil in /usr/local/lib/python3.12/dist-packages (from accelerate<2,>=1.0.0->docling) (5.9.5)\n",
            "Requirement already satisfied: pyyaml in /usr/local/lib/python3.12/dist-packages (from accelerate<2,>=1.0.0->docling) (6.0.2)\n",
            "Requirement already satisfied: torch>=2.0.0 in /usr/local/lib/python3.12/dist-packages (from accelerate<2,>=1.0.0->docling) (2.8.0+cu126)\n",
            "Requirement already satisfied: safetensors>=0.4.3 in /usr/local/lib/python3.12/dist-packages (from accelerate<2,>=1.0.0->docling) (0.6.2)\n",
            "Requirement already satisfied: soupsieve>1.2 in /usr/local/lib/python3.12/dist-packages (from beautifulsoup4<5.0.0,>=4.12.3->docling) (2.8)\n",
            "Requirement already satisfied: typing-extensions>=4.0.0 in /usr/local/lib/python3.12/dist-packages (from beautifulsoup4<5.0.0,>=4.12.3->docling) (4.15.0)\n",
            "Requirement already satisfied: jsonschema<5.0.0,>=4.16.0 in /usr/local/lib/python3.12/dist-packages (from docling-core<3.0.0,>=2.42.0->docling-core[chunking]<3.0.0,>=2.42.0->docling) (4.25.1)\n",
            "Requirement already satisfied: jsonref<2.0.0,>=1.1.0 in /usr/local/lib/python3.12/dist-packages (from docling-core<3.0.0,>=2.42.0->docling-core[chunking]<3.0.0,>=2.42.0->docling) (1.1.0)\n",
            "Requirement already satisfied: tabulate<0.10.0,>=0.9.0 in /usr/local/lib/python3.12/dist-packages (from docling-core<3.0.0,>=2.42.0->docling-core[chunking]<3.0.0,>=2.42.0->docling) (0.9.0)\n",
            "Requirement already satisfied: latex2mathml<4.0.0,>=3.77.0 in /usr/local/lib/python3.12/dist-packages (from docling-core<3.0.0,>=2.42.0->docling-core[chunking]<3.0.0,>=2.42.0->docling) (3.78.1)\n",
            "Requirement already satisfied: semchunk<3.0.0,>=2.2.0 in /usr/local/lib/python3.12/dist-packages (from docling-core[chunking]<3.0.0,>=2.42.0->docling) (2.2.2)\n",
            "Requirement already satisfied: transformers<5.0.0,>=4.34.0 in /usr/local/lib/python3.12/dist-packages (from docling-core[chunking]<3.0.0,>=2.42.0->docling) (4.56.0)\n",
            "Requirement already satisfied: torchvision<1,>=0 in /usr/local/lib/python3.12/dist-packages (from docling-ibm-models<4,>=3.9.1->docling) (0.23.0+cu126)\n",
            "Requirement already satisfied: jsonlines<4.0.0,>=3.1.0 in /usr/local/lib/python3.12/dist-packages (from docling-ibm-models<4,>=3.9.1->docling) (3.1.0)\n",
            "Requirement already satisfied: opencv-python-headless<5.0.0.0,>=4.6.0.66 in /usr/local/lib/python3.12/dist-packages (from docling-ibm-models<4,>=3.9.1->docling) (4.12.0.88)\n",
            "Requirement already satisfied: scikit-image in /usr/local/lib/python3.12/dist-packages (from easyocr<2.0,>=1.7->docling) (0.25.2)\n",
            "Requirement already satisfied: python-bidi in /usr/local/lib/python3.12/dist-packages (from easyocr<2.0,>=1.7->docling) (0.6.6)\n",
            "Requirement already satisfied: Shapely in /usr/local/lib/python3.12/dist-packages (from easyocr<2.0,>=1.7->docling) (2.1.1)\n",
            "Requirement already satisfied: pyclipper in /usr/local/lib/python3.12/dist-packages (from easyocr<2.0,>=1.7->docling) (1.3.0.post6)\n",
            "Requirement already satisfied: ninja in /usr/local/lib/python3.12/dist-packages (from easyocr<2.0,>=1.7->docling) (1.13.0)\n",
            "Requirement already satisfied: filelock in /usr/local/lib/python3.12/dist-packages (from huggingface_hub<1,>=0.23->docling) (3.19.1)\n",
            "Requirement already satisfied: fsspec>=2023.5.0 in /usr/local/lib/python3.12/dist-packages (from huggingface_hub<1,>=0.23->docling) (2025.3.0)\n",
            "Requirement already satisfied: hf-xet<2.0.0,>=1.1.3 in /usr/local/lib/python3.12/dist-packages (from huggingface_hub<1,>=0.23->docling) (1.1.9)\n",
            "Requirement already satisfied: et-xmlfile in /usr/local/lib/python3.12/dist-packages (from openpyxl<4.0.0,>=3.1.5->docling) (2.0.0)\n",
            "Requirement already satisfied: python-dateutil>=2.8.2 in /usr/local/lib/python3.12/dist-packages (from pandas<3.0.0,>=2.1.4->docling) (2.9.0.post0)\n",
            "Requirement already satisfied: pytz>=2020.1 in /usr/local/lib/python3.12/dist-packages (from pandas<3.0.0,>=2.1.4->docling) (2025.2)\n",
            "Requirement already satisfied: tzdata>=2022.7 in /usr/local/lib/python3.12/dist-packages (from pandas<3.0.0,>=2.1.4->docling) (2025.2)\n",
            "Requirement already satisfied: faker>=5.0.0 in /usr/local/lib/python3.12/dist-packages (from polyfactory>=2.22.2->docling) (37.6.0)\n",
            "Requirement already satisfied: annotated-types>=0.6.0 in /usr/local/lib/python3.12/dist-packages (from pydantic<3.0.0,>=2.0.0->docling) (0.7.0)\n",
            "Requirement already satisfied: pydantic-core==2.33.2 in /usr/local/lib/python3.12/dist-packages (from pydantic<3.0.0,>=2.0.0->docling) (2.33.2)\n",
            "Requirement already satisfied: typing-inspection>=0.4.0 in /usr/local/lib/python3.12/dist-packages (from pydantic<3.0.0,>=2.0.0->docling) (0.4.1)\n",
            "Requirement already satisfied: python-dotenv>=0.21.0 in /usr/local/lib/python3.12/dist-packages (from pydantic-settings<3.0.0,>=2.3.0->docling) (1.1.1)\n",
            "Requirement already satisfied: XlsxWriter>=0.5.7 in /usr/local/lib/python3.12/dist-packages (from python-pptx<2.0.0,>=1.0.2->docling) (3.2.5)\n",
            "Requirement already satisfied: charset_normalizer<4,>=2 in /usr/local/lib/python3.12/dist-packages (from requests<3.0.0,>=2.32.2->docling) (3.4.3)\n",
            "Requirement already satisfied: idna<4,>=2.5 in /usr/local/lib/python3.12/dist-packages (from requests<3.0.0,>=2.32.2->docling) (3.10)\n",
            "Requirement already satisfied: urllib3<3,>=1.21.1 in /usr/local/lib/python3.12/dist-packages (from requests<3.0.0,>=2.32.2->docling) (2.5.0)\n",
            "Requirement already satisfied: click>=8.0.0 in /usr/local/lib/python3.12/dist-packages (from typer<0.17.0,>=0.12.5->docling) (8.2.1)\n",
            "Requirement already satisfied: shellingham>=1.3.0 in /usr/local/lib/python3.12/dist-packages (from typer<0.17.0,>=0.12.5->docling) (1.5.4)\n",
            "Requirement already satisfied: rich>=10.11.0 in /usr/local/lib/python3.12/dist-packages (from typer<0.17.0,>=0.12.5->docling) (13.9.4)\n",
            "Requirement already satisfied: attrs>=19.2.0 in /usr/local/lib/python3.12/dist-packages (from jsonlines<4.0.0,>=3.1.0->docling-ibm-models<4,>=3.9.1->docling) (25.3.0)\n",
            "Requirement already satisfied: jsonschema-specifications>=2023.03.6 in /usr/local/lib/python3.12/dist-packages (from jsonschema<5.0.0,>=4.16.0->docling-core<3.0.0,>=2.42.0->docling-core[chunking]<3.0.0,>=2.42.0->docling) (2025.4.1)\n",
            "Requirement already satisfied: referencing>=0.28.4 in /usr/local/lib/python3.12/dist-packages (from jsonschema<5.0.0,>=4.16.0->docling-core<3.0.0,>=2.42.0->docling-core[chunking]<3.0.0,>=2.42.0->docling) (0.36.2)\n",
            "Requirement already satisfied: rpds-py>=0.7.1 in /usr/local/lib/python3.12/dist-packages (from jsonschema<5.0.0,>=4.16.0->docling-core<3.0.0,>=2.42.0->docling-core[chunking]<3.0.0,>=2.42.0->docling) (0.27.1)\n",
            "Requirement already satisfied: six>=1.5 in /usr/local/lib/python3.12/dist-packages (from python-dateutil>=2.8.2->pandas<3.0.0,>=2.1.4->docling) (1.17.0)\n",
            "Requirement already satisfied: markdown-it-py>=2.2.0 in /usr/local/lib/python3.12/dist-packages (from rich>=10.11.0->typer<0.17.0,>=0.12.5->docling) (4.0.0)\n",
            "Requirement already satisfied: pygments<3.0.0,>=2.13.0 in /usr/local/lib/python3.12/dist-packages (from rich>=10.11.0->typer<0.17.0,>=0.12.5->docling) (2.19.2)\n",
            "Requirement already satisfied: mpire[dill] in /usr/local/lib/python3.12/dist-packages (from semchunk<3.0.0,>=2.2.0->docling-core[chunking]<3.0.0,>=2.42.0->docling) (2.10.2)\n",
            "Requirement already satisfied: setuptools in /usr/local/lib/python3.12/dist-packages (from torch>=2.0.0->accelerate<2,>=1.0.0->docling) (75.2.0)\n",
            "Requirement already satisfied: sympy>=1.13.3 in /usr/local/lib/python3.12/dist-packages (from torch>=2.0.0->accelerate<2,>=1.0.0->docling) (1.13.3)\n",
            "Requirement already satisfied: networkx in /usr/local/lib/python3.12/dist-packages (from torch>=2.0.0->accelerate<2,>=1.0.0->docling) (3.5)\n",
            "Requirement already satisfied: jinja2 in /usr/local/lib/python3.12/dist-packages (from torch>=2.0.0->accelerate<2,>=1.0.0->docling) (3.1.6)\n",
            "Requirement already satisfied: nvidia-cuda-nvrtc-cu12==12.6.77 in /usr/local/lib/python3.12/dist-packages (from torch>=2.0.0->accelerate<2,>=1.0.0->docling) (12.6.77)\n",
            "Requirement already satisfied: nvidia-cuda-runtime-cu12==12.6.77 in /usr/local/lib/python3.12/dist-packages (from torch>=2.0.0->accelerate<2,>=1.0.0->docling) (12.6.77)\n",
            "Requirement already satisfied: nvidia-cuda-cupti-cu12==12.6.80 in /usr/local/lib/python3.12/dist-packages (from torch>=2.0.0->accelerate<2,>=1.0.0->docling) (12.6.80)\n",
            "Requirement already satisfied: nvidia-cudnn-cu12==9.10.2.21 in /usr/local/lib/python3.12/dist-packages (from torch>=2.0.0->accelerate<2,>=1.0.0->docling) (9.10.2.21)\n",
            "Requirement already satisfied: nvidia-cublas-cu12==12.6.4.1 in /usr/local/lib/python3.12/dist-packages (from torch>=2.0.0->accelerate<2,>=1.0.0->docling) (12.6.4.1)\n",
            "Requirement already satisfied: nvidia-cufft-cu12==11.3.0.4 in /usr/local/lib/python3.12/dist-packages (from torch>=2.0.0->accelerate<2,>=1.0.0->docling) (11.3.0.4)\n",
            "Requirement already satisfied: nvidia-curand-cu12==10.3.7.77 in /usr/local/lib/python3.12/dist-packages (from torch>=2.0.0->accelerate<2,>=1.0.0->docling) (10.3.7.77)\n",
            "Requirement already satisfied: nvidia-cusolver-cu12==11.7.1.2 in /usr/local/lib/python3.12/dist-packages (from torch>=2.0.0->accelerate<2,>=1.0.0->docling) (11.7.1.2)\n",
            "Requirement already satisfied: nvidia-cusparse-cu12==12.5.4.2 in /usr/local/lib/python3.12/dist-packages (from torch>=2.0.0->accelerate<2,>=1.0.0->docling) (12.5.4.2)\n",
            "Requirement already satisfied: nvidia-cusparselt-cu12==0.7.1 in /usr/local/lib/python3.12/dist-packages (from torch>=2.0.0->accelerate<2,>=1.0.0->docling) (0.7.1)\n",
            "Requirement already satisfied: nvidia-nccl-cu12==2.27.3 in /usr/local/lib/python3.12/dist-packages (from torch>=2.0.0->accelerate<2,>=1.0.0->docling) (2.27.3)\n",
            "Requirement already satisfied: nvidia-nvtx-cu12==12.6.77 in /usr/local/lib/python3.12/dist-packages (from torch>=2.0.0->accelerate<2,>=1.0.0->docling) (12.6.77)\n",
            "Requirement already satisfied: nvidia-nvjitlink-cu12==12.6.85 in /usr/local/lib/python3.12/dist-packages (from torch>=2.0.0->accelerate<2,>=1.0.0->docling) (12.6.85)\n",
            "Requirement already satisfied: nvidia-cufile-cu12==1.11.1.6 in /usr/local/lib/python3.12/dist-packages (from torch>=2.0.0->accelerate<2,>=1.0.0->docling) (1.11.1.6)\n",
            "Requirement already satisfied: triton==3.4.0 in /usr/local/lib/python3.12/dist-packages (from torch>=2.0.0->accelerate<2,>=1.0.0->docling) (3.4.0)\n",
            "Requirement already satisfied: regex!=2019.12.17 in /usr/local/lib/python3.12/dist-packages (from transformers<5.0.0,>=4.34.0->docling-core[chunking]<3.0.0,>=2.42.0->docling) (2024.11.6)\n",
            "Requirement already satisfied: tokenizers<=0.23.0,>=0.22.0 in /usr/local/lib/python3.12/dist-packages (from transformers<5.0.0,>=4.34.0->docling-core[chunking]<3.0.0,>=2.42.0->docling) (0.22.0)\n",
            "Requirement already satisfied: imageio!=2.35.0,>=2.33 in /usr/local/lib/python3.12/dist-packages (from scikit-image->easyocr<2.0,>=1.7->docling) (2.37.0)\n",
            "Requirement already satisfied: tifffile>=2022.8.12 in /usr/local/lib/python3.12/dist-packages (from scikit-image->easyocr<2.0,>=1.7->docling) (2025.8.28)\n",
            "Requirement already satisfied: lazy-loader>=0.4 in /usr/local/lib/python3.12/dist-packages (from scikit-image->easyocr<2.0,>=1.7->docling) (0.4)\n",
            "Requirement already satisfied: mdurl~=0.1 in /usr/local/lib/python3.12/dist-packages (from markdown-it-py>=2.2.0->rich>=10.11.0->typer<0.17.0,>=0.12.5->docling) (0.1.2)\n",
            "Requirement already satisfied: mpmath<1.4,>=1.1.0 in /usr/local/lib/python3.12/dist-packages (from sympy>=1.13.3->torch>=2.0.0->accelerate<2,>=1.0.0->docling) (1.3.0)\n",
            "Requirement already satisfied: MarkupSafe>=2.0 in /usr/local/lib/python3.12/dist-packages (from jinja2->torch>=2.0.0->accelerate<2,>=1.0.0->docling) (3.0.2)\n",
            "Requirement already satisfied: multiprocess>=0.70.15 in /usr/local/lib/python3.12/dist-packages (from mpire[dill]->semchunk<3.0.0,>=2.2.0->docling-core[chunking]<3.0.0,>=2.42.0->docling) (0.70.16)\n",
            "Requirement already satisfied: dill>=0.3.8 in /usr/local/lib/python3.12/dist-packages (from multiprocess>=0.70.15->mpire[dill]->semchunk<3.0.0,>=2.2.0->docling-core[chunking]<3.0.0,>=2.42.0->docling) (0.3.8)\n"
          ]
        }
      ]
    },
    {
      "cell_type": "code",
      "source": [
        "!pip install \"docling-ocr-onnxtr[gpu]\""
      ],
      "metadata": {
        "colab": {
          "base_uri": "https://localhost:8080/"
        },
        "id": "4Po3le4C3IUm",
        "outputId": "73ece8af-0ebd-4d16-bf68-200a6f387003"
      },
      "execution_count": 25,
      "outputs": [
        {
          "output_type": "stream",
          "name": "stdout",
          "text": [
            "Requirement already satisfied: docling-ocr-onnxtr[gpu] in /usr/local/lib/python3.12/dist-packages (0.2.0)\n",
            "Requirement already satisfied: pydantic in /usr/local/lib/python3.12/dist-packages (from docling-ocr-onnxtr[gpu]) (2.11.7)\n",
            "Requirement already satisfied: docling<3.0.0,>=2.27.0 in /usr/local/lib/python3.12/dist-packages (from docling-ocr-onnxtr[gpu]) (2.51.0)\n",
            "Requirement already satisfied: onnxtr<1.0.0,>=0.6.2 in /usr/local/lib/python3.12/dist-packages (from onnxtr[gpu]<1.0.0,>=0.6.2; extra == \"gpu\"->docling-ocr-onnxtr[gpu]) (0.8.0)\n",
            "Requirement already satisfied: docling-core<3.0.0,>=2.42.0 in /usr/local/lib/python3.12/dist-packages (from docling-core[chunking]<3.0.0,>=2.42.0->docling<3.0.0,>=2.27.0->docling-ocr-onnxtr[gpu]) (2.47.0)\n",
            "Requirement already satisfied: docling-parse<5.0.0,>=4.4.0 in /usr/local/lib/python3.12/dist-packages (from docling<3.0.0,>=2.27.0->docling-ocr-onnxtr[gpu]) (4.4.0)\n",
            "Requirement already satisfied: docling-ibm-models<4,>=3.9.1 in /usr/local/lib/python3.12/dist-packages (from docling<3.0.0,>=2.27.0->docling-ocr-onnxtr[gpu]) (3.9.1)\n",
            "Requirement already satisfied: filetype<2.0.0,>=1.2.0 in /usr/local/lib/python3.12/dist-packages (from docling<3.0.0,>=2.27.0->docling-ocr-onnxtr[gpu]) (1.2.0)\n",
            "Requirement already satisfied: pypdfium2!=4.30.1,<5.0.0,>=4.30.0 in /usr/local/lib/python3.12/dist-packages (from docling<3.0.0,>=2.27.0->docling-ocr-onnxtr[gpu]) (4.30.0)\n",
            "Requirement already satisfied: pydantic-settings<3.0.0,>=2.3.0 in /usr/local/lib/python3.12/dist-packages (from docling<3.0.0,>=2.27.0->docling-ocr-onnxtr[gpu]) (2.10.1)\n",
            "Requirement already satisfied: huggingface_hub<1,>=0.23 in /usr/local/lib/python3.12/dist-packages (from docling<3.0.0,>=2.27.0->docling-ocr-onnxtr[gpu]) (0.34.4)\n",
            "Requirement already satisfied: requests<3.0.0,>=2.32.2 in /usr/local/lib/python3.12/dist-packages (from docling<3.0.0,>=2.27.0->docling-ocr-onnxtr[gpu]) (2.32.4)\n",
            "Requirement already satisfied: easyocr<2.0,>=1.7 in /usr/local/lib/python3.12/dist-packages (from docling<3.0.0,>=2.27.0->docling-ocr-onnxtr[gpu]) (1.7.2)\n",
            "Requirement already satisfied: certifi>=2024.7.4 in /usr/local/lib/python3.12/dist-packages (from docling<3.0.0,>=2.27.0->docling-ocr-onnxtr[gpu]) (2025.8.3)\n",
            "Requirement already satisfied: rtree<2.0.0,>=1.3.0 in /usr/local/lib/python3.12/dist-packages (from docling<3.0.0,>=2.27.0->docling-ocr-onnxtr[gpu]) (1.4.1)\n",
            "Requirement already satisfied: typer<0.17.0,>=0.12.5 in /usr/local/lib/python3.12/dist-packages (from docling<3.0.0,>=2.27.0->docling-ocr-onnxtr[gpu]) (0.16.1)\n",
            "Requirement already satisfied: python-docx<2.0.0,>=1.1.2 in /usr/local/lib/python3.12/dist-packages (from docling<3.0.0,>=2.27.0->docling-ocr-onnxtr[gpu]) (1.2.0)\n",
            "Requirement already satisfied: python-pptx<2.0.0,>=1.0.2 in /usr/local/lib/python3.12/dist-packages (from docling<3.0.0,>=2.27.0->docling-ocr-onnxtr[gpu]) (1.0.2)\n",
            "Requirement already satisfied: beautifulsoup4<5.0.0,>=4.12.3 in /usr/local/lib/python3.12/dist-packages (from docling<3.0.0,>=2.27.0->docling-ocr-onnxtr[gpu]) (4.13.5)\n",
            "Requirement already satisfied: pandas<3.0.0,>=2.1.4 in /usr/local/lib/python3.12/dist-packages (from docling<3.0.0,>=2.27.0->docling-ocr-onnxtr[gpu]) (2.2.2)\n",
            "Requirement already satisfied: marko<3.0.0,>=2.1.2 in /usr/local/lib/python3.12/dist-packages (from docling<3.0.0,>=2.27.0->docling-ocr-onnxtr[gpu]) (2.2.0)\n",
            "Requirement already satisfied: openpyxl<4.0.0,>=3.1.5 in /usr/local/lib/python3.12/dist-packages (from docling<3.0.0,>=2.27.0->docling-ocr-onnxtr[gpu]) (3.1.5)\n",
            "Requirement already satisfied: lxml<6.0.0,>=4.0.0 in /usr/local/lib/python3.12/dist-packages (from docling<3.0.0,>=2.27.0->docling-ocr-onnxtr[gpu]) (5.4.0)\n",
            "Requirement already satisfied: pillow<12.0.0,>=10.0.0 in /usr/local/lib/python3.12/dist-packages (from docling<3.0.0,>=2.27.0->docling-ocr-onnxtr[gpu]) (11.3.0)\n",
            "Requirement already satisfied: tqdm<5.0.0,>=4.65.0 in /usr/local/lib/python3.12/dist-packages (from docling<3.0.0,>=2.27.0->docling-ocr-onnxtr[gpu]) (4.67.1)\n",
            "Requirement already satisfied: pluggy<2.0.0,>=1.0.0 in /usr/local/lib/python3.12/dist-packages (from docling<3.0.0,>=2.27.0->docling-ocr-onnxtr[gpu]) (1.6.0)\n",
            "Requirement already satisfied: pylatexenc<3.0,>=2.10 in /usr/local/lib/python3.12/dist-packages (from docling<3.0.0,>=2.27.0->docling-ocr-onnxtr[gpu]) (2.10)\n",
            "Requirement already satisfied: scipy<2.0.0,>=1.6.0 in /usr/local/lib/python3.12/dist-packages (from docling<3.0.0,>=2.27.0->docling-ocr-onnxtr[gpu]) (1.16.1)\n",
            "Requirement already satisfied: accelerate<2,>=1.0.0 in /usr/local/lib/python3.12/dist-packages (from docling<3.0.0,>=2.27.0->docling-ocr-onnxtr[gpu]) (1.10.1)\n",
            "Requirement already satisfied: polyfactory>=2.22.2 in /usr/local/lib/python3.12/dist-packages (from docling<3.0.0,>=2.27.0->docling-ocr-onnxtr[gpu]) (2.22.2)\n",
            "Requirement already satisfied: numpy<3.0.0,>=1.16.0 in /usr/local/lib/python3.12/dist-packages (from onnxtr<1.0.0,>=0.6.2->onnxtr[gpu]<1.0.0,>=0.6.2; extra == \"gpu\"->docling-ocr-onnxtr[gpu]) (2.0.2)\n",
            "Requirement already satisfied: pyclipper<2.0.0,>=1.2.0 in /usr/local/lib/python3.12/dist-packages (from onnxtr<1.0.0,>=0.6.2->onnxtr[gpu]<1.0.0,>=0.6.2; extra == \"gpu\"->docling-ocr-onnxtr[gpu]) (1.3.0.post6)\n",
            "Requirement already satisfied: rapidfuzz<4.0.0,>=3.0.0 in /usr/local/lib/python3.12/dist-packages (from onnxtr<1.0.0,>=0.6.2->onnxtr[gpu]<1.0.0,>=0.6.2; extra == \"gpu\"->docling-ocr-onnxtr[gpu]) (3.14.1)\n",
            "Requirement already satisfied: langdetect<2.0.0,>=1.0.9 in /usr/local/lib/python3.12/dist-packages (from onnxtr<1.0.0,>=0.6.2->onnxtr[gpu]<1.0.0,>=0.6.2; extra == \"gpu\"->docling-ocr-onnxtr[gpu]) (1.0.9)\n",
            "Requirement already satisfied: defusedxml>=0.7.0 in /usr/local/lib/python3.12/dist-packages (from onnxtr<1.0.0,>=0.6.2->onnxtr[gpu]<1.0.0,>=0.6.2; extra == \"gpu\"->docling-ocr-onnxtr[gpu]) (0.7.1)\n",
            "Requirement already satisfied: anyascii>=0.3.2 in /usr/local/lib/python3.12/dist-packages (from onnxtr<1.0.0,>=0.6.2->onnxtr[gpu]<1.0.0,>=0.6.2; extra == \"gpu\"->docling-ocr-onnxtr[gpu]) (0.3.3)\n",
            "Requirement already satisfied: onnxruntime-gpu>=1.18.0 in /usr/local/lib/python3.12/dist-packages (from onnxtr[gpu]<1.0.0,>=0.6.2; extra == \"gpu\"->docling-ocr-onnxtr[gpu]) (1.22.0)\n",
            "Requirement already satisfied: opencv-python<5.0.0,>=4.5.0 in /usr/local/lib/python3.12/dist-packages (from onnxtr[gpu]<1.0.0,>=0.6.2; extra == \"gpu\"->docling-ocr-onnxtr[gpu]) (4.12.0.88)\n",
            "Requirement already satisfied: annotated-types>=0.6.0 in /usr/local/lib/python3.12/dist-packages (from pydantic->docling-ocr-onnxtr[gpu]) (0.7.0)\n",
            "Requirement already satisfied: pydantic-core==2.33.2 in /usr/local/lib/python3.12/dist-packages (from pydantic->docling-ocr-onnxtr[gpu]) (2.33.2)\n",
            "Requirement already satisfied: typing-extensions>=4.12.2 in /usr/local/lib/python3.12/dist-packages (from pydantic->docling-ocr-onnxtr[gpu]) (4.15.0)\n",
            "Requirement already satisfied: typing-inspection>=0.4.0 in /usr/local/lib/python3.12/dist-packages (from pydantic->docling-ocr-onnxtr[gpu]) (0.4.1)\n",
            "Requirement already satisfied: packaging>=20.0 in /usr/local/lib/python3.12/dist-packages (from accelerate<2,>=1.0.0->docling<3.0.0,>=2.27.0->docling-ocr-onnxtr[gpu]) (25.0)\n",
            "Requirement already satisfied: psutil in /usr/local/lib/python3.12/dist-packages (from accelerate<2,>=1.0.0->docling<3.0.0,>=2.27.0->docling-ocr-onnxtr[gpu]) (5.9.5)\n",
            "Requirement already satisfied: pyyaml in /usr/local/lib/python3.12/dist-packages (from accelerate<2,>=1.0.0->docling<3.0.0,>=2.27.0->docling-ocr-onnxtr[gpu]) (6.0.2)\n",
            "Requirement already satisfied: torch>=2.0.0 in /usr/local/lib/python3.12/dist-packages (from accelerate<2,>=1.0.0->docling<3.0.0,>=2.27.0->docling-ocr-onnxtr[gpu]) (2.8.0+cu126)\n",
            "Requirement already satisfied: safetensors>=0.4.3 in /usr/local/lib/python3.12/dist-packages (from accelerate<2,>=1.0.0->docling<3.0.0,>=2.27.0->docling-ocr-onnxtr[gpu]) (0.6.2)\n",
            "Requirement already satisfied: soupsieve>1.2 in /usr/local/lib/python3.12/dist-packages (from beautifulsoup4<5.0.0,>=4.12.3->docling<3.0.0,>=2.27.0->docling-ocr-onnxtr[gpu]) (2.8)\n",
            "Requirement already satisfied: jsonschema<5.0.0,>=4.16.0 in /usr/local/lib/python3.12/dist-packages (from docling-core<3.0.0,>=2.42.0->docling-core[chunking]<3.0.0,>=2.42.0->docling<3.0.0,>=2.27.0->docling-ocr-onnxtr[gpu]) (4.25.1)\n",
            "Requirement already satisfied: jsonref<2.0.0,>=1.1.0 in /usr/local/lib/python3.12/dist-packages (from docling-core<3.0.0,>=2.42.0->docling-core[chunking]<3.0.0,>=2.42.0->docling<3.0.0,>=2.27.0->docling-ocr-onnxtr[gpu]) (1.1.0)\n",
            "Requirement already satisfied: tabulate<0.10.0,>=0.9.0 in /usr/local/lib/python3.12/dist-packages (from docling-core<3.0.0,>=2.42.0->docling-core[chunking]<3.0.0,>=2.42.0->docling<3.0.0,>=2.27.0->docling-ocr-onnxtr[gpu]) (0.9.0)\n",
            "Requirement already satisfied: latex2mathml<4.0.0,>=3.77.0 in /usr/local/lib/python3.12/dist-packages (from docling-core<3.0.0,>=2.42.0->docling-core[chunking]<3.0.0,>=2.42.0->docling<3.0.0,>=2.27.0->docling-ocr-onnxtr[gpu]) (3.78.1)\n",
            "Requirement already satisfied: semchunk<3.0.0,>=2.2.0 in /usr/local/lib/python3.12/dist-packages (from docling-core[chunking]<3.0.0,>=2.42.0->docling<3.0.0,>=2.27.0->docling-ocr-onnxtr[gpu]) (2.2.2)\n",
            "Requirement already satisfied: transformers<5.0.0,>=4.34.0 in /usr/local/lib/python3.12/dist-packages (from docling-core[chunking]<3.0.0,>=2.42.0->docling<3.0.0,>=2.27.0->docling-ocr-onnxtr[gpu]) (4.56.0)\n",
            "Requirement already satisfied: torchvision<1,>=0 in /usr/local/lib/python3.12/dist-packages (from docling-ibm-models<4,>=3.9.1->docling<3.0.0,>=2.27.0->docling-ocr-onnxtr[gpu]) (0.23.0+cu126)\n",
            "Requirement already satisfied: jsonlines<4.0.0,>=3.1.0 in /usr/local/lib/python3.12/dist-packages (from docling-ibm-models<4,>=3.9.1->docling<3.0.0,>=2.27.0->docling-ocr-onnxtr[gpu]) (3.1.0)\n",
            "Requirement already satisfied: opencv-python-headless<5.0.0.0,>=4.6.0.66 in /usr/local/lib/python3.12/dist-packages (from docling-ibm-models<4,>=3.9.1->docling<3.0.0,>=2.27.0->docling-ocr-onnxtr[gpu]) (4.12.0.88)\n",
            "Requirement already satisfied: scikit-image in /usr/local/lib/python3.12/dist-packages (from easyocr<2.0,>=1.7->docling<3.0.0,>=2.27.0->docling-ocr-onnxtr[gpu]) (0.25.2)\n",
            "Requirement already satisfied: python-bidi in /usr/local/lib/python3.12/dist-packages (from easyocr<2.0,>=1.7->docling<3.0.0,>=2.27.0->docling-ocr-onnxtr[gpu]) (0.6.6)\n",
            "Requirement already satisfied: Shapely in /usr/local/lib/python3.12/dist-packages (from easyocr<2.0,>=1.7->docling<3.0.0,>=2.27.0->docling-ocr-onnxtr[gpu]) (2.1.1)\n",
            "Requirement already satisfied: ninja in /usr/local/lib/python3.12/dist-packages (from easyocr<2.0,>=1.7->docling<3.0.0,>=2.27.0->docling-ocr-onnxtr[gpu]) (1.13.0)\n",
            "Requirement already satisfied: filelock in /usr/local/lib/python3.12/dist-packages (from huggingface_hub<1,>=0.23->docling<3.0.0,>=2.27.0->docling-ocr-onnxtr[gpu]) (3.19.1)\n",
            "Requirement already satisfied: fsspec>=2023.5.0 in /usr/local/lib/python3.12/dist-packages (from huggingface_hub<1,>=0.23->docling<3.0.0,>=2.27.0->docling-ocr-onnxtr[gpu]) (2025.3.0)\n",
            "Requirement already satisfied: hf-xet<2.0.0,>=1.1.3 in /usr/local/lib/python3.12/dist-packages (from huggingface_hub<1,>=0.23->docling<3.0.0,>=2.27.0->docling-ocr-onnxtr[gpu]) (1.1.9)\n",
            "Requirement already satisfied: six in /usr/local/lib/python3.12/dist-packages (from langdetect<2.0.0,>=1.0.9->onnxtr<1.0.0,>=0.6.2->onnxtr[gpu]<1.0.0,>=0.6.2; extra == \"gpu\"->docling-ocr-onnxtr[gpu]) (1.17.0)\n",
            "Requirement already satisfied: coloredlogs in /usr/local/lib/python3.12/dist-packages (from onnxruntime-gpu>=1.18.0->onnxtr[gpu]<1.0.0,>=0.6.2; extra == \"gpu\"->docling-ocr-onnxtr[gpu]) (15.0.1)\n",
            "Requirement already satisfied: flatbuffers in /usr/local/lib/python3.12/dist-packages (from onnxruntime-gpu>=1.18.0->onnxtr[gpu]<1.0.0,>=0.6.2; extra == \"gpu\"->docling-ocr-onnxtr[gpu]) (25.2.10)\n",
            "Requirement already satisfied: protobuf in /usr/local/lib/python3.12/dist-packages (from onnxruntime-gpu>=1.18.0->onnxtr[gpu]<1.0.0,>=0.6.2; extra == \"gpu\"->docling-ocr-onnxtr[gpu]) (5.29.5)\n",
            "Requirement already satisfied: sympy in /usr/local/lib/python3.12/dist-packages (from onnxruntime-gpu>=1.18.0->onnxtr[gpu]<1.0.0,>=0.6.2; extra == \"gpu\"->docling-ocr-onnxtr[gpu]) (1.13.3)\n",
            "Requirement already satisfied: et-xmlfile in /usr/local/lib/python3.12/dist-packages (from openpyxl<4.0.0,>=3.1.5->docling<3.0.0,>=2.27.0->docling-ocr-onnxtr[gpu]) (2.0.0)\n",
            "Requirement already satisfied: python-dateutil>=2.8.2 in /usr/local/lib/python3.12/dist-packages (from pandas<3.0.0,>=2.1.4->docling<3.0.0,>=2.27.0->docling-ocr-onnxtr[gpu]) (2.9.0.post0)\n",
            "Requirement already satisfied: pytz>=2020.1 in /usr/local/lib/python3.12/dist-packages (from pandas<3.0.0,>=2.1.4->docling<3.0.0,>=2.27.0->docling-ocr-onnxtr[gpu]) (2025.2)\n",
            "Requirement already satisfied: tzdata>=2022.7 in /usr/local/lib/python3.12/dist-packages (from pandas<3.0.0,>=2.1.4->docling<3.0.0,>=2.27.0->docling-ocr-onnxtr[gpu]) (2025.2)\n",
            "Requirement already satisfied: faker>=5.0.0 in /usr/local/lib/python3.12/dist-packages (from polyfactory>=2.22.2->docling<3.0.0,>=2.27.0->docling-ocr-onnxtr[gpu]) (37.6.0)\n",
            "Requirement already satisfied: python-dotenv>=0.21.0 in /usr/local/lib/python3.12/dist-packages (from pydantic-settings<3.0.0,>=2.3.0->docling<3.0.0,>=2.27.0->docling-ocr-onnxtr[gpu]) (1.1.1)\n",
            "Requirement already satisfied: XlsxWriter>=0.5.7 in /usr/local/lib/python3.12/dist-packages (from python-pptx<2.0.0,>=1.0.2->docling<3.0.0,>=2.27.0->docling-ocr-onnxtr[gpu]) (3.2.5)\n",
            "Requirement already satisfied: charset_normalizer<4,>=2 in /usr/local/lib/python3.12/dist-packages (from requests<3.0.0,>=2.32.2->docling<3.0.0,>=2.27.0->docling-ocr-onnxtr[gpu]) (3.4.3)\n",
            "Requirement already satisfied: idna<4,>=2.5 in /usr/local/lib/python3.12/dist-packages (from requests<3.0.0,>=2.32.2->docling<3.0.0,>=2.27.0->docling-ocr-onnxtr[gpu]) (3.10)\n",
            "Requirement already satisfied: urllib3<3,>=1.21.1 in /usr/local/lib/python3.12/dist-packages (from requests<3.0.0,>=2.32.2->docling<3.0.0,>=2.27.0->docling-ocr-onnxtr[gpu]) (2.5.0)\n",
            "Requirement already satisfied: click>=8.0.0 in /usr/local/lib/python3.12/dist-packages (from typer<0.17.0,>=0.12.5->docling<3.0.0,>=2.27.0->docling-ocr-onnxtr[gpu]) (8.2.1)\n",
            "Requirement already satisfied: shellingham>=1.3.0 in /usr/local/lib/python3.12/dist-packages (from typer<0.17.0,>=0.12.5->docling<3.0.0,>=2.27.0->docling-ocr-onnxtr[gpu]) (1.5.4)\n",
            "Requirement already satisfied: rich>=10.11.0 in /usr/local/lib/python3.12/dist-packages (from typer<0.17.0,>=0.12.5->docling<3.0.0,>=2.27.0->docling-ocr-onnxtr[gpu]) (13.9.4)\n",
            "Requirement already satisfied: attrs>=19.2.0 in /usr/local/lib/python3.12/dist-packages (from jsonlines<4.0.0,>=3.1.0->docling-ibm-models<4,>=3.9.1->docling<3.0.0,>=2.27.0->docling-ocr-onnxtr[gpu]) (25.3.0)\n",
            "Requirement already satisfied: jsonschema-specifications>=2023.03.6 in /usr/local/lib/python3.12/dist-packages (from jsonschema<5.0.0,>=4.16.0->docling-core<3.0.0,>=2.42.0->docling-core[chunking]<3.0.0,>=2.42.0->docling<3.0.0,>=2.27.0->docling-ocr-onnxtr[gpu]) (2025.4.1)\n",
            "Requirement already satisfied: referencing>=0.28.4 in /usr/local/lib/python3.12/dist-packages (from jsonschema<5.0.0,>=4.16.0->docling-core<3.0.0,>=2.42.0->docling-core[chunking]<3.0.0,>=2.42.0->docling<3.0.0,>=2.27.0->docling-ocr-onnxtr[gpu]) (0.36.2)\n",
            "Requirement already satisfied: rpds-py>=0.7.1 in /usr/local/lib/python3.12/dist-packages (from jsonschema<5.0.0,>=4.16.0->docling-core<3.0.0,>=2.42.0->docling-core[chunking]<3.0.0,>=2.42.0->docling<3.0.0,>=2.27.0->docling-ocr-onnxtr[gpu]) (0.27.1)\n",
            "Requirement already satisfied: markdown-it-py>=2.2.0 in /usr/local/lib/python3.12/dist-packages (from rich>=10.11.0->typer<0.17.0,>=0.12.5->docling<3.0.0,>=2.27.0->docling-ocr-onnxtr[gpu]) (4.0.0)\n",
            "Requirement already satisfied: pygments<3.0.0,>=2.13.0 in /usr/local/lib/python3.12/dist-packages (from rich>=10.11.0->typer<0.17.0,>=0.12.5->docling<3.0.0,>=2.27.0->docling-ocr-onnxtr[gpu]) (2.19.2)\n",
            "Requirement already satisfied: mpire[dill] in /usr/local/lib/python3.12/dist-packages (from semchunk<3.0.0,>=2.2.0->docling-core[chunking]<3.0.0,>=2.42.0->docling<3.0.0,>=2.27.0->docling-ocr-onnxtr[gpu]) (2.10.2)\n",
            "Requirement already satisfied: setuptools in /usr/local/lib/python3.12/dist-packages (from torch>=2.0.0->accelerate<2,>=1.0.0->docling<3.0.0,>=2.27.0->docling-ocr-onnxtr[gpu]) (75.2.0)\n",
            "Requirement already satisfied: networkx in /usr/local/lib/python3.12/dist-packages (from torch>=2.0.0->accelerate<2,>=1.0.0->docling<3.0.0,>=2.27.0->docling-ocr-onnxtr[gpu]) (3.5)\n",
            "Requirement already satisfied: jinja2 in /usr/local/lib/python3.12/dist-packages (from torch>=2.0.0->accelerate<2,>=1.0.0->docling<3.0.0,>=2.27.0->docling-ocr-onnxtr[gpu]) (3.1.6)\n",
            "Requirement already satisfied: nvidia-cuda-nvrtc-cu12==12.6.77 in /usr/local/lib/python3.12/dist-packages (from torch>=2.0.0->accelerate<2,>=1.0.0->docling<3.0.0,>=2.27.0->docling-ocr-onnxtr[gpu]) (12.6.77)\n",
            "Requirement already satisfied: nvidia-cuda-runtime-cu12==12.6.77 in /usr/local/lib/python3.12/dist-packages (from torch>=2.0.0->accelerate<2,>=1.0.0->docling<3.0.0,>=2.27.0->docling-ocr-onnxtr[gpu]) (12.6.77)\n",
            "Requirement already satisfied: nvidia-cuda-cupti-cu12==12.6.80 in /usr/local/lib/python3.12/dist-packages (from torch>=2.0.0->accelerate<2,>=1.0.0->docling<3.0.0,>=2.27.0->docling-ocr-onnxtr[gpu]) (12.6.80)\n",
            "Requirement already satisfied: nvidia-cudnn-cu12==9.10.2.21 in /usr/local/lib/python3.12/dist-packages (from torch>=2.0.0->accelerate<2,>=1.0.0->docling<3.0.0,>=2.27.0->docling-ocr-onnxtr[gpu]) (9.10.2.21)\n",
            "Requirement already satisfied: nvidia-cublas-cu12==12.6.4.1 in /usr/local/lib/python3.12/dist-packages (from torch>=2.0.0->accelerate<2,>=1.0.0->docling<3.0.0,>=2.27.0->docling-ocr-onnxtr[gpu]) (12.6.4.1)\n",
            "Requirement already satisfied: nvidia-cufft-cu12==11.3.0.4 in /usr/local/lib/python3.12/dist-packages (from torch>=2.0.0->accelerate<2,>=1.0.0->docling<3.0.0,>=2.27.0->docling-ocr-onnxtr[gpu]) (11.3.0.4)\n",
            "Requirement already satisfied: nvidia-curand-cu12==10.3.7.77 in /usr/local/lib/python3.12/dist-packages (from torch>=2.0.0->accelerate<2,>=1.0.0->docling<3.0.0,>=2.27.0->docling-ocr-onnxtr[gpu]) (10.3.7.77)\n",
            "Requirement already satisfied: nvidia-cusolver-cu12==11.7.1.2 in /usr/local/lib/python3.12/dist-packages (from torch>=2.0.0->accelerate<2,>=1.0.0->docling<3.0.0,>=2.27.0->docling-ocr-onnxtr[gpu]) (11.7.1.2)\n",
            "Requirement already satisfied: nvidia-cusparse-cu12==12.5.4.2 in /usr/local/lib/python3.12/dist-packages (from torch>=2.0.0->accelerate<2,>=1.0.0->docling<3.0.0,>=2.27.0->docling-ocr-onnxtr[gpu]) (12.5.4.2)\n",
            "Requirement already satisfied: nvidia-cusparselt-cu12==0.7.1 in /usr/local/lib/python3.12/dist-packages (from torch>=2.0.0->accelerate<2,>=1.0.0->docling<3.0.0,>=2.27.0->docling-ocr-onnxtr[gpu]) (0.7.1)\n",
            "Requirement already satisfied: nvidia-nccl-cu12==2.27.3 in /usr/local/lib/python3.12/dist-packages (from torch>=2.0.0->accelerate<2,>=1.0.0->docling<3.0.0,>=2.27.0->docling-ocr-onnxtr[gpu]) (2.27.3)\n",
            "Requirement already satisfied: nvidia-nvtx-cu12==12.6.77 in /usr/local/lib/python3.12/dist-packages (from torch>=2.0.0->accelerate<2,>=1.0.0->docling<3.0.0,>=2.27.0->docling-ocr-onnxtr[gpu]) (12.6.77)\n",
            "Requirement already satisfied: nvidia-nvjitlink-cu12==12.6.85 in /usr/local/lib/python3.12/dist-packages (from torch>=2.0.0->accelerate<2,>=1.0.0->docling<3.0.0,>=2.27.0->docling-ocr-onnxtr[gpu]) (12.6.85)\n",
            "Requirement already satisfied: nvidia-cufile-cu12==1.11.1.6 in /usr/local/lib/python3.12/dist-packages (from torch>=2.0.0->accelerate<2,>=1.0.0->docling<3.0.0,>=2.27.0->docling-ocr-onnxtr[gpu]) (1.11.1.6)\n",
            "Requirement already satisfied: triton==3.4.0 in /usr/local/lib/python3.12/dist-packages (from torch>=2.0.0->accelerate<2,>=1.0.0->docling<3.0.0,>=2.27.0->docling-ocr-onnxtr[gpu]) (3.4.0)\n",
            "Requirement already satisfied: mpmath<1.4,>=1.1.0 in /usr/local/lib/python3.12/dist-packages (from sympy->onnxruntime-gpu>=1.18.0->onnxtr[gpu]<1.0.0,>=0.6.2; extra == \"gpu\"->docling-ocr-onnxtr[gpu]) (1.3.0)\n",
            "Requirement already satisfied: regex!=2019.12.17 in /usr/local/lib/python3.12/dist-packages (from transformers<5.0.0,>=4.34.0->docling-core[chunking]<3.0.0,>=2.42.0->docling<3.0.0,>=2.27.0->docling-ocr-onnxtr[gpu]) (2024.11.6)\n",
            "Requirement already satisfied: tokenizers<=0.23.0,>=0.22.0 in /usr/local/lib/python3.12/dist-packages (from transformers<5.0.0,>=4.34.0->docling-core[chunking]<3.0.0,>=2.42.0->docling<3.0.0,>=2.27.0->docling-ocr-onnxtr[gpu]) (0.22.0)\n",
            "Requirement already satisfied: humanfriendly>=9.1 in /usr/local/lib/python3.12/dist-packages (from coloredlogs->onnxruntime-gpu>=1.18.0->onnxtr[gpu]<1.0.0,>=0.6.2; extra == \"gpu\"->docling-ocr-onnxtr[gpu]) (10.0)\n",
            "Requirement already satisfied: imageio!=2.35.0,>=2.33 in /usr/local/lib/python3.12/dist-packages (from scikit-image->easyocr<2.0,>=1.7->docling<3.0.0,>=2.27.0->docling-ocr-onnxtr[gpu]) (2.37.0)\n",
            "Requirement already satisfied: tifffile>=2022.8.12 in /usr/local/lib/python3.12/dist-packages (from scikit-image->easyocr<2.0,>=1.7->docling<3.0.0,>=2.27.0->docling-ocr-onnxtr[gpu]) (2025.8.28)\n",
            "Requirement already satisfied: lazy-loader>=0.4 in /usr/local/lib/python3.12/dist-packages (from scikit-image->easyocr<2.0,>=1.7->docling<3.0.0,>=2.27.0->docling-ocr-onnxtr[gpu]) (0.4)\n",
            "Requirement already satisfied: mdurl~=0.1 in /usr/local/lib/python3.12/dist-packages (from markdown-it-py>=2.2.0->rich>=10.11.0->typer<0.17.0,>=0.12.5->docling<3.0.0,>=2.27.0->docling-ocr-onnxtr[gpu]) (0.1.2)\n",
            "Requirement already satisfied: MarkupSafe>=2.0 in /usr/local/lib/python3.12/dist-packages (from jinja2->torch>=2.0.0->accelerate<2,>=1.0.0->docling<3.0.0,>=2.27.0->docling-ocr-onnxtr[gpu]) (3.0.2)\n",
            "Requirement already satisfied: multiprocess>=0.70.15 in /usr/local/lib/python3.12/dist-packages (from mpire[dill]->semchunk<3.0.0,>=2.2.0->docling-core[chunking]<3.0.0,>=2.42.0->docling<3.0.0,>=2.27.0->docling-ocr-onnxtr[gpu]) (0.70.16)\n",
            "Requirement already satisfied: dill>=0.3.8 in /usr/local/lib/python3.12/dist-packages (from multiprocess>=0.70.15->mpire[dill]->semchunk<3.0.0,>=2.2.0->docling-core[chunking]<3.0.0,>=2.42.0->docling<3.0.0,>=2.27.0->docling-ocr-onnxtr[gpu]) (0.3.8)\n"
          ]
        }
      ]
    },
    {
      "cell_type": "code",
      "source": [
        "from docling.datamodel.pipeline_options import PdfPipelineOptions\n",
        "from docling.document_converter import DocumentConverter, InputFormat, PdfFormatOption\n",
        "from docling_ocr_onnxtr import OnnxtrOcrOptions\n",
        "import torch\n",
        "\n",
        "# Step 4a: Verify GPU for PyTorch models\n",
        "print(\"PyTorch CUDA available:\", torch.cuda.is_available())\n",
        "if torch.cuda.is_available():\n",
        "    print(\"PyTorch GPU device:\", torch.cuda.get_device_name(0))\n",
        "\n",
        "# Step 4b: Configure OCR plugin\n",
        "ocr_options = OnnxtrOcrOptions(\n",
        "    det_arch=\"db_mobilenet_v3_large\",           # detection model\n",
        "    reco_arch=\"Felix92/onnxtr-parseq-multilingual-v1\",  # recognition model\n",
        "    auto_correct_orientation=False\n",
        ")\n",
        "\n",
        "pipeline_options = PdfPipelineOptions(\n",
        "    ocr_options=ocr_options,\n",
        ")\n",
        "pipeline_options.allow_external_plugins = True  # enable external plugin usage\n",
        "\n",
        "# Step 4c: Create converter with PDF input\n",
        "converter = DocumentConverter(\n",
        "    format_options={\n",
        "        InputFormat.PDF: PdfFormatOption(\n",
        "            pipeline_options=pipeline_options,\n",
        "        )\n",
        "    },\n",
        ")\n",
        "\n",
        "# Step 4d: Run conversion\n",
        "conversion_result = converter.convert(source=\"Finance.pdf\")\n",
        "print(\"Conversion finished! Check nvidia-smi to see GPU usage during OCR/model execution.\")"
      ],
      "metadata": {
        "colab": {
          "base_uri": "https://localhost:8080/"
        },
        "id": "BaImzqhV3mXn",
        "outputId": "45f223f7-e611-4b61-a20b-cc12f77f78bc"
      },
      "execution_count": 26,
      "outputs": [
        {
          "output_type": "stream",
          "name": "stdout",
          "text": [
            "PyTorch CUDA available: True\n",
            "PyTorch GPU device: Tesla T4\n",
            "Conversion finished! Check nvidia-smi to see GPU usage during OCR/model execution.\n"
          ]
        }
      ]
    },
    {
      "cell_type": "code",
      "source": [
        "# Step 5: Extract plain text from conversion_result\n",
        "all_text = \"\\n\".join([\n",
        "    \"\".join(cell.text for cell in cluster.cells)\n",
        "    for page in conversion_result.pages\n",
        "    for cluster in page.predictions.layout.clusters\n",
        "])\n",
        "\n",
        "print(\"\\n===== Extracted Text =====\\n\")\n",
        "print(all_text)\n"
      ],
      "metadata": {
        "colab": {
          "base_uri": "https://localhost:8080/"
        },
        "id": "lBmguUdz7gbv",
        "outputId": "9b8bf5c7-26cc-4911-9155-f3e2cffa7836"
      },
      "execution_count": 28,
      "outputs": [
        {
          "output_type": "stream",
          "name": "stdout",
          "text": [
            "\n",
            "===== Extracted Text =====\n",
            "\n",
            "Infosys Limited (CIN: L85110KA1981PLC013115, PAN: AAACI4798L, GSTIN: 29AAACI4798L1ZU) issued Tax Invoice No. INF/INV/2025/204 on 15/02/2025 the consulting charges. Payments are to be made to State Bank of India, \n",
            "with a payment due date of 28/02/2025. The invoice included IGST @ 18% on Account Number 112233445566, IFSC Code SBIN0000456. If payment is delayed beyond the due date, a penalty interest of 10% per annum will apply. Kotak Mahindra Bank issued its 8.20% Fixed Rate Senior Secured Bonds (ISIN: INE237A08765) on 12 January 2023. Each bond has a face value of ₹5,00,000 and carries a fixed coupon of 8.20% per annum, payable semi-annually. The maturity date is set for 12 January 2028. On 20 March 2022, Standard Chartered India executed its first foreign trade finance deal linked to the SOFR benchmark, marking a shift from LIBOR-based transactions. Punjab National Bank, under the SARFAESI Act, issued a notice on 10-09-2023 against borrower loan accounts LAC00987651234 and LAC00987659876. The secured property was taken into possession on 05-01-2024. Auction was scheduled with earnest money deposit due by 25-03-2024, and bids opening on 26-03-2024. As per Section 194-IA of the Income Tax Act, the buyer is liable to deduct TDS. Bajaj Finance Limited launched Secured Redeemable Non-Convertible Debentures (NCDs) with a face value of ₹10,000 each. The issue had series with tenors of 24 months, 48 months, and 84 months. Coupon rates ranged between 8.50% and 9.40% per annum depending on the chosen series. \n"
          ]
        }
      ]
    },
    {
      "cell_type": "code",
      "source": [
        "print(torch.cuda.is_available())        # True\n",
        "print(torch.cuda.current_device())      # Should return 0"
      ],
      "metadata": {
        "colab": {
          "base_uri": "https://localhost:8080/"
        },
        "id": "oG7NkWvX37Nw",
        "outputId": "932866d5-c43e-4da7-b4e7-57b12adae3a5"
      },
      "execution_count": 29,
      "outputs": [
        {
          "output_type": "stream",
          "name": "stdout",
          "text": [
            "True\n",
            "0\n"
          ]
        }
      ]
    },
    {
      "cell_type": "markdown",
      "source": [
        "LANGEXTRACT"
      ],
      "metadata": {
        "id": "WTeVKF4k3-iW"
      }
    },
    {
      "cell_type": "code",
      "source": [
        "!pip install langextract python-dotenv"
      ],
      "metadata": {
        "colab": {
          "base_uri": "https://localhost:8080/"
        },
        "id": "nEBey92o8sK8",
        "outputId": "6b91838f-0abd-4539-ba70-752d8b6ce971"
      },
      "execution_count": 30,
      "outputs": [
        {
          "output_type": "stream",
          "name": "stdout",
          "text": [
            "Requirement already satisfied: langextract in /usr/local/lib/python3.12/dist-packages (1.0.9)\n",
            "Requirement already satisfied: python-dotenv in /usr/local/lib/python3.12/dist-packages (1.1.1)\n",
            "Requirement already satisfied: absl-py>=1.0.0 in /usr/local/lib/python3.12/dist-packages (from langextract) (1.4.0)\n",
            "Requirement already satisfied: aiohttp>=3.8.0 in /usr/local/lib/python3.12/dist-packages (from langextract) (3.12.15)\n",
            "Requirement already satisfied: async_timeout>=4.0.0 in /usr/local/lib/python3.12/dist-packages (from langextract) (5.0.1)\n",
            "Requirement already satisfied: exceptiongroup>=1.1.0 in /usr/local/lib/python3.12/dist-packages (from langextract) (1.3.0)\n",
            "Requirement already satisfied: google-genai>=0.1.0 in /usr/local/lib/python3.12/dist-packages (from langextract) (1.33.0)\n",
            "Requirement already satisfied: ml-collections>=0.1.0 in /usr/local/lib/python3.12/dist-packages (from langextract) (1.1.0)\n",
            "Requirement already satisfied: more-itertools>=8.0.0 in /usr/local/lib/python3.12/dist-packages (from langextract) (10.8.0)\n",
            "Requirement already satisfied: numpy>=1.20.0 in /usr/local/lib/python3.12/dist-packages (from langextract) (2.0.2)\n",
            "Requirement already satisfied: pandas>=1.3.0 in /usr/local/lib/python3.12/dist-packages (from langextract) (2.2.2)\n",
            "Requirement already satisfied: pydantic>=1.8.0 in /usr/local/lib/python3.12/dist-packages (from langextract) (2.11.7)\n",
            "Requirement already satisfied: PyYAML>=6.0 in /usr/local/lib/python3.12/dist-packages (from langextract) (6.0.2)\n",
            "Requirement already satisfied: requests>=2.25.0 in /usr/local/lib/python3.12/dist-packages (from langextract) (2.32.4)\n",
            "Requirement already satisfied: tqdm>=4.64.0 in /usr/local/lib/python3.12/dist-packages (from langextract) (4.67.1)\n",
            "Requirement already satisfied: typing-extensions>=4.0.0 in /usr/local/lib/python3.12/dist-packages (from langextract) (4.15.0)\n",
            "Requirement already satisfied: aiohappyeyeballs>=2.5.0 in /usr/local/lib/python3.12/dist-packages (from aiohttp>=3.8.0->langextract) (2.6.1)\n",
            "Requirement already satisfied: aiosignal>=1.4.0 in /usr/local/lib/python3.12/dist-packages (from aiohttp>=3.8.0->langextract) (1.4.0)\n",
            "Requirement already satisfied: attrs>=17.3.0 in /usr/local/lib/python3.12/dist-packages (from aiohttp>=3.8.0->langextract) (25.3.0)\n",
            "Requirement already satisfied: frozenlist>=1.1.1 in /usr/local/lib/python3.12/dist-packages (from aiohttp>=3.8.0->langextract) (1.7.0)\n",
            "Requirement already satisfied: multidict<7.0,>=4.5 in /usr/local/lib/python3.12/dist-packages (from aiohttp>=3.8.0->langextract) (6.6.4)\n",
            "Requirement already satisfied: propcache>=0.2.0 in /usr/local/lib/python3.12/dist-packages (from aiohttp>=3.8.0->langextract) (0.3.2)\n",
            "Requirement already satisfied: yarl<2.0,>=1.17.0 in /usr/local/lib/python3.12/dist-packages (from aiohttp>=3.8.0->langextract) (1.20.1)\n",
            "Requirement already satisfied: anyio<5.0.0,>=4.8.0 in /usr/local/lib/python3.12/dist-packages (from google-genai>=0.1.0->langextract) (4.10.0)\n",
            "Requirement already satisfied: google-auth<3.0.0,>=2.14.1 in /usr/local/lib/python3.12/dist-packages (from google-genai>=0.1.0->langextract) (2.38.0)\n",
            "Requirement already satisfied: httpx<1.0.0,>=0.28.1 in /usr/local/lib/python3.12/dist-packages (from google-genai>=0.1.0->langextract) (0.28.1)\n",
            "Requirement already satisfied: tenacity<9.2.0,>=8.2.3 in /usr/local/lib/python3.12/dist-packages (from google-genai>=0.1.0->langextract) (8.5.0)\n",
            "Requirement already satisfied: websockets<15.1.0,>=13.0.0 in /usr/local/lib/python3.12/dist-packages (from google-genai>=0.1.0->langextract) (15.0.1)\n",
            "Requirement already satisfied: python-dateutil>=2.8.2 in /usr/local/lib/python3.12/dist-packages (from pandas>=1.3.0->langextract) (2.9.0.post0)\n",
            "Requirement already satisfied: pytz>=2020.1 in /usr/local/lib/python3.12/dist-packages (from pandas>=1.3.0->langextract) (2025.2)\n",
            "Requirement already satisfied: tzdata>=2022.7 in /usr/local/lib/python3.12/dist-packages (from pandas>=1.3.0->langextract) (2025.2)\n",
            "Requirement already satisfied: annotated-types>=0.6.0 in /usr/local/lib/python3.12/dist-packages (from pydantic>=1.8.0->langextract) (0.7.0)\n",
            "Requirement already satisfied: pydantic-core==2.33.2 in /usr/local/lib/python3.12/dist-packages (from pydantic>=1.8.0->langextract) (2.33.2)\n",
            "Requirement already satisfied: typing-inspection>=0.4.0 in /usr/local/lib/python3.12/dist-packages (from pydantic>=1.8.0->langextract) (0.4.1)\n",
            "Requirement already satisfied: charset_normalizer<4,>=2 in /usr/local/lib/python3.12/dist-packages (from requests>=2.25.0->langextract) (3.4.3)\n",
            "Requirement already satisfied: idna<4,>=2.5 in /usr/local/lib/python3.12/dist-packages (from requests>=2.25.0->langextract) (3.10)\n",
            "Requirement already satisfied: urllib3<3,>=1.21.1 in /usr/local/lib/python3.12/dist-packages (from requests>=2.25.0->langextract) (2.5.0)\n",
            "Requirement already satisfied: certifi>=2017.4.17 in /usr/local/lib/python3.12/dist-packages (from requests>=2.25.0->langextract) (2025.8.3)\n",
            "Requirement already satisfied: sniffio>=1.1 in /usr/local/lib/python3.12/dist-packages (from anyio<5.0.0,>=4.8.0->google-genai>=0.1.0->langextract) (1.3.1)\n",
            "Requirement already satisfied: cachetools<6.0,>=2.0.0 in /usr/local/lib/python3.12/dist-packages (from google-auth<3.0.0,>=2.14.1->google-genai>=0.1.0->langextract) (5.5.2)\n",
            "Requirement already satisfied: pyasn1-modules>=0.2.1 in /usr/local/lib/python3.12/dist-packages (from google-auth<3.0.0,>=2.14.1->google-genai>=0.1.0->langextract) (0.4.2)\n",
            "Requirement already satisfied: rsa<5,>=3.1.4 in /usr/local/lib/python3.12/dist-packages (from google-auth<3.0.0,>=2.14.1->google-genai>=0.1.0->langextract) (4.9.1)\n",
            "Requirement already satisfied: httpcore==1.* in /usr/local/lib/python3.12/dist-packages (from httpx<1.0.0,>=0.28.1->google-genai>=0.1.0->langextract) (1.0.9)\n",
            "Requirement already satisfied: h11>=0.16 in /usr/local/lib/python3.12/dist-packages (from httpcore==1.*->httpx<1.0.0,>=0.28.1->google-genai>=0.1.0->langextract) (0.16.0)\n",
            "Requirement already satisfied: six>=1.5 in /usr/local/lib/python3.12/dist-packages (from python-dateutil>=2.8.2->pandas>=1.3.0->langextract) (1.17.0)\n",
            "Requirement already satisfied: pyasn1<0.7.0,>=0.6.1 in /usr/local/lib/python3.12/dist-packages (from pyasn1-modules>=0.2.1->google-auth<3.0.0,>=2.14.1->google-genai>=0.1.0->langextract) (0.6.1)\n"
          ]
        },
        {
          "output_type": "stream",
          "name": "stderr",
          "text": [
            "\r\u001b[94m\u001b[1mLangExtract\u001b[0m: Saving to \u001b[92mfinancial_data.jsonl\u001b[0m: 0 docs [15:33, ? docs/s]\n"
          ]
        }
      ]
    },
    {
      "cell_type": "code",
      "execution_count": 31,
      "metadata": {
        "id": "xTkglh8jgehM"
      },
      "outputs": [],
      "source": [
        "import langextract as lx\n",
        "import textwrap\n",
        "import os\n",
        "from dotenv import load_dotenv\n",
        "from docling.document_converter import DocumentConverter"
      ]
    },
    {
      "cell_type": "code",
      "source": [
        "# Load environment variables from .env file\n",
        "load_dotenv()\n",
        "api_key = os.getenv(\"LANGEXTRACT_API_KEY\")"
      ],
      "metadata": {
        "id": "Quezm-iu83pO"
      },
      "execution_count": 32,
      "outputs": []
    },
    {
      "cell_type": "code",
      "source": [
        "# Define the extraction task\n",
        "prompt = textwrap.dedent(\"\"\"\\\n",
        "Extract financial details in a structured way using the categories below:\n",
        "\n",
        "1. Parties & Identification\n",
        "- Capture names of companies, institutions, regulators, or counterparties.\n",
        "- Record identifiers such as CIN, PAN, GST/VAT, Tax IDs, or any registration codes.\n",
        "- Include account references like bank accounts, loan numbers, or investment account IDs.\n",
        "\n",
        "2. Monetary Information\n",
        "- Principal sums: invoice totals, loan values, transaction amounts.\n",
        "- Charges & fees: late charges, service/processing fees, management costs.\n",
        "- Interest terms: fixed/floating interest rates, APR values, or benchmark-linked references (e.g., SOFR, LIBOR).\n",
        "- Taxes: GST, VAT, withholding, or similar levies.\n",
        "- Penalties/Fines: early exit fee, defaults, or other financial penalties.\n",
        "\n",
        "3. Dates & Timeframes\n",
        "- Effective/Start dates: when agreements or transactions take effect.\n",
        "- Maturity/Closing dates: final settlement or loan closure.\n",
        "- Due dates: payment deadlines or installment schedules.\n",
        "- Duration/tenure: repayment term, lock-in period, or ramp-up.\n",
        "- Historical dates: transaction execution, invoice issue, settlement.\n",
        "\n",
        "Instructions:\n",
        "- Always extract **exact text spans** from the input (no rephrasing).\n",
        "- Each extracted item must have contextual attributes (e.g., type of ID, kind of date, nature of monetary value).\n",
        "\"\"\")\n"
      ],
      "metadata": {
        "id": "vmep5Wy09Obh"
      },
      "execution_count": 33,
      "outputs": []
    },
    {
      "cell_type": "code",
      "source": [
        "# Examples to guide extraction\n",
        "examples = [\n",
        "    lx.data.ExampleData(\n",
        "        text=\"Tata Consultancy Services Limited (CIN: L99999MH1995PLC084781, PAN: AAACM8654F, GSTIN: 29AAACT1924F1Z9) issued Invoice No. TCS/INV/2024/987 on 15/09/2024 with a payment due date of 30/09/2024. The invoice carried IGST @ 18% on professional service fees. Payments must be credited to HDFC Bank, Account Number 123456789012, IFSC Code HDFC0001234. Any overdue payment will attract an additional 10% per annum as penalty interest.\",\n",
        "        extractions=[\n",
        "            lx.data.Extraction(extraction_class=\"party\", extraction_text=\"Tata Consultancy Services Limited\", attributes={\"type\":\"company\"}),\n",
        "            lx.data.Extraction(extraction_class=\"identifier\", extraction_text=\"CIN: L99999MH1995PLC084781\", attributes={\"id_type\":\"CIN\"}),\n",
        "            lx.data.Extraction(extraction_class=\"identifier\", extraction_text=\"PAN: AAACM8654F\", attributes={\"id_type\":\"PAN\"}),\n",
        "            lx.data.Extraction(extraction_class=\"identifier\", extraction_text=\"GSTIN: 29AAACT1924F1Z9\", attributes={\"id_type\":\"GSTIN\"}),\n",
        "            lx.data.Extraction(extraction_class=\"party\", extraction_text=\"HDFC Bank\", attributes={\"type\":\"bank\"}),\n",
        "            lx.data.Extraction(extraction_class=\"monetary\", extraction_text=\"professional service fees\", attributes={\"value_type\":\"service_fee\"}),\n",
        "            lx.data.Extraction(extraction_class=\"interest_rate\", extraction_text=\"10% per annum\", attributes={\"type\":\"penalty_interest\"}),\n",
        "            lx.data.Extraction(extraction_class=\"tax\", extraction_text=\"IGST @ 18%\", attributes={\"tax_type\":\"GST\"}),\n",
        "            lx.data.Extraction(extraction_class=\"account\", extraction_text=\"123456789012\", attributes={\"account_type\":\"bank\"}),\n",
        "            lx.data.Extraction(extraction_class=\"date\", extraction_text=\"15/09/2024\", attributes={\"date_type\":\"invoice_date\"}),\n",
        "            lx.data.Extraction(extraction_class=\"date\", extraction_text=\"30/09/2024\", attributes={\"date_type\":\"due_date\"}),\n",
        "        ]\n",
        "    ),\n",
        "]\n"
      ],
      "metadata": {
        "id": "voEim1J49VrY"
      },
      "execution_count": 34,
      "outputs": []
    },
    {
      "cell_type": "code",
      "source": [
        "### Manually giving in all_text variable contents\n",
        "## Input\n",
        "# all_text = \"\"\"\n",
        "# Infosys Limited (CIN: L85110KA1981PLC013115, PAN: AAACI4798L, GSTIN: 29AAACI4798L1ZU) issued Tax Invoice No. INF/INV/2025/204 on 15/02/2025 with a payment due date of 28/02/2025. The invoice included IGST @ 18% on the consulting charges. Payments are to be made to State Bank of India, Account Number 112233445566, IFSC Code SBIN0000456. If payment is delayed beyond the due date, a penalty interest of 10% per annum will apply.\n",
        "\n",
        "# Kotak Mahindra Bank issued its 8.20% Fixed Rate Senior Secured Bonds (ISIN: INE237A08765) on 12 January 2023. Each bond has a face value of ₹5,00,000 and carries a fixed coupon of 8.20% per annum, payable semi-annually. The maturity date is set for 12 January 2028.\n",
        "\n",
        "# On 20 March 2022, Standard Chartered India executed its first foreign trade finance deal linked to the SOFR benchmark, marking a shift from LIBOR-based transactions.\n",
        "\n",
        "# Punjab National Bank, under the SARFAESI Act, issued a notice on 10-09-2023 against borrower loan accounts LAC00987651234 and LAC00987659876. The secured property was taken into possession on 05-01-2024. Auction was scheduled with earnest money deposit due by 25-03-2024, and bids opening on 26-03-2024. As per Section 194-IA of the Income Tax Act, the buyer is liable to deduct TDS.\n",
        "\n",
        "# Bajaj Finance Limited launched Secured Redeemable Non-Convertible Debentures (NCDs) with a face value of ₹10,000 each. The issue had series with tenors of 24 months, 48 months, and 84 months. Coupon rates ranged between 8.50% and 9.40% per annum depending on the chosen series.\n",
        "# \"\"\"\n",
        "\n"
      ],
      "metadata": {
        "id": "9deWVTYd9X6F"
      },
      "execution_count": 43,
      "outputs": []
    },
    {
      "cell_type": "code",
      "source": [
        "### Normal OCR based docling code snippet\n",
        "## Input\n",
        "# source = \"Finance.pdf\"  # document per local path or URL\n",
        "# converter = DocumentConverter()\n",
        "# result = converter.convert(source)\n",
        "# input_text = result.document.export_to_markdown()  # output: \"## Docling Technical Report[...]\""
      ],
      "metadata": {
        "id": "ESu8_jek4zNB"
      },
      "execution_count": 36,
      "outputs": []
    },
    {
      "cell_type": "code",
      "source": [
        "all_text"
      ],
      "metadata": {
        "colab": {
          "base_uri": "https://localhost:8080/",
          "height": 157
        },
        "id": "CDN9AWJN6XO_",
        "outputId": "b052d228-a3d4-47a8-c3ae-f8c99e29396f"
      },
      "execution_count": 38,
      "outputs": [
        {
          "output_type": "execute_result",
          "data": {
            "text/plain": [
              "'Infosys Limited (CIN: L85110KA1981PLC013115, PAN: AAACI4798L, GSTIN: 29AAACI4798L1ZU) issued Tax Invoice No. INF/INV/2025/204 on 15/02/2025 the consulting charges. Payments are to be made to State Bank of India, \\nwith a payment due date of 28/02/2025. The invoice included IGST @ 18% on Account Number 112233445566, IFSC Code SBIN0000456. If payment is delayed beyond the due date, a penalty interest of 10% per annum will apply. Kotak Mahindra Bank issued its 8.20% Fixed Rate Senior Secured Bonds (ISIN: INE237A08765) on 12 January 2023. Each bond has a face value of ₹5,00,000 and carries a fixed coupon of 8.20% per annum, payable semi-annually. The maturity date is set for 12 January 2028. On 20 March 2022, Standard Chartered India executed its first foreign trade finance deal linked to the SOFR benchmark, marking a shift from LIBOR-based transactions. Punjab National Bank, under the SARFAESI Act, issued a notice on 10-09-2023 against borrower loan accounts LAC00987651234 and LAC00987659876. The secured property was taken into possession on 05-01-2024. Auction was scheduled with earnest money deposit due by 25-03-2024, and bids opening on 26-03-2024. As per Section 194-IA of the Income Tax Act, the buyer is liable to deduct TDS. Bajaj Finance Limited launched Secured Redeemable Non-Convertible Debentures (NCDs) with a face value of ₹10,000 each. The issue had series with tenors of 24 months, 48 months, and 84 months. Coupon rates ranged between 8.50% and 9.40% per annum depending on the chosen series. '"
            ],
            "application/vnd.google.colaboratory.intrinsic+json": {
              "type": "string"
            }
          },
          "metadata": {},
          "execution_count": 38
        }
      ]
    },
    {
      "cell_type": "code",
      "source": [
        "# Run extraction\n",
        "result = lx.extract(\n",
        "    text_or_documents=all_text,\n",
        "    prompt_description=prompt,\n",
        "    examples=examples,\n",
        "    model_id=\"gemini-2.5-flash\",\n",
        "    extraction_passes=3,\n",
        "    max_workers=20,\n",
        "    max_char_buffer=1000,\n",
        "    api_key=api_key\n",
        ")\n"
      ],
      "metadata": {
        "colab": {
          "base_uri": "https://localhost:8080/"
        },
        "id": "CIgNd3bR9akF",
        "outputId": "35cf7869-17c8-4f17-99c7-9f99586523b7"
      },
      "execution_count": 39,
      "outputs": [
        {
          "output_type": "stream",
          "name": "stderr",
          "text": [
            "WARNING:absl:Prompt alignment: non-exact match: [example#0] class='party' status=AlignmentStatus.MATCH_FUZZY text='HDFC Bank' char_span=(283, 292)\n",
            "WARNING:absl:Prompt alignment: non-exact match: [example#0] class='monetary' status=AlignmentStatus.MATCH_FUZZY text='professional service fees' char_span=(227, 252)\n",
            "WARNING:absl:Prompt alignment: non-exact match: [example#0] class='interest_rate' status=AlignmentStatus.MATCH_FUZZY text='10% per annum' char_span=(393, 406)\n",
            "WARNING:absl:Prompt alignment: non-exact match: [example#0] class='date' status=AlignmentStatus.MATCH_FUZZY text='15/09/2024' char_span=(143, 153)\n",
            "WARNING:absl:Prompt alignment: non-exact match: [example#0] class='date' status=AlignmentStatus.MATCH_FUZZY text='30/09/2024' char_span=(181, 191)\n",
            "/usr/local/lib/python3.12/dist-packages/langextract/extraction.py:186: UserWarning: batch_length (10) < max_workers (20). Only 10 workers will be used. Set batch_length >= max_workers for optimal parallelization.\n",
            "  warnings.warn(\n"
          ]
        }
      ]
    },
    {
      "cell_type": "code",
      "source": [
        "# Save results to JSONL\n",
        "lx.io.save_annotated_documents([result], output_name=\"financial_data.jsonl\", output_dir=\".\")"
      ],
      "metadata": {
        "colab": {
          "base_uri": "https://localhost:8080/"
        },
        "id": "Q-Igz5Dk9cwF",
        "outputId": "bb9184c4-1e20-4743-b770-bed528b582a1"
      },
      "execution_count": 40,
      "outputs": [
        {
          "output_type": "stream",
          "name": "stderr",
          "text": [
            "\u001b[94m\u001b[1mLangExtract\u001b[0m: Saving to \u001b[92mfinancial_data.jsonl\u001b[0m: 1 docs [00:00, 404.74 docs/s]"
          ]
        },
        {
          "output_type": "stream",
          "name": "stdout",
          "text": [
            "\u001b[92m✓\u001b[0m Saved \u001b[1m1\u001b[0m documents to \u001b[92mfinancial_data.jsonl\u001b[0m\n"
          ]
        },
        {
          "output_type": "stream",
          "name": "stderr",
          "text": [
            "\n"
          ]
        }
      ]
    },
    {
      "cell_type": "code",
      "source": [
        "# Generate interactive visualization\n",
        "html_content = lx.visualize(\"financial_data.jsonl\")"
      ],
      "metadata": {
        "colab": {
          "base_uri": "https://localhost:8080/"
        },
        "id": "Nit9rC5y9u1e",
        "outputId": "4f049e24-2559-454b-9ea1-66bb46bf3576"
      },
      "execution_count": 41,
      "outputs": [
        {
          "output_type": "stream",
          "name": "stderr",
          "text": [
            "\u001b[94m\u001b[1mLangExtract\u001b[0m: Loading \u001b[92mfinancial_data.jsonl\u001b[0m: 100%|██████████| 12.7k/12.7k [00:00<00:00, 14.0MB/s]"
          ]
        },
        {
          "output_type": "stream",
          "name": "stdout",
          "text": [
            "\u001b[92m✓\u001b[0m Loaded \u001b[1m1\u001b[0m documents from \u001b[92mfinancial_data.jsonl\u001b[0m\n"
          ]
        },
        {
          "output_type": "stream",
          "name": "stderr",
          "text": [
            "\n"
          ]
        }
      ]
    },
    {
      "cell_type": "code",
      "source": [
        "# Save visualization to HTML file\n",
        "with open(\"financial_data_visualization.html\", \"w\") as f:\n",
        "    if hasattr(html_content, 'data'):\n",
        "        f.write(html_content.data)\n",
        "    else:\n",
        "        f.write(html_content)"
      ],
      "metadata": {
        "id": "peGOQQ9E91Fv"
      },
      "execution_count": 42,
      "outputs": []
    }
  ]
}