{
 "cells": [
  {
   "cell_type": "code",
   "execution_count": null,
   "id": "6fe802cc",
   "metadata": {
    "vscode": {
     "languageId": "plaintext"
    }
   },
   "outputs": [],
   "source": [
    "from docling.document_converter import DocumentConverter\n",
    "import pandas as pd\n",
    "\n",
    "# Convert PDF & extract entities\n",
    "converter = DocumentConverter()\n",
    "pdf_path = r\"C:\\Users\\girid\\OneDrive\\Desktop\\FinanceInsightRegex\\Contract_Agreement_Summary.pdf\"\n",
    "result = converter.convert(pdf_path)\n",
    "\n",
    "# Parse text and extract entities (basic approach)\n",
    "raw_text = result.document.export_to_markdown()\n",
    "\n",
    "# Simple regex-based entity finder (example)\n",
    "import re\n",
    "\n",
    "entities = {\n",
    "    \"DATES\": re.findall(r\"\\b(?:\\d{1,2}\\s\\w+\\s\\d{4}|\\w+\\s\\d{4})\\b\", raw_text),\n",
    "    \"MONEY\": re.findall(r\"(?:USD|INR|EUR)\\s?[0-9,]+\\.\\d{2}\", raw_text),\n",
    "    \"CONTRACT REF\": re.findall(r\"CON-\\w+-\\d+\", raw_text)\n",
    "}\n",
    "\n",
    "df = pd.DataFrame(\n",
    "    [(etype, val) for etype, vals in entities.items() for val in vals],\n",
    "    columns=[\"Entity Type\", \"Value\"]\n",
    ")\n",
    "\n",
    "df.drop_duplicates(inplace=True)\n",
    "display(df)"
   ]
  }
 ],
 "metadata": {
  "language_info": {
   "name": "python"
  }
 },
 "nbformat": 4,
 "nbformat_minor": 5
}
